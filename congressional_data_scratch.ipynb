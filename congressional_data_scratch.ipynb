{
 "cells": [
  {
   "cell_type": "code",
   "id": "initial_id",
   "metadata": {
    "collapsed": true,
    "ExecuteTime": {
     "end_time": "2024-05-08T12:04:39.404703Z",
     "start_time": "2024-05-08T12:04:38.823450Z"
    }
   },
   "source": [
    "import pandas\n",
    "from collections import Counter, defaultdict\n",
    "import math\n",
    "from gensim.models import Word2Vec\n",
    "\n",
    "\n",
    "def read_data():\n",
    "    \"\"\"\n",
    "    Reads data from the data/ folder.\n",
    "\n",
    "    Returns:\n",
    "        pd.DataFrame: dataframe containing the text and metadata\n",
    "    \"\"\"\n",
    "    data = open(\"congress_data/cr_111-114.txt\").readlines()\n",
    "    meta_df = pandas.read_csv(\"congress_data/cr_metadata.csv\")\n",
    "    \n",
    "    ### verifying the length of text file and metadata file are the same\n",
    "    assert(len(data) == len(meta_df))\n",
    "    \n",
    "    ### merging files\n",
    "    meta_df[\"text\"] = data\n",
    "    \n",
    "    return meta_df\n",
    "\n",
    "politics_words = [\n",
    "                  'freedom', 'justice', 'equality', 'democracy', # political abstractions\n",
    "                  'abortion', 'immigration', 'welfare', 'taxes', # partisan political issues   \n",
    "                  'democrat', 'republican' # political parties               \n",
    "                 ] # from Rodriguez and Spirling 2021\n",
    "\n"
   ],
   "outputs": [],
   "execution_count": 1
  },
  {
   "metadata": {
    "ExecuteTime": {
     "end_time": "2024-05-08T12:04:39.688091Z",
     "start_time": "2024-05-08T12:04:39.405621Z"
    }
   },
   "cell_type": "code",
   "source": [
    "data = read_data()\n",
    "data.head()"
   ],
   "id": "5e266ec11209375d",
   "outputs": [
    {
     "data": {
      "text/plain": [
       "  gender party state chamber nonvoting  session_id  \\\n",
       "0      M     D    CT       H    voting         111   \n",
       "1      M     R    IN       H    voting         111   \n",
       "2      M     R    MO       S    voting         111   \n",
       "3      M     R    OH       H    voting         111   \n",
       "4      F     D    CA       H    voting         111   \n",
       "\n",
       "                                                text  \n",
       "0  our democracy renews itself every years member...  \n",
       "1  madam clerk chairman the republican conference...  \n",
       "2                                         mack lee\\n  \n",
       "3  madam speaker leader hoyer fellow members and ...  \n",
       "4  thank you very much leader boehner together we...  "
      ],
      "text/html": [
       "<div>\n",
       "<style scoped>\n",
       "    .dataframe tbody tr th:only-of-type {\n",
       "        vertical-align: middle;\n",
       "    }\n",
       "\n",
       "    .dataframe tbody tr th {\n",
       "        vertical-align: top;\n",
       "    }\n",
       "\n",
       "    .dataframe thead th {\n",
       "        text-align: right;\n",
       "    }\n",
       "</style>\n",
       "<table border=\"1\" class=\"dataframe\">\n",
       "  <thead>\n",
       "    <tr style=\"text-align: right;\">\n",
       "      <th></th>\n",
       "      <th>gender</th>\n",
       "      <th>party</th>\n",
       "      <th>state</th>\n",
       "      <th>chamber</th>\n",
       "      <th>nonvoting</th>\n",
       "      <th>session_id</th>\n",
       "      <th>text</th>\n",
       "    </tr>\n",
       "  </thead>\n",
       "  <tbody>\n",
       "    <tr>\n",
       "      <th>0</th>\n",
       "      <td>M</td>\n",
       "      <td>D</td>\n",
       "      <td>CT</td>\n",
       "      <td>H</td>\n",
       "      <td>voting</td>\n",
       "      <td>111</td>\n",
       "      <td>our democracy renews itself every years member...</td>\n",
       "    </tr>\n",
       "    <tr>\n",
       "      <th>1</th>\n",
       "      <td>M</td>\n",
       "      <td>R</td>\n",
       "      <td>IN</td>\n",
       "      <td>H</td>\n",
       "      <td>voting</td>\n",
       "      <td>111</td>\n",
       "      <td>madam clerk chairman the republican conference...</td>\n",
       "    </tr>\n",
       "    <tr>\n",
       "      <th>2</th>\n",
       "      <td>M</td>\n",
       "      <td>R</td>\n",
       "      <td>MO</td>\n",
       "      <td>S</td>\n",
       "      <td>voting</td>\n",
       "      <td>111</td>\n",
       "      <td>mack lee\\n</td>\n",
       "    </tr>\n",
       "    <tr>\n",
       "      <th>3</th>\n",
       "      <td>M</td>\n",
       "      <td>R</td>\n",
       "      <td>OH</td>\n",
       "      <td>H</td>\n",
       "      <td>voting</td>\n",
       "      <td>111</td>\n",
       "      <td>madam speaker leader hoyer fellow members and ...</td>\n",
       "    </tr>\n",
       "    <tr>\n",
       "      <th>4</th>\n",
       "      <td>F</td>\n",
       "      <td>D</td>\n",
       "      <td>CA</td>\n",
       "      <td>H</td>\n",
       "      <td>voting</td>\n",
       "      <td>111</td>\n",
       "      <td>thank you very much leader boehner together we...</td>\n",
       "    </tr>\n",
       "  </tbody>\n",
       "</table>\n",
       "</div>"
      ]
     },
     "execution_count": 2,
     "metadata": {},
     "output_type": "execute_result"
    }
   ],
   "execution_count": 2
  },
  {
   "metadata": {
    "ExecuteTime": {
     "end_time": "2024-05-08T12:05:30.831888Z",
     "start_time": "2024-05-08T12:04:39.688679Z"
    }
   },
   "cell_type": "code",
   "source": [
    "data_df = read_data()\n",
    "r_df = data_df[data_df.party == \"R\"]\n",
    "d_df = data_df[data_df.party == \"D\"]\n",
    "\n",
    "window = 50\n",
    "min_count = 10\n",
    "seed = 42\n",
    "workers = 16\n",
    "\n",
    "r_model = Word2Vec(r_df.text.apply(lambda x: x.split()), window=window, min_count=min_count, seed=seed,\n",
    "                   workers=workers)"
   ],
   "id": "7d9bfa1288ff177b",
   "outputs": [],
   "execution_count": 3
  },
  {
   "metadata": {
    "ExecuteTime": {
     "end_time": "2024-05-08T12:06:26.579502Z",
     "start_time": "2024-05-08T12:05:30.833103Z"
    }
   },
   "cell_type": "code",
   "source": [
    "d_model = Word2Vec(d_df.text.apply(lambda x: x.split()), window=window, min_count=min_count, seed=seed,\n",
    "                   workers=workers)"
   ],
   "id": "8ca13f239f747976",
   "outputs": [],
   "execution_count": 4
  },
  {
   "metadata": {
    "ExecuteTime": {
     "end_time": "2024-05-08T12:06:26.603656Z",
     "start_time": "2024-05-08T12:06:26.580056Z"
    }
   },
   "cell_type": "code",
   "source": "r_model.wv.most_similar(\"the\")",
   "id": "86b1e14812b708a",
   "outputs": [
    {
     "data": {
      "text/plain": [
       "[('that', 0.6664916276931763),\n",
       " ('and', 0.6591695547103882),\n",
       " ('this', 0.6179782748222351),\n",
       " ('which', 0.5493958592414856),\n",
       " ('not', 0.49469226598739624),\n",
       " ('moreover', 0.45700719952583313),\n",
       " ('omit', 0.43984830379486084),\n",
       " ('only', 0.4277924597263336),\n",
       " ('envisions', 0.41959047317504883),\n",
       " ('drawings', 0.418395459651947)]"
      ]
     },
     "execution_count": 5,
     "metadata": {},
     "output_type": "execute_result"
    }
   ],
   "execution_count": 5
  },
  {
   "metadata": {
    "ExecuteTime": {
     "end_time": "2024-05-08T12:06:26.652220Z",
     "start_time": "2024-05-08T12:06:26.618674Z"
    }
   },
   "cell_type": "code",
   "source": "r_model.wv.key_to_index[\"the\"]",
   "id": "584660d8a10bba47",
   "outputs": [
    {
     "data": {
      "text/plain": [
       "0"
      ]
     },
     "execution_count": 6,
     "metadata": {},
     "output_type": "execute_result"
    }
   ],
   "execution_count": 6
  },
  {
   "metadata": {
    "ExecuteTime": {
     "end_time": "2024-05-08T12:06:26.681277Z",
     "start_time": "2024-05-08T12:06:26.676391Z"
    }
   },
   "cell_type": "code",
   "source": [
    "# find most used words\n",
    "print(r_model.wv.index_to_key[:100])\n",
    "print(d_model.wv.index_to_key[:100])"
   ],
   "id": "383d732c4754fc6f",
   "outputs": [
    {
     "name": "stdout",
     "output_type": "stream",
     "text": [
      "['the', 'and', 'that', 'this', 'for', 'have', 'are', 'not', 'they', 'our', 'with', 'from', 'will', 'was', 'has', 'you', 'would', 'but', 'what', 'their', 'bill', 'about', 'people', 'who', 'all', 'president', 'there', 'time', 'more', 'speaker', 'going', 'these', 'can', 'his', 'been', 'one', 'were', 'when', 'because', 'out', 'just', 'which', 'those', 'now', 'its', 'american', 'amendment', 'years', 'government', 'had', 'them', 'states', 'here', 'other', 'get', 'some', 'over', 'want', 'year', 'think', 'today', 'know', 'than', 'country', 'health', 'congress', 'very', 'house', 'senate', 'new', 'care', 'said', 'make', 'work', 'federal', 'should', 'also', 'need', 'many', 'like', 'dont', 'say', 'back', 'state', 'yield', 'senator', 'support', 'way', 'law', 'how', 'percent', 'committee', 'united', 'well', 'tax', 'budget', 'legislation', 'act', 'only', 'into']\n",
      "['the', 'and', 'that', 'for', 'this', 'have', 'are', 'our', 'with', 'they', 'not', 'from', 'will', 'was', 'their', 'has', 'but', 'bill', 'would', 'who', 'you', 'all', 'people', 'about', 'what', 'time', 'there', 'president', 'these', 'more', 'can', 'been', 'his', 'one', 'when', 'which', 'were', 'those', 'speaker', 'because', 'health', 'years', 'senate', 'amendment', 'work', 'american', 'now', 'going', 'its', 'country', 'just', 'them', 'out', 'senator', 'other', 'want', 'act', 'today', 'make', 'many', 'had', 'than', 'get', 'states', 'also', 'support', 'new', 'care', 'some', 'over', 'need', 'very', 'know', 'year', 'here', 'should', 'congress', 'committee', 'state', 'house', 'legislation', 'jobs', 'think', 'colleagues', 'vote', 'yield', 'important', 'federal', 'like', 'percent', 'back', 'how', 'thank', 'ask', 'say', 'americans', 'united', 'only', 'government', 'into']\n"
     ]
    }
   ],
   "execution_count": 7
  },
  {
   "metadata": {
    "ExecuteTime": {
     "end_time": "2024-05-08T12:06:26.685329Z",
     "start_time": "2024-05-08T12:06:26.682345Z"
    }
   },
   "cell_type": "code",
   "source": [
    "print(len(r_model.wv.index_to_key))\n",
    "print(len(d_model.wv.index_to_key))"
   ],
   "id": "dda3ec82c0c46b97",
   "outputs": [
    {
     "name": "stdout",
     "output_type": "stream",
     "text": [
      "33693\n",
      "35968\n"
     ]
    }
   ],
   "execution_count": 8
  },
  {
   "metadata": {
    "ExecuteTime": {
     "end_time": "2024-05-08T12:06:26.688645Z",
     "start_time": "2024-05-08T12:06:26.686298Z"
    }
   },
   "cell_type": "code",
   "source": [
    "def find_intersect_words(model1, model2):\n",
    "    return set(model1.wv.index_to_key).intersection(set(model2.wv.index_to_key))"
   ],
   "id": "1cae0a5d13f6d883",
   "outputs": [],
   "execution_count": 9
  },
  {
   "metadata": {
    "ExecuteTime": {
     "end_time": "2024-05-08T12:06:26.699336Z",
     "start_time": "2024-05-08T12:06:26.692602Z"
    }
   },
   "cell_type": "code",
   "source": "intersect_words = find_intersect_words(r_model, d_model)",
   "id": "f73fe6db78a6572e",
   "outputs": [],
   "execution_count": 10
  },
  {
   "metadata": {
    "ExecuteTime": {
     "end_time": "2024-05-08T12:06:26.703396Z",
     "start_time": "2024-05-08T12:06:26.700708Z"
    }
   },
   "cell_type": "code",
   "source": "print(len(intersect_words))",
   "id": "3e1d59a75de4cf2",
   "outputs": [
    {
     "name": "stdout",
     "output_type": "stream",
     "text": [
      "28824\n"
     ]
    }
   ],
   "execution_count": 11
  },
  {
   "metadata": {
    "ExecuteTime": {
     "end_time": "2024-05-08T12:06:26.707097Z",
     "start_time": "2024-05-08T12:06:26.704631Z"
    }
   },
   "cell_type": "code",
   "source": [
    "top_100_r = r_model.wv.index_to_key[:100]\n",
    "top_100_d = d_model.wv.index_to_key[:100]"
   ],
   "id": "949576cc2768cb48",
   "outputs": [],
   "execution_count": 12
  },
  {
   "metadata": {
    "ExecuteTime": {
     "end_time": "2024-05-08T12:06:26.710743Z",
     "start_time": "2024-05-08T12:06:26.708707Z"
    }
   },
   "cell_type": "code",
   "source": "interset = set(top_100_r).intersection(set(top_100_d))",
   "id": "646411118b999e1d",
   "outputs": [],
   "execution_count": 13
  },
  {
   "metadata": {
    "ExecuteTime": {
     "end_time": "2024-05-08T12:06:26.717069Z",
     "start_time": "2024-05-08T12:06:26.711724Z"
    }
   },
   "cell_type": "code",
   "source": "len(interset)",
   "id": "c845cdb0d429abb6",
   "outputs": [
    {
     "data": {
      "text/plain": [
       "93"
      ]
     },
     "execution_count": 14,
     "metadata": {},
     "output_type": "execute_result"
    }
   ],
   "execution_count": 14
  },
  {
   "metadata": {
    "ExecuteTime": {
     "end_time": "2024-05-08T12:06:26.720829Z",
     "start_time": "2024-05-08T12:06:26.718395Z"
    }
   },
   "cell_type": "code",
   "source": [
    "n = 300\n",
    "top_n_r = r_model.wv.index_to_key[:n]\n",
    "top_n_d = d_model.wv.index_to_key[:n]\n",
    "\n",
    "intersect = []\n",
    "for item in top_n_r:\n",
    "    if item in top_n_d:\n",
    "        intersect.append(item)\n"
   ],
   "id": "b9a6607d3b1fa9ba",
   "outputs": [],
   "execution_count": 15
  },
  {
   "metadata": {
    "ExecuteTime": {
     "end_time": "2024-05-08T12:06:26.724877Z",
     "start_time": "2024-05-08T12:06:26.721874Z"
    }
   },
   "cell_type": "code",
   "source": [
    "frequent_word_list = []\n",
    "for item in intersect:\n",
    "    r_index = r_model.wv.key_to_index[item]\n",
    "    d_index = d_model.wv.key_to_index[item]\n",
    "    frequent_word_list.append((item, item, r_index, d_index))"
   ],
   "id": "aad1b219e0273566",
   "outputs": [],
   "execution_count": 16
  },
  {
   "metadata": {
    "ExecuteTime": {
     "end_time": "2024-05-08T12:06:26.729469Z",
     "start_time": "2024-05-08T12:06:26.726392Z"
    }
   },
   "cell_type": "code",
   "source": [
    "with open(\"words_congress/frerquent_words.txt\", \"w\") as f:\n",
    "    for item in frequent_word_list:\n",
    "        f.write(f\"{item[0]}\\t{item[1]}\\t{item[2]}\\t{item[3]}\\n\")"
   ],
   "id": "84a1662b5b769760",
   "outputs": [],
   "execution_count": 17
  },
  {
   "metadata": {
    "ExecuteTime": {
     "end_time": "2024-05-08T12:06:27.312927Z",
     "start_time": "2024-05-08T12:06:26.730687Z"
    }
   },
   "cell_type": "code",
   "source": [
    "from utils import w2v_to_numpy\n",
    "import numpy as np\n",
    "\n",
    "r_embeddings, (r_idx, r_iidx) = w2v_to_numpy(r_model)\n",
    "d_embeddings, (d_idx, d_iidx) = w2v_to_numpy(d_model)"
   ],
   "id": "4bd774eba50eabce",
   "outputs": [],
   "execution_count": 18
  },
  {
   "metadata": {
    "ExecuteTime": {
     "end_time": "2024-05-08T12:06:27.315203Z",
     "start_time": "2024-05-08T12:06:27.313501Z"
    }
   },
   "cell_type": "code",
   "source": [
    "r_intersect_index = [r_model.wv.key_to_index[item] for item in intersect]\n",
    "d_intersect_index = [d_model.wv.key_to_index[item] for item in intersect]\n"
   ],
   "id": "d22a2fb025f9c8dd",
   "outputs": [],
   "execution_count": 19
  },
  {
   "metadata": {
    "ExecuteTime": {
     "end_time": "2024-05-08T12:06:27.317020Z",
     "start_time": "2024-05-08T12:06:27.315660Z"
    }
   },
   "cell_type": "code",
   "source": [
    "r_embeddings_trunc = r_embeddings[r_intersect_index]\n",
    "d_embeddings_trunc = d_embeddings[d_intersect_index]"
   ],
   "id": "1ef0c66b41fa4f7a",
   "outputs": [],
   "execution_count": 20
  },
  {
   "metadata": {
    "ExecuteTime": {
     "end_time": "2024-05-08T12:06:27.318858Z",
     "start_time": "2024-05-08T12:06:27.317448Z"
    }
   },
   "cell_type": "code",
   "source": [
    "print(r_embeddings_trunc.shape)\n",
    "print(d_embeddings_trunc.shape)\n",
    "print(r_index)"
   ],
   "id": "fe86ffb2ece6ad6",
   "outputs": [
    {
     "name": "stdout",
     "output_type": "stream",
     "text": [
      "(268, 100)\n",
      "(268, 100)\n",
      "299\n"
     ]
    }
   ],
   "execution_count": 21
  },
  {
   "metadata": {
    "ExecuteTime": {
     "end_time": "2024-05-08T12:06:27.320502Z",
     "start_time": "2024-05-08T12:06:27.319252Z"
    }
   },
   "cell_type": "code",
   "source": "print(r_intersect_index)",
   "id": "d0b37f6f5436907a",
   "outputs": [
    {
     "name": "stdout",
     "output_type": "stream",
     "text": [
      "[0, 1, 2, 3, 4, 5, 6, 7, 8, 9, 10, 11, 12, 13, 14, 15, 16, 17, 18, 19, 20, 21, 22, 23, 24, 25, 26, 27, 28, 29, 30, 31, 32, 33, 34, 35, 36, 37, 38, 39, 40, 41, 42, 43, 44, 45, 46, 47, 48, 49, 50, 51, 52, 53, 54, 55, 56, 57, 58, 59, 60, 61, 62, 63, 64, 65, 66, 67, 68, 69, 70, 71, 72, 73, 74, 75, 76, 77, 78, 79, 80, 81, 82, 83, 84, 85, 86, 87, 88, 89, 90, 91, 92, 93, 94, 95, 96, 97, 98, 99, 100, 101, 102, 103, 104, 105, 106, 108, 109, 110, 111, 112, 113, 114, 115, 116, 117, 118, 119, 120, 121, 122, 123, 124, 125, 126, 127, 128, 129, 130, 131, 132, 133, 134, 135, 136, 137, 138, 139, 140, 141, 142, 143, 144, 145, 146, 147, 148, 149, 150, 151, 152, 153, 154, 155, 156, 157, 158, 159, 160, 161, 162, 163, 164, 165, 166, 167, 168, 169, 171, 172, 173, 174, 175, 176, 178, 179, 180, 181, 182, 183, 184, 185, 186, 187, 188, 189, 190, 191, 193, 194, 195, 196, 197, 198, 200, 201, 202, 203, 205, 207, 208, 209, 210, 211, 212, 213, 214, 215, 216, 217, 218, 219, 221, 222, 224, 225, 226, 227, 228, 229, 230, 231, 232, 235, 236, 238, 239, 240, 242, 243, 244, 245, 246, 247, 248, 249, 250, 251, 252, 253, 254, 255, 256, 258, 260, 261, 262, 264, 266, 268, 270, 272, 273, 275, 278, 279, 281, 282, 283, 286, 287, 289, 292, 293, 296, 297, 299]\n"
     ]
    }
   ],
   "execution_count": 22
  },
  {
   "metadata": {
    "ExecuteTime": {
     "end_time": "2024-05-08T12:06:27.322863Z",
     "start_time": "2024-05-08T12:06:27.320881Z"
    }
   },
   "cell_type": "code",
   "source": [
    "freq_weights = []\n",
    "idiff_weights = []\n",
    "\n",
    "freq_sum = [x + y for x, y in zip(r_intersect_index, d_intersect_index)]\n",
    "max_sum = max(freq_sum)\n",
    "min_sum = min(freq_sum)\n",
    "idiff_list = [abs(x - y) for x, y in zip(r_intersect_index, d_intersect_index)]\n",
    "max_idiff = max(idiff_list)\n",
    "min_idiff = min(idiff_list)\n",
    "\n",
    "\n",
    "for i in range(len(r_intersect_index)):\n",
    "    freq_weights.append(2 - (freq_sum[i] - min_sum) / (max_sum - min_sum))\n",
    "    idiff_weights.append(2 - (idiff_list[i] - min_idiff) / (max_idiff - min_idiff))"
   ],
   "id": "8b1b3de06fe7bd09",
   "outputs": [],
   "execution_count": 23
  },
  {
   "metadata": {
    "ExecuteTime": {
     "end_time": "2024-05-08T12:06:27.325388Z",
     "start_time": "2024-05-08T12:06:27.323357Z"
    }
   },
   "cell_type": "code",
   "source": "idiff_weights",
   "id": "da554ef060d02957",
   "outputs": [
    {
     "data": {
      "text/plain": [
       "[2.0,\n",
       " 2.0,\n",
       " 2.0,\n",
       " 1.9932432432432432,\n",
       " 1.9932432432432432,\n",
       " 2.0,\n",
       " 2.0,\n",
       " 1.9797297297297298,\n",
       " 1.9932432432432432,\n",
       " 1.9864864864864864,\n",
       " 1.9864864864864864,\n",
       " 2.0,\n",
       " 2.0,\n",
       " 2.0,\n",
       " 1.9932432432432432,\n",
       " 1.9662162162162162,\n",
       " 1.9864864864864864,\n",
       " 1.9932432432432432,\n",
       " 1.9594594594594594,\n",
       " 1.9662162162162162,\n",
       " 1.9797297297297298,\n",
       " 1.9864864864864864,\n",
       " 2.0,\n",
       " 1.972972972972973,\n",
       " 1.9797297297297298,\n",
       " 1.9864864864864864,\n",
       " 2.0,\n",
       " 1.9864864864864864,\n",
       " 1.9932432432432432,\n",
       " 1.9391891891891893,\n",
       " 1.885135135135135,\n",
       " 1.9797297297297298,\n",
       " 1.9864864864864864,\n",
       " 1.9932432432432432,\n",
       " 1.9797297297297298,\n",
       " 1.9864864864864864,\n",
       " 2.0,\n",
       " 1.9797297297297298,\n",
       " 1.9932432432432432,\n",
       " 1.912162162162162,\n",
       " 1.9324324324324325,\n",
       " 1.9594594594594594,\n",
       " 1.9662162162162162,\n",
       " 1.9797297297297298,\n",
       " 1.972972972972973,\n",
       " 2.0,\n",
       " 1.9797297297297298,\n",
       " 1.9594594594594594,\n",
       " 1.6621621621621623,\n",
       " 1.9256756756756757,\n",
       " 1.9932432432432432,\n",
       " 1.9189189189189189,\n",
       " 1.8513513513513513,\n",
       " 1.9932432432432432,\n",
       " 1.945945945945946,\n",
       " 1.912162162162162,\n",
       " 1.912162162162162,\n",
       " 1.9864864864864864,\n",
       " 1.8986486486486487,\n",
       " 1.8445945945945945,\n",
       " 1.9797297297297298,\n",
       " 1.9256756756756757,\n",
       " 1.9932432432432432,\n",
       " 1.9054054054054055,\n",
       " 1.8378378378378377,\n",
       " 1.9256756756756757,\n",
       " 1.9662162162162162,\n",
       " 1.9189189189189189,\n",
       " 1.8243243243243243,\n",
       " 1.9797297297297298,\n",
       " 1.9797297297297298,\n",
       " 1.777027027027027,\n",
       " 1.9054054054054055,\n",
       " 1.804054054054054,\n",
       " 1.912162162162162,\n",
       " 2.0,\n",
       " 1.9189189189189189,\n",
       " 1.9527027027027026,\n",
       " 1.8716216216216217,\n",
       " 1.9391891891891893,\n",
       " 1.8310810810810811,\n",
       " 1.912162162162162,\n",
       " 1.945945945945946,\n",
       " 1.9662162162162162,\n",
       " 1.9932432432432432,\n",
       " 1.7837837837837838,\n",
       " 1.8581081081081081,\n",
       " 1.912162162162162,\n",
       " 1.8175675675675675,\n",
       " 1.9864864864864864,\n",
       " 1.9932432432432432,\n",
       " 1.9054054054054055,\n",
       " 1.972972972972973,\n",
       " 1.9054054054054055,\n",
       " 1.8783783783783783,\n",
       " 1.8513513513513513,\n",
       " 1.8918918918918919,\n",
       " 1.722972972972973,\n",
       " 1.9932432432432432,\n",
       " 2.0,\n",
       " 1.864864864864865,\n",
       " 1.9527027027027026,\n",
       " 1.8581081081081081,\n",
       " 1.9256756756756757,\n",
       " 1.9054054054054055,\n",
       " 1.9864864864864864,\n",
       " 1.7905405405405406,\n",
       " 1.695945945945946,\n",
       " 1.9324324324324325,\n",
       " 1.9189189189189189,\n",
       " 1.9864864864864864,\n",
       " 1.9594594594594594,\n",
       " 1.8716216216216217,\n",
       " 1.8513513513513513,\n",
       " 1.7837837837837838,\n",
       " 1.9054054054054055,\n",
       " 1.804054054054054,\n",
       " 1.7837837837837838,\n",
       " 1.972972972972973,\n",
       " 1.912162162162162,\n",
       " 1.8108108108108107,\n",
       " 1.9594594594594594,\n",
       " 1.9527027027027026,\n",
       " 1.9054054054054055,\n",
       " 1.7972972972972974,\n",
       " 1.9662162162162162,\n",
       " 1.9054054054054055,\n",
       " 1.9594594594594594,\n",
       " 1.695945945945946,\n",
       " 1.777027027027027,\n",
       " 1.777027027027027,\n",
       " 1.8918918918918919,\n",
       " 1.9527027027027026,\n",
       " 1.8378378378378377,\n",
       " 1.9256756756756757,\n",
       " 1.7432432432432432,\n",
       " 1.0405405405405406,\n",
       " 1.9864864864864864,\n",
       " 1.8513513513513513,\n",
       " 1.9391891891891893,\n",
       " 1.9932432432432432,\n",
       " 1.8986486486486487,\n",
       " 1.8175675675675675,\n",
       " 1.945945945945946,\n",
       " 2.0,\n",
       " 1.8716216216216217,\n",
       " 1.9797297297297298,\n",
       " 1.0,\n",
       " 1.8445945945945945,\n",
       " 1.75,\n",
       " 1.6621621621621623,\n",
       " 1.9797297297297298,\n",
       " 1.8378378378378377,\n",
       " 1.9662162162162162,\n",
       " 1.614864864864865,\n",
       " 1.864864864864865,\n",
       " 1.8378378378378377,\n",
       " 1.8445945945945945,\n",
       " 1.6689189189189189,\n",
       " 1.8918918918918919,\n",
       " 1.8108108108108107,\n",
       " 1.6554054054054055,\n",
       " 1.9932432432432432,\n",
       " 1.6554054054054055,\n",
       " 1.8243243243243243,\n",
       " 1.8918918918918919,\n",
       " 1.722972972972973,\n",
       " 1.9256756756756757,\n",
       " 2.0,\n",
       " 1.912162162162162,\n",
       " 1.9594594594594594,\n",
       " 1.8445945945945945,\n",
       " 1.945945945945946,\n",
       " 1.6283783783783785,\n",
       " 1.614864864864865,\n",
       " 1.8108108108108107,\n",
       " 1.7162162162162162,\n",
       " 1.7567567567567568,\n",
       " 1.9932432432432432,\n",
       " 1.9662162162162162,\n",
       " 1.7297297297297298,\n",
       " 1.9932432432432432,\n",
       " 1.945945945945946,\n",
       " 1.4864864864864864,\n",
       " 1.5743243243243243,\n",
       " 1.864864864864865,\n",
       " 1.8783783783783783,\n",
       " 1.5675675675675675,\n",
       " 1.8783783783783783,\n",
       " 1.6621621621621623,\n",
       " 1.3783783783783785,\n",
       " 1.8918918918918919,\n",
       " 1.9662162162162162,\n",
       " 1.8378378378378377,\n",
       " 1.7905405405405406,\n",
       " 1.9662162162162162,\n",
       " 1.635135135135135,\n",
       " 1.6554054054054055,\n",
       " 1.945945945945946,\n",
       " 1.6689189189189189,\n",
       " 1.722972972972973,\n",
       " 1.945945945945946,\n",
       " 1.8986486486486487,\n",
       " 2.0,\n",
       " 1.8243243243243243,\n",
       " 1.8513513513513513,\n",
       " 1.7432432432432432,\n",
       " 1.912162162162162,\n",
       " 1.7027027027027026,\n",
       " 1.8783783783783783,\n",
       " 1.972972972972973,\n",
       " 1.9527027027027026,\n",
       " 1.9932432432432432,\n",
       " 1.8378378378378377,\n",
       " 1.8445945945945945,\n",
       " 1.3310810810810811,\n",
       " 1.7297297297297298,\n",
       " 1.7837837837837838,\n",
       " 1.7635135135135136,\n",
       " 1.9256756756756757,\n",
       " 1.8310810810810811,\n",
       " 1.972972972972973,\n",
       " 1.5202702702702702,\n",
       " 1.9256756756756757,\n",
       " 1.8378378378378377,\n",
       " 1.7364864864864864,\n",
       " 1.9797297297297298,\n",
       " 1.6486486486486487,\n",
       " 1.3783783783783785,\n",
       " 1.9054054054054055,\n",
       " 1.9797297297297298,\n",
       " 2.0,\n",
       " 1.722972972972973,\n",
       " 1.722972972972973,\n",
       " 1.8783783783783783,\n",
       " 1.912162162162162,\n",
       " 1.8175675675675675,\n",
       " 1.912162162162162,\n",
       " 1.8175675675675675,\n",
       " 1.885135135135135,\n",
       " 1.7567567567567568,\n",
       " 1.8716216216216217,\n",
       " 1.7364864864864864,\n",
       " 1.804054054054054,\n",
       " 1.527027027027027,\n",
       " 1.7364864864864864,\n",
       " 1.6824324324324325,\n",
       " 1.9864864864864864,\n",
       " 1.7162162162162162,\n",
       " 1.9324324324324325,\n",
       " 1.9391891891891893,\n",
       " 1.912162162162162,\n",
       " 1.9932432432432432,\n",
       " 1.6824324324324325,\n",
       " 1.6216216216216215,\n",
       " 1.3783783783783785,\n",
       " 1.8716216216216217,\n",
       " 1.7094594594594594,\n",
       " 1.945945945945946,\n",
       " 1.9594594594594594,\n",
       " 1.7702702702702702,\n",
       " 1.4256756756756757,\n",
       " 1.5945945945945945,\n",
       " 1.5945945945945945,\n",
       " 1.945945945945946,\n",
       " 1.635135135135135,\n",
       " 1.5878378378378377,\n",
       " 1.972972972972973]"
      ]
     },
     "execution_count": 24,
     "metadata": {},
     "output_type": "execute_result"
    }
   ],
   "execution_count": 24
  },
  {
   "metadata": {
    "ExecuteTime": {
     "end_time": "2024-05-08T12:06:27.326920Z",
     "start_time": "2024-05-08T12:06:27.325756Z"
    }
   },
   "cell_type": "code",
   "source": "import torch",
   "id": "6f1c7bb657d6c44e",
   "outputs": [],
   "execution_count": 25
  },
  {
   "metadata": {
    "ExecuteTime": {
     "end_time": "2024-05-08T12:06:42.134695Z",
     "start_time": "2024-05-08T12:06:27.327279Z"
    }
   },
   "cell_type": "code",
   "source": [
    "from alignment_methods import procrustes, direct_alignment, weighted_lr, closed_form_linear_regression, weighted_lr_train_only\n",
    "X = procrustes(r_embeddings_trunc, d_embeddings_trunc)\n",
    "r_embeddings_aligned = r_embeddings @ X \n",
    "\n",
    "X = direct_alignment(r_embeddings_trunc, d_embeddings_trunc)\n",
    "r_embeddings_aligned_direct = r_embeddings @ X\n",
    "\n",
    "X = closed_form_linear_regression(r_embeddings_trunc, d_embeddings_trunc)\n",
    "r_embeddings_aligned_lr = r_embeddings @ X\n",
    "\n",
    "X = weighted_lr_train_only(r_embeddings_trunc, d_embeddings_trunc, freq_weights)\n",
    "r_embeddings_aligned_wlr_freq = X(torch.tensor(r_embeddings, dtype=torch.float32)).detach().numpy()\n",
    "\n",
    "X = weighted_lr_train_only(r_embeddings_trunc, d_embeddings_trunc, idiff_weights)\n",
    "r_embeddings_aligned_wlr_idiff = X(torch.tensor(r_embeddings, dtype=torch.float32)).detach().numpy()"
   ],
   "id": "f54981a6ba943daf",
   "outputs": [],
   "execution_count": 26
  },
  {
   "metadata": {
    "ExecuteTime": {
     "end_time": "2024-05-08T12:06:42.137059Z",
     "start_time": "2024-05-08T12:06:42.135530Z"
    }
   },
   "cell_type": "code",
   "source": "",
   "id": "e826e912d33100b7",
   "outputs": [],
   "execution_count": 26
  },
  {
   "metadata": {
    "ExecuteTime": {
     "end_time": "2024-05-08T12:06:43.960365Z",
     "start_time": "2024-05-08T12:06:42.142397Z"
    }
   },
   "cell_type": "code",
   "source": [
    "from utils import get_accuracy_scores\n",
    "accuracy_scores = get_accuracy_scores(d_embeddings, r_embeddings_aligned, d_intersect_index, r_intersect_index, d_iidx, 3, verbose=True)"
   ],
   "id": "919c8098344b709a",
   "outputs": [
    {
     "name": "stdout",
     "output_type": "stream",
     "text": [
      "the ['the', 'that', 'and']\n",
      "and ['and', 'the', 'our']\n",
      "that ['that', 'not', 'but']\n",
      "this ['this', 'the', 'that']\n",
      "for ['for', 'nts', 'and']\n",
      "have ['have', 'has', 'havent']\n",
      "are ['are', 'arent', 'being']\n",
      "not ['not', 'that', 'but']\n",
      "they ['they', 'them', 'because']\n",
      "our ['our', 'and', 'americas']\n",
      "with ['with', 'and', 'ultimatums']\n",
      "from ['from', 'georgia', 'junior']\n",
      "will ['will', 'can', 'wont']\n",
      "was ['was', 'had', 'went']\n",
      "has ['has', 'hasnt', 'have']\n",
      "you ['you', 'your', 'yourself']\n",
      "would ['would', 'could', 'might']\n",
      "but ['but', 'because', 'not']\n",
      "what ['what', 'that', 'something']\n",
      "their ['their', 'themselves', 'they']\n",
      "bill ['bill', 'legislation', 'provision']\n",
      "about ['about', 'aboutand', 'aboutthe']\n",
      "people ['people', 'folks', 'americans']\n",
      "who ['who', 'whom', 'whose']\n",
      "all ['all', 'what', 'that']\n",
      "president ['president', 'barack', 'presidentelect']\n",
      "there ['there', 'some', 'but']\n",
      "time ['time', 'days', 'congressto']\n",
      "more ['more', 'less', 'faster']\n",
      "speaker ['speaker', 'chair', 'chairperson']\n",
      "going ['going', 'theyll', 'dont']\n",
      "these ['these', 'those', 'some']\n",
      "can ['can', 'will', 'cannot']\n",
      "his ['his', 'him', 'himself']\n",
      "been ['been', 'gotten', 'gone']\n",
      "one ['one', 'five', 'single']\n",
      "were ['were', 'werent', 'was']\n",
      "when ['when', 'then', 'what']\n",
      "because ['because', 'but', 'they']\n",
      "out ['out', 'off', 'into']\n",
      "just ['just', 'really', 'jumping']\n",
      "which ['which', 'the', 'that']\n",
      "those ['those', 'these', 'all']\n",
      "now ['now', 'going', 'what']\n",
      "its ['its', 'thats', 'whats']\n",
      "american ['american', 'americas', 'hardworking']\n",
      "amendment ['amendment', 'bill', 'provision']\n",
      "years ['years', 'decade', 'decades']\n",
      "government ['government', 'federal', 'governments']\n",
      "had ['had', 'was', 'hadnt']\n",
      "them ['them', 'they', 'themselves']\n",
      "states ['states', 'statesthat', 'statesand']\n",
      "here ['here', 'really', 'going']\n",
      "other ['other', 'different', 'various']\n",
      "get ['get', 'getting', 'gets']\n",
      "some ['some', 'lot', 'there']\n",
      "over ['over', 'almost', 'span']\n",
      "want ['want', 'dont', 'let']\n",
      "year ['year', 'month', 'years']\n",
      "think ['think', 'certainly', 'frankly']\n",
      "today ['today', 'tonight', 'tomorrow']\n",
      "know ['know', 'tell', 'understand']\n",
      "than ['than', 'importantly', 'likely']\n",
      "country ['country', 'nation', 'america']\n",
      "health ['health', 'rationed', 'uncompensated']\n",
      "congress ['congress', 'house', 'congresss']\n",
      "very ['very', 'incredibly', 'extremely']\n",
      "house ['house', 'senate', 'congress']\n",
      "senate ['senate', 'votes', 'house']\n",
      "new ['new', 'upstate', 'albany']\n",
      "care ['care', 'insurance', 'careand']\n",
      "said ['said', 'told', 'saying']\n",
      "make ['make', 'making', 'makes']\n",
      "work ['work', 'working', 'worked']\n",
      "federal ['federal', 'government', 'governments']\n",
      "should ['should', 'shouldnt', 'ought']\n",
      "also ['also', 'addition', 'additionally']\n",
      "need ['need', 'can', 'needs']\n",
      "many ['many', 'often', 'frequently']\n",
      "like ['like', 'nice', 'sounds']\n",
      "dont ['dont', 'cant', 'doesnt']\n",
      "say ['say', 'saying', 'tell']\n",
      "back ['back', 'into', 'down']\n",
      "state ['state', 'stateand', 'statewide']\n",
      "yield ['yield', 'reserve', 'bringing']\n",
      "senator ['senator', 'senators', 'colleague']\n",
      "support ['support', 'supporting', 'supported']\n",
      "way ['way', 'but', 'something']\n",
      "law ['law', 'laws', 'statute']\n",
      "how ['how', 'what', 'when']\n",
      "percent ['percent', 'percentage', 'onehalf']\n",
      "committee ['committee', 'committees', 'subcommittee']\n",
      "united ['united', 'baltic', 'localities']\n",
      "well ['well', 'gee', 'wow']\n",
      "tax ['tax', 'taxes', 'taxation']\n",
      "budget ['budget', 'budgets', 'budgetary']\n",
      "legislation ['legislation', 'bill', 'measure']\n",
      "act ['act', 'legislation', 'actthat']\n",
      "only ['only', 'not', 'but']\n",
      "into ['into', 'out', 'back']\n",
      "chairman ['chairman', 'chairmen', 'chair']\n",
      "any ['any', 'whatsoever', 'either']\n",
      "jobs ['jobs', 'jobsand', 'highpaying']\n",
      "right ['right', 'thing', 'now']\n",
      "where ['where', 'someplace', 'somewhere']\n",
      "last ['last', 'ago', 'earlier']\n",
      "gentleman ['gentleman', 'gentlewoman', 'friend']\n",
      "money ['money', 'dime', 'funds']\n",
      "could ['could', 'would', 'couldnt']\n",
      "take ['take', 'taking', 'takes']\n",
      "every ['every', 'single', 'each']\n",
      "first ['first', 'second', 'proudest']\n",
      "even ['even', 'yet', 'nonexistent']\n",
      "thank ['thank', 'commend', 'appreciate']\n",
      "colleagues ['colleagues', 'colleaguesto', 'friends']\n",
      "national ['national', 'maritime', 'safeguarding']\n",
      "then ['then', 'when', 'guess']\n",
      "important ['important', 'critical', 'crucial']\n",
      "through ['through', 'into', 'ram']\n",
      "under ['under', 'specified', 'restricted']\n",
      "ask ['ask', 'urge', 'asking']\n",
      "before ['before', 'after', 'later']\n",
      "come ['come', 'coming', 'bring']\n",
      "may ['may', 'might', 'occurs']\n",
      "americans ['americans', 'families', 'people']\n",
      "most ['most', 'highly', 'incredibly']\n",
      "why ['why', 'shouldnt', 'dont']\n",
      "good ['good', 'darn', 'bad']\n",
      "vote ['vote', 'votes', 'voted']\n",
      "billion ['billion', 'million', 'trillion']\n",
      "does ['does', 'doesnt', 'undefined']\n",
      "america ['america', 'country', 'world']\n",
      "much ['much', 'far', 'expensive']\n",
      "being ['being', 'lying', 'are']\n",
      "program ['program', 'programs', 'grant']\n",
      "see ['see', 'show', 'know']\n",
      "administration ['administration', 'administrations', 'president']\n",
      "such ['such', 'involving', 'limited']\n",
      "energy ['energy', 'renewables', 'fuels']\n",
      "again ['again', 'revel', 'once']\n",
      "after ['after', 'later', 'last']\n",
      "floor ['floor', 'inquiring', 'senses']\n",
      "down ['down', 'out', 'off']\n",
      "put ['put', 'putting', 'pull']\n",
      "madam ['madam', 'obamas', 'occupant']\n",
      "fact ['fact', 'allegation', 'assertions']\n",
      "made ['made', 'make', 'making']\n",
      "debt ['debt', 'deficits', 'borrowing']\n",
      "did ['did', 'didnt', 'wanted']\n",
      "million ['million', 'billion', 'approximately']\n",
      "her ['her', 'she', 'hers']\n",
      "business ['business', 'businesses', 'businessperson']\n",
      "security ['security', 'securitys', 'securityand']\n",
      "world ['world', 'globe', 'country']\n",
      "things ['things', 'kinds', 'lot']\n",
      "members ['members', 'colleagues', 'member']\n",
      "your ['your', 'you', 'yourself']\n",
      "economy ['economy', 'economic', 'growth']\n",
      "help ['help', 'helping', 'assist']\n",
      "great ['great', 'wonderful', 'incredible']\n",
      "believe ['believe', 'think', 'agree']\n",
      "she ['she', 'her', 'shes']\n",
      "small ['small', 'businesses', 'business']\n",
      "balance ['balance', 'deficitneutral', 'remainder']\n",
      "day ['day', 'night', 'saturday']\n",
      "issue ['issue', 'issues', 'addressed']\n",
      "look ['look', 'see', 'looking']\n",
      "pay ['pay', 'paying', 'paid']\n",
      "both ['both', 'alike', 'ledger']\n",
      "done ['done', 'gotten', 'doing']\n",
      "order ['order', 'orders', 'specified']\n",
      "same ['same', 'exact', 'insanity']\n",
      "two ['two', 'three', 'four']\n",
      "process ['process', 'processes', 'transparent']\n",
      "something ['something', 'what', 'think']\n",
      "him ['him', 'his', 'himself']\n",
      "doing ['doing', 'done', 'trying']\n",
      "another ['another', 'one', 'single']\n",
      "job ['job', 'jobs', 'employment']\n",
      "while ['while', 'however', 'although']\n",
      "passed ['passed', 'enacted', 'pass']\n",
      "service ['service', 'serving', 'serve']\n",
      "continue ['continue', 'remain', 'sustain']\n",
      "point ['point', 'points', 'argument']\n",
      "lot ['lot', 'lots', 'some']\n",
      "nation ['nation', 'country', 'countrys']\n",
      "department ['department', 'departments', 'agency']\n",
      "public ['public', 'publics', 'standardsetting']\n",
      "businesses ['businesses', 'business', 'owners']\n",
      "consent ['consent', 'nearunanimous', 'bumps']\n",
      "cost ['cost', 'costs', 'billion']\n",
      "able ['able', 'unable', 'going']\n",
      "against ['against', 'discriminate', 'retaliate']\n",
      "system ['system', 'systems', 'antiquated']\n",
      "must ['must', 'imperative', 'cannot']\n",
      "part ['part', 'element', 'connected']\n",
      "majority ['majority', 'republican', 'republicans']\n",
      "unanimous ['unanimous', 'imous', 'unan']\n",
      "rise ['rise', 'madam', 'reintroducing']\n",
      "insurance ['insurance', 'coverage', 'care']\n",
      "own ['own', 'themselves', 'their']\n",
      "member ['member', 'members', 'memberi']\n",
      "number ['number', 'percentage', 'numbers']\n",
      "better ['better', 'more', 'less']\n",
      "military ['military', 'militarys', 'civilian']\n",
      "bipartisan ['bipartisan', 'consensus', 'democrats']\n",
      "home ['home', 'hometown', 'homes']\n",
      "without ['without', 'erode', 'any']\n",
      "economic ['economic', 'growth', 'economy']\n",
      "let ['let', 'lets', 'want']\n",
      "since ['since', 'inception', 'surpassed']\n",
      "debate ['debate', 'debated', 'debates']\n",
      "use ['use', 'using', 'used']\n",
      "next ['next', 'ahead', 'last']\n",
      "chair ['chair', 'chairwoman', 'versa']\n",
      "families ['families', 'struggling', 'family']\n",
      "across ['across', 'around', 'throughout']\n",
      "programs ['programs', 'program', 'grants']\n",
      "during ['during', 'formative', 'tumultuous']\n",
      "side ['side', 'sides', 'friends']\n",
      "around ['around', 'across', 'rest']\n",
      "give ['give', 'giving', 'gives']\n",
      "working ['working', 'work', 'worked']\n",
      "lets ['lets', 'let', 'rid']\n",
      "office ['office', 'omb', 'offices']\n",
      "forward ['forward', 'closer', 'toward']\n",
      "too ['too', 'far', 'enough']\n",
      "provide ['provide', 'providing', 'provides']\n",
      "children ['children', 'kids', 'parents']\n",
      "opportunity ['opportunity', 'chance', 'opportunities']\n",
      "week ['week', 'month', 'weeks']\n",
      "future ['future', 'generations', 'generation']\n",
      "sure ['sure', 'mistake', 'easier']\n",
      "policy ['policy', 'policies', 'strategy']\n",
      "place ['place', 'steps', 'where']\n",
      "life ['life', 'lives', 'lifes']\n",
      "really ['really', 'think', 'just']\n",
      "pass ['pass', 'passing', 'passed']\n",
      "already ['already', 'effect', 'infiltrating']\n",
      "war ['war', 'invasion', 'hussein']\n",
      "end ['end', 'expires', 'beginning']\n",
      "keep ['keep', 'keeping', 'keeps']\n",
      "never ['never', 'ever', 'forever']\n",
      "minutes ['minutes', 'minute', 'seconds']\n",
      "together ['together', 'bipartisan', 'aside']\n",
      "talk ['talk', 'talking', 'talked']\n",
      "hope ['hope', 'hopeful', 'hopefully']\n",
      "ago ['ago', 'last', 'agoand']\n",
      "family ['family', 'familys', 'son']\n",
      "still ['still', 'left', 'enough']\n",
      "friend ['friend', 'colleague', 'gentleman']\n",
      "cannot ['cannot', 'cant', 'must']\n",
      "create ['create', 'creating', 'grow']\n",
      "long ['long', 'short', 'years']\n",
      "urge ['urge', 'encourage', 'implore']\n",
      "community ['community', 'parishioners', 'nonprofits']\n",
      "find ['find', 'figure', 'finding']\n",
      "move ['move', 'moving', 'moves']\n",
      "whether ['whether', 'deciding', 'decide']\n",
      "call ['call', 'called', 'calling']\n",
      "leadership ['leadership', 'commitment', 'democratic']\n",
      "funding ['funding', 'funds', 'underfunded']\n",
      "resolution ['resolution', 'res', 'resolutions']\n",
      "court ['court', 'courts', 'litigated']\n",
      "days ['days', 'weeks', 'months']\n",
      "reform ['reform', 'reforming', 'reforms']\n",
      "veterans ['veterans', 'vets', 'vas']\n",
      "few ['few', 'couple', 'several']\n"
     ]
    }
   ],
   "execution_count": 27
  },
  {
   "metadata": {
    "ExecuteTime": {
     "end_time": "2024-05-08T12:06:43.968305Z",
     "start_time": "2024-05-08T12:06:43.963095Z"
    }
   },
   "cell_type": "code",
   "source": "accuracy_scores",
   "id": "79009e18c79383d9",
   "outputs": [
    {
     "data": {
      "text/plain": [
       "(1.0, 268)"
      ]
     },
     "execution_count": 28,
     "metadata": {},
     "output_type": "execute_result"
    }
   ],
   "execution_count": 28
  },
  {
   "metadata": {
    "ExecuteTime": {
     "end_time": "2024-05-08T12:06:43.972025Z",
     "start_time": "2024-05-08T12:06:43.969349Z"
    }
   },
   "cell_type": "code",
   "source": "print(r_intersect_index)",
   "id": "77317ab9837d4a0d",
   "outputs": [
    {
     "name": "stdout",
     "output_type": "stream",
     "text": [
      "[0, 1, 2, 3, 4, 5, 6, 7, 8, 9, 10, 11, 12, 13, 14, 15, 16, 17, 18, 19, 20, 21, 22, 23, 24, 25, 26, 27, 28, 29, 30, 31, 32, 33, 34, 35, 36, 37, 38, 39, 40, 41, 42, 43, 44, 45, 46, 47, 48, 49, 50, 51, 52, 53, 54, 55, 56, 57, 58, 59, 60, 61, 62, 63, 64, 65, 66, 67, 68, 69, 70, 71, 72, 73, 74, 75, 76, 77, 78, 79, 80, 81, 82, 83, 84, 85, 86, 87, 88, 89, 90, 91, 92, 93, 94, 95, 96, 97, 98, 99, 100, 101, 102, 103, 104, 105, 106, 108, 109, 110, 111, 112, 113, 114, 115, 116, 117, 118, 119, 120, 121, 122, 123, 124, 125, 126, 127, 128, 129, 130, 131, 132, 133, 134, 135, 136, 137, 138, 139, 140, 141, 142, 143, 144, 145, 146, 147, 148, 149, 150, 151, 152, 153, 154, 155, 156, 157, 158, 159, 160, 161, 162, 163, 164, 165, 166, 167, 168, 169, 171, 172, 173, 174, 175, 176, 178, 179, 180, 181, 182, 183, 184, 185, 186, 187, 188, 189, 190, 191, 193, 194, 195, 196, 197, 198, 200, 201, 202, 203, 205, 207, 208, 209, 210, 211, 212, 213, 214, 215, 216, 217, 218, 219, 221, 222, 224, 225, 226, 227, 228, 229, 230, 231, 232, 235, 236, 238, 239, 240, 242, 243, 244, 245, 246, 247, 248, 249, 250, 251, 252, 253, 254, 255, 256, 258, 260, 261, 262, 264, 266, 268, 270, 272, 273, 275, 278, 279, 281, 282, 283, 286, 287, 289, 292, 293, 296, 297, 299]\n"
     ]
    }
   ],
   "execution_count": 29
  },
  {
   "metadata": {
    "ExecuteTime": {
     "end_time": "2024-05-08T12:06:43.976525Z",
     "start_time": "2024-05-08T12:06:43.973538Z"
    }
   },
   "cell_type": "code",
   "source": "print(intersect)",
   "id": "5d00441cf9ae686e",
   "outputs": [
    {
     "name": "stdout",
     "output_type": "stream",
     "text": [
      "['the', 'and', 'that', 'this', 'for', 'have', 'are', 'not', 'they', 'our', 'with', 'from', 'will', 'was', 'has', 'you', 'would', 'but', 'what', 'their', 'bill', 'about', 'people', 'who', 'all', 'president', 'there', 'time', 'more', 'speaker', 'going', 'these', 'can', 'his', 'been', 'one', 'were', 'when', 'because', 'out', 'just', 'which', 'those', 'now', 'its', 'american', 'amendment', 'years', 'government', 'had', 'them', 'states', 'here', 'other', 'get', 'some', 'over', 'want', 'year', 'think', 'today', 'know', 'than', 'country', 'health', 'congress', 'very', 'house', 'senate', 'new', 'care', 'said', 'make', 'work', 'federal', 'should', 'also', 'need', 'many', 'like', 'dont', 'say', 'back', 'state', 'yield', 'senator', 'support', 'way', 'law', 'how', 'percent', 'committee', 'united', 'well', 'tax', 'budget', 'legislation', 'act', 'only', 'into', 'chairman', 'any', 'jobs', 'right', 'where', 'last', 'gentleman', 'money', 'could', 'take', 'every', 'first', 'even', 'thank', 'colleagues', 'national', 'then', 'important', 'through', 'under', 'ask', 'before', 'come', 'may', 'americans', 'most', 'why', 'good', 'vote', 'billion', 'does', 'america', 'much', 'being', 'program', 'see', 'administration', 'such', 'energy', 'again', 'after', 'floor', 'down', 'put', 'madam', 'fact', 'made', 'debt', 'did', 'million', 'her', 'business', 'security', 'world', 'things', 'members', 'your', 'economy', 'help', 'great', 'believe', 'she', 'small', 'balance', 'day', 'issue', 'look', 'pay', 'both', 'done', 'order', 'same', 'two', 'process', 'something', 'him', 'doing', 'another', 'job', 'while', 'passed', 'service', 'continue', 'point', 'lot', 'nation', 'department', 'public', 'businesses', 'consent', 'cost', 'able', 'against', 'system', 'must', 'part', 'majority', 'unanimous', 'rise', 'insurance', 'own', 'member', 'number', 'better', 'military', 'bipartisan', 'home', 'without', 'economic', 'let', 'since', 'debate', 'use', 'next', 'chair', 'families', 'across', 'programs', 'during', 'side', 'around', 'give', 'working', 'lets', 'office', 'forward', 'too', 'provide', 'children', 'opportunity', 'week', 'future', 'sure', 'policy', 'place', 'life', 'really', 'pass', 'already', 'war', 'end', 'keep', 'never', 'minutes', 'together', 'talk', 'hope', 'ago', 'family', 'still', 'friend', 'cannot', 'create', 'long', 'urge', 'community', 'find', 'move', 'whether', 'call', 'leadership', 'funding', 'resolution', 'court', 'days', 'reform', 'veterans', 'few']\n"
     ]
    }
   ],
   "execution_count": 30
  },
  {
   "metadata": {
    "ExecuteTime": {
     "end_time": "2024-05-08T12:06:43.981045Z",
     "start_time": "2024-05-08T12:06:43.977691Z"
    }
   },
   "cell_type": "code",
   "source": "print(r_model.wv.index_to_key[53])",
   "id": "e4d1dde100585447",
   "outputs": [
    {
     "name": "stdout",
     "output_type": "stream",
     "text": [
      "other\n"
     ]
    }
   ],
   "execution_count": 31
  },
  {
   "metadata": {
    "ExecuteTime": {
     "end_time": "2024-05-08T12:06:48.150921Z",
     "start_time": "2024-05-08T12:06:43.982270Z"
    }
   },
   "cell_type": "code",
   "source": [
    "intersect_all = []\n",
    "for word in r_model.wv.index_to_key:\n",
    "    if word in d_model.wv.index_to_key:\n",
    "        intersect_all.append(word)"
   ],
   "id": "526471d01a5bc77d",
   "outputs": [],
   "execution_count": 32
  },
  {
   "metadata": {
    "ExecuteTime": {
     "end_time": "2024-05-08T12:06:48.153354Z",
     "start_time": "2024-05-08T12:06:48.151475Z"
    }
   },
   "cell_type": "code",
   "source": "intersect_all[:10]",
   "id": "d909dad17cad9002",
   "outputs": [
    {
     "data": {
      "text/plain": [
       "['the', 'and', 'that', 'this', 'for', 'have', 'are', 'not', 'they', 'our']"
      ]
     },
     "execution_count": 33,
     "metadata": {},
     "output_type": "execute_result"
    }
   ],
   "execution_count": 33
  },
  {
   "metadata": {
    "ExecuteTime": {
     "end_time": "2024-05-08T12:06:48.160284Z",
     "start_time": "2024-05-08T12:06:48.153884Z"
    }
   },
   "cell_type": "code",
   "source": [
    "r_intersect_index_all = [r_model.wv.key_to_index[item] for item in intersect_all]\n",
    "d_intersect_index_all = [d_model.wv.key_to_index[item] for item in intersect_all]"
   ],
   "id": "cbd43c6f1a6b386",
   "outputs": [],
   "execution_count": 34
  },
  {
   "metadata": {
    "ExecuteTime": {
     "end_time": "2024-05-08T12:06:48.166021Z",
     "start_time": "2024-05-08T12:06:48.160798Z"
    }
   },
   "cell_type": "code",
   "source": [
    "r_embeddings_trunc_all = r_embeddings[r_intersect_index_all]\n",
    "d_embeddings_trunc_all = d_embeddings[d_intersect_index_all]\n"
   ],
   "id": "dae72f9c94f528b0",
   "outputs": [],
   "execution_count": 35
  },
  {
   "metadata": {
    "ExecuteTime": {
     "end_time": "2024-05-08T12:06:48.205969Z",
     "start_time": "2024-05-08T12:06:48.166521Z"
    }
   },
   "cell_type": "code",
   "source": [
    "X_all = procrustes(r_embeddings_trunc_all, d_embeddings_trunc_all)\n",
    "r_embeddings_aligned_all = r_embeddings @ X_all"
   ],
   "id": "a081a9e784a7a83a",
   "outputs": [],
   "execution_count": 36
  },
  {
   "metadata": {
    "ExecuteTime": {
     "end_time": "2024-05-08T12:08:57.434892Z",
     "start_time": "2024-05-08T12:06:48.207481Z"
    }
   },
   "cell_type": "code",
   "source": "accuracy_scores_all = get_accuracy_scores(d_embeddings, r_embeddings_aligned_all, d_intersect_index_all, r_intersect_index_all, d_iidx, 3)",
   "id": "26dca284e8cfcec2",
   "outputs": [],
   "execution_count": 37
  },
  {
   "metadata": {
    "ExecuteTime": {
     "end_time": "2024-05-08T12:08:57.442473Z",
     "start_time": "2024-05-08T12:08:57.437287Z"
    }
   },
   "cell_type": "code",
   "source": "accuracy_scores_all",
   "id": "c45f4eefb0194506",
   "outputs": [
    {
     "data": {
      "text/plain": [
       "(0.4216278101582015, 28824)"
      ]
     },
     "execution_count": 38,
     "metadata": {},
     "output_type": "execute_result"
    }
   ],
   "execution_count": 38
  },
  {
   "metadata": {
    "ExecuteTime": {
     "end_time": "2024-05-08T12:11:11.675718Z",
     "start_time": "2024-05-08T12:08:57.444496Z"
    }
   },
   "cell_type": "code",
   "source": [
    "# now let's try again with X being top 179 words\n",
    "accuracy_scores_all = get_accuracy_scores(d_embeddings, r_embeddings_aligned, d_intersect_index_all, r_intersect_index_all, d_iidx, 3)\n"
   ],
   "id": "cfde1924fc69e320",
   "outputs": [],
   "execution_count": 39
  },
  {
   "metadata": {
    "ExecuteTime": {
     "end_time": "2024-05-08T12:11:11.681992Z",
     "start_time": "2024-05-08T12:11:11.678028Z"
    }
   },
   "cell_type": "code",
   "source": "accuracy_scores_all",
   "id": "705b04ec74c97a2b",
   "outputs": [
    {
     "data": {
      "text/plain": [
       "(0.38662225922842075, 28824)"
      ]
     },
     "execution_count": 40,
     "metadata": {},
     "output_type": "execute_result"
    }
   ],
   "execution_count": 40
  },
  {
   "metadata": {
    "ExecuteTime": {
     "end_time": "2024-05-08T12:11:11.687753Z",
     "start_time": "2024-05-08T12:11:11.683168Z"
    }
   },
   "cell_type": "code",
   "source": [
    "# find the words that have largest difference in cosine similarity\n",
    "def find_largest_diff_words(d_embeddings, r_embeddings_aligned, d_intersect_index, r_intersect_index, d_iidx, top_n = 10):\n",
    "    diff_dict = {}\n",
    "    for i in range(len(r_intersect_index)):\n",
    "        r_index = r_intersect_index[i]\n",
    "        d_index = d_intersect_index[i]\n",
    "        d_word = d_iidx[d_index]\n",
    "        cos_sim = np.dot(d_embeddings[d_index], r_embeddings_aligned[r_index]) / (np.linalg.norm(d_embeddings[d_index]) * np.linalg.norm(r_embeddings_aligned[r_index]))\n",
    "        diff_dict[d_word] = cos_sim\n",
    "    diff_dict = dict(sorted(diff_dict.items(), key=lambda item: item[1]))\n",
    "    return list(diff_dict.items())[:top_n]"
   ],
   "id": "71a463ef2d5f6ef",
   "outputs": [],
   "execution_count": 41
  },
  {
   "metadata": {
    "ExecuteTime": {
     "end_time": "2024-05-08T12:11:11.811839Z",
     "start_time": "2024-05-08T12:11:11.689407Z"
    }
   },
   "cell_type": "code",
   "source": "item = find_largest_diff_words(d_embeddings, r_embeddings_aligned, d_intersect_index_all, r_intersect_index_all, d_iidx)",
   "id": "5551af4f6b127a1d",
   "outputs": [],
   "execution_count": 42
  },
  {
   "metadata": {
    "ExecuteTime": {
     "end_time": "2024-05-08T12:11:11.820518Z",
     "start_time": "2024-05-08T12:11:11.813059Z"
    }
   },
   "cell_type": "code",
   "source": "item",
   "id": "5810afba3843cbc0",
   "outputs": [
    {
     "data": {
      "text/plain": [
       "[('meto', -0.31950065),\n",
       " ('wedded', -0.2653914),\n",
       " ('increaseand', -0.24787006),\n",
       " ('extracts', -0.24365585),\n",
       " ('structuring', -0.239897),\n",
       " ('excepted', -0.23194943),\n",
       " ('thingsthat', -0.21693844),\n",
       " ('othersto', -0.21677633),\n",
       " ('calabro', -0.2156397),\n",
       " ('infinitum', -0.21418825)]"
      ]
     },
     "execution_count": 43,
     "metadata": {},
     "output_type": "execute_result"
    }
   ],
   "execution_count": 43
  },
  {
   "metadata": {
    "ExecuteTime": {
     "end_time": "2024-05-08T12:11:11.932536Z",
     "start_time": "2024-05-08T12:11:11.821617Z"
    }
   },
   "cell_type": "code",
   "source": [
    "item = find_largest_diff_words(d_embeddings, r_embeddings_aligned_all, d_intersect_index_all, r_intersect_index_all, d_iidx)\n",
    "item"
   ],
   "id": "ed8c2e48d561ecba",
   "outputs": [
    {
     "data": {
      "text/plain": [
       "[('calabro', -0.32215145),\n",
       " ('meto', -0.30824497),\n",
       " ('wedded', -0.28844658),\n",
       " ('thingsthat', -0.2592696),\n",
       " ('unattended', -0.24431552),\n",
       " ('structuring', -0.24011657),\n",
       " ('extracts', -0.2296219),\n",
       " ('stateto', -0.22482207),\n",
       " ('othersto', -0.2207074),\n",
       " ('wildeyed', -0.21878976)]"
      ]
     },
     "execution_count": 44,
     "metadata": {},
     "output_type": "execute_result"
    }
   ],
   "execution_count": 44
  },
  {
   "metadata": {
    "ExecuteTime": {
     "end_time": "2024-05-08T12:11:11.941471Z",
     "start_time": "2024-05-08T12:11:11.934050Z"
    }
   },
   "cell_type": "code",
   "source": "print(d_intersect_index_all)",
   "id": "632aaf7a4b569c48",
   "outputs": [
    {
     "name": "stdout",
     "output_type": "stream",
     "text": [
      "[0, 1, 2, 4, 3, 5, 6, 10, 9, 7, 8, 11, 12, 13, 15, 20, 18, 16, 24, 14, 17, 23, 22, 19, 21, 27, 26, 25, 29, 38, 47, 28, 30, 32, 31, 33, 36, 34, 39, 52, 50, 35, 37, 46, 48, 45, 43, 41, 98, 60, 51, 63, 74, 54, 62, 68, 69, 55, 73, 82, 57, 72, 61, 49, 40, 76, 71, 79, 42, 66, 67, 104, 58, 44, 87, 75, 64, 70, 59, 88, 105, 94, 90, 78, 85, 53, 65, 100, 115, 91, 89, 77, 96, 107, 112, 117, 80, 56, 97, 99, 120, 108, 81, 114, 118, 103, 137, 302, 153, 119, 122, 109, 106, 132, 92, 83, 102, 146, 86, 123, 133, 93, 128, 130, 138, 95, 121, 141, 134, 84, 163, 164, 116, 140, 158, 124, 174, 279, 136, 161, 149, 142, 127, 170, 152, 145, 165, 150, 296, 172, 113, 101, 155, 129, 159, 212, 176, 181, 135, 110, 144, 189, 111, 162, 215, 139, 182, 208, 157, 169, 304, 184, 178, 196, 166, 230, 233, 341, 206, 221, 216, 180, 177, 223, 183, 193, 262, 250, 168, 207, 126, 209, 373, 143, 286, 179, 191, 173, 167, 316, 205, 255, 151, 195, 575, 156, 313, 248, 200, 224, 210, 237, 190, 175, 201, 171, 198, 213, 211, 220, 334, 245, 199, 412, 125, 185, 194, 192, 239, 254, 234, 160, 243, 305, 368, 259, 197, 324, 241, 187, 148, 710, 228, 246, 244, 204, 287, 265, 235, 276, 263, 278, 269, 217, 273, 294, 227, 326, 188, 314, 299, 214, 260, 351, 222, 325, 256, 346, 277, 439, 257, 400, 271, 226, 359, 219, 398, 312, 186, 298, 303, 238, 290, 289, 347, 329, 252, 202, 620, 229, 408, 327, 232, 285, 383, 344, 242, 236, 338, 295, 147, 251, 268, 267, 306, 283, 323, 430, 154, 446, 335, 247, 240, 361, 321, 270, 365, 343, 448, 342, 355, 433, 2430, 375, 322, 218, 514, 225, 358, 301, 249, 307, 300, 366, 340, 291, 357, 476, 404, 282, 478, 364, 453, 308, 258, 392, 742, 309, 333, 399, 264, 394, 464, 480, 356, 387, 348, 315, 690, 131, 458, 461, 331, 390, 360, 272, 374, 350, 280, 380, 381, 654, 1042, 420, 504, 425, 349, 339, 370, 462, 397, 231, 411, 393, 293, 345, 426, 418, 449, 447, 423, 424, 203, 438, 427, 419, 432, 413, 288, 281, 531, 421, 477, 391, 437, 494, 385, 457, 559, 533, 819, 551, 444, 337, 518, 369, 297, 496, 465, 525, 416, 484, 319, 535, 405, 378, 441, 450, 472, 292, 810, 352, 261, 409, 436, 434, 284, 414, 318, 749, 497, 311, 459, 627, 485, 574, 595, 401, 521, 487, 367, 442, 612, 445, 660, 474, 664, 501, 386, 520, 536, 395, 317, 332, 479, 670, 683, 499, 741, 384, 266, 451, 354, 834, 685, 649, 587, 645, 515, 490, 468, 328, 506, 561, 678, 545, 275, 760, 556, 522, 534, 543, 488, 687, 336, 572, 376, 362, 310, 596, 711, 729, 422, 431, 803, 989, 601, 402, 590, 512, 452, 406, 470, 641, 609, 1007, 372, 407, 482, 580, 732, 527, 403, 692, 463, 460, 548, 483, 382, 582, 752, 330, 731, 253, 542, 558, 603, 509, 274, 656, 589, 721, 686, 396, 320, 578, 751, 528, 530, 708, 563, 1028, 585, 566, 435, 539, 626, 555, 410, 637, 377, 526, 508, 604, 454, 546, 363, 569, 532, 739, 475, 655, 775, 429, 738, 753, 511, 661, 481, 469, 674, 769, 505, 801, 658, 456, 471, 489, 455, 549, 631, 621, 473, 593, 623, 510, 665, 500, 562, 540, 507, 557, 701, 537, 730, 498, 608, 709, 570, 642, 759, 640, 771, 571, 698, 1856, 622, 854, 633, 653, 492, 714, 717, 602, 632, 577, 651, 573, 544, 1150, 493, 856, 624, 973, 813, 564, 776, 581, 888, 634, 600, 659, 588, 796, 911, 704, 584, 415, 1021, 828, 681, 644, 516, 783, 598, 712, 968, 766, 750, 619, 616, 958, 672, 597, 847, 933, 1106, 852, 547, 628, 353, 636, 915, 1027, 877, 662, 715, 792, 778, 748, 799, 806, 804, 706, 610, 693, 1359, 606, 725, 727, 675, 1362, 867, 770, 630, 866, 495, 618, 818, 625, 679, 568, 639, 926, 816, 793, 1128, 913, 802, 502, 912, 605, 583, 1094, 870, 780, 1001, 863, 491, 1147, 1685, 754, 379, 592, 892, 850, 667, 733, 607, 756, 967, 682, 643, 962, 599, 579, 554, 668, 808, 829, 981, 848, 1144, 1664, 486, 853, 845, 878, 836, 669, 924, 718, 950, 695, 666, 959, 443, 923, 689, 824, 980, 1198, 874, 513, 841, 822, 1211, 945, 553, 524, 864, 388, 975, 611, 901, 552, 648, 885, 890, 812, 895, 746, 925, 1105, 893, 1132, 1063, 977, 767, 529, 657, 831, 886, 788, 1427, 1051, 743, 837, 976, 1344, 723, 944, 857, 1170, 371, 2392, 696, 697, 869, 907, 389, 1034, 705, 629, 736, 789, 677, 417, 784, 881, 663, 466, 1142, 1037, 839, 734, 898, 440, 820, 882, 795, 805, 1043, 1334, 790, 1190, 988, 1008, 1030, 791, 737, 594, 963, 838, 1133, 1166, 550, 703, 1291, 688, 782, 1463, 615, 991, 1071, 1009, 1758, 797, 755, 1243, 897, 1325, 1073, 1078, 1213, 680, 1080, 1017, 978, 777, 774, 1225, 699, 1755, 1173, 1107, 833, 984, 1153, 832, 1024, 931, 939, 728, 894, 1084, 523, 1079, 955, 929, 879, 673, 1123, 1055, 1202, 938, 1258, 1311, 467, 814, 930, 948, 768, 843, 943, 676, 787, 994, 646, 1250, 1041, 684, 744, 719, 909, 1069, 952, 1022, 934, 1015, 720, 1049, 954, 859, 910, 700, 1074, 1089, 1904, 1138, 871, 779, 891, 1039, 1777, 781, 1201, 1157, 1047, 849, 883, 861, 745, 1000, 807, 1229, 1272, 785, 758, 827, 1276, 887, 1061, 1119, 1038, 591, 1889, 2625, 905, 2062, 1531, 825, 1148, 826, 1192, 817, 1140, 1458, 830, 1868, 998, 638, 1335, 650, 855, 503, 726, 763, 713, 966, 1598, 1780, 964, 722, 1279, 724, 1545, 815, 862, 922, 1599, 1088, 865, 1603, 1312, 1086, 1130, 951, 1020, 1099, 765, 735, 1526, 1224, 1032, 786, 1564, 1377, 1048, 691, 1329, 794, 1232, 908, 1068, 1152, 1104, 800, 1180, 1271, 986, 960, 761, 1013, 835, 1403, 1040, 1223, 1162, 1293, 920, 1169, 873, 896, 979, 1052, 965, 823, 1431, 1137, 567, 576, 1113, 858, 1102, 1075, 1888, 1159, 1368, 1184, 716, 1023, 1120, 1379, 1212, 1095, 1590, 1062, 1112, 1484, 647, 1673, 921, 1193, 1082, 927, 1185, 1045, 1455, 990, 997, 936, 538, 1195, 1349, 614, 1186, 1036, 1449, 961, 851, 1399, 1066, 809, 617, 707, 1707, 1087, 1356, 1182, 1058, 1561, 1516, 875, 1343, 635, 1509, 1479, 1135, 1513, 747, 1216, 1357, 541, 1830, 842, 918, 917, 1196, 900, 1204, 1745, 1203, 1124, 1011, 1221, 1046, 2160, 1354, 1177, 1273, 1006, 560, 1161, 1141, 1246, 889, 2305, 1076, 1179, 1057, 1151, 1239, 1101, 1507, 1234, 1233, 995, 1160, 1326, 947, 772, 1609, 1315, 957, 1146, 1122, 428, 1790, 899, 1342, 1327, 985, 671, 1287, 1064, 935, 1010, 1294, 1205, 1187, 993, 1371, 1289, 919, 565, 1809, 1424, 1093, 1375, 1631, 1751, 1280, 971, 1149, 1650, 1175, 1409, 1230, 932, 992, 1240, 1241, 1237, 1288, 1381, 1154, 1366, 1131, 1263, 3974, 868, 1265, 1143, 1355, 2004, 1299, 1209, 1231, 1016, 1323, 798, 1752, 1025, 1275, 1414, 1165, 1452, 1085, 1217, 652, 1019, 1226, 1210, 1100, 1031, 1155, 1504, 1194, 1320, 1369, 1470, 1584, 1536, 1486, 2199, 1281, 1018, 1247, 1044, 1274, 846, 1256, 1330, 1136, 613, 1546, 1340, 1260, 1622, 2214, 1208, 2051, 1215, 1301, 1495, 996, 1420, 1820, 1098, 1465, 1806, 1370, 1267, 1437, 880, 2472, 702, 1518, 2941, 1373, 1253, 1118, 970, 1053, 1097, 1353, 1304, 1388, 762, 1840, 1314, 1477, 740, 1611, 1552, 1244, 1620, 1054, 1944, 1480, 1033, 1264, 1398, 942, 1577, 1423, 1843, 916, 1167, 1302, 1637, 1236, 982, 1056, 1117, 1632, 1156, 1467, 1029, 1255, 1091, 1757, 1905, 1005, 1284, 1111, 1103, 1411, 949, 1506, 1163, 1318, 519, 1292, 1363, 1238, 1435, 974, 1070, 1741, 1305, 969, 1939, 1067, 1519, 1493, 1278, 902, 1447, 1682, 3221, 1385, 1501, 983, 1974, 1352, 1322, 1333, 1640, 999, 1384, 1290, 4554, 517, 1257, 1337, 1307, 1522, 1390, 1510, 1400, 757, 1497, 1589, 2913, 2144, 1324, 1090, 1695, 2029, 1498, 1775, 3307, 2109, 1425, 1242, 773, 1139, 2121, 1114, 2159, 1580, 1625, 1348, 2012, 1313, 1796, 1360, 1306, 1092, 1887, 1646, 1524, 2273, 1441, 2270, 1158, 1795, 811, 1977, 1915, 1338, 1262, 2259, 1364, 1629, 1556, 1769, 1548, 1402, 906, 1601, 1428, 1168, 1297, 1833, 2181, 1718, 1316, 1514, 1405, 1430, 1382, 1003, 1448, 937, 2533, 1451, 1181, 2394, 941, 1792, 2344, 1914, 1397, 1566, 914, 1587, 1766, 1538, 1544, 821, 1319, 1473, 1050, 1902, 1228, 2120, 2046, 1134, 1500, 1422, 1656, 872, 2685, 2733, 1183, 1490, 1517, 1395, 1671, 1206, 3425, 1816, 1489, 1708, 1720, 1527, 1508, 1713, 1693, 1627, 1649, 1462, 1174, 1700, 1574, 1393, 1803, 1530, 1644, 3320, 1525, 1555, 2065, 1446, 1634, 1259, 1002, 2317, 2422, 1482, 2887, 2154, 1946, 2073, 2783, 1432, 1125, 1376, 1396, 1308, 1222, 1339, 1472, 1658, 1764, 1251, 1641, 1563, 1623, 1367, 1655, 1004, 1767, 1749, 1692, 946, 1621, 1374, 2128, 2502, 2557, 956, 1562, 1515, 1200, 1747, 1317, 1235, 1880, 1419, 1387, 2048, 1523, 1676, 1583, 1188, 1612, 1171, 1678, 1684, 1734, 2187, 1687, 1285, 1454, 1341, 1776, 1438, 1890, 2027, 1635, 1770, 1533, 1436, 940, 1712, 1492, 1491, 1336, 1660, 1404, 1296, 1784, 2416, 1663, 1014, 2813, 1560, 1642, 1303, 1762, 1714, 1857, 2044, 1434, 2053, 1669, 1321, 1973, 2231, 1109, 928, 1679, 1626, 1760, 1176, 1572, 844, 1779, 1261, 1933, 1636, 1909, 1218, 1521, 7212, 1633, 2134, 2175, 1810, 1412, 1406, 1499, 1592, 1540, 1774, 1266, 1443, 1573, 1576, 2321, 1808, 2457, 1129, 903, 1309, 1059, 1771, 1512, 1503, 1249, 4124, 2575, 1993, 1643, 1298, 2294, 2071, 1378, 1691, 2014, 2133, 1657, 1511, 1347, 1979, 2215, 1807, 1917, 1653, 1892, 1746, 1916, 1619, 1550, 1413, 1975, 2124, 2136, 1528, 2184, 1870, 2223, 1361, 1677, 1962, 1872, 1487, 2362, 8743, 1392, 1418, 1853, 2173, 1690, 1401, 2063, 1270, 1254, 2008, 1618, 1733, 1727, 1350, 2269, 1694, 1966, 2629, 1077, 1934, 2689, 1551, 1345, 1951, 1859, 1391, 1408, 1686, 1474, 2022, 1665, 1630, 884, 1178, 2289, 1822, 1674, 1559, 1421, 3518, 1466, 1464, 1496, 1072, 1542, 1520, 1383, 1835, 1108, 1116, 1985, 2043, 1802, 1927, 1189, 1608, 1607, 1871, 1407, 2386, 1709, 3964, 2002, 1827, 2420, 1332, 1461, 1710, 1728, 1346, 1701, 3160, 1742, 1936, 2266, 1469, 1286, 1588, 2471, 2078, 2353, 2010, 4500, 1735, 1610, 1960, 2001, 1476, 1199, 1328, 1557, 3110, 1725, 1736, 1772, 1121, 2248, 1614, 1191, 6034, 1759, 1594, 586, 1220, 1722, 1850, 1534, 1585, 1586, 1937, 1675, 2496, 1110, 2125, 2163, 1763, 1575, 1597, 1719, 2633, 2105, 1818, 2592, 2508, 1844, 2028, 2442, 2229, 1854, 1471, 6030, 2659, 1899, 1999, 1605, 1026, 1667, 1639, 1565, 2247, 1782, 2843, 2504, 2618, 1697, 1416, 2330, 1351, 1935, 1440, 1591, 1012, 1800, 2135, 1799, 2084, 860, 1996, 1214, 1761, 2157, 1964, 1715, 1126, 1965, 1654, 3548, 1885, 2253, 2101, 1617, 2178, 2636, 1164, 1732, 2809, 2272, 1955, 1433, 1877, 1541, 2955, 1829, 2192, 1554, 1680, 2960, 2312, 2068, 2722, 2499, 2380, 1721, 1468, 1986, 1783, 1711, 1600, 2234, 2243, 2505, 1984, 1172, 1723, 1998, 2906, 1953, 1911, 2218, 2304, 1705, 1475, 1483, 1949, 764, 1845, 2998, 2190, 1968, 2113, 1295, 2415, 2318, 5224, 2019, 5563, 4007, 1812, 2143, 1717, 2213, 2146, 1891, 1460, 1874, 1744, 1849, 2188, 1606, 2460, 1863, 1781, 3343, 1838, 2578, 2367, 1604, 1570, 1754, 2017, 2332, 1662, 2291, 1943, 2690, 2119, 1543, 1811, 2316, 1928, 1724, 2033, 2011, 1456, 2545, 1426, 2369, 1879, 2167, 1982, 1798, 1804, 2718, 2576, 2866, 2328, 1450, 2474, 2356, 1901, 1547, 2909, 2236, 1283, 3059, 2020, 2376, 2696, 2668, 5184, 1819, 2372, 3264, 1924, 2488, 1578, 2307, 2287, 2081, 1245, 1895, 2100, 2227, 2700, 2182, 1567, 2058, 1945, 1683, 1989, 2664, 2069, 2145, 2094, 2599, 2049, 2277, 2115, 1971, 2055, 1823, 1941, 2209, 2018, 2411, 1801, 1785, 2203, 1981, 1882, 1696, 3593, 972, 2529, 3777, 1595, 1300, 2249, 1269, 1831, 1900, 1794, 4620, 2475, 2216, 1417, 2156, 2615, 2244, 2155, 1731, 1930, 1948, 2550, 694, 1494, 1929, 2393, 2477, 2425, 1836, 2176, 1706, 1457, 3153, 2080, 2194, 1743, 2086, 3498, 2142, 2284, 2534, 2103, 1978, 1227, 2097, 2549, 2374, 2546, 1756, 1817, 840, 1860, 2593, 2456, 1913, 1932, 2007, 1873, 2845, 1248, 2708, 2107, 2296, 2583, 2791, 1848, 2338, 3251, 2522, 2541, 2118, 2083, 2286, 1825, 1616, 2220, 1628, 1478, 2383, 1824, 2323, 2342, 1670, 2324, 3525, 1645, 876, 2212, 4482, 2138, 1415, 1867, 2516, 1765, 2707, 2563, 2470, 1787, 1753, 2501, 2197, 1908, 2310, 2382, 1365, 2757, 1532, 2979, 2672, 1842, 2314, 1896, 1994, 1826, 2085, 2981, 1866, 904, 2414, 2201, 1750, 1613, 2620, 2313, 1535, 2366, 2400, 4498, 3659, 1832, 2859, 2453, 1624, 2602, 2730, 2406, 1394, 2202, 1740, 1942, 2581, 2401, 1268, 3295, 2059, 2331, 2413, 2260, 3218, 2570, 2897, 2423, 3517, 1739, 2000, 3341, 2219, 1716, 2131, 2384, 2052, 2226, 2706, 3119, 5122, 1488, 2885, 2031, 2640, 2514, 1789, 1963, 2150, 3780, 2211, 2363, 3774, 2608, 1886, 2986, 2523, 2434, 5369, 4528, 1773, 2126, 1060, 2379, 1938, 2347, 1593, 2982, 2903, 2030, 10628, 1940, 1442, 2385, 1207, 2997, 2092, 987, 1828, 1439, 2285, 2745, 2346, 2079, 2742, 2352, 1689, 2098, 2732, 2300, 1666, 1990, 2016, 1310, 2172, 1894, 2351, 2303, 1922, 2090, 2036, 1858, 2853, 2584, 2261, 2723, 2397, 2452, 1505, 2531, 2208, 2056, 1726, 2276, 1976, 4127, 2687, 2553, 3088, 1958, 2619, 2225, 2450, 2037, 2559, 1596, 2164, 2698, 2335, 4108, 2494, 2567, 2373, 1539, 1219, 2555, 2752, 2509, 1921, 1992, 2377, 2005, 1786, 1995, 3575, 2281, 1793, 2180, 2837, 2417, 2246, 2009, 2994, 3594, 2600, 2510, 1878, 2455, 2537, 2217, 2396, 2702, 2336, 2491, 2586, 2170, 3051, 2669, 2511, 2169, 2495, 1841, 3053, 1991, 1571, 2189, 1648, 3770, 2819, 2264, 1702, 1884, 2492, 2329, 2820, 2391, 2378, 2579, 2274, 2839, 2589, 2478, 1537, 7430, 3768, 1277, 3040, 1730, 2939, 3013, 4161, 2337, 1197, 4611, 1967, 2025, 2862, 1410, 1961, 2454, 3309, 3996, 1602, 2775, 2306, 2152, 1893, 1876, 1813, 2888, 2293, 1851, 2256, 2426, 2683, 1821, 2015, 3758, 3347, 2409, 2165, 4377, 3340, 2206, 3090, 2810, 1681, 3035, 1861, 3255, 1814, 2196, 2108, 2339, 2484, 2114, 2697, 3084, 2500, 1920, 2047, 2077, 3134, 2106, 2245, 1638, 3041, 2222, 1569, 1485, 2334, 2110, 1615, 2675, 4696, 1737, 3828, 1910, 2679, 7895, 1912, 2013, 2023, 3039, 3805, 2869, 3368, 2693, 3445, 2655, 2482, 2774, 2388, 2466, 1898, 2297, 2237, 2141, 1846, 2221, 2462, 1956, 2198, 1558, 3351, 2161, 2168, 3142, 2953, 2695, 5367, 2179, 1947, 2588, 2676, 2481, 2656, 1918, 1429, 2736, 2166, 2449, 2076, 1926, 3033, 2920, 1972, 2446, 2204, 2387, 3421, 3185, 2768, 2309, 2355, 953, 4823, 1582, 2525, 2099, 2699, 2528, 2631, 2117, 2806, 2365, 1579, 2542, 3278, 3531, 2517, 2487, 3217, 2438, 1875, 2232, 2601, 2756, 3112, 3633, 1081, 2639, 3428, 3002, 2239, 1970, 2072, 2486, 7745, 2788, 1923, 2767, 3082, 2647, 2195, 2950, 2040, 2302, 2823, 4686, 2451, 2228, 2308, 1925, 2298, 2127, 2489, 1931, 2292, 2755, 2326, 2288, 3502, 2498, 2360, 2743, 2485, 2088, 2319, 2311, 3453, 1065, 1652, 3462, 4672, 2779, 2389, 2151, 1988, 2641, 2410, 2067, 2896, 2479, 1529, 1252, 4451, 2240, 2967, 3187, 3624, 2848, 2932, 1815, 2643, 2539, 2026, 4095, 2833, 1704, 2137, 2780, 2526, 2210, 2874, 5057, 1115, 2041, 2461, 2343, 2241, 2954, 3118, 2547, 2548, 2364, 3086, 2357, 1651, 2345, 2864, 2970, 2840, 3892, 2463, 2746, 3417, 3223, 2255, 7544, 3526, 1959, 3184, 3225, 2066, 2573, 2963, 2551, 1549, 2424, 3064, 3085, 1372, 3073, 3176, 2267, 3384, 2738, 2666, 2765, 3166, 4816, 2653, 2082, 2658, 3619, 8082, 3071, 3006, 1699, 2726, 3266, 3148, 2607, 3328, 2490, 3000, 3769, 2863, 2032, 4103, 2361, 2927, 2552, 1957, 3359, 2624, 3534, 2902, 2395, 2769, 1386, 2945, 3549, 3015, 2611, 2258, 1980, 2554, 2801, 2431, 2720, 1855, 2793, 2279, 2703, 2759, 3234, 2322, 3246, 2512, 3275, 3209, 2734, 4125, 2039, 3078, 3128, 2435, 3296, 1983, 2458, 3280, 2815, 2038, 2728, 3220, 2597, 2193, 2910, 2398, 3107, 2828, 2842, 3170, 2530, 2254, 3167, 2149, 2140, 3019, 2503, 2158, 3100, 3363, 3407, 2359, 2841, 2750, 2174, 2418, 2661, 2006, 2419, 3620, 2252, 2075, 2792, 3026, 3660, 2459, 3468, 3693, 2648, 2268, 3214, 2354, 3069, 3316, 2595, 2139, 4193, 2242, 2045, 2447, 2649, 3718, 1903, 3643, 3263, 2507, 1954, 2568, 3011, 2847, 3068, 2886, 2797, 1698, 2381, 2628, 3065, 4591, 2966, 3329, 3245, 2985, 2515, 2390, 2751, 2448, 3279, 2250, 5870, 3335, 2796, 2585, 1950, 3147, 3746, 2594, 2093, 2667, 2821, 2701, 4791, 3136, 2262, 2989, 3345, 3536, 4452, 2635, 2407, 2976, 2918, 3499, 2403, 2468, 3685, 3293, 2944, 3622, 2497, 2520, 2061, 3108, 2200, 3200, 3630, 2822, 2747, 2057, 5175, 2753, 1883, 3169, 2467, 2778, 3260, 1145, 3199, 2604, 2153, 3208, 2749, 2790, 2867, 2070, 3676, 2844, 4110, 3555, 3057, 3139, 3356, 1907, 3942, 2724, 2074, 1729, 3243, 2129, 4157, 2789, 2275, 2827, 2278, 2177, 1672, 2148, 1797, 2850, 2558, 2224, 3247, 2171, 2532, 4645, 2737, 3639, 2924, 3721, 1788, 3834, 2754, 2616, 2102, 2782, 4494, 3331, 1127, 2650, 3009, 4244, 4312, 3282, 2682, 1869, 3122, 2519, 2777, 4337, 3079, 4271, 3485, 4293, 1703, 4588, 1987, 2919, 2879, 2122, 2739, 2096, 3699, 1862, 3311, 2465, 4423, 2535, 2912, 3352, 3389, 3222, 2543, 3672, 4678, 3528, 3464, 1837, 2483, 2846, 3573, 4027, 3231, 3441, 4705, 3163, 2892, 1502, 3070, 3268, 2089, 3430, 2824, 6010, 1380, 3072, 2851, 3045, 2901, 3319, 4543, 4092, 3838, 3132, 2786, 2186, 2771, 3020, 2835, 3253, 2432, 3967, 7438, 3138, 5036, 3203, 2802, 2943, 3894, 5887, 6094, 2060, 2865, 3741, 2644, 3146, 3937, 3799, 2617, 2104, 3516, 2271, 2427, 1358, 2710, 6470, 2265, 3803, 2444, 3353, 2875, 3911, 2748, 4224, 1389, 3140, 2358, 6767, 2973, 4516, 2042, 2907, 2971, 2445, 2609, 3701, 2111, 3277, 3066, 2205, 2368, 3404, 3435, 2908, 3735, 3663, 3145, 4178, 3413, 3060, 2873, 1481, 2350, 2556, 2744, 3798, 2858, 3143, 2673, 2651, 3177, 2571, 2327, 3010, 2524, 2439, 4083, 2325, 2301, 3271, 4145, 1035, 3261, 3551, 3115, 3577, 3171, 3001, 3135, 3583, 2975, 2566, 2735, 6129, 2691, 3981, 5332, 2405, 3813, 2889, 2596, 3764, 1805, 2959, 2621, 2895, 4064, 2112, 2565, 3868, 1997, 2731, 3908, 3324, 3008, 1839, 4288, 2280, 2881, 2185, 3046, 3240, 3233, 3714, 4179, 2884, 3800, 3495, 4370, 2860, 2132, 3500, 3049, 2999, 2569, 2147, 4601, 5856, 3856, 1778, 2830, 2849, 2540, 3382, 3004, 3972, 3149, 4003, 3472, 3044, 1445, 3201, 3095, 3141, 3854, 2283, 4281, 3392, 3473, 3186, 2230, 4347, 3576, 5098, 3031, 2518, 3587, 3629, 3327, 3077, 3431, 3408, 6754, 2333, 4438, 1748, 2574, 3043, 2634, 3579, 2402, 2630, 3161, 4160, 4096, 2705, 2295, 2811, 4860, 2923, 3778, 3665, 3097, 4015, 3844, 1668, 3190, 3833, 2469, 3137, 3028, 2725, 2437, 4151, 2942, 5623, 3618, 3005, 1331, 2162, 3415, 3042, 2727, 4501, 3337, 2626, 2876, 3284, 3904, 4238, 2916, 3483, 2871, 2949, 3492, 3651, 3691, 3198, 2905, 3706, 3021, 3273, 1738, 2412, 4535, 2348, 3976, 3958, 2729, 5080, 2925, 2436, 2238, 3105, 6312, 3811, 2684, 3719, 2962, 3332, 2054, 3449, 3901, 3326, 2704, 3912, 12502, 4361, 2521, 2598, 3310, 2741, 3638, 2794, 3783, 3744, 3953, 4508, 4025, 2996, 3602, 3366, 3103, 4714, 10198, 3150, 3318, 2429, 3739, 2614, 3349, 3458, 3212, 3542, 2984, 3151, 2034, 2894, 3227, 3962, 4175, 3921, 3030, 2233, 2371, 3796, 1969, 3101, 3238, 1865, 2993, 3727, 2480, 2935, 3228, 3438, 11229, 3670, 3490, 2638, 2428, 3330, 3969, 7339, 2784, 2826, 3175, 5236, 7381, 3192, 2235, 3530, 2582, 2251, 3267, 3034, 6385, 2800, 2980, 2808, 3116, 3047, 3397, 4989, 4065, 2538, 3851, 1568, 3022, 3096, 4673, 4802, 2868, 3285, 3338, 3890, 2872, 4437, 3202, 4156, 3661, 3399, 2207, 4153, 3861, 1453, 2817, 4336, 3412, 3999, 2606, 1919, 3580, 3394, 3480, 3172, 3393, 4343, 2904, 3917, 4442, 3869, 2627, 3242, 3239, 3653, 3954, 2766, 3595, 3091, 4727, 2990, 3504, 2623, 4746, 3117, 3188, 4026, 3129, 2561, 3179, 2580, 1952, 2674, 3437, 4393, 3707, 2760, 3941, 3605, 2408, 3286, 2805, 3505, 3381, 5360, 6592, 4459, 2772, 3560, 3635, 3168, 3448, 11333, 2021, 3378, 3067, 10548, 3723, 2692, 7236, 3174, 3523, 3849, 3789, 2688, 3641, 2714, 3715, 2880, 3773, 3757, 3621, 2717, 2937, 3566, 3493, 2852, 3048, 10095, 3109, 3489, 3682, 3300, 3501, 3910, 4182, 3916, 4408, 3158, 2992, 3475, 3377, 8650, 3524, 3364, 3306, 3131, 3443, 4953, 2678, 7546, 3194, 3821, 3211, 4186, 3102, 2832, 4724, 4097, 3628, 3099, 2610, 3250, 4235, 4230, 2988, 3125, 3180, 1906, 8637, 3289, 4080, 2740, 4208, 2900, 3403, 3322, 5109, 3875, 3181, 3451, 4131, 4665, 4249, 3165, 4844, 4041, 3863, 3061, 3466, 6942, 3662, 3647, 3585, 4207, 3668, 3529, 6521, 4060, 3346, 3018, 2613, 3058, 3822, 2349, 2834, 2263, 3183, 4346, 3679, 3226, 3864, 4043, 3204, 4058, 2969, 2776, 3416, 4117, 4443, 2257, 2493, 3121, 3106, 3533, 3361, 3288, 3725, 5509, 3276, 3236, 3527, 5307, 3410, 5263, 4429, 3007, 4050, 3401, 3506, 3098, 5309, 3652, 3294, 6519, 3422, 2421, 3308, 3050, 3258, 4101, 4957, 2836, 2938, 3398, 3700, 3597, 10343, 4999, 3494, 2987, 5607, 3790, 3348, 2572, 3732, 4133, 3565, 2838, 3252, 3513, 3812, 4432, 3794, 2882, 4052, 4728, 3023, 3291, 3457, 4325, 3637, 2191, 3617, 4086, 4290, 3957, 3487, 4183, 4380, 2804, 2315, 4717, 3697, 1553, 2320, 3463, 4128, 2854, 3482, 4807, 3182, 3836, 3793, 3390, 3604, 3496, 2560, 7651, 3144, 4574, 4375, 3598, 4150, 3089, 4805, 3052, 2646, 3325, 2929, 4532, 1852, 3709, 2770, 3514, 3354, 3615, 2952, 4221, 3879, 4861, 3248, 3126, 4245, 2914, 5642, 3878, 5396, 4976, 4556, 2974, 4082, 3063, 3963, 3290, 2632, 3982, 3600, 3156, 3012, 3195, 3216, 4879, 4203, 3762, 3710, 3824, 1847, 4099, 4810, 3436, 3024, 4000, 3649, 4191, 3940, 4106, 6078, 3771, 4874, 3728, 4141, 4328, 5325, 4814, 3656, 3608, 3196, 3509, 4641, 4228, 2716, 2940, 1688, 3370, 3975, 3561, 3726, 2577, 4143, 3613, 4400, 4544, 3765, 3016, 5572, 4913, 3968, 5402, 2855, 3292, 3094, 2663, 4011, 3062, 5632, 2654, 4093, 4895, 2290, 4139, 3380, 3926, 2116, 3274, 2003, 4613, 2605, 3230, 4340, 4217, 3444, 4056, 3025, 3932, 3162, 4659, 4471, 4227, 3787, 3874, 2645, 3559, 7960, 4409, 3795, 4035, 3450, 3113, 2506, 4720, 3157, 4055, 1791, 4863, 5095, 2883, 5564, 1459, 2536, 3609, 3541, 4020, 3636, 3127, 4165, 4786, 5211, 2829, 2590, 4010, 3858, 2763, 1661, 3152, 3829, 3681, 2587, 4148, 4100, 4582, 3852, 4116, 1282, 10012, 3740, 3471, 4331, 3557, 5323, 3896, 2464, 3779, 3696, 2637, 5085, 3155, 3419, 3720, 3396, 5251, 4406, 2441, 3383, 2370, 4036, 2340, 5141, 7310, 3081, 2831, 3830, 3299, 2562, 7819, 4089, 2957, 3738, 3632, 3684, 2341, 3123, 4731, 3454, 4622, 4024, 4220, 3897, 5136, 4042, 3847, 3388, 4627, 4226, 3544, 4049, 3055, 3124, 5797, 5424, 4037, 4527, 4137, 3809, 3164, 3698, 4292, 3302, 3193, 3553, 3865, 2399, 2951, 4222, 4073, 3950, 3960, 3596, 3465, 3270, 3654, 2968, 4669, 6597, 3947, 3369, 2719, 3130, 5450, 3439, 2564, 4973, 2917, 3355, 6174, 3736, 2544, 5772, 4870, 3304, 6161, 6837, 4411, 3640, 4004, 3756, 2807, 2961, 3244, 2948, 2591, 2933, 3952, 5398, 8480, 2921, 4697, 3754, 3797, 3760, 4094, 4542, 3898, 5345, 5144, 4414, 4776, 4005, 3235, 3358, 3872, 4555, 3014, 4695, 2890, 3891, 4219, 2978, 3056, 3488, 2660, 4593, 5533, 3114, 6003, 3827, 4384, 2818, 3423, 4163, 4002, 9140, 3626, 2375, 3314, 7111, 3850, 2870, 10921, 2762, 4155, 2299, 4908, 3664, 2928, 3785, 3386, 5143, 3601, 3510, 4523, 4304, 3111, 3650, 4294, 12917, 2983, 3733, 1096, 3297, 3434, 3520, 4700, 3385, 3093, 3550, 2878, 5264, 2915, 4296, 3859, 4638, 5432, 4792, 3215, 3782, 2715, 5522, 4012, 3882, 3315, 4063, 2958, 4242, 3376, 4486, 3362, 4907, 4410, 3420, 4749, 5053, 4962, 2642, 4309, 4506, 3481, 5280, 5043, 4632, 3092, 3229, 5935, 6254, 4566, 4515, 3539, 3241, 2433, 2931, 4283, 3893, 1444, 5013, 4710, 4517, 3686, 4698, 4225, 3646, 4412, 6822, 3788, 3254, 4211, 4205, 4980, 4587, 4995, 5462, 3750, 3826, 2785, 4154, 4666, 8101, 4195, 4104, 4204, 4775, 7269, 6603, 3671, 3945, 4808, 3339, 3692, 4484, 3841, 4234, 3207, 3588, 4273, 4263, 4362, 4162, 2657, 5089, 3265, 3479, 6288, 3317, 4483, 5898, 3508, 4713, 4795, 4531, 3716, 4448, 3379, 3804, 5512, 3899, 4660, 3979, 4571, 4196, 2513, 4371, 3076, 6043, 5566, 4091, 3933, 4255, 4059, 3784, 4540, 3554, 4467, 3722, 4819, 4539, 3360, 4317, 3657, 3083, 2665, 4387, 4031, 4256, 3159, 5698, 4206, 2087, 4788, 3535, 4345, 3237, 5161, 3281, 3986, 4606, 6245, 4383, 5256, 2926, 5176, 7924, 7841, 3923, 3432, 7086, 3374, 4334, 4445, 4567, 4803, 4800, 2922, 3511, 4274, 5781, 4279, 6395, 2812, 5324, 3344, 1647, 2947, 4033, 4303, 3880, 3189, 4075, 3606, 3256, 3825, 4473, 3690, 4322, 3614, 5804, 4548, 3305, 4098, 5380, 5037, 4981, 5370, 5237, 3532, 4683, 3625, 4307, 5271, 4781, 4070, 4509, 3876, 4524, 5857, 6284, 4754, 3658, 4685, 7041, 2282, 3623, 3734, 3913, 4534, 3925, 4745, 7939, 2825, 4773, 5250, 4236, 7793, 4737, 2662, 4449, 5619, 5373, 3491, 5364, 7825, 3367, 5168, 5170, 2709, 3409, 5636, 3249, 6200, 4038, 4730, 3607, 4311, 4942, 4441, 4722, 5628, 3287, 5239, 2991, 3801, 6081, 3688, 3946, 2652, 3888, 2964, 3336, 4883, 3655, 4955, 4766, 4085, 3387, 10072, 4341, 7798, 4785, 4306, 3584, 4349, 4579, 5047, 4549, 2946, 5796, 2972, 2781, 3717, 6830, 3574, 4875, 3375, 3644, 3426, 4625, 4624, 4690, 3687, 4691, 5185, 4502, 4187, 4301, 4904, 2671, 3429, 5208, 4840, 2670, 4051, 4569, 5012, 3905, 4009, 3627, 4109, 14146, 4152, 3507, 3515, 4339, 3556, 6294, 3832, 4013, 5200, 4032, 4436, 4246, 4257, 2877, 6829, 3900, 3032, 5448, 5058, 3678, 1083, 3269, 5503, 4261, 4168, 5735, 4562, 4313, 4768, 3599, 4166, 5356, 4529, 3074, 3478, 3871, 5160, 3591, 3895, 5498, 3205, 4917, 5366, 2713, 5223, 3695, 7727, 3405, 6007, 3920, 5000, 4642, 4680, 3519, 12007, 4344, 5290, 3054, 4118, 3259, 4847, 4715, 3704, 5741, 2995, 3737, 2911, 4774, 4181, 5352, 4739, 3985, 4865, 4057, 4447, 3927, 2443, 5284, 7406, 4427, 3470, 4619, 3978, 4369, 4223, 6063, 4017, 4146, 5940, 5505, 4314, 3807, 4147, 4014, 2091, 4681, 3752, 5421, 3642, 5712, 4829, 3365, 5724, 3477, 4510, 3427, 5027, 4996, 5039, 4200, 4497, 4251, 3645, 4882, 5355, 4348, 4833, 5333, 3567, 3667, 4190, 3191, 8093, 3460, 4159, 4130, 5162, 3755, 7153, 3391, 6156, 5873, 4575, 4595, 4356, 4320, 4231, 2773, 4886, 4633, 5639, 3027, 4184, 4300, 8207, 5275, 4446, 3998, 5863, 5334, 3538, 3730, 4599, 6402, 5530, 4984, 8313, 5010, 4138, 3414, 3729, 4232, 5050, 5150, 4811, 3452, 4744, 6477, 5955, 3914, 4779, 5177, 4742, 5054, 3751, 6761, 3988, 3995, 4721, 3173, 2123, 4074, 4297, 2761, 3831, 4113, 5096, 4644, 4545, 3862, 5127, 3545, 3547, 3581, 4144, 1768, 6109, 2612, 4201, 5246, 3731, 4298, 5604, 5245, 4062, 7106, 4818, 4066, 5301, 4476, 4135, 4521, 7431, 4285, 3592, 4903, 6264, 5810, 6875, 4415, 3003, 3669, 4824, 4338, 4120, 4594, 3303, 4202, 5458, 5351, 5029, 5848, 3210, 5266, 4364, 4511, 4213, 3224, 4614, 4332, 4526, 5377, 4350, 4030, 3781, 6214, 6332, 4254, 6208, 4629, 4299, 4359, 5158, 5538, 4760, 3313, 5270, 3400, 4658, 4965, 3761, 3232, 4376, 6375, 3922, 4372, 5760, 7032, 5939, 3855, 13770, 4667, 3666, 4598, 3017, 4489, 5576, 3991, 3763, 5298, 4938, 5474, 3742, 3810, 5594, 4431, 5126, 4848, 5404, 4621, 4069, 4416, 5591, 5532, 6191, 7175, 5680, 6802, 4198, 4324, 4475, 5004, 4047, 4926, 4827, 5117, 4078, 3433, 3680, 3806, 6735, 5620, 7765, 4701, 3455, 1581, 2934, 2891, 4172, 5886, 5240, 6946, 4793, 5539, 6841, 5436, 4846, 4326, 3938, 3402, 3257, 5578, 3120, 4935, 3842, 5517, 3503, 4357, 6036, 5045, 2050, 5145, 4275, 4889, 7034, 3705, 4663, 5905, 5340, 4006, 3886, 2095, 4421, 6640, 4919, 3467, 5285, 5152, 4630, 5823, 3943, 4770, 4289, 6367, 4474, 4959, 4505, 3675, 4541, 7423, 4765, 5951, 4764, 7092, 3461, 4876, 4398, 3029, 10532, 9066, 3867, 4171, 3959, 6333, 4465, 4856, 7013, 6611, 5129, 3213, 3333, 4753, 5987, 5691, 2476, 5210, 6335, 3840, 7762, 4018, 4522, 4269, 5322, 5372, 7035, 4422, 5574, 4276, 4576, 4930, 4084, 5023, 4468, 4689, 5294, 4820, 3819, 4488, 5945, 7327, 5667, 2899, 3586, 4578, 5009, 4706, 3708, 4568, 4330, 5710, 4405, 4318, 2936, 3987, 4478, 5523, 4842, 3703, 5389, 4189, 7989, 5962, 4391, 4123, 4771, 5590, 12617, 4961, 4897, 3543, 3915, 4755, 3677, 5278, 5030, 4950, 3564, 5056, 5110, 4481, 4149, 4167, 4723, 2404, 4379, 7231, 5469, 4947, 6895, 5478, 5055, 8953, 4434, 3993, 5600, 6266, 17967, 5983, 4216, 4229, 3712, 5088, 3966, 4430, 4596, 4333, 6994, 8956, 4114, 4893, 4600, 3312, 4761, 5071, 3512, 6031, 5627, 6739, 5716, 7655, 5220, 5134, 5119, 4871, 8859, 4670, 4071, 4954, 6360, 4702, 4480, 9670, 3603, 4353, 5868, 6799, 5035, 4112, 4726, 5471, 3939, 3219, 6958, 5316, 8367, 4971, 5114, 5293, 6058, 3484, 6608, 4592, 4029, 4855, 5654, 4825, 4008, 5383, 11356, 4215, 6307, 4134, 5295, 5051, 4028, 5060, 4039, 4399, 4270, 4282, 5335, 5841, 3442, 6963, 5291, 4914, 4647, 6445, 5198, 4648, 3759, 5460, 5008, 4703, 1659, 4426, 6627, 4547, 7702, 5191, 5346, 4958, 5011, 3459, 4504, 3973, 5981, 5154, 3321, 5907, 4034, 4418, 4240, 5007, 4395, 4837, 3323, 5362, 4736, 4798, 4385, 5215, 5629, 4366, 3918, 5687, 4992, 14710, 6448, 9102, 5896, 4111, 3924, 4607, 5444, 4602, 5451, 5148, 5711, 4612, 4585, 5542, 9863, 5231, 6526, 6148, 5171, 3582, 3885, 4072, 4214, 8228, 7230, 4022, 4972, 3843, 4266, 2787, 3206, 8516, 4966, 4557, 4316, 5589, 4537, 6821, 5736, 7300, 3971, 5871, 3928, 8974, 5121, 5470, 5879, 5965, 4492, 6437, 3373, 5635, 9696, 3272, 6017, 4888, 4287, 8535, 5901, 6974, 4741, 4392, 3749, 5072, 5374, 5812, 4894, 4580, 2857, 4386, 6141, 4329, 5802, 5906, 5115, 3080, 5103, 4885, 4750, 5850, 3631, 1897, 4355, 4891, 4021, 5613, 7837, 3197, 6115, 4046, 3563, 6502, 6319, 5354, 3713, 4709, 4609, 4682, 5999, 5944, 6736, 5248, 5722, 4584, 5656, 4748, 5420, 5213, 3262, 6057, 7961, 5031, 5757, 6835, 5261, 5087, 6201, 4342, 3948, 3907, 5621, 4900, 5137, 6429, 5341, 4752, 5123, 10325, 7069, 4778, 4589, 6083, 9100, 5468, 5984, 4931, 2035, 6430, 5025, 5331, 4237, 5573, 5463, 5164, 3949, 4849, 6070, 4457, 5120, 4763, 5005, 5679, 4794, 5516, 4397, 4940, 6039, 3990, 5403, 3889, 6379, 5084, 5531, 4496, 5644, 5557, 4388, 2965, 6006, 4859, 5394, 4626, 3857, 5288, 5217, 6525, 4267, 2603, 5166, 6033, 3767, 3568, 6461, 3357, 4687, 2677, 4469, 4718, 2893, 13345, 6498, 5375, 5846, 3909, 4628, 4493, 4963, 4265, 6425, 4877, 5417, 4733, 7311, 5149, 4946, 2473, 6188, 5336, 10539, 6706, 3036, 6285, 4188, 5156, 3371, 5519, 2711, 4558, 5708, 8620, 5777, 6823, 3776, 4044, 5678, 5696, 6016, 5026, 9688, 6413, 5671, 5511, 7316, 5608, 7017, 5752, 6961, 6082, 4389, 4649, 5903, 4248, 6442, 5537, 5411, 4796, 3814, 5543, 2861, 4864, 3935, 5296, 6896, 2814, 6938, 3906, 9298, 4381, 5032, 5612, 6860, 6313, 4433, 4822, 5034, 3562, 5100, 5485, 6011, 4866, 6069, 4699, 5434, 6276, 6403, 5227, 7331, 5260, 4603, 6175, 5205, 3634, 7662, 4132, 4712, 5793, 5128, 9795, 4378, 4454, 3884, 5789, 4233, 7190, 5780, 6277, 3839, 6705, 6299, 1864, 5994, 5888, 6440, 6140, 5609, 3881, 3848, 6677, 5046, 5113, 3411, 4694, 5393, 3497, 6899, 7192, 7312, 4839, 3476, 5649, 5482, 4936, 6740, 4453, 4390, 5688, 4872, 6212, 4605, 5614, 4194, 4821, 5254, 5577, 5489, 4239, 5428, 4952, 7091, 5807, 6806, 8339, 5081, 3866, 6209, 4479, 5923, 5860, 6020, 4799, 5534, 4740, 6239, 4892, 5104, 8358, 6520, 4668, 4928, 4136, 6497, 7746, 4455, 5559, 5484, 5816, 3944, 5829, 4635, 4552, 8246, 5059, 3301, 3521, 4570, 5497, 4323, 4040, 8054, 5615, 4937, 4396, 3965, 5157, 11533, 6137, 5016, 3775, 4485, 4477, 6615, 8780, 5206, 5668, 3815, 6552, 3955, 7748, 4890, 4836, 4373, 4881, 4832, 5599, 4352, 4769, 3610, 6289, 6918, 5579, 5313, 6210, 4956, 3989, 6831, 6383, 6193, 7698, 8601, 3823, 5674, 5178, 4513, 5959, 8855, 5529, 5416, 5097, 5315, 6977, 3612, 4862, 9158, 7494, 21292, 4001, 6227, 4382, 9317, 6712, 5518, 4901, 5766, 4278, 4838, 6400, 5652, 6858, 5423, 4924, 5618, 3791, 6354, 5858, 4077, 5763, 8589, 4590, 4646, 5814, 12259, 5300, 6674, 8059, 8291, 7277, 6945, 5827, 6331, 5473, 7495, 5437, 9536, 3961, 3724, 6186, 2956, 4212, 4729, 4280, 4830, 4419, 6671, 5214, 4850, 4835, 5281, 6727, 3572, 5302, 5817, 5864, 5730, 4176, 5881, 5440, 8617, 6493, 7090, 7524, 8040, 6021, 5105, 9483, 5268, 5241, 10089, 3447, 3648, 3745, 5075, 4747, 5925, 5683, 6234, 5441, 5399, 5188, 4169, 4461, 3590, 5002, 3766, 6441, 6164, 7031, 6162, 6959, 8020, 7681, 5753, 6314, 4559, 4688, 6394, 4910, 4887, 6166, 5775, 5849, 5960, 8096, 5252, 6037, 8820, 5153, 4243, 5257, 4016, 3372, 4536, 9101, 4209, 6190, 9616, 3802, 6755, 2764, 7689, 5567, 5174, 4087, 4978, 6604, 5840, 5878, 3486, 6022, 5499, 6211, 7002, 6283, 6040, 5283, 5677, 8404, 4911, 4403, 3424, 3860, 5834, 5319, 6087, 8242, 2527, 5852, 5180, 7839, 6105, 5024, 9492, 9609, 5919, 5397, 5934, 3846, 5365, 5147, 33109, 3589, 4260, 5900, 3997, 6147, 5216, 7200, 6029, 10353, 5159, 4657, 5570, 5611, 5695, 8025, 5597, 6357, 4129, 4572, 5663, 6387, 7514, 5926, 6348, 5368, 6855, 6840, 4676, 4869, 5655, 5909, 6996, 5595, 6146, 8222, 5605, 6682, 6793, 4986, 6179, 5653, 6382, 5014, 4918, 6481, 4735, 5510, 6880, 6263, 15044, 5592, 4404, 8571, 4054, 6537, 4374, 5347, 5183, 4707, 7455, 6482, 8092, 5822, 6226, 8500, 6516, 6651, 6989, 4637, 5721, 5187, 7469, 11785, 8028, 5598, 5439, 3883, 4834, 7107, 5975, 4634, 5701, 11543, 5308, 7234, 8401, 5388, 4561, 4998, 5747, 5410, 5091, 6028, 6458, 5197, 5232, 6697, 4264, 2721, 5090, 4487, 4762, 6563, 4417, 6416, 5666, 7088, 4867, 5459, 8350, 9745, 5845, 4616, 5292, 5805, 5358, 8288, 5038, 4964, 6278, 9337, 6038, 4241, 4845, 6688, 6623, 5704, 5318, 7542, 13000, 15075, 4546, 7912, 6784, 5839, 11278, 5798, 5737, 5048, 5243, 5833, 4851, 6102, 4974, 6311, 6805, 9750, 5310, 5101, 5044, 5885, 8049, 6637, 6574, 6108, 5452, 2183, 5631, 4295, 6478, 8161, 6064, 7197, 6460, 4560, 16298, 6457, 9999, 5326, 4090, 3817, 4402, 5328, 4922, 6820, 5651, 5782, 7744, 4817, 6306, 7379, 9642, 7477, 4164, 7209, 5006, 4751, 5626, 7147, 4173, 6678, 5125, 6114, 5419, 5690, 3743, 5040, 5496, 4464, 3934, 5493, 5751, 4512, 5348, 5422, 5457, 4923, 5412, 4210, 15452, 6833, 4115, 15613, 3930, 4327, 5911, 6300, 9820, 4684, 3540, 4425, 4664, 3835, 6476, 4067, 5727, 4692, 5022, 6667, 7610, 3977, 7444, 5862, 6715, 4518, 5548, 4121, 6897, 4272, 6485, 7028, 6978, 5049, 15746, 14855, 5899, 7262, 5464, 4873, 5447, 7735, 5073, 5832, 6088, 4503, 6374, 6734, 11184, 5279, 7145, 3786, 5676, 6265, 6145, 5074, 7442, 5876, 4499, 4674, 6310, 4520, 7826, 5658, 5897, 4969, 5917, 6295, 8462, 5078, 1834, 4939, 6865, 4107, 4491, 4854, 5985, 4583, 8131, 7252, 5755, 5320, 7474, 5774, 8493, 5953, 5479, 6359, 7100, 8828, 4826, 2622, 4643, 6567, 6664, 7242, 19842, 5799, 4458, 4076, 4656, 5277, 4360, 4199, 5363, 5222, 5982, 6153, 5831, 5743, 5844, 8715, 5697, 5219, 5384, 7307, 5455, 5253, 5686, 5912, 6847, 5099, 4538, 3877, 6386, 5526, 6535, 3456, 6750, 5151, 4868, 5475, 6575, 6171, 7979, 7552, 8270, 6846, 4610, 6572, 6135, 8373, 6484, 10218, 9142, 3104, 5924, 6471, 5342, 2898, 8693, 5433, 5601, 2064, 5707, 6549, 6427, 7488, 8226, 5938, 6250, 6933, 8403, 5371, 5968, 10728, 19581, 4310, 6578, 6393, 5062, 5226, 4898, 9000, 5851, 19896, 6051, 2712, 22664, 6376, 7475, 6124, 6026, 13091, 9475, 3446, 3853, 5269, 7473, 4983, 3673, 8482, 4321, 5017, 7639, 4993, 6851, 7792, 4514, 4757, 7408, 4597, 6233, 5486, 7970, 5536, 6410, 12506, 7170, 15793, 6591, 6143, 5855, 7257, 6800, 7881, 4608, 5714, 5445, 5438, 5385, 5795, 5954, 6693, 5988, 4615, 5321, 8060, 4933, 5131, 5617, 5507, 6681, 6177, 9648, 2686, 7891, 6505, 5265, 5238, 7348, 6249, 5378, 4581, 3674, 7256, 3931, 6252, 2680, 5665, 7968, 5108, 5648, 4126, 4960, 4636, 6273, 5304, 6628, 7083, 13397, 6992, 6281, 5140, 3702, 6287, 6924, 7263, 10716, 6560, 7113, 6089, 6090, 9550, 5386, 4902, 6100, 5376, 5229, 7357, 7235, 20697, 6614, 6423, 4192, 7361, 9869, 5809, 5843, 12100, 5106, 6123, 5524, 5547, 6503, 6202, 4197, 5093, 5908, 5167, 5233, 18381, 4693, 6446, 6221, 7152, 6738, 7712, 8863, 6046, 6352, 6067, 5787, 6648, 7391, 7024, 6133, 7770, 6489, 6286, 5408, 5442, 6701, 4258, 5449, 9422, 10991, 8250, 4247, 4909, 7193, 5491, 4921, 5052, 12031, 6364, 6092, 6557, 5138, 6811, 9121, 5801, 4878, 6689, 6625, 5521, 7191, 4968, 6774, 4079, 5800, 4564, 7173, 5207, 5199, 7102, 5936, 3683, 7027, 5694, 8673, 6298, 6262, 6904, 2799, 7015, 5552, 9938, 6834, 6522, 6131, 7925, 7701, 6741, 6219, 6751, 4812, 4639, 4618, 5179, 6317, 4654, 6194, 6172, 4671, 5297, 7621, 6269, 5508, 5684, 6527, 5118, 4841, 8484, 2681, 5228, 6669, 2440, 4880, 8927, 6844, 7937, 4925, 15521, 8551, 6982, 7278, 7221, 7400, 4734, 5825, 9404, 5582, 6303, 4551, 4899, 4413, 6488, 5194, 7038, 5092, 6646, 5425, 7780, 5196, 6242, 6215, 5786, 5826, 4951, 5350, 4577, 5142, 4853, 4122, 6987, 4777, 5731, 6019, 6780, 2795, 6504, 6726, 4780, 5569, 4460, 4790, 7303, 6404, 5664, 6529, 4262, 5494, 7788, 5193, 8392, 19473, 6941, 6508, 7030, 5765, 3552, 5894, 5111, 6433, 12167, 5311, 6342, 8519, 6358, 7255, 7240, 7440, 5446, 5875, 5640, 5359, 5195, 5192, 4563, 5937, 12214, 7289, 7355, 8311, 6237, 8303, 5930, 8676, 6112, 7199, 8710, 9978, 6819, 4519, 5465, 5761, 7150, 3537, 8369, 4949, 5806, 6378, 8572, 5133, 6584, 5880, 8346, 4367, 5990, 9838, 6787, 7929, 7249, 6596, 5259, 5821, 5272, 6765, 5818, 8056, 12350, 6683, 10882, 5028, 7154, 3283, 6546, 6912, 5581, 6293, 6972, 5540, 8247, 5838, 4711, 8370, 5748, 6025, 5273, 5977, 5932, 6732, 6347, 3418, 9143, 8073, 6901, 5746, 6002, 6369, 8607, 5669, 5330, 6985, 6647, 3951, 8385, 5586, 7383, 5803, 4525, 12715, 5861, 6390, 8115, 5067, 9217, 7717, 7729, 4180, 5892, 7998, 5952, 7404, 5740, 7299, 6944, 5739, 5454, 6708, 15389, 5189, 7258, 8505, 7012, 3558, 9604, 5544, 6558, 9171, 5303, 3820, 5306, 7293, 4979, 10473, 5426, 6417, 5221, 4677, 7952, 7239, 5943, 6976, 6490, 9773, 5443, 6389, 5405, 5218, 4435, 7216, 6260, 25197, 8981, 7284, 5400, 4456, 10489, 4174, 7921, 6873, 4420, 5969, 7131, 5853, 5163, 6864, 7356, 5146, 8449, 6315, 6771, 10088, 6797, 2130, 6001, 7537, 6483, 4927, 5874, 5513, 14454, 5791, 9749, 3870, 6659, 8695, 8923, 13829, 4368, 6093, 14153, 7275, 6350, 3689, 5172, 6707, 6658, 11248, 7620, 6777, 5835, 6773, 7501, 5971, 13894, 8121, 6598, 5041, 4906, 8588, 7296, 3570, 5431, 4252, 6075, 3919, 4738, 5703, 5915, 6076, 8722, 7232, 6515, 6041, 7273, 9235, 5637, 4553, 4218, 6909, 6270, 8004, 4363, 6203, 11089, 5116, 4857, 6027, 4253, 6073, 5225, 4023, 6127, 6415, 4495, 7043, 4675, 6454, 8410, 3970, 7847, 9416, 6957, 7081, 4463, 6501, 6305, 5699, 5921, 4929, 5381, 8698, 6616, 5495, 6240, 8509, 7976, 5738, 15581, 5717, 8332, 6408, 6713, 6660, 9320, 4784, 7637, 12616, 7930, 4365, 6421, 6544, 6407, 7250, 6455, 6176, 4650, 8548, 6377, 7538, 5610, 8014, 7213, 8245, 5718, 8429, 4982, 5622, 5770, 9699, 6818, 5662, 9858, 6769, 9262, 5733, 7025, 7897, 5554, 4573, 7346, 6256, 7490, 6817, 9169, 7432, 5750, 6371, 8830, 17598, 6370, 7579, 8194, 6565, 5913, 4991, 5682, 7214, 6650, 6391, 6486, 5815, 8271, 11958, 7799, 5065, 7660, 4985, 7749, 6126, 6696, 7504, 6099, 6238, 6861, 6639, 6247, 7771, 6244, 5305, 7287, 8036, 7561, 7987, 5606, 6216, 4466, 6168, 14392, 4565, 4679, 7402, 6222, 7115, 6134, 7363, 7056, 6241, 4053, 7545, 5068, 7470, 7319, 6492, 9233, 6722, 5867, 7516, 6719, 7136, 9886, 8552, 7804, 3395, 6645, 6163, 5349, 5020, 7077, 7317, 6539, 8946, 7322, 6110, 5893, 4407, 7757, 3903, 3571, 6487, 7290, 7708, 9067, 6320, 5808, 8924, 6414, 7618, 7335, 6543, 6337, 6344, 9513, 5869, 7551, 6921, 5018, 4170, 6569, 6491, 6059, 7112, 8108, 5230, 8229, 7597, 5588, 8692, 7991, 7658, 6151, 8032, 5481, 6570, 5247, 5726, 5836, 5571, 8420, 5357, 5993, 5616, 4945, 6257, 2024, 12266, 6345, 4661, 5407, 14649, 4286, 6511, 5427, 3406, 5624, 2977, 4884, 7648, 8135, 6084, 6334, 6132, 8053, 6138, 8741, 8354, 7656, 5182, 6742, 16354, 6053, 5575, 7349, 7144, 6509, 7130, 5964, 4716, 8063, 6635, 4988, 7353, 6680, 8113, 8888, 4655, 9174, 7326, 8592, 6052, 4259, 7268, 6770, 6381, 6318, 6139, 6280, 5976, 23655, 7301, 6889, 7388, 7720, 4941, 12235, 6225, 6547, 11052, 7606, 5980, 7795, 6119, 7026, 7146, 7999, 5928, 26505, 5287, 5435, 6733, 7957, 7186, 7343, 4804, 6301, 7071, 7325, 5235, 8198, 9799, 6621, 5492, 8682, 5181, 6054, 7481, 8529, 17090, 7340, 9939, 7022, 3154, 4990, 5828, 5139, 6443, 6469, 5201, 7158, 4905, 6181, 5602, 7526, 16264, 5872, 5709, 9196, 6304, 8660, 10054, 7796, 7672, 5132, 6290, 5329, 6955, 6966, 6056, 6204, 6392, 24065, 6832, 5884, 6096, 8649, 7617, 4896, 6815, 5966, 10040, 6969, 5890, 4315, 7253, 13227, 5728, 6886, 18265, 6426, 6595, 6923, 6653, 5920, 6213, 7693, 3133, 10860, 4858, 5702, 7203, 6951, 6602, 6824, 6673, 5234, 7075, 8125, 5338, 7222, 5069, 8320, 4061, 6121, 4424, 6152, 5344, 7345, 10518, 7663, 7129, 6098, 7441, 7997, 4732, 6474, 6986, 5556, 4351, 6042, 5021, 6447, 5504, 3569, 7453, 5555, 8990, 4019, 8659, 6863, 7560, 6916, 9264, 6764, 7585, 8111, 5883, 9002, 6652, 7308, 17928, 8167, 7405, 7062, 7449, 7846, 5070, 5562, 8628, 6786, 3902, 6106, 6551, 4604, 7615, 7824, 9147, 5705, 3350, 7665, 8039, 7050, 9175, 5019, 6384, 4068, 6182, 7399, 7010, 7828, 8522, 5392, 10803, 11905, 5764, 6032, 8512, 7914, 5249, 7108, 8310, 6684, 7457, 6878, 6420, 9399, 8024, 6983, 6730, 7122, 7261, 8081, 6456, 6643, 8260, 4439, 6050, 7790, 5076, 8042, 6435, 7078, 6111, 8494, 8079, 6632, 8496, 8215, 8948, 8549, 7669, 11672, 5646, 18410, 5003, 6642, 5745, 7292, 7265, 6709, 4533, 7135, 9338, 7103, 7831, 5379, 11643, 7805, 11090, 9331, 8016, 6903, 6965, 5734, 5771, 7048, 6259, 9879, 6282, 7309, 8854, 6144, 6355, 6717, 15148, 5929, 9254, 6117, 7645, 10937, 6220, 8774, 9390, 8936, 6339, 7491, 7266, 6666, 7709, 8937, 7904, 6687, 7384, 9144, 5995, 6197, 6231, 13185, 8515, 7842, 7098, 8454, 10776, 8657, 9198, 6185, 8622, 7739, 7900, 12579, 5244, 6323, 6275, 9641, 5603, 5647, 13133, 7009, 9113, 6224, 8701, 6704, 10796, 7045, 4767, 10476, 7286, 6935, 8618, 4948, 5972, 4631, 5784, 7260, 5558, 9961, 3980, 6291, 8104, 7064, 8395, 7480, 6533, 7703, 8172, 9195, 7139, 4997, 13370, 7116, 6432, 7706, 7366, 9286, 8087, 7439, 8248, 6939, 6900, 6745, 8809, 7889, 9173, 4912, 10113, 7014, 8189, 6062, 5289, 9535, 12499, 5258, 6622, 7529, 7156, 8279, 4048, 5186, 5580, 6910, 7978, 7950, 7053, 5535, 11912, 7719, 5490, 7471, 7359, 6668, 2930, 5660, 4586, 6866, 7067, 5792, 8378, 5343, 8880, 4772, 7803, 13135, 7926, 5453, 4308, 10446, 5641, 8470, 4967, 8439, 6173, 6496, 7180, 6980, 5414, 6436, 6594, 10527, 10827, 7341, 6885, 11123, 6013, 5255, 8044, 6695, 5387, 16719, 5918, 7124, 5541, 13101, 11807, 7661, 6862, 8290, 6766, 7959, 7176, 5675, 6431, 15076, 8363, 6155, 7070, 9164, 6223, 6593, 5916, 7272, 10495, 5409, 6566, 7520, 5749, 8757, 13349, 11603, 9926, 8143, 11959, 6618, 7877, 3753, 7884, 8925, 5549, 6018, 5670, 5729, 8150, 6500, 8000, 11505, 7509, 5390, 4915, 10290, 9809, 3747, 9418, 8929, 8789, 6149, 8238, 6513, 10423, 6798, 9767, 6975, 13800, 6104, 7728, 9277, 6353, 7704, 5550, 9145, 6130, 10135, 5339, 8397, 6581, 6630, 5565, 6633, 8631, 7295, 9503, 5502, 9245, 5895, 9157, 7074, 5767, 4828, 8955, 4140, 5842, 6499, 12128, 7094, 6397, 6047, 6532, 7297, 6839, 10046, 7860, 7747, 5514, 6324, 5866, 7507, 7856, 4045, 6752, 5673, 6439, 7822, 13509, 6180, 8409, 7530, 8475, 7666, 6893, 6932, 11350, 7065, 6868, 8497, 19677, 6649, 3845, 6467, 7294, 7040, 6012, 7586, 9829, 12905, 10288, 7362, 6065, 6336, 8453, 10225, 13449, 4158, 6588, 7334, 7686, 6711, 8283, 6159, 5820, 8280, 5998, 8492, 6842, 7888, 10845, 7321, 5889, 7652, 9789, 13359, 7279, 20945, 6061, 7547, 7001, 6548, 6748, 9124, 15582, 6412, 5299, 5483, 7375, 8158, 4809, 8116, 7580, 8963, 6827, 6884, 12817, 12084, 9205, 11293, 6812, 8803, 6218, 10493, 5672, 8788, 6691, 13003, 7251, 7000, 6814, 7918, 7285, 5527, 5395, 5064, 6327, 6927, 9077, 5811, 7772, 5720, 6902, 8334, 7463, 6341, 9703, 13064, 7036, 3994, 9099, 8455, 7134, 9352, 7489, 8299, 7865, 7506, 7539, 5286, 5910, 5107, 7570, 7573, 8464, 6804, 6737, 11387, 7461, 8678, 13833, 7224, 7522, 8201, 7464, 6789, 7171, 8357, 7215, 4708, 5788, 6601, 7587, 6035, 8950, 8178, 11791, 8384, 10364, 7126, 6206, 7678, 7595, 10427, 7567, 6728, 9131, 7726, 5546, 7502, 6631, 7157, 5596, 7740, 4934, 8046, 7185, 7168, 6346, 7813, 7433, 7657, 4530, 3772, 6409, 6655, 9602, 8836, 8289, 8141, 5203, 8541, 9170, 6716, 4852, 7992, 7965, 10883, 11647, 6452, 9843, 7323, 9092, 6882, 4987, 8627, 9299, 8577, 9199, 29125, 5135, 13952, 5477, 5066, 11654, 6464, 8546, 5169, 6586, 8252, 5625, 6000, 6150, 6187, 10285, 13163, 2798, 7305, 7127, 6768, 7576, 20560, 7044, 6199, 11779, 4944, 7750, 8539, 9974, 7604, 8495, 6991, 10516, 9238, 9917, 7392, 7059, 10953, 7875, 6746, 7505, 11792, 6720, 6587, 6236, 6803, 8610, 6772, 7060, 5778, 8762, 7741, 11583, 29028, 7584, 6556, 10973, 7029, 12681, 6338, 10210, 6590, 9154, 9051, 9407, 10947, 7397, 5732, 12032, 6466, 6883, 4653, 8542, 7650, 7612, 7360, 4815, 8286, 7082, 13179, 9463, 8132, 8106, 4617, 10741, 8430, 6926, 7638, 11446, 8072, 7104, 7204, 8273, 6406, 5706, 5713, 4444, 6790, 6480, 12768, 7037, 7674, 7683, 5927, 7466, 10583, 7419, 6698, 8804, 6398, 6048, 6524, 8234, 3992, 6813, 7635, 5063, 8616, 5082, 9828, 6113, 7949, 5553, 8099, 6940, 8177, 8017, 6340, 7581, 8376, 11474, 6322, 9806, 11437, 6272, 8513, 6388, 6253, 6871, 7919, 7393, 7680, 11076, 5947, 6906, 8162, 8268, 11893, 9348, 5583, 9226, 8635, 6178, 9742, 6700, 7421, 7033, 9601, 6044, 5415, 6971, 5202, 7189, 10249, 7109, 5685, 10274, 6205, 7533, 9079, 6373, 8193, 6990, 5756, 7210, 5645, 8668, 7054, 5466, 5659, 9028, 8852, 7913, 18511, 4843, 10078, 9528, 10418, 8019, 10069, 4305, 11150, 7201, 6009, 10038, 7649, 9020, 18572, 9645, 8405, 6672, 7694, 11398, 8466, 7080, 8442, 11080, 7510, 8709, 7953, 9898, 7320, 35354, 7006, 8711, 6091, 5204, 8969, 3334, 6898, 6928, 7716, 11655, 6101, 6954, 6877, 4719, 8867, 7049, 5551, 6931, 7849, 7779, 5638, 6654, 6235, 5456, 11119, 10019, 5155, 8865, 7852, 12525, 9496, 5406, 7420, 7996, 6267, 3075, 8885, 9624, 7344, 10077, 8458, 7797, 7964, 6568, 7188, 8393, 9375, 7195, 6747, 6248, 9068, 7632, 5077, 8890, 4640, 6562, 9992, 7352, 8342, 9381, 10808, 7577, 6914, 5762, 8328, 8118, 6550, 6919, 7451, 12129, 5946, 5819, 7163, 8394, 6583, 7410, 7407, 6609, 7462, 7814, 7954, 6184, 7238, 6981, 3983, 4623, 7933, 7761, 7372, 7079, 6072, 10204, 6665, 8287, 7531, 6876, 17580, 7742, 6160, 8218, 7072, 6528, 7380, 8843, 10241, 7518, 9779, 19013, 7574, 9084, 4662, 5337, 7801, 8302, 12452, 10244, 6542, 7878, 9333, 7443, 8190, 7515, 7233, 5173, 7058, 7138, 9622, 7905, 5472, 8465, 8769, 8123, 20820, 7198, 5759, 5506, 5262, 13888, 9242, 6068, 8388, 10011, 7085, 5768, 7226, 8071, 11100, 35210, 7723, 8065, 7874, 7160, 6405, 4105, 8333, 7732, 9425, 7778, 10331, 8613, 5949, 6066, 8959, 6894, 7165, 6854, 9343, 6049, 9273, 9202, 9052, 7023, 8033, 8645, 7123, 8244, 7855, 21257, 14001, 8391, 9772, 10132, 8488, 4756, 8408, 6984, 8845, 9679, 8186, 8773, 6495, 6967, 23348, 13730, 7718, 7569, 12772, 3837, 13306, 6274, 7447, 7396, 6183, 8008, 8233, 5561, 6571, 12261, 11061, 5083, 11509, 10155, 8524, 8220, 12091, 8487, 11194, 9208, 8670, 9036, 9292, 6167, 8521, 9594, 16492, 8174, 5568, 6988, 14032, 7486, 6261, 5124, 9042, 4743, 11386, 7454, 7333, 8633, 14822, 9004, 6867, 8075, 7725, 7084, 8137, 6922, 9781, 8451, 4472, 10175, 7721, 6268, 8608, 8776, 8489, 34864, 8336, 7988, 10701, 6507, 6251, 9669, 7670, 5643, 15394, 6349, 8485, 9376, 7259, 10182, 13390, 6749, 8892, 8196, 10798, 7007, 9579, 7298, 7499, 7605, 5758, 16744, 5723, 13440, 8258, 5650, 10358, 6758, 8168, 7760, 6624, 5476, 7990, 8438, 9459, 7872, 2803, 8120, 7288, 5754, 9285, 9469, 6451, 11253, 3956, 9936, 5312, 14799, 7101, 11424, 16414, 8335, 5112, 12115, 6475, 6444, 10691, 8356, 7073, 9824, 8704, 25686, 11493, 8124, 7245, 11587, 9339, 6198, 8718, 7219, 9916, 6411, 21125, 6881, 6086, 8751, 5657, 9095, 8208, 7177, 10452, 8315, 9397, 6801, 8712, 8145, 9389, 7777, 7956, 13315, 11060, 5941, 5487, 7089, 7820, 6255, 8606, 8726, 10100, 6934, 6763, 8418, 6579, 4490, 10631, 18624, 12976, 8414, 8656, 9268, 19434, 8157, 7164, 8381, 6564, 9551, 8285, 4358, 14101, 10942, 21556, 9086, 5102, 7330, 10131, 7575, 7467, 6953, 8148, 5209, 7609, 9013, 7948, 10406, 7254, 8943, 8753, 6577, 23125, 6679, 8344, 6534, 10749, 8675, 6530, 9361, 11584, 5689, 9359, 7640, 4977, 3578, 7935, 9236, 9244, 6154, 9774, 4335, 9643, 8359, 7903, 8326, 11256, 8469, 6950, 8012, 7759, 9600, 9297, 8312, 8446, 7217, 8661, 8537, 6731, 9324, 8097, 9910, 7679, 13408, 7497, 6325, 10030, 7743, 8580, 5015, 6629, 8717, 8893, 4994, 10143, 9025, 5891, 8735, 5317, 7550, 12749, 10063, 3936, 8278, 5587, 10015, 7682, 10896, 9093, 8427, 9219, 3873, 9813, 7942, 11907, 9325, 34994, 12592, 7833, 14360, 7947, 8652, 6008, 9704, 8077, 7753, 3808, 5545, 9941, 8817, 11127, 5633, 10487, 7634, 8450, 13355, 5973, 8720, 8763, 8973, 15237, 11163, 8665, 9972, 6610, 8304, 14748, 8944, 8274, 9258, 7241, 13890, 8615, 7527, 9630, 9506, 6120, 8352, 31342, 5956, 8887, 10465, 10407, 7377, 7592, 9490, 6856, 7304, 9161, 8853, 6702, 6506, 7051, 11343, 7099, 7588, 9184, 6778, 9922, 10515, 9048, 7484, 8126, 10119, 7543, 10664, 10940, 6605, 7194, 9167, 8655, 10723, 6122, 3440, 11402, 8122, 9752, 4291, 7848, 7143, 8782, 6079, 8813, 8052, 8070, 5865, 10226, 10682, 9644, 7603, 7962, 7511, 8805, 7827, 7132, 7974, 8658, 8398, 13780, 7184, 6964, 9888, 12994, 7906, 10582, 7756, 11221, 7816, 11995, 8798, 6825, 12668, 11595, 9334, 10034, 7281, 12890, 9083, 8935, 12812, 6468, 10413, 5042, 8570, 5824, 6675, 8578, 7763, 7207, 11702, 9605, 6136, 9146, 8443, 6228, 6297, 8629, 9082, 9347, 11929, 7523, 9836, 7951, 12916, 16796, 6973, 5692, 7626, 8725, 6850, 8372, 8756, 10928, 9631, 8230, 7097, 8272, 8114, 5212, 13171, 5961, 8989, 7995, 7775, 6582, 9222, 6907, 17011, 5715, 8411, 11251, 7938, 8750, 10080, 5693, 7536, 5773, 9711, 10057, 7434, 7869, 7172, 9595, 7659, 7607, 9840, 7633, 7503, 9423, 4250, 16397, 8868, 9392, 7042, 8966, 7845, 5991, 6356, 8573, 12691, 6724, 6321, 6872, 9723, 4975, 6756, 5813, 9387, 9354, 5948, 7738, 5979, 12913, 6258, 10590, 9612, 7614, 6434, 9439, 9470, 5974, 9295, 8555, 5859, 9854, 10528, 7394, 8407, 10185, 8931, 8913, 8445, 8205, 30385, 9239, 6905, 7338, 5847, 9637, 10326, 8329, 7556, 7354, 8647, 9674, 9839, 7806, 15059, 6729, 8899, 10672, 14820, 7358, 12495, 7808, 7843, 9748, 7600, 7403, 4916, 5854, 14190, 6857, 7791, 9933, 8076, 9296, 5391, 8240, 8212, 11475, 8064, 10658, 7710, 8533, 9511, 9116, 7892, 9597, 5382, 5276, 10082, 6638, 5967, 8098, 8898, 9702, 7387, 5528, 7243, 9681, 10936, 7677, 13203, 8296, 5560, 7644, 9316, 7415, 17699, 11175, 10742, 8641, 6808, 10045, 8364, 12321, 9149, 6600, 10575, 8504, 6656, 12744, 12629, 5327, 10669, 5500, 11027, 9561, 10614, 2758, 10854, 8984, 8812, 12399, 6363, 8562, 18896, 8034, 4758, 8839, 10066, 6561, 12978, 7500, 10375, 9379, 6396, 7834, 8432, 8568, 9089, 9269, 8648, 11525, 10571, 13095, 5769, 7283, 9517, 7047, 9351, 10373, 8653, 4277, 8127, 7868, 6776, 4268, 9989, 11870, 8327, 13427, 8758, 6826, 6316, 12037, 9434, 30183, 7448, 4831, 9373, 8266, 6296, 11063, 9693, 8586, 8199, 7061, 7563, 4119, 9453, 6589, 7119, 9006, 10832, 11177, 8646, 7020, 27512, 5165, 8501, 8819, 19652, 7593, 7896, 6232, 6962, 14114, 7977, 6843, 8317, 10269, 11458, 6636, 10505, 7370, 7093, 9064, 8170, 14445, 7613, 6074, 9487, 5931, 9409, 6743, 7983, 8423, 7794, 7943, 11369, 10310, 10286, 7313, 8018, 12463, 9306, 8748, 7179, 6553, 9027, 3037, 9308, 17395, 10713, 8237, 11946, 10073, 11197, 10180, 7821, 9253, 11395, 8297, 16238, 11081, 8688, 8975, 7541, 8736, 8894, 7374, 8983, 9141, 7598, 14074, 7857, 9599, 7318, 10502, 8909, 12594, 9260, 9955, 8440, 9842, 7513, 10298, 7202, 10971, 8389, 6125, 11032, 7280, 3929, 8435, 8639, 10209, 7885, 8525, 8816, 7685, 9049, 9070, 8932, 7021, 7773, 8833, 10770, 8026, 7688, 7076, 9563, 7946, 6930, 9664, 6943, 10910, 9370, 8219, 7840, 12081, 7351, 9162, 8543, 10522, 10830, 10380, 10746, 9414, 7496, 5429, 8638, 7148, 9225, 8643, 5700, 14169, 11684, 6473, 8806, 16025, 8544, 9398, 7512, 10220, 13485, 22329, 8007, 9386, 9844, 8884, 7789, 6937, 8428, 14144, 7121, 9346, 8920, 8829, 9109, 7972, 10068, 7628, 4550, 7436, 11319, 10748, 9700, 9835, 9185, 9893, 8160, 6995, 15159, 5480, 6908, 9892, 8566, 8003, 9312, 13466, 8550, 7270, 8760, 9043, 9201, 10367, 9247, 8582, 8051, 12906, 10434, 11777, 9980, 6760, 9155, 12920, 6762, 11096, 12596, 8236, 7437, 12015, 6828, 12016, 9520, 9129, 8534, 8719, 9493, 7697, 8153, 10829, 10350, 8023, 32984, 23673, 8986, 10645, 9468, 8733, 7182, 8202, 5593, 10985, 4813, 5401, 5725, 9769, 6085, 8136, 7336, 14325, 11539, 8553, 7715, 10666, 9310, 7907, 10778, 10302, 9436, 18485, 8184, 18696, 13536, 13404, 7787, 2856, 9633, 5950, 6585, 8602, 10090, 8554, 10261, 8795, 13385, 9682, 10067, 34943, 8265, 8348, 9491, 9765, 6309, 10234, 8374, 6694, 10869, 8609, 5094, 6438, 9428, 7264, 7582, 8897, 18146, 9023, 9635, 10014, 10104, 17581, 12023, 8300, 8214, 6372, 8213, 6952, 5282, 9728, 10372, 6686, 8831, 15430, 11726, 7734, 9214, 9572, 10941, 12265, 6661, 12254, 8671, 9596, 14908, 15924, 7365, 11649, 11054, 6217, 9383, 8176, 8267, 8080, 8965, 7922, 10023, 10344, 8598, 7557, 9420, 10887, 7167, 10328, 8686, 7247, 14660, 8152, 8447, 10540, 9548, 6676, 9766, 13375, 7802, 14055, 6463, 6915, 9433, 11936, 8002, 6999, 8784, 6165, 11310, 9871, 11754, 10794, 8308, 5630, 7818, 8089, 7446, 9522, 8382, 8169, 9562, 7934, 9332, 7540, 14550, 12960, 9950, 10912, 8224, 12697, 13636, 8900, 18216, 12607, 9959, 10524, 8426, 9505, 8057, 9265, 11940, 10448, 6929, 11848, 13169, 7133, 9803, 7117, 8343, 11168, 12099, 9206, 8967, 11389, 6195, 7087, 6271, 7817, 8919, 14593, 8399, 10005, 10587, 19502, 9931, 7418, 8976, 8869, 9188, 7654, 8166, 7465, 6361, 8206, 13677, 32765, 16786, 11764, 8483, 10366, 8949, 9288, 6229, 6023, 7859, 7641, 10336, 6913, 9660, 10169, 10843, 6795, 9760, 11511, 8314, 9322, 12177, 10828, 12050, 9796, 9266, 10007, 7011, 8316, 10091, 19077, 8146, 9431, 12656, 9786, 8842, 7800, 10348, 7768, 9112, 5242, 11501, 16852, 9798, 12300, 6690, 9993, 10570, 12792, 9655, 11492, 25306, 10848, 10962, 9640, 7589, 10511, 9534, 7452, 5989, 10874, 10559, 12211, 9435, 9997, 13546, 8048, 10923, 8197, 10087, 7866, 7472, 8195, 5970, 10121, 7187, 9117, 15257, 6479, 9677, 6911, 7863, 8987, 6554, 6807, 22683, 10541, 10334, 6292, 8164, 9234, 9073, 6785, 9593, 11441, 12044, 9447, 8355, 8708, 6107, 8211, 8785, 13498, 9636, 8402, 11273, 12569, 8292, 8626, 6781, 9446, 4401, 15013, 6207, 7003, 9880, 6891, 8612, 9255, 8269, 7559, 8441, 11265, 17661, 11443, 5914, 12810, 4440, 11409, 9017, 4185, 8481, 10795, 21711, 9603, 7631, 21110, 9228, 7583, 10789, 11145, 15483, 9030, 8838, 9108, 8062, 17716, 9097, 8530, 10915, 8147, 7975, 9110, 9935, 9914, 10232, 13141, 11149, 8877, 10047, 8835, 11068, 11466, 10841, 9080, 10202, 10240, 6531, 9311, 14947, 8536, 7599, 7781, 8915, 9342, 7776, 14208, 7923, 8734, 5942, 16901, 9489, 8878, 10572, 8181, 13429, 10346, 8677, 22572, 6014, 16204, 7642, 8732, 4284, 11960, 9315, 9668, 6663, 8526, 6419, 10292, 9785, 5525, 8941, 13657, 11877, 11955, 10617, 9081, 8305, 8934, 7766, 10620, 5785, 10927, 10597, 7675, 12262, 11861, 9229, 7958, 5933, 12667, 8764, 8149, 9159, 9200, 10194, 8086, 9189, 9355, 6472, 12418, 8457, 11659, 9984, 12118, 10362, 8091, 7555, 7046, 7590, 6641, 9963, 8277, 10389, 7096, 11970, 4787, 9215, 8940, 9759, 8771, 10157, 8625, 10509, 10852, 15366, 8563, 8702, 4943, 12154, 10417, 7994, 14983, 8796, 7643, 9531, 9005, 15611, 7390, 8387, 13638, 10643, 9098, 8768, 10112, 8204, 9615, 17042, 4428, 9008, 9287, 5274, 7159, 8791, 12900, 11859, 7815, 9881, 12454, 9846, 7378, 10254, 9538, 9825, 13239, 8523, 11547, 9481, 6956, 10146, 12420, 9884, 9845, 6888, 8324, 5001, 11358, 8591, 18633, 9521, 8103, 9735, 3616, 7120, 10478, 6494, 8175, 8416, 25905, 9103, 12446, 12961, 4652, 11506, 8745, 8341, 11845, 7955, 13673, 7591, 6246, 13737, 12572, 13230, 8691, 8954, 11038, 10970, 12653, 9133, 12804, 8422, 12677, 24828, 8902, 10245, 9007, 9307, 7969, 8030, 8561, 8006, 9611, 11281, 9015, 13092, 7052, 4142, 15405, 11220, 9473, 9377, 9059, 7695, 5719, 9973, 11731, 9230, 4651, 10293, 9623, 10491, 11846, 10445, 10357, 8822, 9274, 9740, 8826, 10230, 11529, 8857, 9024, 13181, 9754, 10755, 12548, 9367, 6555, 8567, 6948, 9807, 7774, 12933, 9479, 6699, 8901, 12986, 8883, 11377, 10526, 10044, 5957, 10370, 9965, 12437, 10519, 7223, 17365, 9417, 8811, 8680, 9326, 13905, 7690, 16711, 11225, 10036, 5790, 9336, 15755, 11471, 11711, 13381, 9466, 8947, 8434, 10964, 9981, 5744, 5978, 7004, 8400, 11006, 10948, 7851, 4970, 16813, 6816, 11233, 9659, 19527, 7517, 8957, 6055, 17052, 7627, 10474, 4470, 8942, 7882, 8634, 9994, 4081, 7414, 14462, 7302, 12582, 9833, 11748, 12112, 3522, 6418, 3611, 9291, 8569, 7811, 7564, 8037, 10227, 8180, 8547, 14254, 6559, 11990, 14905, 8100, 7328, 12397, 14087, 9194, 5353, 7458, 13653, 6723, 10790, 12958, 9186, 3178, 7619, 11831, 9821, 13711, 8907, 9394, 10385, 11007, 10646, 12449, 25384, 11568, 9656, 8905, 9182, 9172, 8413, 11908, 8010, 11572, 13792, 10306, 11315, 7282, 11838, 10838, 12428, 9071, 6103, 7367, 8256, 9063, 9461, 9474, 9327, 7980, 8587, 7161, 8583, 4932, 10042, 10574, 5079, 16199, 11239, 21315, 9697, 19920, 10996, 28326, 7181, 10318, 6612, 9223, 10738, 9658, 9125, 6365, 10514, 10356, 14206, 9718, 10152, 8590, 14792, 15463, 7676, 6514, 13347, 7412, 10763, 10481, 11059, 5515, 11857, 9056, 14871, 8848, 10501, 12512, 7764, 8600, 23258, 7019, 16038, 10875, 9706, 6997, 7476, 11208, 8605, 8264, 9564, 12767, 7769, 8478, 10553, 7705, 10496, 13932, 9827, 7118, 6362, 10416, 7565, 9458, 14371, 8779, 9349, 8528, 10060, 13884, 4801, 11552, 11067, 8703, 7528, 9812, 10690, 8663, 9969, 9224, 10612, 20691, 8667, 9559, 8558, 10544, 13902, 10494, 9731, 10500, 15699, 10048, 8623, 8396, 10871, 9617, 8055, 10880, 8727, 11656, 12364, 12375, 10757, 10071, 7426, 8832, 11228, 7653, 12705, 20548, 8322, 7940, 12073, 7687, 9472, 6401, 8366, 12731, 7016, 9001, 11130, 10466, 9130, 9573, 9032, 22160, 10257, 18807, 8155, 12448, 8499, 10387, 6453, 11516, 10533, 9272, 9380, 11460, 10585, 8043, 8460, 7936, 12610, 9451, 9128, 11570, 12539, 8459, 8593, 15989, 13228, 13725, 8309, 11825, 7535, 24789, 9943, 7920, 5661, 12742, 10788, 13323, 11372, 7767, 10823, 15955, 8128, 10839, 11989, 11991, 8223, 16624, 8151, 9035, 9539, 8621, 8507, 7850, 8371, 9207, 14528, 7862, 5742, 8436, 7596, 8262, 6617, 15991, 11947, 11596, 10704, 11200, 11095, 13213, 6721, 21045, 6890, 8139, 10600, 13760, 7736, 8276, 11574, 10692, 10118, 7427, 12779, 10831, 9665, 7248, 7225, 12096, 15356, 7519, 10279, 10093, 19448, 9203, 7055, 8325, 8477, 9486, 8594, 13125, 6422, 10557, 8759, 9259, 10003, 8858, 34325, 10649, 8425, 12362, 14060, 9029, 10116, 10653, 9218, 10686, 11744, 10560, 8644, 6368, 8917, 9301, 7647, 6845, 12476, 9183, 11668, 7398, 6874, 10850, 10217, 15451, 6998, 9010, 16467, 10296, 14470, 7844, 12546, 8173, 9685, 10259, 9533, 10980, 10084, 9061, 8860, 8933, 25902, 5904, 10349, 10607, 12474, 12170, 9309, 8996, 11527, 12747, 7492, 13007, 8908, 14390, 12883, 10250, 8249, 11497, 9484, 14342, 6097, 14286, 10732, 8794, 12356, 10608, 11036, 6158, 8520, 11418, 7886, 11690, 10094, 11810, 15136, 8557, 9034, 7548, 6230, 10616, 6779, 7671, 8347, 15191, 13721, 9054, 10442, 12503, 14568, 6849, 10535, 8261, 9610, 10634, 9289, 7151, 9282, 12146, 12624, 11884, 8377, 10282, 9148, 14125, 13276, 8810, 8672, 14448, 9415, 14474, 9046, 16656, 9878, 10127, 9385, 10610, 7782, 10902, 11629, 7566, 11235, 18124, 6714, 13309, 13251, 11284, 8576, 8560, 11285, 6545, 11299, 14586, 8444, 7174, 12800, 11388, 8511, 6015, 9058, 6060, 11268, 9045, 11160, 9552, 14014, 9860, 11602, 11542, 8766, 15807, 8786, 10287, 6380, 5488, 13283, 10267, 11660, 11376, 15531, 11555, 8163, 7629, 10022, 8085, 9578, 10758, 12163, 9553, 12703, 9156, 14999, 6879, 9887, 9429, 11340, 13280, 9802, 10703, 15213, 7554, 13037, 11801, 9770, 8911, 9405, 10611, 7413, 9094, 11247, 11925, 9508, 9942, 9413, 9191, 7149, 12405, 9894, 8723, 9454, 9137, 8906, 10930, 13830, 11650, 9746, 7057, 8866, 10959, 12270, 11931, 11712, 8603, 11415, 9106, 9187, 9590, 10901, 10122, 12842, 9403, 13878, 10300, 8914, 11514, 8209, 12192, 10508, 12252, 11245, 12187, 11551, 3038, 9126, 7971, 7008, 13328, 10203, 11314, 11300, 9270, 6279, 6753, 12973, 7823, 7487, 11664, 9661, 9547, 11296, 11024, 8721, 10543, 11242, 7005, 11575, 9625, 11307, 12092, 13816, 8514, 6848, 8879, 9543, 10144, 11011, 10458, 12141, 8144, 8257, 7880, 6869, 8821, 8995, 12640, 7625, 12108, 13934, 10609, 10995, 9849, 10893, 12480, 11749, 22875, 12701, 9575, 12094, 12264, 8067, 7915, 10697, 10613, 10859, 10064, 9240, 8697, 10898, 9341, 10281, 9134, 7873, 7932, 14019, 5086, 24233, 11544, 8294, 9180, 10846, 9771, 12977, 8729, 10231, 7450, 6606, 10283, 7368, 11477, 13893, 12848, 6399, 6192, 8090, 33157, 6330, 12911, 10619, 27837, 13523, 11125, 14875, 9440, 24987, 15363, 14769, 9231, 10842, 4797, 17312, 19802, 10625, 11751, 9358, 13178, 12711, 14802, 9055, 10212, 9319, 10534, 9542, 8284, 6328, 10347, 9903, 7508, 19212, 13668, 22939, 8179, 10151, 6853, 15379, 12882, 11579, 10851, 7468, 7386, 7347, 9426, 11049, 8746, 10001, 12245, 10966, 9271, 15635, 10162, 9775, 9995, 11756, 12062, 17120, 13892, 9819, 9471, 10881, 12835, 8015, 13767, 9983, 9057, 12144, 8479, 10725, 14090, 6870, 13475, 8345, 15403, 10760, 13718, 12087, 13312, 9350, 12178, 13772, 8575, 12315, 9340, 9252, 11020, 8361, 9135, 16198, 12136, 10388, 11136, 7498, 12825, 8738, 16810, 17071, 8783, 9966, 9396, 21358, 9038, 9527, 9566, 9822, 12841, 8595, 9891, 7963, 9694, 10596, 12553, 8282, 9293, 10092, 8793, 14467, 12442, 24986, 11895, 11900, 8713, 16705, 16225, 8752, 8078, 7385, 9525, 10999, 9532, 9560, 9715, 28408, 14839, 8232, 12636, 10440, 10737, 11663, 9177, 7558, 9516, 10785, 9558, 11902, 9019, 10176, 19300, 10688, 10623, 14534, 12924, 9280, 11203, 8129, 19567, 16621, 12678, 12255, 8293, 10477, 10712, 6428, 11432, 5830, 19240, 7039, 7424, 9968, 13799, 11728, 8581, 10097, 10429, 6725, 10352, 10266, 9857, 12799, 11219, 11677, 10721, 8216, 10216, 14154, 10497, 8330, 11982, 2694, 6450, 6796, 4450, 8188, 13114, 7883, 11182, 10172, 9929, 14547, 6118, 7754, 9181, 8527, 9329, 13232, 8747, 8021, 12130, 13896, 11425, 6599, 9962, 7376, 7066, 4177, 9589, 8001, 11799, 9062, 7927, 10694, 9567, 8754, 14612, 12098, 10206, 8461, 12063, 11106, 12926, 9958, 11390, 12889, 12026, 8437, 8319, 11305, 9462, 9212, 11070, 23905, 7876, 9712, 11888, 10397, 14366, 7382, 10530, 11504, 11592, 12682, 7751, 11234, 11560, 10108, 18135, 16465, 9443, 13501, 11191, 9925, 12186, 11287, 11134, 10599, 9619, 9764, 10636, 14332, 11615, 9455, 13258, 11521, 11741, 11795, 10365, 11610, 8138, 9119, 5430, 10523, 3469, 10745, 9875, 14147, 11352, 13272, 12983, 11189, 13554, 10833, 11334, 12712, 10943, 9927, 10926, 9512, 1881, 9502, 9814, 8094, 8565, 9445, 10878, 13056, 11058, 8133, 10056, 15377, 7812, 8556, 18860, 12328, 9755, 11406, 8379, 12123, 14450, 14429, 10939, 11141, 8365, 11882, 11430, 7611, 8490, 13838, 11161, 10834, 6449, 11109, 7700, 11428, 12921, 7879, 11952, 10844, 9395, 10977, 11755, 14085, 11407, 18411, 11923, 10751, 10592, 13034, 12939, 18213, 8846, 13815, 15640, 9654, 15967, 8506, 13643, 10026, 14185, 12850, 9732, 17353, 11932, 26383, 8011, 9026, 8009, 10989, 10431, 8545, 9675, 11589, 10199, 13969, 16057, 4920, 12302, 7018, 8968, 8772, 11670, 8654, 12105, 19912, 6169, 16304, 9523, 9662, 10156, 13814, 12149, 11283, 13009, 11436, 8210, 9166, 12482, 10605, 11705, 6960, 17673, 12038, 10615, 12065, 8904, 11606, 7459, 12869, 12516, 8486, 11383, 11043, 12385, 11135, 3816, 10674, 11866, 5776, 10323, 9613, 6783, 9946, 12320, 13763, 9582, 12117, 11421, 12665, 9335, 12272, 8930, 10773, 11367, 10196, 16303, 15016, 9574, 9374, 9872, 11138, 28354, 7411, 19091, 10558, 13562, 8066, 15845, 19662, 7714, 11357, 11536, 11513, 6366, 11126, 11716, 8323, 24093, 13368, 5520, 17235, 10062, 10294, 7981, 10699, 11973, 8463, 19365, 13938, 7276, 11044, 23629, 7068, 7429, 10312, 7063, 19233, 9861, 11003, 12814, 9421, 17627, 8192, 14113, 8916, 9072, 10103, 9053, 12586, 14029, 7110, 12953, 3711, 11349, 10565, 12859, 15598, 8801, 9976, 7931, 7114, 11370, 8862, 10551, 18965, 10441, 9736, 10680, 6936, 7166, 11062, 9856, 10134, 5634, 14475, 4783, 10963, 20004, 6979, 9948, 8275, 13326, 12778, 9990, 8386, 7425, 11201, 9076, 10394, 12496, 8159, 7140, 9569, 11567, 7786, 8540, 13224, 8706, 11759, 11117, 12291, 8187, 7237, 3984, 14623, 14368, 9305, 11368, 14385, 9794, 12776, 9251, 9090, 11939, 12957, 12709, 6095, 7422, 10195, 11322, 9576, 13615, 10958, 12138, 10482, 3474, 12878, 12268, 9284, 14096, 10128, 10630, 12937, 11066, 11361, 18306, 10374, 20746, 8227, 11250, 14377, 9782, 12219, 8508, 13779, 12088, 13534, 29773, 10408, 10278, 12036, 12494, 12121, 9581, 4319, 23727, 9952, 10929, 11819, 10395, 16536, 12530, 10421, 13031, 8564, 8755, 11963, 10201, 9014, 9733, 10166, 7696, 4704, 9419, 13394, 7861, 9686, 12796, 10368, 7691, 8185, 16119, 11761, 12345, 12689, 26605, 20151, 12140, 13549, 10299, 10801, 12734, 9477, 10488, 9823, 11769, 11207, 9734, 11642, 16761, 11843, 15421, 10029, 11274, 11146, 11190, 10123, 9967, 7435, 7730, 15164, 10679, 12902, 11983, 11031, 15139, 13649, 5681, 12127, 11034, 15038, 11635, 11839, 10876, 8047, 10639, 10993, 12253, 12120, 20826, 6892, 10384, 9220, 8716, 30284, 8689, 12661, 14783, 14432, 7982, 13416, 17066, 10826, 11107, 13603, 8088, 11330, 11176, 11694, 13735, 12086, 10271, 14777, 11480, 13585, 10137, 8105, 12366, 8604, 6644, 5986, 10641, 9442, 14621, 14245, 9901, 16187, 9241, 9598, 12773, 11873, 14827, 10569, 16607, 11048, 9788, 22757, 15002, 5996, 10126, 8870, 11854, 7901, 7332, 12870, 10661, 7699, 13575, 10591, 9676, 9003, 3087, 11891, 15320, 26435, 8874, 14521, 9136, 14330, 14729, 13516, 10055, 6351, 12113, 12717, 14684, 11373, 12393, 12233, 10173, 26988, 10549, 26713, 8069, 12608, 10139, 15393, 8340, 13978, 8977, 17525, 10111, 7899, 8084, 11092, 15461, 11860, 8669, 8960, 10821, 10246, 7205, 9328, 13426, 11917, 11935, 17045, 13928, 9708, 10586, 11143, 8353, 13646, 11103, 11154, 12317, 14084, 14968, 9249, 10165, 11661, 10472, 11590, 18881, 11128, 12783, 11017, 8818, 12898, 16725, 26831, 15313, 28980, 11503, 8130, 9279, 8770, 11484, 9353, 5130, 22443, 16381, 9554, 10228, 10470, 10866, 15422, 10321, 12024, 15686, 7314, 9580, 11619, 8939, 13749, 9817, 7911, 9432, 27441, 7364, 6662, 11745, 11481, 10660, 11617, 12633, 11495, 10114, 9895, 8231, 10718, 13709, 28129, 12828, 11280, 8707, 8851, 9366, 11231, 10792, 9104, 11710, 11679, 14116, 13856, 10566, 9480, 14139, 7668, 8624, 23168, 11212, 9452, 9065, 22100, 10944, 7532, 9085, 10885, 10895, 12948, 13965, 17663, 10662, 10070, 11157, 8999, 11666, 8681, 9261, 9791, 8476, 11945, 9256, 12851, 13481, 10307, 8390, 8799, 6836, 8574, 15057, 7227, 12963, 6626, 10840, 11916, 13877, 8849, 7902, 6004, 9800, 15105, 9037, 9526, 13180, 11774, 13167, 12357, 7909, 13322, 13903, 10717, 10188, 12589, 14686, 13757, 14730, 7169, 12191, 12331, 10330, 9783, 10186, 8903, 12696, 9932, 6005, 11913, 18263, 10924, 8881, 21637, 8112, 11651, 11346, 11078, 10236, 9105, 15496, 7870, 11264, 10933, 14529, 12576, 10382, 23333, 9345, 8255, 11181, 12165, 9866, 12659, 11306, 9896, 9281, 12304, 10783, 11366, 13977, 11978, 17068, 7829, 12179, 11790, 11131, 7244, 21620, 15771, 10280, 9050, 14522, 10547, 11244, 9197, 15828, 24042, 13115, 7810, 17758, 9153, 12687, 15978, 18869, 11488, 26195, 11737, 12349, 16379, 14046, 11452, 15776, 16117, 9303, 10731, 8765, 17752, 10008, 7622, 7752, 11099, 15545, 15918, 9778, 6657, 11408, 9069, 16123, 9151, 9122, 8368, 18868, 10252, 15906, 10847, 10345, 9851, 10766, 21467, 14227, 30759, 8685, 7838, 9621, 5267, 25758, 10085, 8696, 7568, 6852, 13156, 11673, 9464, 11582, 9608, 12430, 13109, 26920, 13694, 11050, 7401, 6757, 10987, 10969, 8584, 20729, 8031, 14326, 10138, 10652, 16802, 10214, 8183, 11230, 11124, 10815, 11416, 12224, 9549, 11316, 15218, 9730, 13866, 5882, 15097, 7623, 11558, 11883, 9947, 10081, 13863, 12762, 9388, 11631, 13023, 5963, 11210, 22821, 12876, 18177, 11204, 9727, 9841, 7910, 9075, 8679, 6710, 9250, 15051, 14041, 31389, 11282, 12093, 9737, 9695, 16973, 12365, 14322, 5992, 12996, 14648, 10215, 15884, 9934, 13442, 11616, 12611, 9410, 15088, 9787, 10247, 12423, 13297, 12684, 8035, 6308, 10542, 8083, 9237, 14606, 13565, 16337, 10602, 9263, 7445, 6465, 14614, 24418, 11578, 10779, 8140, 10369, 10676, 9587, 10870, 12324, 11470, 12008, 10506, 7521, 10873, 9744, 12555, 12097, 8630, 9913, 10037, 9178, 7206, 10461, 9937, 6634, 13514, 10059, 7692, 11901, 12352, 10584, 12492, 9302, 3694, 24092, 12327, 12737, 10601, 8700, 16552, 11607, 19838, 8045, 12323, 7553, 13045, 8662, 14264, 10436, 9275, 10689, 8952, 4354, 5461, 12336, 10079, 9401, 10390, 11641, 10705, 11732, 10179, 11151, 8972, 8742, 13589, 5584, 18797, 11537, 12500, 10191, 14437, 14746, 9138, 11218, 7867, 13286, 12400, 10637, 19835, 10033, 10074, 14339, 12260, 12560, 25282, 12395, 9904, 7858, 10900, 11429, 13407, 12798, 14469, 8979, 10811, 12897, 14803, 14651, 10168, 10950, 10243, 9393, 9725, 8421, 13606, 34370, 28126, 10043, 3748, 9949, 4782, 8985, 8807, 13553, 22738, 27745, 8687, 14170, 12104, 11183, 7783, 10903, 12095, 10354, 8321, 8699, 10207, 11294, 11320, 10443, 11800, 13113, 12823, 10998, 11147, 14405, 9371, 10593, 10109, 10335, 18902, 12982, 12886, 12316, 10400, 11166, 7646, 11879, 8918, 10919, 8844, 11021, 7572, 11639, 7908, 8448, 12806, 11431, 8182, 12102, 8417, 17980, 11896, 9960, 8022, 19410, 16610, 12275, 9975, 14138, 7594, 11776, 11993, 11115, 15678, 5922, 21253, 10105, 23372, 9369, 11459, 12273, 15133, 11752, 10415, 11767, 10780, 13640, 12995, 10379, 8102, 9485, 11910, 9402, 11720, 9165, 12591, 10538, 18035, 7684, 9808, 13066, 10314, 10578, 15334, 8058, 11053, 14058, 11170, 13218, 11091, 11279, 10404, 11864, 11911, 17818, 11824, 19235, 19719, 14563, 15193, 8295, 11156, 7755, 11507, 12543, 11371, 13042, 28660, 10734, 14854, 13712, 10762, 13333, 13576, 9478, 9016, 13578, 11718, 8971, 12547, 10825, 10422, 16126, 10024, 8200, 10563, 10275, 11298, 5958, 3818, 9667, 10577, 10638, 11040, 7549, 7428, 14036, 12059, 12565, 10914, 17756, 8970, 12475, 10117, 7485, 11814, 11465, 9018, 10771, 11277, 22573, 12444, 10295, 9330, 9784, 7807, 9726, 12465, 17578, 12208, 10016, 24609, 8815, 13084, 9816, 10256, 12559, 13147, 21454, 12312, 5585, 18512, 5877, 9810, 11085, 11360, 9870, 9344, 9012, 10480, 11969, 12341, 11871, 8337, 9701, 14183, 9499, 9801, 9921, 8251, 14196, 22128, 12871, 9011, 16001, 11992, 11217, 9979, 11738, 7329, 8895, 15172, 20829, 12153, 9988, 14552, 8380, 13460, 8823, 9584, 15311, 8778, 10764, 10355, 7315, 12403, 11041, 11855, 16715, 16731, 15498, 9720, 12307, 10909, 12486, 10110, 12645, 34785, 15495, 10013, 7784, 16269, 14447, 14526, 10140, 14415, 11321, 8992, 17155, 11842, 10711, 9780, 13014, 9678, 11820, 24661, 10262, 22731, 12434, 11199, 13020, 14918, 16877, 9905, 12612, 5033, 11254, 15631, 11110, 11927, 12013, 14134, 8958, 13105, 13473, 10659, 10791, 11858, 11886, 17846, 11232, 13822, 12646, 9096, 9864, 19249, 9830, 11499, 9672, 9761, 29644, 27320, 6170, 8837, 11290, 21802, 35187, 12338, 19304, 13097, 9911, 11926, 6518, 10308, 10158, 11714, 11793, 12550, 12999, 11323, 8997, 15407, 10961, 13139, 10595, 13098, 13983, 10700, 10635, 11961, 14685, 23118, 15431, 8724, 11144, 12471, 7342, 10670, 13032, 12466, 17430, 11729, 9707, 13331, 11671, 14057, 12089, 15149, 12229, 10576, 16244, 22595, 8834, 12808, 15548, 12864, 10376, 13765, 6302, 21827, 10320, 9650, 10301, 9022, 10405, 12761, 11271, 9620, 8041, 6576, 7673, 11880, 13942, 11903, 20178, 14674, 12184, 9915, 23907, 19322, 10935, 8864, 8217, 7864, 17234, 10911, 11524, 7324, 13226, 12837, 16712, 11957, 15396, 8790, 8873, 9406, 13885, 14759, 9412, 10183, 15830, 12054, 15959, 12857, 8800, 17131, 13238, 6196, 13111, 11193, 12941, 11765, 16644, 8203, 12829, 11962, 10444, 9971, 12124, 12431, 11644, 8737, 10899, 13540, 14424, 10726, 12330, 13411, 9951, 14633, 13477, 8498, 12927, 12209, 9862, 14386, 17921, 8882, 11258, 9257, 14062, 10507, 9920, 10956, 15691, 12079, 16497, 9691, 16830, 27457, 22417, 14434, 10710, 10695, 9163, 11510, 25678, 14954, 12998, 9837, 12915, 12181, 12595, 18979, 6517, 15423, 11894, 10685, 12256, 8988, 14456, 13695, 10086, 12337, 10454, 13216, 12247, 9318, 11324, 10722, 14018, 13827, 17544, 10556, 11019, 15889, 10938, 11479, 10342, 13714, 16368, 9818, 6536, 16942, 35149, 14745, 8922, 10598, 6887, 9758, 11919, 16455, 13741, 11412, 11079, 11301, 14496, 11422, 9874, 12114, 15577, 15912, 11469, 12584, 10603, 8068, 11760, 15364, 11472, 13069, 11195, 12907, 10004, 14022, 13357, 11198, 12422, 14930, 10433, 16544, 12620, 7984, 13386, 12351, 8502, 10430, 8239, 7479, 14406, 12237, 14218, 11214, 8109, 13074, 10879, 17498, 10171, 12602, 13120, 11611, 7291, 20099, 10235, 11026, 9834, 19417, 15464, 12508, 10761, 11906, 10892, 14842, 8910, 11462, 10856, 13515, 10521, 14636, 11001, 12292, 13944, 8375, 7228, 13437, 13797, 10141, 12374, 9545, 11073, 11918, 6512, 14388, 8739, 11977, 7183, 14937, 10464, 10197, 11885, 10363, 17911, 14132, 15559, 12919, 11485, 11934, 12535, 13274, 12760, 18232, 10383, 10041, 13913, 33308, 9504, 13692, 14201, 12639, 10861, 9906, 11921, 15048, 7417, 12993, 15503, 14441, 11556, 9033, 9689, 16335, 11554, 16950, 6859, 14860, 17906, 11434, 11685, 9323, 9918, 9588, 7944, 17491, 10284, 5190, 25633, 9088, 9556, 13392, 15272, 10955, 9044, 15777, 11538, 11084, 19561, 14869, 15984, 11023, 13405, 15053, 14259, 11297, 14821, 11391, 14912, 10934, 14258, 22192, 14072, 14304, 8871, 14696, 11012, 9179, 13197, 11405, 11835, 12295, 30298, 12025, 11667, 22661, 29652, 12790, 12675, 9632, 12278, 12538, 10450, 13618, 14205, 10897, 15510, 13620, 12408, 18594, 12373, 10361, 10393, 16652, 19647, 15255, 15235, 10877, 10424, 11318, 8964, 11739, 12126, 11105, 8243, 15576, 15443, 12818, 10667, 13691, 13542, 14548, 10009, 12383, 9232, 11491, 10907, 8531, 13916, 9438, 19068, 12372, 14302, 12189, 8468, 11508, 14073, 17718, 12325, 14828, 12969, 10027, 16078, 12226, 8876, 9114, 9384, 14395, 13674, 14137, 7416, 15532, 14829, 23444, 16759, 14442, 9855, 11832, 11528, 10642, 18458, 10800, 7916, 10032, 19156, 6459, 9753, 8808, 17859, 12598, 11028, 13573, 10263, 12361, 7178, 11363, 15305, 13505, 22762, 12298, 12877, 8107, 10982, 11887, 11695, 11267, 13255, 15039, 9698, 13588, 14157, 18992, 14849, 12415, 11700, 12567, 8254, 11153, 7733, 13209, 11476, 13887, 10677, 11770, 11094, 12863, 10913, 11403, 14427, 11980, 15446, 10997, 10462, 11564, 13697, 11331, 19295, 11303, 12012, 9078, 14155, 11706, 9571, 9313, 10908, 10744, 18472, 14016, 11924, 7371, 8456, 10319, 11328, 12194, 16294, 10253, 10714, 10809, 14276, 10513, 15646, 12305, 9213, 14278, 6540, 32505, 7737, 14120, 6692, 12708, 9040, 28923, 9716, 18313, 10747, 12722, 16101, 11167, 12277, 11489, 12987, 12490, 8814, 14689, 10486, 9192, 13991, 11640, 10684, 18866, 16833, 10075, 13700, 13044, 13698, 12011, 13117, 10189, 8781, 13937, 13812, 7966, 11733, 14997, 11317, 14544, 8761, 13931, 9221, 14103, 13753, 8306, 13608, 10920, 14015, 10752, 6670, 7095, 12597, 11252, 14121, 8978, 14481, 16074, 9304, 13524, 12650, 13193, 14436, 9885, 12198, 4462, 12824, 15126, 13420, 12811, 13118, 11625, 12714, 14508, 13435, 10932, 25964, 12932, 9411, 15338, 10706, 13325, 9666, 11483, 13099, 15099, 15861, 13376, 12964, 9751, 13663, 13262, 13961, 13634, 10120, 13623, 12196, 11461, 11968, 10412, 10420, 16710, 10058, 25401, 16094, 8095, 12274, 19600, 18435, 11380, 11562, 8491, 16356, 11467, 11400, 12410, 13447, 10984, 11137, 12283, 9537, 11037, 11657, 17888, 12310, 12727, 9826, 12202, 13036, 11445, 13379, 13342, 7664, 13087, 13402, 13222, 13327, 10777, 14808, 10402, 21402, 10862, 15382, 13380, 15190, 13675, 13388, 12643, 11742, 16372, 11004, 12116, 14443, 8156, 12134, 11680, 11192, 5361, 14724, 11241, 15404, 15036, 13628, 21362, 11549, 11780, 19818, 6620, 9923, 11624, 14988, 15575, 22809, 11766, 13532, 10683, 12562, 10153, 17589, 11698, 13267, 15789, 8142, 8349, 12573, 19208, 11171, 8928, 10814, 11179, 11512, 11112, 10401, 9497, 17332, 11683, 8225, 11291, 8850, 9378, 13974, 13004, 12930, 14367, 8664, 10864, 11798, 12318, 9867, 13756, 18101, 17086, 14900, 9540, 11097, 19830, 7162, 9150, 15220, 21134, 11948, 10178, 10835, 11581, 13093, 10675, 13898, 22165, 10213, 17605, 19281, 14210, 13383, 9848, 9488, 15992, 13043, 13820, 9356, 10163, 8318, 11600, 11534, 10836, 11375, 13055, 16837, 13451, 12923, 14110, 17521, 18962, 9729, 12686, 9193, 10327, 8360, 18719, 16064, 11302, 15291, 11313, 14423, 6968, 10988, 12391, 12301, 12290, 10190, 21184, 14605, 10724, 9041, 14300, 11532, 10338, 20257, 19682, 12867, 10671, 13632, 15340, 13080, 11005, 14659, 18817, 13204, 14094, 13479, 13945, 10396, 9501, 11821, 11862, 13895, 17269, 15143, 14677, 16827, 17698, 12135, 15839, 13065, 11069, 12563, 11836, 12169, 11329, 16047, 18469, 19622, 13574, 13317, 12739, 12972, 10573, 12457, 15282, 14452, 18200, 15748, 12658, 16843, 13527, 14936, 8281, 10313, 15151, 12801, 11275, 9210, 14053, 10805, 16002, 11699, 11071, 19893, 13198, 10983, 14524, 13205, 30142, 9859, 14719, 11448, 12438, 26336, 16516, 11599, 7534, 12076, 13518, 16566, 15011, 16816, 12002, 13235, 10051, 6925, 16689, 8744, 16400, 12004, 11878, 14337, 11530, 9091, 27806, 9985, 9074, 11717, 34621, 10065, 10651, 11775, 15027, 8027, 15196, 5501, 12046, 12728, 10581, 22567, 13602, 10693, 15437, 12228, 15153, 19061, 14124, 22872, 11450, 35167, 14097, 13081, 15711, 15204, 13690, 13790, 15274, 10098, 12832, 8651, 12763, 12603, 8991, 13194, 11623, 11834, 10960, 14333, 15790, 12281, 19037, 11561, 23421, 14430, 11164, 9585, 12162, 17803, 9776, 13453, 13471, 9741, 9977, 10205, 12704, 15041, 11494, 10192, 13555, 12622, 12925, 12207, 11435, 13469, 17413, 11571, 12043, 11337, 7306, 12735, 8221, 17612, 19015, 16367, 11876, 9365, 13415, 14592, 16771, 11396, 11075, 9246, 11813, 30618, 17176, 10743, 10951, 12908, 16010, 8728, 12954, 8775, 7211, 11159, 11691, 11707, 20028, 17351, 12683, 9544, 14220, 13008, 6157, 11753, 12035, 15999, 11304, 13050, 13773, 16270, 9529, 15090, 23419, 16292, 14688, 12287, 10414, 6809, 9031, 13413, 10276, 16140, 14903, 13254, 9168, 25043, 7525, 8383, 13126, 13455, 8611, 11620, 16425, 10868, 10925, 29323, 12433, 10255, 9139, 12707, 10965, 9907, 9639, 12524, 9514, 25617, 12951, 13580, 17970, 12724, 12280, 9283, 15121, 9427, 13354, 11312, 9954, 10655, 8503, 18438, 11378, 9607, 16150, 13294, 14219, 23864, 14273, 9687, 10378, 11844, 17923, 10890, 11520, 24006, 14081, 10453, 9793, 10804, 15599, 18843, 14731, 7636, 14700, 11311, 9400, 12157, 20005, 11155, 15816, 17091, 9889, 12807, 15692, 12137, 10237, 23977, 12554, 10460, 23908, 16821, 15973, 9651, 10555, 12764, 10849, 28191, 13848, 16964, 16904, 12570, 12343, 13644, 10340, 11783, 9710, 19655, 12382, 9515, 18323, 8792, 17458, 29209, 22893, 16638, 16285, 19171, 13702, 12757, 12959, 10337, 11292, 10807, 18148, 14973, 20121, 12750, 13285, 7894, 10618, 15134, 18552, 13551, 10949, 14323, 13002, 13191, 11022, 15671, 7482, 11546, 17807, 14840, 9652, 12699, 11557, 16615, 15440, 16148, 8642, 17681, 7369, 11949, 15130, 12006, 11637, 13273, 15516, 11072, 14229, 15343, 13988, 11442, 10447, 16724, 11426, 3342, 18772, 12190, 11065, 6573, 13148, 13808, 20411, 15682, 13253, 9321, 21625, 10289, 10439, 11148, 10129, 5061, 9450, 18641, 19176, 10002, 11773, 12839, 14535, 14351, 14742, 12568, 10160, 11064, 12631, 9970, 17867, 15200, 10297, 11938, 15228, 11788, 11981, 16795, 14338, 15276, 15429, 10324, 19545, 6142, 15662, 10888, 11381, 3298, 12901, 16588, 10221, 12195, 17949, 11468, 17196, 13696, 17776, 15094, 12988, 11205, 15549, 17314, 12860, 14380, 8684, 11451, 14135, 14713, 12406, 15368, 7941, 11118, 17116, 12909, 10981, 11056, 11496, 13639, 12672, 16883, 6116, 18950, 16159, 11169, 7137, 15262, 12635, 11223, 19386, 6788, 12892, 10782, 10855, 11723, 17381, 13544, 10164, 17822, 9209, 16763, 21863, 13175, 13975, 12172, 7945, 17153, 17757, 14956, 12784, 12161, 6580, 15950, 9467, 21681, 14031, 11102, 10754, 13021, 21364, 13579, 10708, 31686, 10818, 11295, 24012, 10150, 33445, 8886, 21977, 13206, 18998, 12845, 18891, 15230, 9021, 10490, 18184, 19618, 16916, 9278, 10727, 12944, 25112, 15837, 11140, 13250, 12419, 11055, 13293, 11129, 12577, 8632, 29504, 8259, 10468, 22039, 8424, 4507, 11786, 14613, 9482, 10360, 12453, 10309, 13186, 8119, 11249, 11868, 11559, 11735, 15737, 16147, 12956, 31214, 12875, 9592, 26727, 12655, 20615, 12536, 10483, 18873, 13858, 13915, 8980, 12243, 14761, 17178, 17442, 7218, 10561, 25272, 10945, 16714, 16316, 17059, 15035, 14307, 13637, 13821, 11453, 15775, 13282, 16328, 8636, 15110, 17606, 15622, 13482, 11353, 22108, 30344, 10529, 12652, 10018, 12429, 9657, 23141, 7985, 15928, 13597, 6775, 26316, 19028, 14938, 10812, 14895, 15183, 32894, 26742, 15005, 15101, 10391, 15477, 13722, 15787, 15225, 14260, 10159, 12411, 12813, 13929, 26190, 11827, 17192, 13571, 25846, 13964, 11915, 18558, 14192, 11787, 20315, 13431, 29242, 9586, 17800, 18773, 15033, 9865, 27484, 16697, 10648, 11152, 27114, 14775, 11174, 13844, 14399, 16217, 13350, 15349, 11025, 13052, 14714, 13358, 14608, 14664, 10810, 25354, 23707, 12053, 18953, 12122, 14790, 11996, 14599, 12649, 25223, 12748, 17231, 23904, 12425, 22106, 10050, 13364, 19019, 12436, 12216, 11186, 14889, 8510, 10101, 11898, 11215, 13766, 19509, 14894, 19957, 16647, 15738, 10784, 13607, 10485, 16792, 12206, 14465, 7830, 14413, 12297, 15822, 12918, 15074, 13463, 13310, 15065, 11781, 15485, 19167, 12688, 14978, 12240, 10010, 14706, 11272, 8731, 6080, 18689, 6838, 16133, 9204, 11951, 4789, 30708, 11719, 12903, 10681, 8889, 18852, 13759, 9717, 16854, 13564, 11566, 12522, 14545, 13403, 18082, 12971, 15610, 12912, 11121, 14204, 23396, 12246, 10775, 10233, 14340, 15161, 22167, 10475, 21017, 11593, 6920, 31995, 10525, 12421, 11645, 17383, 10083, 26817, 20672, 14306, 9132, 14754, 16249, 14743, 14347, 13033, 12771, 17245, 12751, 17829, 8674, 15321, 9919, 13307, 11438, 13521, 13189, 9248, 15796, 14381, 12067, 6703, 12217, 10222, 15478, 21796, 10147, 6685, 8517, 10531, 11455, 12160, 8013, 13541, 13547, 26680, 7229, 18030, 10567, 15866, 15735, 26408, 10304, 13176, 12125, 15373, 26892, 12544, 15702, 15199, 12802, 25428, 9300, 33082, 23647, 13215, 27543, 13493, 9792, 19758, 14704, 16185, 12001, 6759, 11187, 13614, 14570, 10272, 10906, 11693, 13085, 22360, 13917, 14370, 13732, 12329, 12706, 19301, 10136, 22479, 9852, 8338, 10273, 14794, 11433, 11609, 15697, 11419, 21611, 17714, 18627, 13568, 10975, 14458, 12805, 23430, 13533, 14789, 12090, 12319, 9897, 14634, 9360, 14266, 13713, 9738, 10819, 13090, 12313, 19709, 7986, 11410, 9570, 17647, 11030, 12069, 10076, 14583, 12027, 13214, 16530, 15731, 20726, 8847, 14929, 14870, 7409, 12203, 17550, 9460, 13751, 12051, 11454, 24571, 11740, 7887, 13592, 12599, 19597, 12468, 13303, 13746, 7835, 13106, 8474, 11892, 16723, 13768, 9684, 13918, 19703, 12459, 13998, 10106, 13400, 11339, 10329, 14376, 17726, 8777, 10359, 15037, 12402, 13789, 13567, 14492, 13372, 13647, 17799, 13040, 10665, 13490, 17678, 13138, 16930, 14140, 14882, 13870, 13710, 21729, 22299, 9176, 14768, 11309, 19856, 16120, 14961, 12730, 11382, 12456, 11812, 16434, 13295, 10733, 13483, 13086, 14446, 21752, 18283, 15573, 11727, 13237, 13886, 14175, 19542, 10702, 27215, 10986, 14426, 17972, 12676, 13264, 11502, 12794, 14075, 10174, 6541, 13143, 15747, 10517, 11083, 15551, 15069, 27671, 10449, 12440, 23598, 12303, 10503, 14902, 15092, 8767, 10820, 15117, 20188, 10537, 12641, 35924, 9757, 12409, 7562, 13959, 12477, 14240, 14874, 9457, 15723, 12472, 9986, 12473, 16789, 16585, 25626, 19350, 14681, 19127, 11988, 13134, 13930, 13152, 9627, 19938, 15865, 17710, 12723, 15876, 11077, 13921, 15361, 6071, 13627, 25096, 18872, 17098, 10604, 17423, 9111, 12173, 15805, 13382, 12557, 16543, 21965, 15077, 11113, 11522, 6189, 13738, 15556, 17477, 16589, 14776, 11269, 14444, 14000, 9944, 11009, 23051, 12348, 14866, 9805, 13018, 8872, 24301, 12700, 22398, 9614, 13688, 10184, 11851, 7105, 21219, 10096, 14853, 10428, 9626, 23083, 13265, 11427, 11345, 18078, 16579, 9267, 13132, 19070, 15054, 15687, 12497, 11255, 7917, 6243, 14480, 11498, 11736, 14886, 7271, 25145, 12263, 15043, 9430, 9444, 11463, 12461, 11713, 13164, 10857, 11288, 16336, 25523, 34312, 16084, 9115, 17788, 12355, 16182, 9877, 12376, 17770, 12388, 8827, 15625, 24529, 15836, 13786, 10952, 18008, 11122, 12470, 10419, 17919, 13462, 10806, 13641, 12139, 10052, 19427, 23546, 21211, 12858, 19174, 9724, 12314, 9408, 13196, 14663, 18010, 17354, 11000, 15445, 7478, 16135, 17861, 4394, 7196, 20711, 6128, 22387, 16817, 11830, 15281, 9883, 11612, 9714, 13976, 11852, 12180, 13366, 11482, 18321, 12862, 13557, 12041, 11014, 12267, 14425, 15626, 14402, 13026, 14059, 17322, 8117, 13150, 17427, 14379, 12947, 14647, 6077, 25242, 16934, 21147, 16845, 18419, 12647, 15264, 10654, 11865, 11243, 8683, 12451, 11563, 17997, 10931, 12000, 15087, 13670, 17732, 14518, 2816, 15583, 13048, 11954, 10546, 12899, 16341, 17421, 14846, 10974, 9363, 12766, 22815, 9606, 14188, 14123, 16362, 11626, 16666, 11379, 16004, 10867, 11500, 12732, 10193, 14092, 14638, 11213, 9314, 10994, 17204, 13356, 21978, 15566, 5418, 22976, 16867, 13686, 13951, 17971, 18993, 16673, 11456, 17889, 15367, 16118, 11622, 12585, 10260, 13129, 13041, 12934, 4302, 11847, 12526, 12242, 14628, 10130, 14318, 9957, 25000, 14382, 15812, 12249, 12583, 12532, 18441, 14295, 14845, 12156, 15546, 11734, 18613, 16352, 16088, 19681, 24487, 16932, 11202, 15436, 14100, 17088, 16224, 16410, 13082, 13279, 14412, 18099, 14537, 11216, 13899, 14235, 15890, 21840, 12368, 14611, 11875, 16462, 28805, 11721, 14082, 10148, 12879, 20825, 12769, 18086, 14963, 16020, 11478, 11889, 15733, 15362, 14892, 15615, 20325, 16562, 15527, 15017, 12363, 25527, 14575, 14739, 17576, 16641, 16288, 17301, 13783, 10793, 15247, 15508, 13537, 12119, 10456, 14617, 11837, 10248, 12445, 12861, 11364, 7832, 21127, 8666, 15823, 15265, 21799, 16324, 12745, 17610, 17609, 11385, 20208, 9123, 23851, 14479, 11074, 14644, 17132, 14487, 14672, 10411, 17456, 15380, 20718, 17107, 12171, 10035, 11689, 20437, 12952, 16219, 10125, 16144, 11920, 11675, 14362, 21701, 12820, 10626, 12003, 10028, 15809, 22061, 12213, 14200, 15129, 13687, 12896, 14721, 15354, 17134, 13645, 11803, 13173, 9991, 13488, 24079, 11420, 12308, 18507, 14033, 12493, 15226, 19266, 12204, 13807, 16383, 9495, 18488, 13146, 27103, 14477, 14511, 13121, 12306, 18667, 15786, 14164, 21167, 15455, 13155, 13396, 18917, 12414, 13529, 14109, 16573, 12637, 13456, 16072, 20062, 30685, 15639, 20693, 17886, 13909, 20051, 13791, 17505, 12347, 14753, 13705, 17651, 14236, 13068, 14369, 14267, 15315, 10863, 16272, 16172, 14288, 18726, 12881, 15936, 24284, 21500, 14603, 23823, 15352, 12517, 13263, 14514, 15705, 6917, 15300, 13102, 11047, 23057, 20364, 13875, 13184, 17567, 16531, 13719, 11634, 35291, 6949, 32296, 14400, 12564, 12740, 17361, 7854, 11653, 31993, 13010, 19853, 18880, 19549, 11227, 14558, 12777, 29748, 33956, 18334, 12736, 16606, 16282, 13891, 15788, 15241, 14717, 19444, 9719, 14148, 13083, 20413, 16882, 5314, 15012, 19865, 11246, 10990, 12968, 14352, 20745, 8951, 15486, 18804, 11601, 18143, 10579, 12694, 17003, 14108, 18362, 11658, 17110, 21207, 6024, 16450, 13552, 12371, 14052, 12258, 8596, 21002, 13971, 19272, 15391, 16912, 12017, 10219, 11165, 17187, 16668, 16049, 13472, 9811, 16232, 13852, 19336, 17136, 13406, 10049, 18867, 8749, 24265, 16683, 10916, 19816, 13127, 15108, 13651, 14068, 14305, 24732, 14786, 13423, 10707, 14515, 9890, 11172, 31240, 20993, 20243, 13611, 14064, 15603, 16453, 13316, 10410, 12164, 13421, 14692, 17838, 10813, 10647, 12427, 9107, 11853, 13548, 13963, 11808, 15079, 29746, 10772, 11950, 12632, 13883, 13168, 16635, 14985, 13941, 14167, 8298, 14847, 19630, 14112, 13993, 14490, 11818, 17574, 27046, 12698, 17448, 10729, 14026, 29694, 17748, 14389, 20648, 9690, 16927, 19948, 15518, 15465, 17570, 7208, 14793, 11778, 14970, 15860, 20695, 11211, 11045, 10580, 14348, 13177, 22914, 19173, 13635, 7483, 12234, 17465, 22834, 14176, 19732, 13221, 5467, 5837, 15138, 26094, 11979, 12720, 14226, 10455, 15471, 12551, 12578, 21335, 14083, 21513, 11897, 16943, 11341, 13270, 21385, 4088, 25868, 17994, 10753, 18903, 14749, 13948, 14542, 11440, 12795, 18277, 14199, 22579, 16659, 22227, 26911, 16675, 10322, 13200, 12488, 14939, 12019, 15851, 19010, 16213, 14722, 20803, 13908, 19087, 14418, 12561, 9721, 27270, 15910, 12028, 11464, 17386, 12774, 16254, 16247, 26532, 19819, 18385, 16563, 14225, 14877, 24029, 17969, 14222, 11013, 14310, 16239, 18378, 10917, 10816, 7337, 8740, 14002, 16382, 9692, 13271, 12669, 8473, 17466, 16931, 10786, 29413, 32001, 16208, 14914, 14904, 6462, 13016, 13813, 35527, 7722, 17135, 16645, 10504, 10316, 17467, 11809, 16564, 13920, 14784, 11423, 15428, 12816, 15249, 12887, 15997, 14581, 11162, 19008, 14357, 16444, 18626, 5413, 15345, 12935, 15435, 13344, 10409, 13857, 19973, 12225, 12880, 9524, 16055, 12797, 8640, 14701, 18390, 16143, 14626, 17009, 12992, 18749, 11114, 13997, 10025, 25351, 20658, 16859, 16308, 14873, 14576, 13459, 21490, 17669, 15869, 7141, 11802, 10341, 16243, 15479, 28199, 19481, 14669, 35914, 14764, 14590, 16918, 12070, 15028, 13291, 31832, 16242, 15141, 11259, 13094, 17794, 19429, 20830, 13292, 9832, 12511, 15283, 15963, 9565, 25734, 17250, 15835, 13077, 25385, 10006, 10438, 12836, 15258, 21549, 11828, 16369, 16203, 8730, 12759, 17877, 15843, 16805, 15979, 11784, 21223, 13207, 15594, 12520, 22345, 12080, 15434, 4102, 15273, 11545, 12469, 11805, 13525, 16062, 12685, 12175, 21100, 14691, 13241, 15882, 6607, 17947, 12111, 15769, 12819, 14195, 25312, 15400, 9815, 14045, 9647, 12985, 17344, 12279, 19564, 15904, 12458, 16869, 16289, 16913, 26089, 20135, 22669, 13740, 13726, 19748, 18600, 9987, 16828, 15560, 25449, 13604, 14624, 15152, 15514, 17831, 13208, 11348, 16431, 22871, 23789, 17860, 11397, 11669, 34484, 15524, 9047, 12200, 19617, 17328, 9797, 22463, 17639, 17400, 14533, 15324, 16572, 15411, 12014, 15653, 26615, 5783, 11101, 12970, 10339, 9964, 11796, 16558, 18162, 24183, 8038, 12040, 10264, 8599, 18258, 19570, 16124, 15752, 15447, 15714, 18675, 17460, 6947, 13879, 11263, 19385, 16318, 15772, 26949, 12910, 14177, 13819, 14269, 13672, 21258, 17826, 28552, 14876, 11588, 11630, 8597, 21338, 20434, 31950, 13803, 11185, 16995, 12370, 9509, 14941, 13434, 17021, 14588, 17201, 9227, 14836, 15125, 11039, 7890, 13243, 11404, 14750, 27873, 12713, 13159, 19548, 15669, 15569, 13923, 15925, 7578, 10471, 18840, 12775, 13089, 17081, 9211, 16212, 13301, 10102, 12690, 20787, 13926, 17292, 16489, 14262, 15736, 17955, 16773, 17396, 18309, 17597, 9663, 11444, 10663, 11881, 14972, 21518, 12201, 7601, 15511, 18107, 28969, 15399, 14896, 11411, 13517, 13015, 11613, 19511, 10858, 15616, 14501, 7624, 12358, 16470, 8705, 26344, 13704, 24429, 12381, 13172, 19809, 18573, 13233, 15009, 27989, 13410, 22089, 15756, 13761, 13805, 7128, 15045, 25580, 17385, 12047, 14950, 11347, 17031, 13278, 35927, 15916, 10799, 14374, 14610, 14049, 10479, 23909, 15302, 25482, 13665, 11553, 9908, 15872, 20739, 13096, 11325, 19148, 18892, 12107, 16695, 12670, 11531, 9160, 15821, 14891, 14942, 19135, 20101, 11794, 15695, 13752, 18591, 13992, 32009, 18855, 14361, 13747, 33180, 15586, 17873, 19361, 15652, 22069, 17978, 9762, 14728, 13494, 19988, 8962, 20937, 15350, 13849, 15068, 20321, 27370, 13319, 34493, 25629, 13758, 13906, 17602, 16979, 18970, 16073, 12110, 9747, 15188, 13288, 15001, 17080, 23656, 21790, 29663, 14943, 13683, 32588, 14421, 13348, 16191, 16997, 12288, 16416, 14807, 15696, 15384, 13699, 24696, 13864, 10200, 15251, 13625, 17837, 14476, 17633, 21546, 19270, 16056, 18735, 17348, 19040, 19196, 20340, 13980, 13512, 17870, 8110, 15216, 11327, 8154, 15326, 16091, 10426, 14268, 13802, 20136, 16703, 10142, 16978, 18337, 9364, 19141, 13678, 16806, 11697, 13787, 14417, 23039, 11933, 14949, 12286, 17667, 11392, 13750, 14203, 11703, 26424, 16774, 19204, 17099, 13387, 22262, 14741, 11393, 13659, 11108, 15806, 21267, 12478, 12894, 13958, 13708, 14757, 15658, 13338, 32857, 14578, 11676, 20682, 20808, 16154, 12183, 16227, 13298, 16633, 17696, 28672, 12527, 17579, 17126, 15608, 19803, 19669, 18514, 17729, 13960, 15346, 18043, 19608, 15208, 24111, 15553, 7274, 10520, 31446, 20869, 8945, 16988, 16274, 16042, 17140, 14126, 20502, 13131, 18474, 15019, 12946, 17611, 14077, 14813, 11822, 16864, 10594, 13594, 14798, 14879, 11614, 15654, 12990, 22546, 21166, 15390, 7155, 12746, 15357, 16640, 16569, 13593, 16259, 15289, 30275, 19977, 14916, 15014, 9909, 10972, 12074, 28228, 16008, 12545, 27406, 18104, 26440, 11206, 20713, 23492, 21883, 14312, 30635, 12377, 13078, 22820, 13966, 11439, 12782, 18580, 13661, 13825, 13601, 18127, 25506, 13223, 14858, 8235, 12142, 12754, 13005, 13911, 14567, 17676, 14401, 11638, 10781, 10332, 6343, 18490, 12621, 15587, 16054, 9518, 11518, 13865, 25430, 11608, 11782, 15003, 14435, 13970, 17072, 10687, 10211, 21712, 24759, 11725, 19680, 22651, 10621, 20217, 13823, 21850, 14725, 15850, 14635, 11704, 20193, 17167, 9945, 7616, 10377, 14066, 15764, 16604, 14043, 10633, 22865, 27479, 11662, 12984, 16061, 27120, 19065, 11237, 15665, 7758, 7785, 15395, 14038, 11874, 20050, 14878, 22421, 15971, 14666, 24513, 13389, 13049, 11591, 13321, 7350, 19229, 7142, 14569, 21543, 24297, 15675, 11928, 16415, 17075, 13949, 12531, 12702, 15202, 17184, 13337, 18520, 19823, 18114, 16862, 25217, 15513, 15203, 25373, 17390, 15419, 10992, 14967, 14070, 15420, 11142, 20229, 12106, 15726, 20295, 18630, 11116, 16495, 13720, 21835, 22357, 9382, 14991, 15854, 14217, 14594, 16257, 17973, 15827, 19200, 16155, 18752, 12533, 11984, 19320, 18656, 14020, 16709, 21025, 12815, 14482, 13497, 21559, 11922, 18012, 18252, 11986, 13613, 9243, 28739, 14293, 15439, 10889, 21526, 19648, 12222, 10750, 13566, 14178, 10735, 18276, 8471, 21696, 17206, 20953, 14800, 16587, 15080, 14683, 15081, 19364, 16092, 11789, 15893, 12756, 8982, 22115, 14118, 18878, 14271, 21327, 19025, 14324, 17784, 17931, 15804, 15157, 17538, 17083, 17713, 16229, 14239, 4725, 6791, 14149, 12838, 14172, 14466, 18575, 16306, 7667, 19558, 17744, 18279, 12566, 17029, 15558, 14872, 15085, 20511, 23351, 14778, 13715, 14396, 10371, 21763, 16458, 9743, 16261, 14695, 18790, 16762, 11772, 17422, 21283, 12989, 18110, 7267, 20555, 25394, 29142, 31403, 11018, 11222, 15515, 15724, 9638, 15104, 17112, 11597, 13399, 15180, 17902, 17352, 17780, 15825, 22812, 11010, 18943, 14069, 13788, 14751, 19284, 19602, 15113, 11953, 19721, 15801, 12241, 14560, 33804, 16110, 18064, 13943, 18282, 23489, 16284, 15329, 19267, 12218, 19578, 16702, 10946, 23565, 19415, 19093, 11486, 16380, 30721, 10696, 11944, 14494, 13511, 12938, 11196, 34378, 15988, 12830, 18961, 9673, 13122, 12619, 12424, 21733, 11585, 18649, 17723, 7246, 15118, 12462, 17382, 12147, 8415, 15353, 20350, 11823, 21457, 13284, 13764, 16893, 11515, 14531, 18071, 14004, 20252, 14104, 15227, 16086, 14250, 10545, 13311, 8998, 20818, 18928, 13591, 19583, 17522, 12726, 21898, 6718, 21249, 10317, 15941, 21384, 23080, 15815, 17097, 13496, 13598, 13438, 20231, 13300, 14158, 19519, 17979, 24311, 11646, 16551, 11359, 15856, 16428, 8301, 10886, 15656, 8191, 13581, 15729, 33776, 14003, 21677, 18154, 13201, 14159, 17496, 14163, 12580, 15632, 29264, 13454, 32339, 11815, 13559, 12852, 19933, 10463, 14115, 15458, 14556, 18475, 11308, 25479, 25740, 16017, 19693, 13491, 17630, 15387, 14054, 19346, 15720, 13012, 14658, 17267, 12692, 11797, 14640, 14758, 16177, 9583, 17927, 19572, 18037, 11904, 27317, 17660, 29957, 11015, 13266, 9902, 16392, 13658, 15032, 20588, 10432, 14815, 15638, 14232, 13724, 13621, 11188, 32540, 11236, 11548, 18510, 14637, 16619, 16163, 14048, 19226, 17039, 13492, 19119, 19649, 13130, 11473, 12251, 15602, 10606, 19006, 14616, 19211, 17548, 20342, 16857, 15945, 18241, 8824, 15965, 16582, 12788, 14224, 13862, 13022, 27162, 19884, 16476, 12945, 8538, 15901, 14625, 18117, 15763, 15761, 12082, 16043, 14313, 14028, 12158, 12928, 12332, 9441, 16999, 8787, 16023, 34017, 7836, 21786, 13901, 15007, 12626, 18454, 17850, 13563, 16395, 22011, 13123, 18118, 16327, 17789, 23315, 19521, 15983, 22966, 17143, 20754, 10381, 12309, 13583, 13584, 21566, 15943, 13810, 17364, 12803, 11688, 17781, 17768, 17125, 15589, 17450, 17499, 11636, 14274, 15086, 34956, 23300, 13979, 14642, 17230, 16839, 20299, 14737, 14359, 12018, 17624, 21453, 10115, 17821, 17225, 23511, 19218, 14233, 17287, 14975, 12662, 9790, 12549, 12143, 17169, 9680, 33557, 26607, 19150, 21129, 15600, 15111, 15838, 13457, 11743, 17337, 14471, 13996, 15449, 15520, 18307, 12513, 24522, 13418, 14468, 29626, 13995, 11804, 13443, 12464, 18412, 15923, 12285, 12269, 15402, 15666, 20493, 11173, 12481, 15073, 16990, 18568, 14316, 15484, 11523, 11224, 14986, 17041, 15601, 15922, 18046, 15470, 16093, 16067, 15677, 11811, 17528, 11999, 16541, 13743, 29629, 14587, 20792, 17223, 12733, 17372, 12604, 16167, 16525, 12033, 26498, 9882, 15785, 12606, 29324, 16095, 20375, 17108, 16409, 14830, 12392, 10627, 14598, 24764, 26375, 19456, 13729, 10968, 14329, 15998, 29097, 17475, 13432, 14910, 18977, 13476, 17557, 15408, 12311, 16279, 18274, 23331, 19738, 18622, 14315, 14698, 14180, 18423, 16111, 16708, 13701, 17268, 16113, 15240, 19462, 14987, 12257, 13582, 26639, 15140, 12866, 24343, 20410, 13340, 16578, 25410, 10498, 9629, 16881, 12010, 13762, 23187, 15875, 18668, 15433, 8165, 17937, 18017, 13334, 18125, 31372, 16777, 16969, 14582, 13165, 15211, 15650, 13900, 16547, 15492, 16994, 11909, 17988, 16158, 13162, 12294, 16941, 19699, 13596, 18685, 9928, 18481, 13452, 14493, 16256, 17769, 11758, 15066, 17506, 18217, 15519, 19419, 15657, 15708, 16236, 19280, 17704, 16349, 12221, 8134, 14601, 13461, 18440, 14231, 15774, 18779, 20625, 17185, 27147, 16798, 20137, 10624, 11093, 34064, 15106, 10922, 13526, 14047, 22498, 19044, 12974, 13076, 21908, 12529, 30905, 20860, 18327, 23379, 14346, 16992, 12929, 11016, 12022, 13236, 14831, 19055, 17753, 18551, 17015, 12590, 14543, 14191, 18537, 14765, 12152, 14711, 27649, 17435, 10457, 22787, 15993, 15892, 20310, 12975, 18350, 14257, 15940, 11730, 15182, 13019, 17236, 16797, 14237, 24334, 24583, 10865, 14774, 19932, 13707, 10673, 14752, 8861, 33238, 14562, 17191, 15322, 21486, 19195, 16418, 17787, 19746, 18300, 11447, 11997, 13693, 19852, 17350, 12401, 18766, 14277, 13260, 18174, 22682, 17449, 15846, 13142, 14455, 16842, 13195, 25518, 12743, 16471, 16097, 17399, 25644, 12574, 15995, 21328, 14733, 22735, 11956, 17457, 15223, 24195, 13796, 17519, 15259, 18870, 23946, 17926, 19370, 32240, 15701, 20185, 11517, 17440, 16787, 22190, 9216, 19880, 16487, 14234, 16575, 15166, 13436, 14969, 9850, 19817, 17894, 29414, 23014, 20073, 27669, 14189, 10730, 22094, 15410, 5794, 17431, 16000, 30878, 16542, 13973, 8938, 24300, 11750, 22705, 15542, 18253, 15091, 19547, 13500, 19297, 22611, 22840, 10021, 17489, 20061, 11238, 22003, 18883, 11678, 16141, 16800, 16517, 18760, 13671, 17443, 18755, 18021, 10904, 16873, 15584, 19222, 7711, 16937, 24268, 17814, 18506, 8797, 15550, 12663, 17319, 11941, 9756, 13853, 19540, 9649, 15493, 19039, 20965, 19517, 17526, 16580, 17326, 17469, 21525, 15457, 13341, 17087, 8050, 13590, 22924, 34844, 22587, 21679, 23848, 28423, 21048, 21586, 12072, 14834, 15474, 11632, 12460, 10822, 13465, 14530, 13538, 16879, 14319, 12322, 13378, 14327, 19886, 13072, 13140, 15754, 28647, 9912, 15487, 17207, 15459, 17798, 17228, 13424, 20230, 21602, 18197, 16595, 18319, 17895, 17275, 6523, 19440, 16535, 13088, 21320, 18534, 13079, 11362, 16966, 16268, 13277, 23280, 23404, 19261, 14207, 16131, 16165, 16419, 20114, 18339, 17366, 23286, 32390, 19271, 17695, 15290, 16634, 17604, 9899, 14093, 14913, 11974, 14715, 11180, 14478, 22825, 15266, 12962, 10568, 24247, 17518, 19287, 17759, 18608, 24979, 18638, 10872, 22904, 20146, 20916, 12030, 12942, 19908, 20856, 14687, 24011, 22368, 16360, 20349, 14964, 13727, 16207, 13013, 16283, 11541, 24603, 17853, 16716, 6970, 17720, 11335, 16258, 15150, 26514, 12753, 15659, 19263, 15794, 14394, 14771, 11618, 12021, 18372, 13188, 10145, 21145, 13867, 23601, 17741, 15791, 17082, 16221, 22545, 34455, 16307, 14291, 15169, 17767, 13834, 11594, 11598, 19661, 14181, 23054, 22278, 10398, 13261, 16632, 13028, 18711, 15171, 13839, 17531, 14551, 15144, 19967, 12293, 14517, 16355, 13595, 15902, 13017, 12231, 15917, 14407, 15958, 23420, 13365, 14865, 12248, 14248, 20663, 13059, 14251, 12600, 17983, 24022, 14756, 17540, 24762, 21635, 12185, 3546, 17195, 18989, 12719, 13136, 16427, 22759, 16412, 19413, 9705, 21830, 13682, 18926, 19475, 10017, 19958, 17733, 20316, 16218, 15263, 19566, 15574, 17749, 17345, 9294, 19441, 13989, 14128, 11967, 21189, 17146, 22081, 14249, 12693, 19158, 20554, 17130, 15767, 19614, 13398, 16556, 14398, 19142, 15021, 15245, 16890, 19730, 20072, 19924, 14907, 17281, 16384, 12101, 20048, 22612, 18112, 15173, 10979, 16421, 21777, 16908, 17825, 15956, 15388, 25929, 23283, 14243, 16844, 21607, 13137, 19643, 17428, 16887, 17359, 9853, 17220, 13024, 14720, 15713, 17925, 21155, 32349, 16370, 8307, 15730, 19192, 22519, 16613, 25246, 22970, 18047, 23195, 13508, 17256, 32688, 17950, 32503, 11966, 11762, 16482, 20452, 13329, 22374, 16440, 17138, 11139, 15119, 22803, 21248, 14483, 15604, 13151, 18084, 19169, 13924, 14631, 14280, 17637, 11046, 16153, 19956, 19634, 15962, 14265, 24913, 16662, 8452, 21806, 17691, 17565, 17562, 15915, 12680, 15684, 18516, 24249, 14489, 20387, 21177, 17274, 12846, 13755, 13377, 17249, 19822, 24019, 17640, 15047, 8619, 16985, 25040, 16016, 13655, 12020, 17459, 15698, 23928, 16847, 16855, 16407, 8921, 13769, 16466, 16248, 12443, 13422, 17294, 24769, 11627, 23883, 17712, 34386, 13689, 18967, 20179, 24945, 20962, 14438, 9498, 16132, 6424, 19999, 17659, 17817, 14787, 13489, 20687, 19326, 24612, 18616, 16469, 16069, 12791, 7893, 10224, 14117, 15996, 13962, 22438, 17032, 33294, 17615, 17077, 14920, 9437, 17158, 15700, 21918, 13535, 16571, 18316, 16251, 15034, 16991, 25532, 8518, 13946, 10208, 19153, 21970, 8362, 12537, 15432, 14979, 16035, 12055, 11260, 22586, 13112, 11178, 10333, 6619, 7967, 21740, 17638, 9530, 15543, 21510, 15397, 15029, 22767, 14690, 16053, 16594, 13967, 14296, 12642, 19471, 13240, 13369, 28635, 14495, 14712, 10562, 24177, 24090, 14238, 21717, 19929, 9494, 14317, 15195, 19861, 9087, 19686, 18210, 18555, 10031, 14230, 17137, 17439, 12664, 18746, 14673, 21413, 12042, 11257, 12296, 33604, 20216, 18476, 20040, 15609, 13664, 11937, 18068, 17515, 13220, 17452, 20110, 15541, 24154, 18288, 16314, 12193, 14299, 24043, 17839, 13353, 20639, 16754, 7853, 25836, 19598, 18056, 15891, 31902, 14584, 17403, 17202, 15198, 19406, 12335, 22575, 17064, 11384, 29162, 30100, 24993, 15299, 12826, 15360, 19711, 17953, 9953, 22018, 11605, 11722, 31337, 17551, 16066, 12540, 20421, 16958, 20000, 16920, 11540, 14336, 14042, 22410, 14102, 16597, 24900, 16106, 29007, 34586, 17313, 16951, 16600, 14006, 14523, 20887, 15765, 14391, 16863, 19202, 15250, 12849, 13302, 17311, 17987, 14086, 30558, 26411, 14782, 19670, 16738, 29786, 22302, 33553, 21064, 19031, 20866, 19121, 20184, 10765, 12981, 14791, 13809, 11604, 16376, 14675, 6326, 15339, 13234, 17793, 7707, 17658, 11771, 15648, 16293, 13401, 34783, 20343, 15284, 17318, 12979, 19048, 15880, 17917, 16405, 12721, 14198, 27663, 30609, 14244, 32387, 16429, 20202, 12831, 16179, 9577, 18670, 20022, 19747, 18093, 17743, 14099, 13531, 16348, 27242, 14065, 12174, 28629, 20189, 13953, 18473, 21217, 19105, 16345, 25494, 15820, 16617, 11586, 15168, 31583, 16366, 25621, 29549, 14718, 20891, 20967, 22461, 17055, 16518, 15529, 15585, 12447, 16432, 15571, 18837, 14010, 15895, 15332, 12333, 22162, 13660, 15438, 24589, 14883, 17470, 23088, 18449, 15415, 18885, 18721, 14162, 21524, 12507, 12389, 13728, 11686, 24264, 11261, 12289, 16730, 13680, 16331, 10392, 18161, 18365, 22146, 16889, 8841, 12232, 13289, 19963, 24587, 24194, 24151, 20307, 23307, 22868, 16803, 22710, 22256, 16079, 15722, 21547, 12893, 15466, 22152, 35393, 12609, 16933, 23075, 15977, 18271, 12244, 19351, 19744, 22963, 25032, 6329, 27636, 9456, 28090, 17070, 19060, 16523, 20777, 16601, 11057, 20020, 15873, 16959, 16548, 11998, 15504, 15931, 19826, 19404, 17792, 18203, 12752, 18049, 19389, 33473, 9804, 12718, 19993, 17093, 18036, 16911, 12384, 19628, 13990, 19254, 20668, 14670, 19004, 10853, 22912, 22284, 17290, 16961, 19867, 21647, 19245, 18606, 19319, 16082, 14639, 16433, 8891, 12786, 8431, 15858, 12884, 20589, 13502, 12145, 14699, 14061, 14283, 16936, 20549, 32272, 16286, 18222, 15271, 17649, 20442, 21879, 16315, 22923, 8926, 17262, 19275, 19433, 13831, 15460, 18223, 14247, 15868, 15528, 18771, 26060, 20275, 13478, 15418, 18951, 12552, 15055, 11133, 13968, 28876, 19629, 18172, 19941, 21565, 19790, 13957, 11890, 13912, 17004, 18706, 19367, 18003, 8559, 28182, 11262, 13038, 19697, 27041, 15049, 19562, 14409, 16333, 11338, 35124, 34948, 15900, 14364, 13433, 19847, 16567, 16737, 23990, 15317, 13027, 14565, 21641, 25571, 15935, 15344, 14510, 13610, 10650, 23279, 14512, 17932, 18108, 18687, 17283, 14919, 9868, 15888, 15552, 16804, 26374, 17830, 16005, 26688, 17486, 17896, 12276, 31847, 13850, 20497, 29404, 17621, 15753, 13011, 18566, 14089, 16451, 25345, 18934, 13296, 10399, 19414, 21369, 11286, 14780, 19713, 16028, 17272, 15651, 20903, 14504, 21858, 17847, 22077, 18425, 15293, 17405, 13785, 16277, 14960, 16850, 13777, 18710, 23751, 14655, 15156, 15197, 16878, 13160, 21228, 17808, 18405, 18920, 22582, 17240, 17170, 15617, 21468, 27733, 19962, 23770, 27865, 15256, 14408, 35192, 16378, 10258, 21090, 22353, 19376, 21062, 17843, 18859, 19092, 24978, 21057, 16103, 26672, 13907, 10425, 12515, 23586, 15547, 28685, 19053, 21097, 31652, 20872, 21054, 15624, 26550, 20910, 23999, 16420, 28584, 16919, 19089, 16653, 17182, 14194, 31138, 12344, 18392, 17785, 22947, 12491, 17464, 19219, 20250, 16309, 21981, 26970, 25779, 16975, 15759, 22112, 10161, 14770, 16954, 13955, 24854, 12505, 24934, 15885, 16870, 20256, 14213, 17175, 19995, 15725, 20585, 21704, 23285, 14166, 30245, 12865, 19829, 8467, 18955, 13503, 32427, 21718, 17266, 16235, 9507, 15475, 13247, 15537, 13851, 16508, 17555, 14356, 14256, 20738, 18215, 16373, 17634, 18225, 24253, 28970, 25190, 9924, 20190, 17117, 13798, 15619, 16636, 15128, 35558, 15911, 12809, 8433, 19887, 16745, 18717, 16963, 18657, 20450, 15874, 15564, 23859, 15590, 22029, 13153, 13244, 22300, 15275, 13058, 17285, 23452, 19858, 25865, 29976, 15176, 9555, 22006, 15562, 13192, 16139, 16970, 17747, 33410, 16230, 10467, 19782, 13029, 23686, 18560, 16894, 14111, 16691, 15779, 17037, 18610, 10149, 22464, 21516, 24144, 12215, 17863, 23621, 24198, 23993, 34020, 16987, 17309, 26959, 18918, 21440, 23473, 17233, 10802, 17378, 20226, 24791, 16393, 14841, 10020, 13212, 20031, 27715, 30095, 13474, 19955, 14806, 12404, 22653, 15693, 20412, 20642, 14171, 20561, 16457, 17836, 20735, 18639, 17897, 12354, 27963, 22743, 21081, 13854, 14050, 16401, 23884, 13144, 21330, 15328, 22648, 14881, 20950, 19014, 19228, 20431, 16590, 18654, 33846, 6538, 18188, 19989, 15927, 17708, 20542, 14618, 16511, 17632, 11708, 15506, 13558, 17046, 8263, 20468, 15450, 17700, 14580, 25878, 18156, 15538, 29902, 17813, 18838, 22557, 10976, 18546, 18119, 23566, 13448, 21027, 12729, 19940, 19523, 17084, 16704, 13257, 18007, 13006, 13545, 23726, 18142, 14843, 16968, 18966, 19864, 21866, 18136, 17392, 16694, 11829, 14341, 19143, 10512, 18275, 16364, 19207, 19978, 27463, 19191, 21441, 18925, 20490, 30391, 16168, 13794, 13202, 24462, 14012, 18129, 12479, 23504, 18647, 17227, 16669, 16907, 14303, 12205, 22318, 19041, 27798, 24350, 17583, 19750, 21146, 15083, 11816, 12413, 18399, 19919, 20736, 17436, 17047, 25529, 9424, 19250, 31302, 26917, 23323, 15502, 24152, 16374, 20484, 19733, 10552, 15799, 18557, 14098, 17910, 12542, 21969, 15325, 14946, 14901, 13771, 21636, 20569, 14933, 29178, 14816, 14817, 14571, 9847, 22477, 16834, 13577, 14785, 19486, 16398, 13513, 16848, 12005, 24707, 16776, 16325, 14921, 22564, 23921, 19718, 16216, 16391, 14420, 23644, 15986, 19128, 29359, 29610, 19057, 27099, 17264, 19726, 23800, 20783, 19692, 20426, 26889, 18027, 25874, 14308, 19024, 18359, 25657, 20567, 9372, 15064, 15312, 16693, 12396, 18123, 8472, 19425, 18185, 17461, 18732, 18059, 19907, 13982, 17572, 18195, 24228, 13631, 16152, 30939, 26230, 29755, 17547, 18589, 19834, 14980, 16955, 17527, 16670, 12148, 15063, 17418, 15980, 27572, 28146, 17429, 21285, 23610, 17680, 19084, 11336, 12326, 20843, 14027, 8005, 18661, 12369, 8029, 14202, 20858, 19237, 14804, 18377, 16586, 17474, 16780, 17369, 23987, 10957, 22020, 16301, 13430, 17485, 21000, 14656, 16685, 10039, 24805, 16018, 14133, 18094, 16998, 14502, 14607, 25396, 9500, 13187, 13367, 15071, 25131, 16522, 17738, 16989, 12441, 16184, 15469, 15709, 17775, 15341, 13313, 15409, 16769, 15834, 20966, 22233, 24536, 26038, 17864, 13736, 20166, 18818, 20150, 11715, 17690, 20535, 15046, 12630, 12854, 10668, 14354, 22695, 18899, 23646, 16145, 19029, 21597, 13868, 16665, 18809, 23217, 18297, 14416, 30972, 22110, 20679, 15740, 12359, 16767, 13950, 24598, 14993, 14187, 17501, 16045, 18576, 20144, 16858, 20239, 16090, 22472, 14600, 21523, 20559, 22780, 22503, 14654, 12168, 15751, 13837, 24797, 15142, 21261, 25702, 15441, 15926, 21706, 11652, 30262, 14679, 33938, 15310, 19234, 6810, 20756, 10787, 17728, 17797, 16701, 14410, 25503, 18544, 23898, 18033, 21420, 13318, 18326, 11746, 33340, 19193, 20646, 22626, 12166, 18526, 18301, 21329, 16342, 16484, 14958, 6510, 19412, 31408, 14856, 15454, 15732, 32595, 26795, 12895, 15185, 33426, 21555, 14119, 17664, 21958, 15953, 23624, 17561, 19036, 20254, 18662, 16468, 13550, 17018, 11565, 21156, 12523, 11276, 29003, 18802, 15209, 13395, 19049, 9357, 16735, 17057, 28393, 24305, 12657, 18482, 17512, 35895, 15688, 11209, 19751, 10550, 15268, 15966, 13933, 25853, 25352, 18100, 19787, 18284, 22411, 23734, 18121, 20811, 12489, 15661, 24461, 18166, 21013, 21218, 9628, 12058, 21753, 19108, 14682, 25119, 18087, 16561, 21115, 18765, 13940, 19800, 22078, 9449, 13346, 21999, 20080, 14923, 28037, 18079, 24150, 22334, 18018, 18747, 22480, 13723, 21291, 14676, 16365, 14797, 17913, 16142, 22258, 26519, 15000, 21306, 18187, 14812, 13507, 19426, 12966, 20762, 18636, 21038, 16513, 17255, 23448, 17210, 20655, 15855, 17740, 21862, 15802, 18341, 23235, 16494, 22287, 17242, 20627, 21948, 18463, 18655, 13245, 16514, 13412, 23395, 24557, 12666, 21656, 23842, 18794, 16404, 29185, 13981, 21828, 18543, 17142, 12980, 23116, 13733, 22277, 17948, 16068, 16788, 16639, 17033, 9591, 23916, 19278, 22040, 18937, 19656, 21874, 13248, 14228, 12426, 16926, 31145, 26046, 17645, 17481, 11008, 14440, 13046, 23976, 15512, 22412, 19375, 22037, 18919, 24075, 14609, 16189, 21058, 24255, 15782, 15178, 19724, 13897, 12725, 12844, 23468, 20692, 17643, 18048, 21163, 12695, 16267, 16539, 22216, 17085, 21409, 15279, 15517, 25154, 30577, 21615, 12334, 13439, 17163, 14818, 22091, 19265, 23952, 20533, 22134, 16340, 20142, 12593, 33442, 17307, 15026, 19187, 17912, 24107, 10124, 19209, 20399, 33908, 16170, 15095, 15040, 18255, 18150, 19021, 17694, 19273, 12613, 20785, 15295, 19923, 11029, 20842, 14927, 13464, 16077, 16351, 17750, 12504, 15030, 16661, 15630, 14661, 9557, 18528, 19717, 9618, 13057, 16215, 17020, 23787, 23667, 12360, 20507, 19012, 13073, 14433, 21989, 20563, 17964, 19054, 7724, 18945, 30992, 13259, 13446, 16009, 22175, 15497, 19827, 27203, 35181, 15024, 14723, 18744, 19695, 28595, 20083, 18452, 31703, 16449, 15285, 21789, 13110, 16721, 13001, 28219, 15831, 17416, 16657, 10177, 19454, 14735, 20418, 14727, 15814, 16180, 17774, 17065, 24162, 21206, 20703, 17412, 16169, 17558, 21867, 19646, 14252, 14641, 16603, 23090, 16822, 32196, 12674, 14143, 19605, 17903, 20991, 17916, 23349, 13486, 13539, 18775, 16027, 13935, 19341, 28507, 13054, 25130, 19066, 9683, 13685, 14160, 13249, 17563, 16011, 14253, 14952, 22365, 16903, 14932, 16755, 13035, 17078, 6993, 29572, 18663, 18768, 24272, 26479, 16075, 19109, 23587, 25828, 16602, 12660, 14763, 14216, 21359, 24902, 14365, 18034, 15371, 14314, 17226, 23136, 15561, 25171, 18865, 19428, 12843, 23007, 28413, 13904, 29804, 18978, 35613, 24602, 13874, 24974, 19001, 16829, 14473, 16902, 29941, 28964, 16838, 23132, 15867, 14740, 23200, 13470, 21006, 13999, 18294, 15244, 15715, 10311, 23781, 14105, 23975, 15960, 14966, 35411, 18375, 15314, 22224, 15655, 18939, 19293, 18596, 15847, 18660, 13947, 21932, 15947, 18168, 18603, 14824, 20822, 17554, 14697, 23966, 23619, 20956, 25687, 29660, 14574, 18459, 11519, 23524, 19282, 16012, 16149, 35826, 21927, 17966, 18911, 23700, 20115, 23175, 11665, 15490, 20996, 15359, 17111, 14755, 18909, 22979, 22347, 19083, 16437, 15342, 20709, 19063, 18617, 20933, 9127, 16860, 16956, 14897, 18417, 22143, 15540, 20714, 16498, 6045, 11051, 20263, 25222, 22394, 30494, 22844, 22426, 19073, 23206, 32770, 16033, 16137, 16623, 18625, 16611, 20332, 16350, 21473, 19472, 19152, 14298, 17300, 12834, 19850, 17483, 19841, 16746, 15491, 16220, 20341, 15853, 24207, 18949, 20904, 13781, 31287, 9768, 24373, 16176, 13889, 10720, 29494, 22107, 26748, 20539, 16599, 15287, 21935, 15370, 13425, 22194, 14152, 21019, 14106, 20164, 21652, 17552, 16917, 18968, 17517, 17189, 18006, 26501, 21262, 32497, 20686, 20498, 16329, 14707, 15323, 20733, 17622, 27442, 15406, 31651, 16819, 19587, 21658, 21590, 13734, 26726, 19767, 24140, 27602, 15146, 14805, 24206, 15969, 18901, 22000, 27755, 21108, 21130, 20896, 13939, 23810, 16454, 13778, 23812, 19155, 18044, 14925, 22138, 16676, 17655, 18120, 19753, 16173, 19230, 17113, 20378, 31571, 17375, 24384, 14671, 19043, 16411, 12514, 13039, 19708, 19620, 26399, 16972, 20248, 19891, 27971, 14375, 17067, 24453, 19316, 19515, 8074, 23332, 18836, 18467, 13393, 21378, 19820, 19768, 14622, 27234, 22771, 16757, 9646, 23654, 14130, 18597, 18190, 17336, 21716, 14540, 21663, 11867, 35714, 13030, 22851, 10622, 22566, 18886, 21816, 18097, 15372, 18733, 34597, 21374, 18718, 18443, 16194, 23220, 13706, 9568, 17844, 16527, 19599, 20688, 19457, 16993, 20705, 17447, 17650, 10588, 14321, 21553, 11332, 24038, 25504, 16396, 15618, 16521, 13391, 12052, 34288, 25520, 20284, 30305, 18854, 16739, 14182, 15167, 26226, 17224, 21394, 16241, 20947, 16923, 16529, 17697, 15219, 25181, 19313, 15098, 16684, 21804, 16528, 27327, 19998, 22507, 18648, 33905, 18105, 14922, 15718, 21087, 25485, 22420, 24095, 25159, 14971, 13362, 13876, 18693, 14024, 17171, 15120, 25340, 19508, 22424, 13458, 9391, 12827, 20795, 23829, 13956, 23625, 12738, 11326, 10719, 19321, 14422, 17617, 21594, 21107, 20796, 26497, 21583, 16188, 17945, 20780, 18165, 15533, 20249, 22852, 14781, 17034, 11930, 26601, 17200, 19137, 9118, 16363, 30407, 23471, 15297, 10678, 18456, 21750, 16504, 10536, 16076, 27554, 19175, 18666, 14071, 15189, 17105, 20927, 21747, 14948, 18404, 24580, 20895, 29633, 19775, 20517, 15398, 18948, 7220, 28912, 14693, 15158, 17102, 13051, 18533, 15572, 13157, 18092, 15335, 20673, 24054, 12914, 16677, 13417, 18504, 26268, 29929, 18806, 17341, 17203, 12467, 20582, 21805, 17736, 16481, 17278, 14965, 18604, 18787, 18969, 15913, 19914, 11490, 18249, 32199, 21552, 15863, 18908, 21596, 19232, 30834, 21194, 18929, 22559, 15768, 16186, 15981, 22469, 22181, 17823, 22403, 21222, 16983, 12078, 12967, 18848, 15031, 18416, 29607, 20105, 22800, 18122, 27672, 11355, 18665, 15829, 27833, 13320, 34089, 35735, 23201, 16682, 15114, 26299, 14767, 29410, 18716, 16317, 18671, 20769, 26676, 28089, 17438, 21782, 18742, 20776, 19770, 19810, 28000, 17683, 19798, 16052, 18126, 18984, 33882, 8412, 29806, 14898, 20119, 18159, 20225, 23210, 9709, 15690, 18554, 19104, 19979, 15170, 28989, 18312, 14021, 17944, 21818, 19081, 9190, 14363, 11709, 26085, 23429, 29261, 11573, 30201, 15482, 14223, 25910, 17872, 31903, 16581, 19488, 22102, 21511, 25060, 21873, 20634, 17331, 16083, 23422, 18202, 21271, 3887, 16275, 28412, 33526, 18605, 20381, 24884, 13633, 22763, 24136, 15056, 15296, 21316, 11975, 30497, 15554, 23015, 23232, 21340, 15523, 21021, 18515, 21074, 14857, 17426, 21240, 16313, 30160, 15570, 15304, 18298, 12847, 15473, 20798, 5779, 18586, 23392, 22570, 17232, 12770, 24100, 31250, 17828, 14899, 15042, 16884, 18569, 12188, 16577, 18336, 22298, 27793, 31820, 18415, 8694, 14796, 17100, 32053, 12238, 18091, 26028, 22427, 16971, 15381, 20198, 18777, 13860, 15803, 21321, 17686, 20011, 15578, 24861, 11342, 16957, 16503, 13880, 16728, 15948, 30833, 20472, 20076, 24421, 25028, 20935, 23459, 17771, 18408, 22046, 18115, 22456, 13190, 33169, 16785, 23944, 20696, 13587, 22308, 28360, 21882, 20296, 24855, 15252, 19757, 25278, 24371, 19022, 19773, 19821, 18290, 23467, 18032, 19396, 17174, 22429, 19723, 10967, 15952, 15676, 18832, 16474, 22418, 13703, 10739, 13275, 21817, 24488, 15242, 18508, 23623, 8961, 20710, 12075, 24618, 20201, 31944, 22576, 14554, 17845, 18389, 22986, 23350, 15122, 15243, 17524, 14650, 24753, 20984, 20958, 28967, 22458, 22349, 19633, 20196, 19136, 27953, 18952, 19585, 15929, 19491, 16050, 20964, 25314, 23705, 21220, 16620, 21277, 12780, 19162, 21202, 17257, 17745, 12398, 18387, 21776, 9831, 18370, 12888, 19199, 24324, 18621, 16925, 20244, 10797, 13414, 20112, 16622, 15184, 16831, 17444, 20584, 25693, 19674, 14275, 17974, 14557, 24482, 11768, 15187, 13229, 18483, 16856, 16206, 35095, 17959, 34512, 20301, 12394, 17239, 15147, 20409, 23698, 20974, 25978, 17963, 21438, 14088, 13170, 16081, 23939, 17805, 31285, 21093, 16540, 21481, 16672, 13484, 16576, 18406, 25071, 19294, 23180, 19100, 24143, 18402, 15903, 22832, 20604, 17394, 22193, 17635, 17243, 27131, 11104, 13053, 15681, 23369, 16996, 24318, 17495, 16300, 27879, 15238, 33511, 17480, 23710, 13256, 13530, 16928, 19615, 18642, 18828, 22769, 18682, 15050, 34329, 10698, 21489, 15236, 17560, 18620, 14885, 17689, 23456, 25732, 24399, 25724, 23902, 16868, 23632, 30627, 25764, 15878, 15685, 25733, 23313, 20222, 16740, 22232, 32422, 16252, 28341, 18494, 17901, 20018, 26042, 17007, 25219, 22450, 12872, 21142, 14285, 14505, 16801, 29378, 23721, 26050, 14079, 21907, 13506, 17346, 31273, 14795, 24395, 26433, 10270, 16359, 16865, 17556, 18737, 19935, 15309, 25759, 23033, 16891, 20171, 20786, 17584, 3792, 14859, 25960, 14486, 17613, 25037, 7993, 17334, 21182, 13666, 10564, 21341, 22636, 14150, 19737, 18762, 16013, 16044, 17833, 18924, 21928, 13182, 16940, 15707, 31582, 24275, 13569, 18652, 17765, 26151, 33816, 14577, 11158, 15750, 7602, 11413, 22981, 19363, 20055, 27083, 33017, 21022, 23288, 14263, 22180, 22492, 21388, 22185, 28245, 16276, 18144, 17882, 18715, 18684, 11002, 15612, 18224, 21871, 31636, 31680, 18000, 7608, 22251, 19069, 17599, 13499, 17411, 31631, 17049, 21244, 20619, 21012, 20576, 21680, 14242, 23477, 29647, 15760, 17356, 21470, 20664, 12601, 13612, 6794, 20221, 17586, 21730, 23814, 15392, 20587, 23713, 20223, 24910, 12210, 13343, 19623, 23198, 6613, 18268, 13754, 20159, 26287, 24299, 21020, 25443, 31620, 21707, 13373, 28717, 19700, 19965, 21463, 17706, 20702, 27849, 28695, 17773, 11270, 16483, 23020, 30915, 13299, 24785, 13290, 22540, 20734, 17827, 23877, 19009, 20662, 17915, 26342, 17316, 15898, 24064, 16758, 22208, 19035, 14030, 18833, 15022, 20147, 22560, 16921, 22266, 21675, 24126, 10736, 15254, 21105, 17766, 24645, 11972, 22366, 19483, 18266, 26833, 21234, 21005, 20069, 16875, 16305, 20928, 16733, 20361, 19788, 15946, 19710, 19380, 26403, 15749, 34123, 23790, 14657, 28828, 31447, 16741, 16766, 17024, 25054, 13428, 28703, 14996, 15703, 9777, 10459, 12367, 30186, 15401, 29051, 19102, 24515, 22616, 15427, 22943, 18922, 18226, 19145, 22733, 20068, 14708, 19243, 18448, 19970, 18585, 21233, 28469, 11869, 16812, 12439, 20277, 15010, 16749, 24776, 22350, 21682, 19904, 20447, 14076, 16962, 18905, 29541, 13504, 25816, 22989, 21697, 17367, 33471, 28083, 22441, 18690, 17533, 27575, 23738, 30660, 18728, 18519, 19952, 27017, 14350, 14995, 17446, 13716, 16138, 16389, 13281, 15481, 18234, 28755, 17119, 15294, 35302, 14221, 14632, 12159, 17992, 30219, 13774, 16377, 22385, 15745, 16507, 20633, 13650, 20395, 23572, 18612, 17513, 23053, 15201, 14837, 21880, 13107, 19814, 18285, 22768, 17387, 14034, 13556, 33815, 16006, 10769, 14184, 19392, 12455, 13669, 16032, 20481, 27245, 16491, 19916, 23229, 19305, 19464, 17935, 15597, 12936, 15620, 16783, 20941, 29148, 17026, 19258, 20884, 8614, 20874, 16696, 29420, 13648, 16648, 27022, 14212, 21687, 23704, 33531, 21227, 16654, 13360, 21825, 14063, 14863, 16021, 16175, 14944, 14801, 16003, 15605, 22338, 15347, 18031, 15908, 19384, 14383, 22635, 18847, 14668, 15145, 29119, 17812, 16977, 25034, 15595, 18816, 19881, 30538, 21212, 18599, 21821, 28939, 18096, 14035, 11289, 23683, 28633, 18871, 22716, 17682, 24322, 14179, 18680, 27661, 20209, 22599, 16319, 19288, 18137, 17898, 18453, 19421, 16629, 19524, 15887, 14403, 25659, 21876, 20158, 19915, 21168, 13744, 19133, 21762, 21052, 17566, 14279, 14282, 20723, 22235, 18182, 22361, 23893, 27681, 28350, 18783, 21919, 26811, 19650, 17454, 17731, 20125, 18383, 21996, 14453, 17310, 16029, 19251, 20042, 17516, 26338, 16031, 19898, 18325, 18173, 22857, 19050, 19146, 22117, 18571, 24804, 16108, 25403, 18564, 15734, 15717, 16892, 12510, 21044, 7389, 18561, 24842, 23320, 17061, 26538, 21086, 25309, 19804, 23918, 14909, 15286, 24186, 14011, 27389, 20657, 23202, 22144, 31380, 24835, 16339, 17434, 17149, 28630, 16616, 17866, 24539, 13985, 13149, 16687, 20383, 23970, 28971, 35882, 21769, 18063, 31172, 16846, 14037, 16102, 15742, 17641, 26822, 19339, 24504, 21398, 18219, 14507, 18634, 16953, 16519, 20877, 20598, 16591, 25091, 23036, 15417, 19780, 23087, 19343, 29254, 19894, 25508, 18103, 14595, 23488, 25680, 28116, 16752, 26855, 18264, 20176, 30661, 15614, 25525, 20942, 22881, 14915, 18814, 26261, 14566, 14040, 19913, 18590, 19641, 21865, 12931, 20317, 14662, 13630, 23568, 16399, 19205, 16537, 15061, 35279, 9290, 23717, 17534, 21760, 16122, 16568, 24840, 17989, 20997, 14145, 20665, 18269, 18731, 19323, 19922, 15721, 22799, 23931, 28159, 26332, 30823, 26785, 16460, 16823, 26128, 13124, 20779, 21302, 29462, 18531, 14893, 20152, 13818, 14702, 22793, 15937, 22535, 16832, 21293, 23255, 23094, 20524, 22243, 15758, 20102, 16099, 25274, 16357, 14868, 15500, 23773, 16280, 23405, 24027, 29808, 32407, 14214, 26599, 20097, 26315, 18433, 21723, 17795, 20547, 15706, 21187, 16794, 26613, 13855, 31395, 14990, 22005, 17852, 12904, 19335, 18228, 22393, 21819, 23765, 20266, 12648, 19005, 20720, 19660, 18354, 20036, 22903, 12556, 23514, 18619, 26436, 14472, 19991, 26427, 18611, 11449, 20522, 14536, 22952, 17855, 17000, 32752, 14779, 35723, 18351, 23743, 28664, 16151, 20462, 25414, 15974, 15780, 15649, 12239, 19616, 16688, 17871, 29933, 21582, 23294, 13824, 23693, 15234, 14428, 13268, 8241, 27935, 21298, 23278, 19553, 26529, 32097, 22709, 11899, 23515, 21113, 28516, 15689, 19870, 9930, 14451, 21998, 22381, 16505, 17468, 24704, 22561, 11850, 20362, 25166, 31105, 18607, 20987, 13572, 26371, 21814, 17035, 18841, 19182, 21940, 23556, 26075, 23211, 16686, 16452, 13519, 23699, 18259, 14736, 20396, 16501, 21003, 21479, 16234, 11687, 13936, 17406, 25746, 14833, 16477, 19939, 13520, 18890, 18748, 23354, 17939, 28668, 11994, 14331, 9368, 21026, 15964, 16291, 19257, 17665, 19189, 23037, 9982, 27906, 25655, 18395, 12955, 16905, 12071, 34031, 17006, 28990, 10181, 22637, 21764, 22244, 18055, 31032, 10351, 25187, 23462, 21609, 20148, 30942, 32291, 14241, 21361, 18028, 16233, 31133, 17263, 17511, 32813, 23219, 35606, 28161, 14667, 28380, 12282, 32781, 18877, 21061, 17330, 24633, 25442, 25919, 17208, 16048, 29770, 16680, 29893, 14488, 11132, 26547, 29704, 22609, 16849, 26584, 12109, 28523, 12741, 12755, 19059, 16192, 13495, 18088, 18971, 17432, 29235, 18083, 16438, 15877, 14844, 16726, 24387, 18888, 20001, 27561, 23759, 23636, 26937, 14597, 23074, 20728, 21442, 20879, 31711, 14335, 17121, 15155, 15124, 31738, 21550, 14678, 23070, 19487, 13467, 24683, 19030, 20116, 31008, 17073, 34008, 11550, 34104, 18353, 19470, 16338, 19707, 14345, 26544, 25799, 21756, 12045, 14281, 25614, 17214, 26099, 23850, 23634, 33493, 16096, 17865, 17730, 22008, 17490, 16554, 28095, 17684, 12068, 20674, 24468, 16593, 30111, 14766, 25915, 21588, 26200, 22447, 28348, 17907, 22187, 21459, 19260, 24909, 23498, 30192, 35765, 24646, 26318, 25790, 20358, 22030, 17493, 27106, 17666, 10242, 23188, 24899, 17173, 16718, 15163, 31142, 23508, 28711, 23153, 25752, 18178, 28623, 18208, 23289, 20154, 28154, 18335, 17384, 34765, 22355, 19180, 32467, 9763, 22310, 32338, 15207, 22597, 18245, 17936, 8419, 19034, 20067, 18050, 17801, 18741, 11344, 19371, 14911, 11226, 17297, 14772, 20402, 26081, 16871, 21672, 11633, 35663, 24244, 21083, 7731, 25803, 28756, 13919, 19879, 23134, 33181, 15292, 14151, 32867, 20059, 12390, 18293, 17115, 18273, 20075, 8532, 26712, 11577, 34261, 30807, 31547, 17284, 31426, 18643, 15934, 26343, 22935, 12587, 12049, 21737, 14165, 20844, 12623, 30112, 17209, 28458, 21920, 22067, 21366, 17890, 18026, 17909, 11681, 30923, 25248, 17333, 19631, 27615, 20920, 20558, 18963, 25374, 27570, 16353, 23068, 26388, 15212, 18796, 20592, 18420, 16532, 24174, 17857, 15378, 20145, 24238, 19539, 12417, 29712, 19395, 25243, 18376, 30599, 13305, 33068, 35104, 24656, 22876, 23327, 12868, 15472, 25899, 16417, 29409, 19579, 16660, 19378, 18192, 12057, 23296, 19580, 25546, 31242, 16060, 22649, 22073, 16915, 19961, 29915, 16853, 21660, 21508, 11757, 17717, 21494, 17484, 18171, 28319, 19259, 20465, 22698, 17819, 35251, 19942, 22080, 17596, 35441, 23945, 16394, 26264, 13739, 17408, 13070, 20789, 20261, 16545, 26294, 27696, 30607, 28271, 20461, 19863, 25867, 35704, 18815, 17183, 17523, 26595, 15813, 19118, 15683, 10756, 7373, 11417, 21311, 15269, 20206, 24471, 13528, 24743, 30463, 30746, 15416, 16193, 25852, 20752, 22225, 19352, 14344, 23811, 16065, 31983, 31396, 14309, 20191, 20330, 27805, 16510, 20564, 14653, 20566, 17941, 17339, 18457, 33259, 13522, 26852, 16320, 24211, 19664, 25900, 27016, 17462, 14080, 28645, 23174, 32146, 18503, 19568, 29841, 21047, 24795, 17441, 22460, 15103, 13616, 17918, 11098, 14532, 21985, 18703, 19496, 22657, 34105, 17938, 18414, 20544, 23248, 16346, 21848, 21326, 26858, 13795, 20311, 19255, 22202, 27470, 18009, 18523, 29050, 21617, 18291, 16559, 14461, 21797, 23802, 25099, 13061, 18810, 13806, 29690, 17884, 18424, 21535, 10437, 20425, 14541, 17476, 29940, 24410, 17379, 20357, 23179, 14962, 20255, 11863, 29362, 21066, 17929, 19702, 12673, 15062, 23885, 22252, 27239, 15563, 17327, 19203, 21345, 21520, 17180, 18466, 20550, 18938, 17016, 29476, 19221, 7973, 14951, 21449, 26423, 20979, 22722, 21428, 34690, 20553, 25024, 16263, 21801, 14559, 8896, 28551, 7456, 19402, 31336, 19360, 19928, 18170, 13847, 24245, 19431, 30658, 19018, 16609, 29095, 19997, 17276, 24250, 22436, 16700, 16281, 15301, 23676, 21251, 20801, 20850, 22675, 21109, 15442, 16253, 16502, 26428, 19591, 19106, 16824, 27660, 21584, 35600, 32169, 26991, 22511, 17417, 18958, 23170, 18602, 19799, 19455, 24983, 24673, 20079, 35539, 17984, 14832, 21123, 24550, 22414, 23819, 12220, 28444, 21888, 23961, 13468, 24834, 20527, 11576, 15127, 11943, 16809, 30096, 26925, 17165, 18601, 18857, 16770, 20143, 20478, 9519, 13119, 25391, 14553, 20918, 17106, 22889, 17258, 19959, 12284, 18464, 27109, 22400, 20469, 22781, 30104, 17510, 25792, 13363, 24330, 21551, 17014, 31606, 16442, 14826, 19168, 18295, 13873, 13330, 30776, 34188, 30732, 25903, 17616, 28722, 19498, 15536, 25450, 30775, 17062, 14449, 14397, 30131, 19007, 20708, 25324, 11841, 21608, 18422, 17709, 25705, 18493, 15060, 32901, 16768, 32081, 21573, 17177, 23725, 21461, 31316, 12833, 19286, 21456, 25675, 31883, 22254, 24740, 21331, 21426, 21396, 28321, 16984, 20467, 22919, 20513, 23063, 35956, 14887, 19099, 20246, 18439, 22949, 19362, 26150, 35301, 18196, 23919, 11833, 14823, 23358, 12618, 21890, 31764, 16125, 22151, 30060, 20914, 15534, 14809, 16779, 16237, 15210, 18421, 15818, 27044, 18592, 21758, 18530, 19569, 25044, 15832, 16897, 22622, 27326, 28662, 18442, 19274, 23122, 30358, 19445, 30093, 14023, 21761, 14814, 25694, 21296, 22223, 14760, 25151, 17607, 25078, 18800, 12223, 17646, 27453, 26518, 12874, 13684, 8912, 27625, 16906, 22917, 15306, 20430, 18927, 19110, 18973, 16533, 16430, 19883, 18798, 25260, 21347, 10251, 28174, 29150, 12789, 12132, 23640, 21077, 17503, 31155, 26487, 33578, 14773, 19405, 21715, 16775, 26413, 23605, 28178, 28222, 14457, 11033, 12614, 21410, 20279, 28067, 23611, 24778, 13560, 18542, 22529, 17295, 20859, 18242, 19673, 18054, 17095, 16899, 16929, 18218, 14168, 10891, 17289, 24703, 26559, 12066, 17159, 20029, 19776, 28345, 29684, 22655, 17166, 17139, 29470, 23936, 16947, 31570, 19637, 31664, 17968, 20333, 19689, 19743, 29621, 25279, 28169, 21239, 19900, 35878, 17320, 21916, 17002, 26560, 12378, 17924, 22055, 24685, 18261, 18014, 18712, 17762, 21966, 18311, 25630, 17869, 10053, 26320, 30587, 19949, 15006, 23641, 17246, 17885, 21379, 18517, 22145, 9060, 10774, 33365, 17305, 13063, 15229, 17420, 22885, 27070, 13872, 17335, 25357, 26464, 21906, 26963, 29779, 18053, 19666, 20647, 26310, 28020, 25087, 20169, 17810, 14513, 32470, 26769, 25311, 22969, 26623, 17946, 25582, 15186, 20403, 14788, 14387, 24283, 31576, 24975, 22639, 29376, 17342, 22053, 12558, 32754, 25959, 32319, 19303, 28684, 21245, 21844, 17952, 20963, 32649, 22714, 27001, 24209, 18409, 19584, 15348, 21215, 18759, 20251, 18022, 21815, 24118, 15840, 34234, 25716, 16946, 17900, 20466, 26095, 21120, 20757, 24309, 26746, 31779, 25350, 27841, 13324, 21885, 18001, 20002, 20372, 28524, 21929, 31365, 28237, 21905, 16439, 22806, 25623, 30987, 20512, 20831, 20532, 9873, 20525, 29771, 25980, 22680, 32120, 20214, 30333, 25008, 18163, 21466, 20719, 18645, 21887, 28565, 23703, 19309, 23252, 25387, 16646, 31541, 28814, 25804, 26476, 13836, 14290, 17672, 17217, 18761, 18149, 21008, 23570, 30281, 19983, 30753, 17391, 32643, 16287, 22667, 17995, 12150, 28478, 17030, 23117, 22236, 20273, 14519, 30955, 31837, 26957, 15783, 16386, 25258, 15467, 10238, 16534, 16807, 31676, 20931, 23165, 18811, 26362, 21480, 22877, 24735, 13731, 26667, 17960, 27065, 21957, 15883, 19725, 20003, 26940, 28932, 19016, 22562, 23355, 26321, 31283, 22706, 21070, 27675, 17652, 13444, 24872, 21603, 19931, 19885, 20784, 19318, 32521, 17500, 17777, 18959, 22721, 18455, 18995, 20455, 22571, 22640, 23484, 33803, 16649, 18002, 33265, 19636, 21784, 17193, 22048, 23539, 29832, 18876, 15509, 18267, 14976, 21383, 22524, 26356, 16105, 22288, 17219, 27750, 22031, 20680, 33574, 19671, 23378, 15505, 28148, 14039, 17958, 16403, 18679, 18429, 30881, 21917, 16976, 12501, 27622, 22841, 22327, 24702, 21188, 19253, 25108, 34154, 21195, 15663, 30012, 34036, 10154, 18348, 14838, 26021, 20666, 34175, 13409, 12342, 22624, 20458, 25835, 24020, 29049, 16041, 30354, 18933, 20088, 16727, 20323, 26279, 24050, 22196, 13845, 12891, 33432, 28902, 12528, 19911, 27640, 18813, 29152, 16332, 19613, 26156, 12758, 20081, 28852, 21043, 12534, 33720, 22253, 22404, 25012, 19807, 28880, 21826, 14095, 22493, 23216, 19446, 27922, 10239, 18637, 33018, 19420, 16840, 20982, 19312, 24997, 35239, 10768, 26058, 21725, 20995, 15015, 19418, 30152, 18397, 28357, 24073, 16310, 21085, 20211, 20681, 22569, 24035, 19762, 23482, 17280, 19837, 32887, 20283, 28751, 20759, 9940, 22281, 18132, 11088, 12943, 22014, 16478, 15568, 21991, 17265, 25642, 24129, 20495, 25646, 19340, 12991, 17587, 17975, 23024, 26900, 26690, 21731, 19442, 18081, 28769, 21877, 21111, 21151, 19101, 16228, 15331, 22909, 17188, 13925, 16557, 18287, 23084, 19899, 21803, 22322, 24995, 15526, 20035, 19438, 23635, 17532, 19459, 22265, 20194, 19246, 22292, 25426, 35926, 13225, 26990, 20432, 23362, 18669, 22096, 23836, 20100, 32817, 25462, 17221, 17962, 20285, 19206, 24581, 26995, 21016, 19755, 21106, 13782, 24783, 18198, 19541, 30597, 31860, 33417, 21393, 22380, 23476, 29759, 16550, 22307, 21702, 21910, 21313, 16265, 18839, 27136, 19215, 17124, 20813, 23555, 13570, 24040, 14955, 19324, 27531, 25271, 30263, 24342, 14459, 14585, 16157, 20207, 25379, 12077, 31165, 23338, 19514, 20961, 15100, 19184, 19586, 33548, 28474, 29193, 27725, 19075, 22913, 24752, 13846, 17303, 17569, 27769, 25251, 21963, 18235, 35100, 22183, 22364, 32190, 25840, 13441, 15628, 20181, 10265, 16526, 19632, 28753, 23849, 17842, 23171, 17595, 21689, 34919, 22853, 14940, 20970, 21199, 24691, 21231, 17920, 18238, 21444, 29192, 15336, 18614, 18820, 20880, 18281, 15253, 26860, 20443, 30495, 28821, 16717, 26277, 31481, 14404, 31630, 28671, 24698, 24358, 16949, 33664, 27163, 21491, 29260, 19839, 28376, 17802, 27289, 16040, 30591, 21795, 19625, 29916, 23407, 17832, 24157, 22099, 23447, 16181, 15278, 23772, 32281, 21688, 29427, 24223, 12518, 30819, 17164, 15116, 18774, 16835, 31312, 19400, 23682, 18701, 16271, 18431, 17671, 32122, 22390, 20351, 13103, 30665, 30236, 13667, 15374, 23927, 23309, 9039, 16036, 21160, 31416, 16814, 21580, 19969, 19398, 18734, 24127, 19347, 15975, 14906, 22848, 29639, 19377, 22528, 17194, 25203, 18861, 20477, 8825, 10107, 18430, 27804, 11914, 21059, 15899, 19892, 15970, 25721, 25534, 23818, 30886, 23158, 11035, 26272, 24491, 24314, 30307, 20983, 25490, 29175, 21926, 19023, 25589, 24951, 16464, 24874, 19736, 25281, 25670, 23365, 18011, 15205, 14173, 18912, 18651, 30724, 17393, 21708, 18864, 14928, 19298, 18076, 20851, 21773, 18347, 11399, 20943, 28502, 16387, 22975, 22740, 15089, 5997, 7630, 17229, 20788, 30196, 7395, 25528, 22285, 16210, 23140, 18879, 30291, 23496, 31626, 34170, 28825, 34437, 23831, 33622, 17063, 17025, 23267, 14957, 31200, 17302, 24338, 32228, 22581, 27795, 21709, 16772, 17147, 24219, 18220, 19877, 29927, 20441, 23988, 28002, 21400, 26355, 17414, 25402, 18640, 18683, 18825, 22246, 34114, 18356, 25046, 22207, 23291, 18318, 24256, 14056, 15020, 9713, 20496, 20479, 24916, 22290, 31106, 32284, 22245, 27917, 24533, 21563, 28877, 22466, 22467, 27493, 21646, 11964, 17133, 13927, 19117, 26057, 16584, 18754, 23861, 22921, 24114, 13561, 15109, 26581, 26846, 25638, 23342, 21263, 25909, 19796, 25117, 24428, 25464, 30427, 25559, 32490, 34407, 26120, 19213, 17324, 21401, 26052, 20939, 16841, 32313, 22072, 15667, 23996, 30754, 23590, 22280, 21621, 19020, 24641, 15909, 15358, 18270, 34742, 18842, 31978, 16109, 17707, 19045, 30278, 19484, 17899, 19533, 23525, 25552, 35201, 22717, 12521, 16127, 20074, 12227, 35861, 18563, 24717, 27878, 20132, 18635, 28527, 18853, 21201, 24543, 19437, 22119, 22179, 21436, 23376, 19154, 31569, 23414, 17251, 31254, 22699, 19851, 30025, 35717, 11942, 24880, 25468, 18673, 17453, 23576, 31053, 20750, 30818, 26379, 21425, 29198, 26044, 27227, 23742, 21224, 25438, 27503, 25806, 20474, 19310, 29195, 26807, 31778, 14008, 20790, 27643, 18834, 17739, 33402, 18628, 25922, 35500, 22118, 20377, 25269, 27774, 25214, 15797, 31131, 31379, 13217, 14414, 19477, 17248, 31109, 19478, 27658, 21250, 23292, 29092, 21183, 16630, 11747, 19557, 29042, 30460, 21014, 16500, 19945, 15557, 22538, 20173, 27426, 16655, 29697, 21994, 19653, 21421, 22323, 29700, 17783, 20626, 18753, 19684, 33102, 23155, 27753, 24867, 24386, 19944, 21567, 26678, 25228, 15233, 20331, 12765, 14926, 22859, 21314, 23449, 33860, 12651, 20753, 29282, 22215, 18985, 28180, 15907, 34119, 19062, 9476, 27766, 25093, 21673, 20213, 20622, 34748, 29275, 19840, 10315, 9671, 15084, 23826, 20853, 23067, 18239, 15919, 23114, 23620, 19639, 23009, 23917, 19701, 17343, 19359, 21209, 11374, 25026, 7493, 28372, 20365, 18058, 26660, 31454, 20356, 20163, 18767, 21355, 34323, 21630, 17306, 18756, 20644, 16748, 21901, 17985, 20999, 24282, 24058, 16115, 27523, 16211, 17101, 22711, 18244, 14311, 25015, 19665, 18757, 20823, 33106, 33704, 17705, 17791, 17648, 24737, 14538, 17482, 20949, 22432, 28901, 24718, 33376, 20526, 27101, 9546, 24452, 27100, 16014, 16098, 17778, 13776, 18379, 19930, 20761, 24908, 33480, 16753, 17376, 18699, 16015, 25411, 27091, 26591, 13835, 21540, 21765, 24481, 13676, 16134, 20881, 30507, 25647, 26027, 23951, 21624, 20376, 20675, 33886, 12949, 25965, 30078, 13480, 21785, 25267, 21686, 31897, 27110, 29596, 22242, 23986, 22554, 12853, 21653, 19383, 18964, 18923, 23324, 24193, 28401, 24773, 17023, 18889, 21979, 16811, 17883, 33820, 24347, 18214, 15857, 31299, 18884, 23890, 19181, 16986, 28913, 21612, 21284, 22240, 8840, 17254, 17719, 27758, 25722, 20902, 21344, 17374, 20228, 19179, 24586, 19430, 21190, 22111, 25338, 23588, 14652, 15385, 30445, 33961, 17017, 21056, 17507, 25238, 19178, 24377, 20800, 28317, 22170, 20737, 26460, 17687, 15641, 14924, 16765, 26372, 25033, 24408, 14620, 22305, 17362, 20363, 30000, 30793, 21767, 15333, 22980, 28421, 32316, 23128, 20821, 27221, 27875, 18470, 22951, 17487, 28567, 22405, 20907, 17494, 19183, 14619, 24594, 15308, 22539, 14209, 24423, 21112, 19873, 30261, 22496, 23519, 33409, 18460, 25854, 25221, 18478, 16614, 18130, 19126, 10291, 18658, 24123, 23661, 22085, 21482, 20805, 21669, 24727, 32669, 15072, 20058, 23368, 20305, 24754, 25598, 24449, 20833, 22437, 22445, 23193, 20601, 35960, 25017, 27452, 23837, 24202, 24542, 26531, 26164, 18020, 23638, 23924, 32465, 14431, 18705, 26090, 24706, 26463, 22512, 17614, 23551, 22449, 22231, 22017, 20015, 21522, 30830, 25818, 27800, 28528, 35144, 22259, 26204, 18791, 30159, 10499, 15414, 20799, 16121, 19279, 27761, 31462, 24441, 34482, 30859, 28642, 30247, 22325, 31274, 22471, 15647, 26302, 28665, 17722, 23594, 18072, 29724, 21975, 22961, 28653, 16815, 19657, 12155, 15848, 22662, 32383, 23754, 32663, 24098, 25448, 13994, 22321, 18730, 22758, 24379, 29943, 21959, 27678, 18303, 25366, 15135, 16825, 23878, 20573, 28560, 27402, 21324, 26536, 21661, 16642, 22688, 21281, 34704, 25445, 20457, 35634, 20523, 17986, 19325, 27871, 22092, 18109, 14005, 12151, 27628, 20308, 22641, 13174, 20678, 16965, 20911, 26576, 22098, 17701, 18484, 11354, 34246, 20056, 25372, 23509, 25168, 18913, 20065, 21469, 24135, 23920, 28459, 20049, 20082, 20870, 20721, 22384, 18299, 21091, 32734, 18498, 28062, 18681, 13605, 17549, 28253, 29839, 15672, 22279, 24335, 13025, 15530, 29624, 30973, 22985, 29518, 24569, 21028, 8061, 16059, 25997, 24370, 24248, 23896, 15448, 34689, 35381, 14819, 35179, 20764, 20177, 23000, 23799, 21395, 16546, 19592, 29196, 11985, 32133, 20706, 14726, 24316, 19582, 14884, 17854, 7713, 11724, 17998, 16910, 19704, 20167, 21144, 16707, 15881, 24848, 18784, 28675, 9876, 19490, 18541, 28847, 19114, 19355, 25891, 16651, 35490, 20873, 15280, 27348, 21437, 18254, 23697, 19387, 27644, 19348, 29920, 20453, 25833, 22679, 16116, 16781, 23145, 23558, 13060, 27421, 31906, 23385, 15849, 20623, 29593, 24004, 19795, 23889, 18237, 23959, 11965, 16485, 21079, 29342, 21161, 19469, 23578, 18587, 17154, 21864, 22916, 35865, 17703, 11580, 27400, 34191, 15267, 18501, 25569, 31784, 24839, 29587, 30534, 14373, 19676, 27102, 20043, 24178, 18040, 14665, 23169, 18292, 23666, 26697, 19550, 20992, 19161, 21114, 33571, 18066, 24816, 30416, 20087, 22886, 23995, 23150, 22035, 14573, 13622, 14067, 13445, 23608, 18653, 35947, 15811, 23735, 22549, 29292, 30077, 23980, 18751, 28686, 20932, 19990, 28047, 21405, 23038, 21632, 27408, 27444, 21101, 13840, 23694, 20852, 20095, 13599, 19683, 24327, 22150, 23381, 27374, 22911, 28290, 18368, 20715, 30362, 19458, 26257, 16713, 20906, 33485, 22490, 24906, 22023, 27694, 17238, 26648, 22814, 26461, 25001, 35572, 30395, 23112, 18388, 27325, 26826, 30611, 16671, 21275, 17546, 16886, 17197, 28212, 22719, 25142, 30218, 29131, 22293, 27291, 19358, 25375, 32460, 19786, 28838, 24389, 21128, 29132, 23189, 20537, 15462, 25775, 27604, 12039, 15232, 28637, 17060, 10469, 22739, 23753, 26363, 18211, 29669, 26789, 20405, 20439, 21216, 16974, 19290, 16598, 27373, 22311, 18957, 20021, 20915, 23250, 18167, 22351, 25882, 28842, 24693, 30917, 25872, 22173, 23549, 18496, 16385, 33389, 16663, 24474, 23328, 24163, 23159, 26483, 20747, 32134, 23680, 33306, 24404, 20971, 29731, 19147, 23227, 14998, 22760, 16446, 18201, 14131, 32005, 16406, 25103, 17509, 18204, 26975, 12407, 16245, 22269, 26698, 16156, 22001, 15468, 18850, 21178, 23142, 22212, 27217, 25576, 17772, 29440, 24757, 17260, 23782, 18331, 16626, 21671, 19921, 23983, 19504, 23443, 19285, 25241, 19765, 20008, 12340, 24519, 23199, 32061, 15792, 31562, 27552, 24660, 13314, 32812, 25770, 25237, 21854, 27487, 30729, 20727, 20948, 26008, 23352, 23922, 27548, 13793, 26059, 21063, 30353, 27282, 27762, 22004, 18659, 30686, 17478, 28774, 17028, 23078, 26117, 21452, 16820, 33158, 20346, 22770, 28197, 35330, 19675, 29103, 21870, 17564, 13211, 31284, 29030, 16461, 27388, 30785, 29183, 21264, 26770, 30564, 22197, 31966, 26029, 28368, 28626, 14564, 19123, 28520, 31911, 24285, 17644, 20286, 18709, 19530, 24001, 27550, 21406, 23838, 21514, 21536, 22114, 25400, 22804, 25304, 11351, 19094, 16880, 26142, 22544, 29286, 20398, 23979, 31343, 14136, 18098, 31492, 28342, 31049, 14630, 15539, 27458, 19777, 24604, 20631, 15239, 22074, 22062, 29435, 30163, 22382, 13371, 16560, 18906, 27956, 14297, 19067, 26244, 30601, 19461, 18090, 28945, 19526, 26391, 24626, 26397, 19399, 19220, 21414, 22491, 13642, 23316, 23160, 11120, 16178, 22043, 32124, 20875, 24659, 25921, 18830, 30893, 30523, 17253, 20976, 21505, 16459, 18782, 28743, 22133, 26734, 18631, 21476, 21372, 30417, 20438, 26188, 17834, 11042, 25356, 25388, 23529, 13679, 28069, 27870, 28283, 29122, 24361, 17742, 30949, 23393, 28166, 35010, 20636, 18692, 34640, 17991, 20605, 12412, 32441, 26235, 16732, 26508, 17212, 19828, 22304, 20656, 34215, 32566, 20707, 24654, 22776, 9739, 21732, 27409, 25257, 18089, 17261, 17141, 26750, 21710, 18845, 16826, 24067, 12541, 26240, 22041, 35484, 14984, 24156, 10484, 14411, 27364, 23542, 16443, 21834, 17868, 15588, 35752, 33113, 22047, 16166, 19783, 31430, 15879, 26124, 22887, 23627, 18260, 35028, 14044, 21033, 29023, 27050, 25176, 20039, 22124, 18674, 23536, 31881, 17996, 23391, 35852, 17402, 17152, 26661, 23998, 23261, 22845, 33917, 16643, 20235, 18821, 22523, 18029, 32906, 32042, 28309, 18371, 7571, 34945, 20516, 18778, 27074, 26656, 26111, 12056, 26301, 21738, 21138, 21972, 30140, 27361, 13384, 18489, 31940, 17619, 31074, 19268, 33332, 19129, 24686, 31661, 30061, 11087, 24280, 21276, 35909, 22614, 28995, 25035, 27090, 30638, 24981, 23679, 26958, 15383, 24549, 14419, 15976, 25824, 25406, 26145, 11414, 22140, 23487, 24506, 19994, 20977, 20120, 21132, 25540, 28669, 22945, 29570, 20571, 26032, 20755, 34369, 9362, 12856, 33317, 24201, 30916, 19658, 25146, 24535, 15870, 23968, 33730, 32948, 26804, 16952, 17404, 17358, 29721, 15886, 19391, 25361, 20126, 15181, 27295, 31769, 25951, 34393, 23046, 19342, 26665, 29353, 33188, 28760, 16361, 24477, 24817, 21117, 19759, 25191, 20352, 19223, 32184, 22247, 19086, 34419, 33222, 21585, 25536, 22044, 21962, 22267, 20562, 34932, 23458, 19329, 30997, 21843, 19797, 30392, 21004, 23081, 23310, 13984, 34887, 21084, 18547, 24388, 30341, 18070, 21807, 29695, 21260, 25342, 31261, 28910, 24864, 23367, 27994, 8579, 18593, 24947, 19522, 14384, 27438, 20814, 18051, 27659, 26507, 18426, 18727, 32188, 27086, 24229, 28416, 18827, 14393, 7928, 20867, 21237, 17623, 24904, 21930, 26205, 24501, 22101, 17321, 29782, 19138, 21323, 22217, 29350, 15567, 33984, 19556, 22455, 23513, 33264, 18286, 23692, 35460, 33567, 28263, 23797, 20600, 21290, 21124, 24138, 15645, 31728, 19645, 28388, 27593, 10837, 28555, 28708, 24025, 19497, 23257, 18500, 14294, 24257, 27752, 29747, 24694, 28553, 12131, 14520, 26209, 25731, 15591, 20038, 28952, 22210, 26985, 35698, 23093, 23148, 29325, 24796, 19372, 24442, 31748, 26219, 24080, 29109, 34320, 21860, 27573, 18095, 25488, 17594, 28071, 17398, 21137, 27434, 22483, 19705, 35367, 35416, 15680, 30552, 19276, 19739, 18069, 21727, 19769, 26037, 30248, 23481, 15944, 18499, 23344, 33845, 16982, 19327, 17653, 23228, 16039, 27142, 17122, 28579, 26252, 34715, 18315, 28171, 17571, 15951, 23499, 31564, 33386, 30029, 15606, 27961, 22389, 23953, 18418, 33246, 19283, 24208, 17218, 14343, 20602, 20957, 16196, 25029, 29357, 13108, 14460, 29527, 23408, 26304, 19492, 26853, 21619, 26236, 18403, 32793, 12605, 18324, 19474, 21923, 23062, 19248, 15982, 18447, 21886, 23374, 35136, 9465, 13859, 34500, 25162, 34239, 30202, 25292, 18990, 13361, 23336, 30468, 22375, 20324, 27537, 23701, 32691, 28430, 20781, 22880, 18134, 24508, 15841, 21896, 21157, 21270, 10099, 27816, 18904, 26110, 27864, 27901, 28558, 33635, 30450, 20024, 33808, 28532, 21282, 30908, 24104, 18227, 19003, 21214, 11692, 23892, 23744, 31148, 18907, 19754, 29245, 23856, 20085, 27424, 23938, 20849, 21832, 25797, 23034, 28394, 28188, 18329, 21373, 28153, 21356, 27817, 28542, 23708, 32323, 11240, 19974, 35035, 23711, 21824, 24366, 23665, 14627, 24094, 27061, 21721, 21895, 28864, 34866, 25798, 20417, 13832, 24830, 31251, 22052, 26400, 22369, 17058, 20111, 25662, 27343, 21531, 23311, 24122, 10451, 12083, 15824, 19064, 30265, 17816, 22468, 33115, 18176, 32539, 30839, 34584, 20775, 22222, 17702, 15784, 27008, 21497, 21748, 16388, 24924, 17856, 31397, 34333, 27568, 32428, 24731, 26014, 22142, 10305, 24585, 23209, 33524, 18700, 20743, 21174, 9653, 19239, 19452, 28335, 24464, 20298, 15642, 24991, 25027, 15165, 34998, 28158, 30252, 12450, 16939, 31812, 22552, 19125, 19596, 27886, 34941, 24203, 34179, 34000, 30164, 32099, 25841, 18714, 18038, 32876, 10656, 23043, 24556, 20287, 16509, 23510, 18342, 29706, 31991, 35066, 23600, 16524, 23663, 22087, 15303, 28436, 20793, 25736, 19947, 13609, 19763, 26499, 22316, 28867, 16375, 29959, 24147, 20893, 14142, 18401, 23530, 27243, 26709, 24790, 17674, 15744, 32085, 33709, 29667, 31117, 23494, 22931, 22509, 25682, 25276, 28051, 23023, 19712, 15938, 18487, 18308, 27850, 21204, 22718, 24509, 34573, 28801, 31884, 30312, 24802, 23596, 15330, 31961, 22444, 28780, 22494, 18819, 25672, 33788, 28714, 17879, 22808, 24473, 18057, 26647, 17497, 26675, 30501, 24017, 16260, 30274, 18947, 19654, 19875, 30399, 22485, 18005, 32797, 20597, 24873, 26993, 26281, 22846, 25155, 22755, 19166, 23645, 7809, 22484, 19813, 18623, 12380, 22944, 22303, 30073, 15914, 35603, 23493, 23040, 22050, 11569, 18895, 27778, 31013, 18822, 15842, 19366, 15489, 25563, 32782, 17148, 24642, 25605, 31383, 17790, 32869, 29248, 13419, 31574, 23400, 26366, 16608, 22034, 17409, 28955, 28023, 24891, 20836, 23563, 31033, 20791, 17259, 18525, 26274, 27902, 12353, 31227, 30451, 28072, 21558, 18522, 25737, 25458, 28104, 22019, 24146, 24036, 26409, 18509, 24681, 25086, 15621, 15162, 21903, 27767, 24719, 17764, 19017, 21517, 11849, 19845, 32113, 35931, 33593, 19659, 24293, 25339, 33894, 26359, 22713, 12581, 24521, 31599, 12873, 21545, 23512, 30549, 21793, 15058, 30522, 22703, 35567, 23582, 24724, 32411, 16790, 20192, 22126, 20186, 21136, 14825, 20652, 18060, 25593, 11394, 28235, 20609, 27066, 26695, 23992, 19554, 18898, 22379, 14193, 22696, 14555, 10894, 28604, 34387, 20930, 24252, 26875, 17957, 29118, 30778, 32354, 23630, 17401, 28356, 32805, 28143, 27283, 24777, 20491, 20370, 23964, 19624, 15798, 10824, 21382, 17437, 34235, 26425, 9996, 21728, 27624, 32128, 25192, 27796, 20919, 14880, 35761, 26049, 29464, 21170, 21606, 26830, 31461, 22786, 28223, 24133, 29225, 16424, 22182, 27728, 10187, 18205, 25982, 17368, 25139, 32943, 20060, 20161, 28068, 23794, 16778, 32992, 35178, 13351, 15522, 25148, 32368, 21034, 27590, 35957, 32818, 15673, 17463, 17956, 25785, 21695, 28791, 23906, 26753, 23177, 24345, 19735, 20013, 20373, 25014, 24911, 19559, 29946, 29714, 16146, 20293, 34483, 23002, 27569, 19917, 24226, 20545, 23937, 22727, 28757, 16706, 21976, 25994, 20645, 24866, 19756, 22135, 26254, 18471, 32381, 27889, 19918, 28192, 17222, 33711, 24096, 22938, 24917, 28885, 25417, 15298, 26202, 34686, 21881, 13817, 21078, 18858, 26271, 30961, 26638, 27024, 16960, 25216, 22646, 27677, 28106, 24242, 18743, 30394, 21683, 20954, 17934, 26744, 7460, 24450, 30699, 21884, 23965, 26885, 27278, 27199, 20393, 29218, 18380, 10978, 31191, 27088, 22773, 33751, 28006, 24454, 20503, 21666, 20815, 22589, 27138, 35700, 19397, 30900, 25167, 32307, 28086, 29084, 20882, 27298, 34583, 26241, 20006, 15307, 20366, 30089, 25291, 18191, 23807, 25097, 18257, 15215, 16085, 29659, 28503, 24679, 22205, 27184, 23857, 20917, 22652, 27471, 23055, 23012, 22525, 16358, 22681, 19619, 22565, 12787, 18664, 27594, 20546, 28411, 20463, 18364, 31556, 25936, 23792, 31731, 20536, 23567, 24534, 25153, 14716, 26824, 29873, 24124, 29181, 28030, 23154, 24490, 32413, 17779, 18085, 31136, 9900, 21075, 30555, 19130, 19080, 23822, 22772, 26868, 22983, 23560, 21904, 24925, 23755, 21809, 21984, 32109, 14246, 26565, 27742, 29424, 22673, 22501, 26987, 27950, 25521, 21169, 20127, 14945, 18941, 18400, 30076, 23994, 10223, 15424, 29037, 29063, 13624, 17620, 32696, 22199, 25560, 23103, 22547, 31025, 21498, 25924, 18739, 22725, 21181, 31313, 11674, 23677, 15985, 22218, 31975, 29569, 26737, 28022, 22474, 17054, 18981, 18041, 10170, 13335, 20129, 23237, 17811, 27907, 21192, 28021, 28477, 24772, 15636, 17329, 21102, 23728, 19216, 29954, 32473, 12588, 28198, 17304, 16743, 19901, 28453, 16658, 34176, 17349, 19505, 22452, 25967, 31999, 20986, 25996, 22592, 26935, 26566, 16631, 26912, 23091, 10061, 27776, 20433, 17840, 15288, 33243, 25665, 23060, 17270, 21897, 21487, 24447, 21875, 32055, 23398, 23599, 18932, 22824, 21377, 16026, 21766, 21581, 24089, 31667, 26723, 29294, 16128, 31694, 26582, 31304, 31236, 19601, 22401, 32911, 17593, 22531, 13075, 15365, 21162, 26305, 25425, 31128, 22984, 28628, 23031, 23633, 30583, 14591, 22354, 30506, 21353, 29962, 33698, 18450, 15004, 27140, 27212, 24733, 28829, 29983, 14589, 17022, 24563, 20449, 24639, 22621, 20689, 18133, 25435, 34274, 28840, 28649, 21422, 34647, 33826, 19577, 22854, 26511, 24459, 32762, 12615, 27084, 20131, 35543, 32858, 18863, 27223, 18361, 23540, 17123, 30801, 35633, 28177, 26659, 25863, 23173, 28066, 33855, 18736, 32836, 28897, 17407, 28973, 16479, 33001, 20336, 27252, 19317, 22977, 29055, 17786, 24448, 28549, 22838, 15795, 34059, 26471, 21477, 17993, 33909, 21381, 17754, 19026, 21332, 20635, 25212, 26269, 22370, 12644, 20905, 23943, 27363, 29199, 20242, 16022, 23984, 33507, 16323, 26376, 23535, 29044, 21633, 24843, 22268, 17433, 9634, 10277, 22974, 29485, 30509, 20923, 31782, 13199, 23183, 14372, 24315, 28434, 27597, 35427, 18386, 26710, 33352, 29486, 19604, 24105, 17144, 12679, 28005, 22313, 12487, 25236, 25198, 23390, 18344, 20086, 10229, 12133, 18539, 22391, 31665, 20241, 29477, 20306, 20936, 31608, 20109, 28835, 29472, 27125, 20183, 32854, 19862, 31996, 16197, 21116, 26502, 19302, 21616, 31040, 19172, 18824, 25673, 17582, 19951, 19690, 32702, 17841, 29101, 25928, 18077, 25567, 27288, 23152, 30556, 22045, 19002, 31656, 31594, 21892, 31545, 27536, 14977, 19720, 18702, 15664, 30318, 21435, 21745, 20448, 18317, 27641, 35916, 26045, 28336, 19741, 14141, 14810, 32929, 13062, 18688, 21269, 30330, 30872, 26657, 32787, 25566, 18632, 28250, 20812, 19843, 18152, 19331, 19966, 21921, 27591, 23371, 8875, 27145, 14848, 18248, 24443, 19450, 33842, 21041, 27428, 25645, 13742, 24063, 24538, 25081, 25987, 20530, 25699, 19139, 24357, 22270, 27500, 33884, 27287, 20380, 26574, 23428, 22568, 23029, 21629, 28543, 24893, 15596, 18139, 33576, 13652, 21810, 18831, 33976, 24524, 15425, 23455, 17539, 19164, 23409, 29551, 31308, 17286, 25042, 21532, 21841, 25021, 35703, 18650, 21953, 21472, 21639, 31100, 30567, 23825, 21131, 16679, 26643, 22654, 24400, 19696, 29589, 23659, 15018, 33792, 24994, 32823, 30308, 24339, 11487, 17573, 24537, 22174, 19903, 21185, 31533, 20032, 17880, 15107, 18194, 26048, 23438, 27782, 20334, 20025, 25101, 35584, 19715, 28048, 22774, 33911, 27200, 22408, 22955, 22161, 19097, 24636, 21933, 19463, 23101, 16486, 15643, 24670, 28065, 28275, 30297, 24634, 31622, 19812, 21376, 21319, 21626, 28018, 22487, 28809, 21774, 35177, 23058, 18492, 26161, 22386, 24953, 22376, 24512, 20098, 32888, 30365, 23534, 22230, 32851, 10905, 26842, 13717, 10629, 21242, 22063, 15739, 18393, 17782, 24302, 23194, 17657, 20278, 32447, 17241, 26026, 19667, 20817, 24652, 25685, 24601, 27073, 29164, 21813, 14579, 18935, 24766, 20862, 23926, 13626, 24045, 17514, 18360, 25144, 14007, 27647, 30024, 20203, 12103, 25650, 24070, 30337, 17156, 17662, 35530, 22392, 21032, 28264, 19771, 19460, 22121, 35966, 22625, 15808, 23724, 21506, 35234, 28403, 35431, 23960, 23224, 18698, 20264, 31628, 34315, 25664, 23265, 16876, 21390, 19960, 22837, 21640, 19728, 29361, 25183, 27670, 16426, 20922, 22422, 12671, 30384, 22606, 22027, 30139, 25454, 19357, 25918, 31889, 29439, 29546, 30094, 26404, 31785, 28806, 32232, 22407, 28485, 30929, 32847, 29327, 22169, 28201, 30870, 29548, 18391, 34862, 34803, 20444, 31420, 22191, 20888, 22656, 17151, 33748, 24086, 35809, 27246, 30006, 17535, 32689, 22533, 22810, 21050, 30851, 30031, 23016, 31056, 28800, 26291, 25235, 23671, 28705, 28834, 25599, 28548, 33657, 17103, 26119, 29529, 21478, 32484, 30557, 17050, 27736, 25481, 22273, 25718, 23533, 20197, 25245, 27540, 16784, 22495, 26369, 15067, 33582, 19946, 31002, 24391, 26691, 26087, 25289, 25434, 13308, 12840, 22176, 30858, 16034, 31441, 20130, 17642, 26056, 23413, 27560, 17347, 30594, 29165, 33566, 26068, 26996, 16472, 18849, 20732, 29379, 29899, 18944, 13987, 31182, 15933, 15961, 21792, 19882, 31186, 25263, 27764, 18138, 21855, 28884, 28832, 20921, 25573, 20767, 23298, 25696, 22619, 18803, 23672, 24444, 27516, 16209, 19610, 27520, 28011, 24405, 26072, 16435, 18910, 28110, 31617, 25474, 28925, 34365, 26168, 26821, 30222, 22729, 27735, 25773, 14485, 28841, 25762, 21946, 22514, 35228, 18363, 33236, 31668, 26352, 30532, 19422, 29758, 28944, 30273, 23813, 24684, 26486, 10510, 17951, 15990, 27585, 34939, 22097, 25697, 29355, 24788, 26844, 35232, 32568, 35166, 34152, 29493, 31455, 22847, 24420, 35729, 29908, 15905, 22282, 20998, 17878, 18776, 21246, 22526, 30259, 23077, 29609, 22482, 22016, 35348, 35154, 28221, 34564, 23925, 25683, 29528, 20988, 20123, 28190, 23018, 16751, 26361, 26735, 21295, 27105, 28162, 29984, 18432, 19609, 33484, 24402, 23021, 19079, 18280, 28441, 21232, 18829, 23622, 22058, 25526, 33206, 22647, 26130, 19407, 19513, 24687, 25343, 30472, 26340, 34952, 29407, 24492, 17961, 30826, 19201, 18795, 28869, 23971, 24009, 21210, 16506, 29579, 27972, 23528, 30735, 28433, 22671, 19408, 23982, 35247, 18373, 29670, 24554, 17053, 14549, 19344, 15954, 32239, 28254, 10767, 28186, 34542, 27995, 26668, 33728, 30827, 28563, 24532, 22750, 30903, 29978, 33847, 31750, 19082, 19779, 17389, 30016, 27149, 32155, 29446, 20445, 24528, 21443, 18462, 19593, 32848, 22489, 33021, 24417, 16681, 31427, 29807, 17990, 30065, 23531, 22155, 30098, 13287, 32802, 21493, 29385, 24877, 20415, 22930, 34777, 13775, 32853, 19972, 24048, 20262, 25277, 19772, 27092, 29953, 20253, 18247, 28328, 22644, 27338, 23866, 19607, 23162, 28663, 28586, 23107, 25829, 22694, 31422, 31744, 33085, 28471, 28963, 24115, 18553, 12627, 18805, 24010, 34858, 20379, 20094, 31022, 24973, 12793, 27396, 19436, 18016, 16799, 25194, 22317, 25104, 24044, 20204, 8994, 13656, 26220, 33753, 29822, 12034, 21955, 28961, 25295, 16667, 33778, 21847, 22229, 17001, 25908, 19503, 16618, 30286, 33460, 30423, 19345, 30433, 22726, 18369, 25535, 19027, 20621, 31157, 21141, 23478, 27926, 24809, 21191, 21375, 22521, 28115, 25360, 31385, 30498, 30335, 28234, 32792, 19252, 30879, 27772, 35520, 25944, 26754, 17252, 19332, 26828, 26637, 29531, 17492, 28993, 28311, 30520, 28099, 30401, 22158, 23900, 22306, 13811, 26319, 14320, 30652, 32577, 18305, 25299, 23098, 20233, 20026, 25760, 32012, 21255, 18193, 15710, 20620, 28920, 35090, 27904, 17377, 30971, 27610, 21574, 10167, 26863, 29445, 25869, 32392, 25041, 28489, 31998, 16674, 33270, 24547, 23401, 28383, 24564, 23757, 23431, 19745, 16512, 33914, 21749, 28438, 34962, 15644, 21089, 24210, 13231, 24326, 23597, 22689, 18042, 27688, 21968, 24271, 19338, 19088, 30809, 18250, 18160, 28868, 26923, 25113, 15501, 24030, 28992, 21071, 15093, 22600, 25761, 18183, 28597, 24239, 31709, 21153, 31463, 29969, 12485, 20117, 22551, 20322, 14989, 19132, 18495, 26407, 27982, 10657, 26004, 19090, 23750, 25227, 19112, 17618, 22012, 23450, 23076, 32159, 21623, 27407, 30326, 26919, 16664, 22712, 34388, 21950, 24606, 17315, 34506, 35326, 26781, 17914, 35243, 29654, 25429, 21937, 19594, 25549, 23552, 27801, 18013, 32900, 23339, 29996, 16222, 22136, 35756, 23684, 25186, 32487, 28571, 18677, 17371, 23618, 24028, 34212, 26158, 30428, 21990, 16273, 15712, 20234, 20883, 27019, 23271, 22314, 27546, 16255, 31752, 24577, 23495, 31500, 20889, 20174, 19981, 14122, 20724, 35829, 28168, 26621, 27191, 25207, 16266, 24747, 25300, 29810, 26323, 24251, 21993, 15023, 16944, 17129, 20089, 26043, 14596, 18588, 33994, 18074, 30153, 27416, 26392, 25244, 25332, 25120, 25052, 19644, 24101, 31826, 35823, 26864, 33279, 20236, 16900, 21591, 31282, 33458, 17056, 27611, 26870, 21412, 25367, 19836, 31141, 24084, 28763, 34707, 17849, 19573, 17308, 21431, 16445, 24172, 24313, 12064, 31207, 21924, 12940, 28537, 23178, 21334, 24938, 16895, 29146, 32535, 25211, 26345, 19115, 25483, 17299, 19626, 28426, 30860, 27695, 29390, 20667, 22076, 21322, 18740, 32023, 31527, 18745, 32328, 33667, 26458, 24936, 17502, 24182, 18355, 17273, 23602, 23867, 20643, 32150, 31699, 17069, 12855, 26794, 18246, 18340, 34883, 25838, 26633, 23249, 34131, 25639, 29650, 26107, 24565, 24857, 14349, 34582, 23948, 18357, 26221, 17603, 26492, 22451, 24397, 22960, 15507, 26799, 23741, 31007, 32468, 28546, 24822, 30912, 15670, 17541, 15859, 20281, 13619, 21465, 23844, 15175, 25606, 23330, 28242, 25180, 21010, 16678, 31925, 27380, 20355, 29783, 27920, 30945, 19651, 29844, 21509, 33282, 28713, 33092, 26198, 22665, 29201, 16200, 34632, 21149, 34214, 22823, 27501, 31149, 32079, 28315, 29966, 29129, 24304, 19943, 18764, 17677, 23106, 19980, 33750, 10403, 20840, 18206, 33965, 26961, 27198, 20271, 33795, 28599, 30614, 28418, 23441, 26108, 21346, 19177, 31579, 21226, 25085, 30133, 28956, 33827, 31960, 26757, 23685, 21460, 10709, 30117, 22583, 21104, 25447, 19953, 16436, 22690, 30510, 25165, 29066, 30545, 21741, 26871, 31507, 14503, 27799, 26628, 26679, 25505, 22238, 30053, 35666, 19785, 30037, 22510, 24165, 25240, 11701, 31065, 28488, 18595, 23828, 35046, 34839, 25380, 17940, 25704, 21759, 21051, 26194, 24224, 25068, 29221, 27353, 13339, 35217, 27229, 33852, 26642, 24505, 26839, 17213, 24166, 27929, 18577, 16760, 30033, 14852, 30085, 20508, 24262, 28566, 34889, 35246, 34695, 21778, 35955, 31719, 26069, 14272, 34723, 19714, 19976, 28108, 31593, 14604, 18445, 25253, 27275, 21343, 16246, 24323, 17905, 29021, 29852, 23749, 31015, 20574, 15277, 29766, 19849, 19423, 23731, 15174, 31917, 23538, 31478, 24298, 31729, 19000, 26578, 29074, 31506, 28096, 22518, 20593, 24066, 21521, 18792, 25690, 29321, 21954, 26780, 22454, 14334, 22742, 24798, 26470, 14129, 16909, 34091, 20153, 12048, 16463, 27375, 21080, 12509, 18131, 33550, 22856, 33497, 27645, 24221, 35400, 26166, 20077, 34352, 20985, 22241, 22741, 13128, 22367, 20382, 22813, 28620, 22892, 19964, 16112, 24119, 30680, 17471, 21861, 25169, 20534, 15355, 26866, 34447, 19888, 23049, 20698, 27760, 31332, 15921, 23129, 22965, 32098, 33790, 16136, 25365, 24013, 20428, 17727, 22448, 23571, 25048, 14009, 30909, 24799, 24705, 31293, 18672, 21674, 21236, 35853, 28491, 29025, 19439, 30846, 18151, 26443, 20096, 25007, 34440, 23010, 23675, 33266, 26962, 22505, 31503, 27414, 14107, 25177, 25461, 28820, 27307, 24627, 26555, 17874, 26341, 26324, 27071, 25729, 32652, 22504, 19122, 20770, 23312, 31482, 16914, 22756, 35524, 23911, 24558, 28613, 27262, 19811, 21235, 12822, 35202, 23653, 24985, 21562, 19535, 23914, 27682, 33674, 23500, 34383, 28044, 26948, 16214, 32993, 20897, 29243, 27450, 27706, 17172, 26187, 22488, 14994, 21483, 29319, 31437, 20276, 31755, 26998, 22728, 16592, 27265, 27009, 21537, 27652, 29790, 20009, 33146, 21768, 26618, 28209, 28927, 26816, 12625, 18158, 25226, 34149, 20300, 29484, 22613, 31140, 30684, 31439, 32309, 23266, 26606, 33148, 25122, 23156, 22296, 21495, 32796, 21893, 24781, 23238, 26577, 24963, 26930, 32620, 29358, 23131, 28656, 20568, 27494, 20824, 27267, 23559, 16722, 19424, 26512, 34348, 25778, 25524, 20913, 19188, 24375, 20595, 24559, 31645, 30991, 23806, 23270, 29184, 26910, 22658, 22339, 10740, 15674, 34272, 33561, 31034, 35031, 16107, 20292, 22791, 22660, 15078, 23801, 28053, 30700, 29686, 21266, 24616, 14197, 23702, 21279, 20436, 20240, 32267, 25613, 21894, 18930, 15319, 27006, 18548, 13914, 32171, 25583, 29285, 22627, 6744, 24657, 24610, 22663, 25205, 25637, 25607, 24920, 11621, 19435, 14629, 23545, 19510, 22874, 25514, 20212, 24926, 25073, 18491, 25979, 22358, 21193, 34620, 34124, 28445, 32233, 35649, 19225, 30797, 28661, 26708, 22335, 17999, 19833, 26430, 35491, 23192, 24625, 14851, 23768, 22878, 23334, 34004, 20886, 25522, 17027, 34145, 31901, 20981, 26459, 31654, 21126, 34050, 29862, 34575, 33772, 30270, 27701, 26801, 28608, 21504, 23356, 25873, 30963, 30022, 32508, 18729, 27069, 22383, 25321, 29896, 21367, 35145, 27515, 28833, 21403, 28749, 19531, 14498, 33077, 29068, 28363, 31123, 14186, 26331, 26418, 27372, 28230, 25066, 17488, 18062, 18382, 17279, 22996, 21900, 29970, 29534, 22462, 28786, 35196, 18722, 22720, 28358, 17654, 31451, 19752, 31288, 26616, 12009, 27541, 28674, 32436, 14292, 27412, 24885, 26718, 24337, 26446, 20653, 32217, 20699, 28723, 20952, 24829, 26239, 16549, 28457, 29830, 21213, 24502, 35949, 21684, 27362, 29977, 33401, 22009, 31603, 23388, 24125, 28724, 34427, 22925, 29552, 28679, 26670, 33312, 35655, 28728, 22775, 33940, 12821, 22863, 23523, 23253, 34406, 28505, 21404, 21576, 30837, 20314, 20806, 14992, 32366, 33254, 30960, 23243, 23166, 27220, 22442, 29538, 17079, 29815, 26609, 30013, 34816, 18052, 33164, 27413, 16448, 27365, 29315, 20730, 19495, 19264, 27164, 26956, 34793, 30968, 19985, 15544, 22601, 26664, 20427, 31017, 16734, 23276, 33013, 28783, 33712, 26307, 28461, 21781, 23151, 26649, 31124, 34735, 30674, 22060, 10632, 20030, 27614, 23747, 20052, 21042, 17721, 29238, 28484, 24083, 28643, 25601, 31394, 24600, 23073, 23643, 27290, 18532, 18164, 20531, 25622, 26836, 22936, 23532, 27634, 33122, 12271, 33004, 20975, 16413, 27605, 18846, 17761, 35428, 35896, 20488, 32799, 34420, 26055, 32827, 22953, 17977, 13869, 30294, 21499, 23589, 26263, 19968, 22271, 29573, 32166, 28934, 27763, 20291, 25933, 19518, 20344, 32706, 22425, 25368, 17038, 23903, 30388, 23071, 22922, 26969, 15930, 22324, 25886, 19328, 24141, 12230, 34669, 17357, 25074, 22157, 26564, 22343, 23874, 31243, 34380, 24608, 27379, 11806, 23072, 23785, 32059, 21118, 30015, 26635, 16898, 29351, 16627, 32449, 25323, 14355, 21256, 25947, 23341, 30648, 30485, 21811, 26908, 26448, 21462, 22541, 34810, 26381, 32369, 26084, 34338, 31518, 28200, 15160, 32322, 28619, 18894, 23766, 29843, 24333, 26803, 19224, 33798, 18618, 23564, 18708, 21139, 29751, 30357, 18384, 22342, 33633, 25255, 19120, 20274, 25502, 28890, 20023, 28214, 33435, 14864, 28796, 24466, 24572, 26290, 12483, 19163, 18975, 29100, 22796, 15206, 22678, 15833, 17094, 21273, 27608, 27821, 35036, 21720, 15949, 35057, 35404, 27544, 15819, 24411, 35671, 29459, 21337, 19185, 23218, 23167, 20400, 33016, 19231, 20676, 22779, 17820, 15778, 20978, 24545, 26563, 27418, 30072, 29291, 24898, 21822, 16628, 31623, 22765, 21690, 26127, 20092, 35032, 20661, 23592, 19905, 35064, 34633, 22198, 33549, 22440, 29744, 31844, 28470, 21997, 12387, 24352, 14127, 22066, 30144, 30406, 25395, 34128, 22861, 22778, 18502, 28125, 24102, 30437, 26687, 24968, 19563, 31798, 24199, 28236, 23997, 35138, 35581, 20578, 24931, 25786, 31585, 8253, 24578, 22607, 30455, 25669, 21380, 25114, 12575, 18986, 28134, 27425, 31580, 26377, 26835, 34642, 30796, 25953, 27960, 15221, 24730, 14888, 33621, 29679, 18332, 24895, 27874, 18946, 20725, 25418, 23723, 14850, 30526, 18786, 21229, 28710, 27775, 21734, 25456, 32609, 15316, 15743, 28310, 15476, 26861, 22021, 28807, 20053, 33764, 22631, 23066, 21053, 34893, 31496, 23001, 32608, 24032, 28953, 25624, 27390, 17360, 18212, 31470, 25140, 29020, 18916, 13586, 32110, 13922, 30605, 27060, 30761, 16226, 30334, 27139, 19269, 28772, 23981, 25632, 21694, 26012, 19996, 26019, 12212, 34934, 24833, 19306, 20473, 32315, 23045, 26206, 16160, 28733, 17044, 20464, 26884, 25802, 15453, 23865, 19011, 31575, 28526, 26509, 19501, 25307, 27226, 22057, 27273, 21304, 28098, 23642, 20084, 29231, 19051, 16058, 31878, 35358, 28346, 12416, 35016, 29159, 23616, 29964, 19927, 8714, 22873, 29316, 23972, 27269, 26265, 11111, 33405, 15864, 14645, 32067, 24296, 19857, 23412, 22577, 23607, 22908, 27974, 20047, 22326, 31600, 17247, 23089, 19071, 15727, 20134, 27524, 33937, 33170, 34480, 34666, 33900, 33717, 19792, 22139, 33611, 25842, 22761, 28040, 20288, 18579, 24348, 28531, 27720, 21691, 33261, 25545, 23234, 29921, 29618, 32882, 34502, 29268, 27222, 34430, 30228, 20435, 25568, 17293, 27654, 26966, 34462, 28092, 21627, 24240, 16565, 21915, 31280, 28061, 30166, 18750, 18407, 31817, 22166, 24263, 22819, 25691, 25322, 24915, 18230, 24552, 22430, 19165, 23205, 25010, 27650, 20659, 30952, 18302, 28487, 31083, 22362, 24204, 28409, 21348, 24106, 20583, 33703, 26192, 30832, 33562, 23479, 35630, 28043, 27847, 29554, 24179, 33436, 29874, 30569, 23678, 24928, 24160, 24675, 33185, 20570, 17692, 16747, 24590, 20670, 20155, 22065, 28325, 28882, 17179, 31936, 32845, 35418, 26251, 26329, 29380, 24614, 17019, 28141, 26759, 27832, 31907, 31202, 26905, 27454, 31158, 24574, 27665, 32086, 29429, 26163, 27235, 30550, 25319, 32219, 31384, 25465, 27059, 25362, 25585, 18140, 21055, 17109, 15679, 17976, 14506, 26589, 33794, 21779, 22618, 18550, 24148, 25469, 27664, 30824, 22672, 30367, 20617, 24651, 25767, 23147, 20819, 23475, 20016, 21360, 16087, 21889, 19525, 24344, 26238, 20103, 29948, 29861, 27931, 13047, 15629, 26557, 24883, 35365, 15810, 24113, 25963, 26178, 17601, 22747, 28217, 20847, 26354, 27888, 26936, 20712, 31791, 27435, 13986, 26717, 33732, 23934, 29838, 18676, 28533, 35424, 30508, 26865, 21475, 19640, 35795, 20338, 35559, 21455, 19595, 19506, 22536, 23410, 26024, 25851, 19289, 33588, 26600, 20519, 27194, 31421, 26030, 23748, 26020, 23895, 18023, 27858, 31068, 17626, 16570, 33250, 30325, 27930, 21714, 19038, 30306, 22926, 22534, 20521, 16729, 22574, 29318, 23821, 20925, 22214, 31218, 28405, 26123, 35107, 31234, 27195, 17150, 30863, 29851, 29523, 26317, 19876, 34103, 26347, 26266, 25111, 22638, 25492, 19734, 19844, 25751, 21096, 25452, 23111, 30540, 25188, 27055, 17013, 22715, 22617, 25497, 26368, 25408, 24856, 20187, 20289, 23796, 17608, 35596, 27431, 16295, 20854, 15154, 24274, 26473, 26879, 13662, 26330, 31406, 15994, 33196, 30697, 26542, 33948, 28601, 21484, 17746, 25849, 28251, 20499, 33742, 35082, 22556, 27129, 19859, 25293, 24939, 34749, 18518, 17848, 18304, 30814, 26039, 29015, 30932, 26586, 22015, 29760, 28118, 32886, 26686, 25106, 35368, 35171, 22309, 21389, 24457, 28306, 28583, 31129, 30626, 35793, 18574, 28609, 24716, 24267, 28654, 24709, 26096, 30256, 24566, 24655, 23520, 22811, 33560, 25334, 29885, 20538, 29764, 17397, 22686, 29147, 20848, 35063, 25090, 24053, 11817, 24584, 17520, 32961, 22997, 22959, 27651, 34870, 26365, 31120, 23639, 28362, 19543, 35312, 20871, 26233, 23042, 32102, 23839, 31275, 26588, 28103, 11872, 26787, 23868, 24663, 18527, 22831, 17388, 21654, 29465, 24320, 28004, 22291, 29904, 19869, 19144, 23930, 32511, 13843, 24168, 26185, 34313, 31973, 18352, 22406, 27302, 27405, 24234, 15444, 31893, 26140, 35790, 33823, 31923, 20612, 21601, 33668, 34200, 22159, 23086, 27731, 32400, 29718, 27013, 29524, 6792, 18987, 24192, 31992, 16130, 34805, 35133, 20864, 24751, 14464, 30589, 24097, 23027, 27579, 29005, 28233, 19113, 29057, 23899, 22754, 32811, 25995, 19337, 23503, 28538, 30990, 31736, 20938, 28738, 31159, 21122, 31811, 24294, 35796, 17796, 27719, 24794, 24823, 21836, 22184, 21705, 25932, 30998, 24722, 31957, 26176, 34077, 16922, 21859, 28622, 19860, 35945, 15555, 30698, 24190, 27108, 35911, 32394, 25857, 19403, 25067, 27360, 17755, 24761, 28460, 35513, 24933, 16100, 23124, 20106, 24806, 18116, 21829, 18921, 21780, 27168, 30323, 23739, 31625, 20459, 26167, 23108, 14572, 16490, 24076, 34522, 30896, 32918, 26682, 21503, 22473, 15633, 24465, 31125, 33425, 22337, 16343, 21350, 25973, 29188, 29859, 22022, 17851, 26211, 22416, 29458, 20501, 28731, 35255, 24476, 18153, 32525, 24134, 27722, 32406, 17685, 18914, 24944, 26246, 33208, 22396, 22744, 16935, 25378, 22864, 25651, 28644, 25663, 22431, 29320, 26143, 25225, 33780, 12346, 29168, 27156, 27225, 31400, 27476, 28164, 23609, 31197, 19467, 15773, 29516, 28603, 26620, 35770, 21713, 28513, 23121, 25553, 21175, 27020, 19096, 26180, 35810, 25972, 22026, 26806, 21415, 31543, 31062, 12885, 21368, 23434, 28269, 25574, 25814, 25531, 26662, 26152, 23604, 23526, 30030, 24475, 23733, 27104, 33045, 17954, 30374, 35141, 23681, 27359, 17711, 24739, 32096, 31485, 10268, 26902, 20282, 16515, 19482, 28334, 25298, 23470, 18678, 26976, 28473, 25491, 21842, 22257, 32374, 26832, 17591, 34355, 34656, 29480, 17737, 22782, 32850, 25756, 30473, 20319, 27211, 35740, 19895, 23295, 27595, 23120, 33774, 22397, 22213, 28028, 30682, 35921, 24145, 12716, 32579, 33627, 21352, 22032, 21577, 19353, 21667, 25561, 35383, 34663, 21564, 22555, 21754, 25286, 35785, 21931, 20210, 29887, 31260, 21196, 32094, 29002, 35438, 23585, 20033, 25807, 27485, 35937, 34335, 18582, 25467, 34991, 21783, 28016, 26530, 23370, 31536, 32204, 34722, 19394, 24258, 25038, 22209, 28940, 26964, 28804, 18931, 18155, 35781, 25653, 29001, 25588, 14078, 34670, 17010, 20318, 34693, 22869, 28377, 25511, 29269, 33786, 32800, 28123, 19825, 35117, 32550, 34097, 19262, 12965, 27465, 15623, 27533, 33257, 18851, 29850, 28540, 31793, 32317, 19982, 26847, 24765, 20368, 32843, 32370, 24846, 21018, 18781, 34412, 34164, 29197, 17656, 22248, 26077, 23501, 24507, 25412, 30475, 35477, 27946, 26554, 28587, 35443, 19379, 34068, 29564, 19072, 16872, 29482, 19890, 22042, 29715, 24914, 20841, 25547, 26293, 20168, 26001, 31733, 24406, 25700, 28793, 32170, 31363, 23652, 21140, 23719, 20012, 27371, 21392, 34859, 19388, 20090, 25316, 17425, 30610, 22221, 27033, 21604, 35880, 30617, 23887, 33784, 26590, 27936, 21098, 21947, 30537, 14762, 20924, 24852, 23662, 27477, 21339, 32414, 32975, 18974, 31857, 34129, 25875, 17277, 21856, 35403, 35642, 19432, 31658, 28504, 30200, 12435, 33403, 30784, 26174, 21845, 25587, 27942, 34134, 26572, 22010, 29565, 30619, 20685, 24057, 29910, 20267, 20637, 26528, 23816, 24332, 21757, 31994, 30223, 26047, 29024, 35042, 28142, 34819, 30845, 29388, 32028, 28988, 17076, 28937, 24378, 33516, 27158, 13801, 34072, 30195, 29233, 14215, 24287, 28205, 17504, 27491, 28272, 30008, 29507, 19868, 26141, 32523, 33837, 32115, 22024, 26775, 30313, 22693, 25315, 23260, 28559, 15968, 23030, 14156, 25839, 35102, 24516, 26524, 29793, 27620, 35489, 13166, 29871, 29237, 29890, 25118, 31891, 21143, 28536, 24588, 28525, 17445, 24021, 34270, 31399, 20492, 25076, 28467, 28244, 21434, 25880, 20868, 25383, 13161, 25496, 22736, 25981, 23263, 26207, 31684, 28287, 24500, 21925, 15318, 22543, 26210, 28740, 21173, 24741, 28422, 16334, 31101, 29775, 26951, 18960, 23190, 25009, 33301, 20064, 17455, 16625, 21301, 21069, 17451, 23417, 24575, 24341, 23457, 27642, 28185, 27993, 33362, 32878, 24306, 31021, 30999, 30957, 35787, 17271, 21692, 35786, 22148, 19603, 24845, 14917, 27355, 24205, 21446, 33496, 24622, 25280, 35741, 23852, 35127, 26334, 23830, 34139, 24241, 26823, 24531, 22475, 23846, 18823, 28015, 14255, 31464, 19909, 30249, 32119, 28909, 20608, 26258, 28844, 28554, 14981, 24959, 22805, 26179, 32126, 28638, 26545, 24415, 28499, 31637, 17628, 28466, 18296, 24469, 31814, 25115, 29792, 25636, 24286, 30092, 29098, 35008, 24573, 34414, 22608, 30943, 19910, 23256, 31347, 23962, 35687, 28508, 26453, 24863, 15214, 23862, 33472, 23130, 35789, 12029, 22439, 26452, 17577, 30798, 27692, 32725, 12199, 31252, 23737, 18875, 27998, 19520, 34203, 31329, 17008, 19537, 24647, 34587, 33997, 30544, 26897, 34517, 30165, 24213, 25358, 20128, 35726, 24517, 27459, 5902, 30592, 34895, 31457, 30647, 33739, 22435, 33623, 22095, 26462, 23872, 28056, 25208, 26495, 31780, 20610, 25471, 16297, 23863, 24860, 29853, 32415, 21971, 34122, 22982, 29730, 23516, 22615, 22833, 28863, 31745, 12085, 26632, 24579, 33292, 24648, 31963, 22219, 30899, 23888, 32311, 28298, 32554, 30121, 17472, 23146, 20199, 31036, 32268, 22724, 33271, 32997, 22633, 22149, 21225, 23776, 24825, 33910, 32546, 27957, 25371, 12250, 29811, 24434, 30854, 33656, 26177, 23274, 20037, 27887, 9956, 30593, 21605, 33127, 35162, 35271, 16089, 29281, 23714, 12519, 34402, 16698, 19571, 29858, 21451, 32558, 20353, 27667, 20773, 23437, 33278, 31534, 29805, 27673, 20774, 31689, 31179, 23763, 35377, 22934, 32671, 30287, 24433, 30118, 24121, 26247, 21849, 14174, 28295, 30734, 19401, 17096, 31508, 35143, 24841, 18199, 25776, 18427, 30598, 20133, 20951, 26978, 15413, 26598, 23317, 19056, 26579, 22563, 26782, 25336, 25419, 28207, 34400, 32667, 35305, 26380, 34040, 23573, 34247, 32819, 24034, 26088, 20071, 24984, 27263, 23427, 24871, 20394, 35265, 28930, 22333, 29661, 34448, 29801, 31367, 25581, 34073, 33143, 31232, 23426, 18461, 34016, 23361, 33314, 30852, 25303, 15762, 25174, 16114, 31258, 28382, 23433, 24768, 25739, 31795, 30408, 27161, 22643, 14931, 22255, 35123, 20565, 23204, 35566, 27746, 28850, 21121, 20684, 18465, 25713, 28296, 22164, 26326, 25206, 22749, 30548, 25399, 16344, 23891, 21541, 21638, 26360, 24807, 32596, 32816, 33787, 24431, 31355, 16742, 17575, 30582, 18694, 22748, 27791, 25075, 14161, 24623, 30668, 28606, 18565, 25893, 31717, 34401, 23832, 24187, 32831, 34397, 31359, 21820, 31368, 19465, 28432, 20416, 27738, 31747, 29671, 33870, 29155, 22798, 21739, 31084, 19576, 25826, 21433, 30531, 30135, 30420, 26289, 23035, 25590, 32357, 19691, 24782, 31833, 26275, 31097, 19277, 14539, 35523, 34561, 32501, 29693, 18972, 34654, 31578, 11526, 27773, 24958, 34267, 13842, 25795, 27666, 20518, 28131, 28745, 28210, 28494, 30669, 32201, 28843, 35121, 19544, 24870, 34461, 19694, 27985, 24380, 17760, 34417, 25493, 15871, 16555, 29898, 31045, 25999, 29680, 32356, 31208, 16312, 27207, 12950, 19560, 24811, 34342, 33463, 32740, 33003, 25945, 19217, 13826, 30149, 21945, 27826, 18540, 20270, 20385, 22075, 22629, 18367, 30706, 31112, 24317, 24359, 16223, 14705, 28792, 35897, 27137, 25677, 32951, 28582, 20160, 35624, 15757, 23575, 15025, 20486, 28447, 27490, 33854, 33406, 20599, 30386, 21363, 21572, 20591, 11086, 28266, 19466, 26189, 17629, 25273, 28364, 28058, 31861, 26228, 32865, 35888, 33262, 35510, 16080, 18793, 11628, 35470, 28308, 26333, 26415, 24692, 31895, 19642, 25451, 15719, 27679, 33300, 24836, 30327, 19546, 31947, 30193, 21308, 14890, 26018, 30568, 12339, 23584, 18065, 35069, 21911, 33952, 32697, 23771, 31267, 33053, 19499, 27340, 32844, 22795, 29043, 28707, 16347, 17296, 31517, 18723, 34520, 16851, 32469, 31971, 20683, 28666, 23963, 31954, 11971, 23855, 29537, 31349, 20731, 26000, 11976, 25556, 26270, 35402, 19334, 26702, 35242, 8331, 27815, 24458, 27996, 33819, 26918, 30173, 21678, 17908, 29348, 29987, 21775, 25341, 31670, 29096, 29617, 35040, 18181, 20091, 15194, 24922, 32636, 16311, 33429, 21823, 25781, 27251, 30412, 25132, 22941, 34125, 28392, 28916, 26886, 17479, 21023, 25173, 15896, 24047, 32915, 35485, 27423, 29490, 28698, 23127, 13543, 35713, 24269, 22995, 21208, 26364, 26115, 27577, 25296, 24037, 28725, 27509, 8406, 34604, 23226, 26537, 27892, 30322, 26256, 33899, 19672, 31344, 22515, 25294, 31187, 30876, 34357, 35072, 23658, 21474, 27689, 35180, 20827, 21570, 23761, 21939, 30285, 21515, 24631, 28249, 23144, 24290, 29521, 27387, 26184, 19529, 25413, 31741, 30348, 26393, 31633, 26259, 22348, 35394, 29163, 24002, 33620, 7898, 33437, 25006, 24484, 20162, 20760, 32402, 16290, 26412, 13972, 25652, 26840, 28521, 22294, 33211, 19516, 24230, 27218, 19058, 27988, 28215, 27822, 14211, 35848, 31616, 25834, 30748, 27514, 26015, 31077, 23543, 29457, 27089, 22932, 35879, 29738, 24225, 29468, 29816, 21336, 19131, 27790, 34974, 23617, 13654, 25170, 23247, 33440, 27063, 26888, 35165, 29682, 24847, 16190, 16162, 27498, 33673, 29450, 26489, 35669, 26968, 27196, 35611, 16948, 24812, 11856, 28859, 32259, 28414, 29041, 33625, 22283, 25326, 31613, 33889, 27331, 19480, 29143, 22603, 27461, 23793, 29944, 21488, 25916, 24362, 28741, 23277, 25813, 20007, 33783, 32583, 35444, 21408, 17162, 23845, 13681, 27350, 34692, 20374, 25794, 29821, 27192, 32964, 35734, 35963, 20232, 29938, 24879, 20045, 32054, 27003, 34540, 16538, 25149, 29338, 24103, 32174, 35532, 26739, 28268, 20989, 26552, 19493, 24849, 31913, 23985, 26973, 30482, 35207, 29213, 15770, 20857, 32337, 35341, 35262, 28303, 23233, 32021, 32542, 17092, 21568, 30125, 14491, 18322, 22697, 18697, 23809, 32580, 21995, 25862, 30368, 18186, 30673, 35372, 33634, 28119, 20690, 29522, 32590, 27219, 34158, 30629, 23251, 23064, 28080, 20156, 13841, 4806, 18976, 24237, 33129, 20046, 18982, 27303, 26763, 30238, 26468, 19679, 23176, 29384, 22171, 15375, 14051, 34559, 28060, 29699, 21791, 21450, 29442, 34625, 22359, 28730, 31702, 34877, 24463, 28034, 24033, 33394, 33701, 33616, 22942, 18289, 16756, 31877, 19706, 35044, 20629, 27777, 28211, 27955, 20454, 22918, 19722, 26960, 26903, 26541, 31797, 27648, 27039, 28404, 25538, 27844, 34381, 17568, 18562, 30529, 26526, 18434, 17588, 26704, 33110, 32464, 33120, 31189, 31491, 24695, 21724, 28079, 22127, 22028, 23674, 34899, 30034, 30600, 26243, 33653, 26859, 31644, 33958, 17244, 29336, 30964, 23824, 25727, 23583, 26756, 27098, 29788, 25791, 29577, 22692, 18338, 35609, 25405, 28258, 8690, 29487, 20392, 21197, 26212, 28299, 30134, 23284, 18358, 26181, 34510, 29244, 32301, 22670, 28055, 25541, 27845, 22991, 23335, 25179, 18075, 34555, 14935, 31113, 19552, 30019, 29223, 34553, 30740, 26485, 25463, 19443, 29453, 23752, 27034, 25684, 23835, 31486, 28893, 24413, 34626, 24483, 33726, 32046, 28881, 34608, 19588, 30487, 25579, 27872, 28225, 27808, 26974, 22228, 24905, 16924, 33602, 27446, 35344, 29780, 31596, 30115, 33194, 28640, 19668, 30020, 21180, 21303, 27473, 33680, 32955, 27792, 20701, 29363, 27510, 21913, 22753, 27839, 28659, 27011, 26731, 33295, 18725, 35047, 19749, 19971, 23085, 29719, 24948, 16896, 30671, 32944, 21699, 26101, 16945, 35156, 15270, 30110, 15593, 17965, 31714, 31532, 27096, 25072, 23281, 21952, 31443, 27429, 33538, 19832, 33207, 25330, 21613, 26249, 32256, 35340, 24803, 15426, 25231, 34838, 21986, 21371, 33209, 31929, 29687, 25143, 29517, 16650, 30873, 31849, 27395, 30954, 27237, 20551, 32111, 27811, 35113, 16205, 31809, 31064, 20810, 30309, 24445, 18004, 9152, 19551, 26904, 22070, 27124, 31572, 32569, 33064, 27436, 33330, 28397, 23833, 29290, 22797, 24831, 28906, 29144, 27586, 16402, 22920, 34308, 20414, 33134, 30919, 34616, 32016, 35707, 31751, 15987, 23357, 24592, 26494, 30862, 32249, 26384, 27301, 24003, 25661, 26349, 35185, 34876, 34786, 20510, 28522, 25717, 34644, 35195, 26553, 24726, 19766, 29498, 24937, 29958, 26783, 22002, 26303, 20302, 22481, 27440, 32183, 34252, 34814, 25946, 19793, 28114, 15580, 31802, 22785, 22082, 28480, 31352, 29743, 28293, 25783, 27521, 27134, 21485, 27606, 31690, 24858, 24109, 22346, 21852, 23019, 29019, 16278, 21512, 34226, 29346, 31640, 28479, 28265, 30985, 24328, 30050, 32066, 24340, 35499, 27049, 17585, 23722, 27347, 26926, 29151, 34798, 26881, 19975, 33450, 31475, 22336, 25998, 30788, 18061, 21152, 13450, 15660, 23453, 33985, 26644, 19855, 35188, 12432, 21274, 15741, 19872, 33919, 35369, 23181, 21265, 32224, 34843, 27780, 32310, 22830, 35660, 24965, 21912, 22578, 33360, 27732, 32156, 27341, 25515, 31465, 29702, 23105, 31289, 25290, 29330, 18799, 29433, 27256, 28431, 26306, 25572, 35137, 33465, 26134, 22428, 31247, 33821, 32996, 26214, 30530, 29945, 34802, 28208, 33453, 25509, 34907, 29888, 21289, 29298, 32489, 22558, 26814, 28851, 27058, 28014, 31825, 28794, 28933, 31118, 35759, 23669, 15369, 30215, 27848, 22659, 10715, 24451, 23230, 28196, 31746, 26282, 30829, 29313, 32908, 17104, 18763, 27169, 24544, 33777, 25845, 29202, 28054, 7125, 32336, 25723, 24158, 22990, 29601, 35086, 35476, 24767, 35658, 33020, 26899, 30693, 20990, 24996, 21165, 24435, 23044, 35758, 21357, 23815, 32585, 30764, 33467, 34236, 32363, 33738, 21771, 23783, 32062, 16888, 23932, 24630, 25961, 34580, 32599, 27311, 20304, 24562, 24349, 30602, 30574, 32030, 31228, 22677, 31487, 29398, 27053, 33311, 31080, 29665, 23736, 19678, 15412, 30528, 22594, 16605, 26420, 28691, 33975, 24653, 34903, 28338, 20017, 32433, 29519, 35336, 27877, 26767, 20500, 22177, 32027, 22527, 33128, 23254, 24903, 24527, 29416, 34425, 28615, 23464, 35432, 27012, 33070, 30865, 33419, 28176, 28472, 32200, 19356, 24041, 19565, 20157, 25984, 20354, 29272, 17806, 19778, 24775, 21049, 26513, 30606, 27143, 30739, 33564, 27630, 25510, 25975, 27828, 29837, 31693, 31721, 26914, 30477, 28854, 34046, 30792, 35370, 25480, 34057, 26764, 28039, 22478, 18578, 32002, 23894, 27714, 35705, 17688, 33877, 30780, 24503, 21370, 24184, 35150, 33982, 33423, 23212, 32748, 22522, 27900, 35569, 25741, 19095, 21648, 20108, 35894, 20912, 24949, 30086, 35610, 28872, 27819, 32273, 25320, 24662, 17668, 19984, 26472, 30653, 28784, 24014, 26173, 35925, 31292, 32459, 19774, 32498, 22122, 29880, 32346, 24760, 35597, 31868, 35575, 35140, 32880, 33153, 25466, 27962, 27737, 21571, 19368, 29985, 27021, 23732, 34860, 25628, 32207, 26242, 29535, 21960, 25416, 26100, 22553, 32175, 27472, 22593, 23172, 32606, 34098, 29497, 32491, 17835, 24998, 25025, 17675, 18954, 26619, 24171, 26416, 26064, 32101, 27829, 30774, 29431, 33355, 18707, 32582, 11457, 31075, 35531, 20269, 25801, 24530, 21833, 34639, 25726, 24116, 33177, 33856, 27553, 29584, 27183, 16164, 34297, 27598, 23005, 18366, 31870, 33123, 35487, 29646, 20890, 31018, 28463, 10954, 29366, 25578, 23415, 35502, 32430, 23461, 33665, 23319, 35164, 27897, 25895, 18039, 34908, 22250, 14747, 26445, 31783, 27026, 30324, 26455, 11365, 34429, 33411, 29774, 33586, 23485, 30449, 26353, 29672, 28785, 35946, 30813, 27975, 32060, 13629, 25844, 29645, 16793, 34208, 27744, 30662, 25976, 18769, 19791, 27562, 23469, 24456, 32591, 30229, 26034, 25218, 26449, 35939, 21259, 27052, 33137, 30419, 29895, 27079, 30087, 31976, 10303, 25939, 31170, 20586, 32632, 18874, 35686, 25810, 33672, 28568, 34347, 28045, 26522, 32388, 33415, 24289, 35130, 28827, 30114, 35849, 7871, 20328, 24416, 32486, 10640, 32626, 24814, 29657, 25134, 27478, 24540, 26876, 29307, 16475, 34180, 23613, 33992, 25820, 33762, 20265, 32736, 34684, 27445, 34875, 19194, 24071, 26751, 33521, 24889, 13600, 15897, 33441, 18080, 17734, 23110, 35337, 28124, 29765, 21651, 27539, 30731, 25381, 23775, 32258, 23096, 23472, 34078, 28517, 35605, 32587, 33165, 23273, 28577, 30799, 34740, 26132, 31127, 29077, 24912, 28556, 22895, 22888, 32913, 25397, 24346, 28322, 25971, 29176, 22777, 35851, 35692, 34014, 17636, 26677, 28307, 26747, 22476, 27321, 23664, 24832, 21644, 23359, 30959, 23363, 26818, 18646, 30459, 22079, 31223, 18180, 30902, 25656, 26730, 24218, 24312, 27626, 23774, 34058, 24749, 33676, 25771, 22973, 34734, 33853, 30310, 22788, 29754, 35033, 22620, 29071, 28811, 32804, 27583, 30779, 30151, 23915, 31111, 25925, 31671, 14703, 23056, 21007, 29081, 20475, 25701, 30438, 22746, 29022, 32478, 27253, 18738, 24621, 30332, 29145, 17325, 33218, 16808, 29405, 33228, 30035, 28954, 29489, 32631, 18147, 17198, 27296, 19236, 26493, 21015, 33478, 23343, 28278, 33887, 34001, 26534, 30434, 25654, 32981, 28075, 30524, 34775, 33902, 24276, 25595, 27176, 23517, 23346, 32303, 29253, 33828, 34896, 25210, 35173, 35595, 28111, 35078, 30376, 18113, 30005, 33893, 15132, 12061, 34700, 27928, 31295, 21099, 35934, 24185, 21538, 33385, 27197, 33805, 31331, 27785, 29115, 24582, 27504, 32562, 16782, 31091, 26539, 35813, 31087, 22137, 34770, 34456, 28203, 26685, 24896, 34038, 27588, 35446, 29289, 35005, 26558, 29426, 31801, 33104, 35512, 22784, 16037, 29903, 32597, 25822, 22858, 32949, 27925, 19256, 23050, 31962, 20172, 29688, 18629, 35212, 26215, 26851, 28614, 27983, 24989, 23729, 33525, 27045, 27135, 35003, 31199, 34541, 31134, 27411, 27646, 32266, 23411, 33818, 30630, 35128, 21992, 24015, 27980, 15728, 18111, 30727, 13352, 24929, 26673, 13910, 33039, 26627, 29428, 33322, 32666, 29219, 31648, 25424, 21942, 26286, 26809, 25823, 17545, 30755, 29170, 17981, 26488, 31905, 31339, 28107, 25284, 32191, 32178, 24018, 22807, 33592, 31042, 22950, 33607, 34110, 16299, 33686, 21198, 29345, 35841, 32657, 32515, 20139, 28550, 30944, 20505, 27612, 33800, 23133, 35465, 32421, 27786, 30947, 27188, 23375, 19416, 29166, 27165, 29733, 28561, 35641, 24478, 18770, 20408, 27358, 27827, 25679, 33313, 33205, 29169, 27997, 32401, 23706, 16046, 29740, 22752, 32226, 35579, 24897, 26370, 19805, 27977, 30751, 31444, 27757, 31012, 27966, 22946, 33491, 33345, 22691, 26946, 31614, 19801, 30300, 25894, 33258, 32806, 21067, 34163, 29360, 24700, 24969, 27367, 32551, 29013, 19307, 28344, 26792, 28895, 25199, 17373, 28594, 30906, 33147, 28247, 23817, 25313, 23858, 30107, 30989, 31215, 34459, 25005, 17862, 29909, 16371, 29216, 29329, 28429, 35469, 31497, 24649, 28493, 20280, 32416, 32152, 20268, 27401, 31388, 29845, 30974, 35453, 27077, 33482, 35830, 33669, 20640, 22071, 34963, 23082, 23197, 25156, 26535, 23954, 28926, 29335, 29559, 29931, 19453, 34349, 25861, 29328, 20557, 29722, 24188, 35240, 29364, 11682, 33638, 13332, 30875, 29280, 27768, 32522, 26931, 19992, 25003, 30738, 34304, 25507, 31647, 16071, 29386, 34760, 34364, 28588, 30440, 18231, 35890, 16499, 22088, 33648, 28008, 26774, 20476, 29495, 20386, 32330, 33995, 25788, 24455, 24525, 24374, 28385, 15972, 26432, 26260, 33714, 21868, 19382, 31094, 33678, 27121, 12060, 31856, 24149, 29106, 35874, 32767, 32286, 15607, 30381, 16063, 25937, 29855, 25420, 24215, 34275, 17317, 34390, 27483, 20360, 22676, 28949, 19468, 32015, 29833, 33898, 25301, 21148, 23942, 22315, 34827, 19538, 29038, 28879, 31822, 35027, 29061, 33628, 25586, 29753, 22610, 30251, 33509, 23756, 24667, 33145, 27382, 26729, 18141, 35304, 16764, 18497, 18713, 34655, 22971, 29734, 27979, 32660, 25710, 32712, 25774, 23870, 27986, 20782, 29649, 35147, 32492, 26631, 20606, 29615, 25059, 33839, 33725, 21831, 29797, 34260, 20294, 21664, 21286, 23577, 25036, 21294, 17982, 27551, 28121, 18724, 27951, 35215, 33727, 25956, 30466, 25004, 31716, 29502, 21922, 31990, 33996, 33643, 21365, 25265, 24046, 28027, 21579, 32555, 27623, 30810, 34376, 25793, 26036, 13154, 30986, 28917, 25897, 27592, 34023, 23670, 35728, 30521, 31057, 30791, 32117, 26325, 24485, 31156, 22915, 13748, 30885, 26523, 34800, 34497, 24142, 31715, 29105, 27236, 31854, 26883, 35303, 24784, 17724, 28899, 29612, 27779, 24591, 35620, 27035, 19157, 28386, 18251, 31195, 29886, 27029, 14301, 34197, 32638, 29575, 23547, 22163, 35020, 24354, 22147, 23715, 21685, 31663, 29923, 30250, 34868, 30175, 26121, 24496, 29566, 34424, 27462, 28369, 32090, 23544, 35794, 22867, 21670, 28144, 24748, 16488, 22129, 23989, 22104, 19536, 30264, 20581, 20407, 29332, 27734, 25275, 32998, 32290, 23282, 26217, 30471, 30185, 34454, 22822, 21171, 21092, 26222, 35281, 20816, 27075, 20960, 34911, 19149, 23486, 34174, 31827, 30172, 17089, 27299, 29293, 34931, 33579, 30009, 25498, 25484, 30486, 26907, 29947, 23191, 31311, 24381, 33979, 32194, 33756, 33434, 34311, 23424, 27916, 29200, 30246, 20494, 34026, 31143, 30663, 35586, 26699, 29454, 34330, 30516, 26515, 18019, 34599, 28742, 18997, 18157, 33168, 22591, 30044, 25530, 24155, 21424, 28454, 28042, 24398, 27117, 29189, 23041, 25439, 17858, 30922, 15192, 25031, 26711, 35399, 15351, 35388, 30311, 20218, 24396, 23380, 29919, 26738, 35749, 21243, 29536, 30969, 27297, 29701, 34929, 23386, 26945, 23299, 30197, 29675, 19731, 32011, 17127, 18826, 25065, 35862, 26118, 32871, 27342, 30079, 24153, 24321, 29053, 35557, 26506, 15932, 30861, 24051, 24882, 31184, 28547, 28929, 30533, 25748, 29588, 34132, 31000, 27271, 21878, 26999, 30641, 34009, 27970, 28241, 33554, 18545, 35680, 19742, 27351, 27708, 31052, 32679, 21418, 25489, 32629, 23013, 34565, 30106, 17118, 15494, 35307, 22745, 22962, 34196, 20422, 27014, 22195, 24292, 32294, 31361, 29466, 25201, 34600, 18856, 34925, 26867, 29394, 35768, 29211, 19042, 35750, 15800, 27308, 35757, 35825, 28706, 31836, 21439, 26915, 33968, 24881, 32493, 24745, 34426, 33268, 33341, 31659, 28352, 21317, 28803, 31119, 26040, 34019, 25055, 30914, 32979, 25763, 33608, 35928, 33681, 28057, 18428, 23935, 26906, 31471, 34495, 34667, 34249, 33577, 30448, 34290, 32312, 31914, 28984, 30397, 24758, 24728, 23138, 19479, 29349, 24438, 21342, 20113, 24112, 18505, 31425, 28680, 33474, 20528, 28701, 22894, 34314, 31612, 32545, 32364, 27272, 32745, 25827, 25692, 22866, 33387, 19685, 21036, 31558, 28652, 23465, 27690, 34295, 35915, 27919, 32890, 13804, 33174, 26227, 31548, 26491, 25712, 35256, 31521, 26838, 26481, 17040, 32108, 11696, 16861, 13828, 33224, 33063, 23631, 27813, 27202, 29863, 24744, 32462, 25597, 30398, 23017, 18536, 34714, 30625, 20238, 29692, 21387, 33699, 20014, 34519, 35218, 20057, 14934, 30007, 34229, 20041, 34973, 33596, 33677, 20700, 29087, 20839, 18451, 31842, 28888, 20420, 35448, 19107, 24607, 25327, 23579, 34536, 35068, 21956, 25627, 29463, 27122, 31162, 33512, 31371, 27945, 27807, 34256, 20838, 26296, 28010, 30941, 32299, 35552, 28398, 33227, 24632, 33071, 30464, 26810, 27911, 32786, 25051, 25407, 23321, 24946, 22130, 29158, 23957, 35780, 32567, 30805, 27230, 29825, 27528, 29400, 23214, 31551, 34353, 28816, 21307, 16493, 35821, 22956, 27843, 29340, 33086, 25204, 29658, 27486, 33055, 35589, 31707, 25062, 12571, 28500, 25738, 29894, 19500, 30874, 26006, 27842, 29540, 15535, 32345, 25555, 27062, 27747, 24055, 23241, 26608, 19315, 24446, 26725, 34193, 19784, 26815, 34213, 26813, 28063, 24887, 26129, 21312, 26845, 24060, 15634, 20552, 21011, 23303, 23956, 34334, 34981, 32533, 32722, 28285, 29104, 24382, 26223, 23843, 25962, 27587, 31713, 26146, 34472, 32453, 20327, 18936, 27216, 32744, 30331, 32910, 22634, 31566, 26224, 21967, 24597, 27334, 23690, 20419, 21772, 16980, 17291, 34752, 33464, 22598, 30720, 25858, 23186, 26819, 31219, 18835, 23950, 22312, 20807, 27717, 10589, 30242, 25110, 19238, 20200, 34141, 32095, 25172, 35682, 17763, 22882, 33393, 32747, 28160, 23875, 31774, 35877, 25743, 29727, 34611, 24671, 21755, 24498, 26719, 22937, 25233, 30479, 30515, 35160, 29263, 30490, 34967, 34901, 20504, 29608, 26701, 24062, 19926, 32563, 28948, 24360, 23099, 31231, 33248, 35389, 26197, 35216, 28813, 29777, 31980, 25432, 33901, 22373, 35632, 35716, 19532, 29371, 24169, 30097, 29716, 17537, 32870, 34277, 33763, 33580, 32645, 27497, 23269, 30411, 29563, 32275, 12176, 30003, 26218, 25914, 28781, 27896, 32361, 28297, 28173, 34284, 29035, 31239, 33897, 31226, 26872, 34960, 29287, 30953, 34021, 32214, 26880, 33741, 30763, 30363, 28994, 25660, 19815, 23304, 33191, 31681, 23302, 31044, 30713, 24394, 24307, 22331, 27112, 32824, 31139, 35456, 33618, 25390, 24755, 21595, 29990, 10817, 33284, 19390, 27210, 24214, 24511, 20946, 25969, 20804, 20973, 28331, 35503, 30958, 33558, 25864, 28762, 28172, 20794, 27178, 18556, 23967, 35656, 35922, 33866, 30128, 32594, 33212, 33399, 28151, 21205, 27862, 33693, 19449, 31265, 35060, 31866, 26573, 32213, 20451, 34614, 20303, 11082, 26873, 31634, 26482, 33713, 32898, 20509, 29123, 13861, 32682, 31974, 33960, 20326, 18233, 31163, 13617, 23490, 25427, 35229, 23880, 35445, 29868, 34441, 25837, 18695, 21846, 33280, 18243, 31412, 26516, 20471, 24437, 21309, 34224, 23637, 26442, 20460, 34082, 33384, 23047, 27182, 19373, 25575, 23709, 28041, 35568, 18567, 34029, 32862, 33388, 29300, 13510, 34374, 33945, 27937, 15246, 34444, 23873, 30767, 29017, 24850, 35612, 31476, 32225, 24031, 27603, 23326, 31121, 27797, 25063, 22371, 25577, 32103, 34527, 27082, 30733, 29568, 21432, 29935, 24414, 28195, 26125, 13183, 32737, 31321, 29603, 27447, 18780, 30074, 32892, 29961, 29036, 24541, 23126, 33298, 33160, 23003, 30443, 34789, 32774, 21349, 23745, 27756, 19374, 29932, 32277, 31180, 28544, 31432, 32257, 29048, 25070, 34577, 35962, 31037, 31520, 27984, 32708, 23847, 18145, 30719, 26280, 20329, 32560, 27507, 12638, 34696, 29491, 20614, 17363, 31305, 23507, 34490, 20440, 33363, 32807, 33746, 29752, 30585, 24736, 30057, 33348, 27556, 25325, 13784, 27721, 35261, 30084, 31730, 20624, 34153, 25927, 28149, 26382, 32089, 27204, 28396, 16296, 29997, 27151, 23522, 32833, 17922, 35254, 22550, 34906, 34321, 20446, 33380, 23329, 23215, 31196, 27700, 19621, 22972, 31669, 32454, 24868, 19806, 26148, 20765, 19159, 16051, 25884, 27727, 25178, 22356, 20227, 30387, 17679, 13269, 31561, 32723, 34568, 35449, 25030, 22459, 35352, 35762, 24120, 28246, 28353, 14680, 35080, 26869, 32372, 26237, 28625, 31592, 34266, 25610, 28636, 28875, 30188, 26562, 28575, 31201, 26098, 30071, 35546, 26300, 33700, 11266, 27639, 33323, 34487, 35022, 17631, 28767, 31584, 35013, 29239, 31387, 24942, 15592, 31882, 27460, 25409, 33331, 31618, 29016, 29729, 34581, 29288, 32534, 29058, 35097, 30425, 29120, 26104, 20482, 23382, 26771, 19314, 28631, 23506, 28033, 26666, 22870, 20778, 15637, 16201, 24620, 33056, 27710, 30176, 21800, 31452, 28170, 26053, 26992, 34422, 22839, 30504, 14861, 31948, 27119, 33407, 30023, 24888, 34930, 31488, 27683, 10644, 22900, 31249, 27958, 31160, 29187, 20892, 14546, 33964, 34257, 29952, 32329, 30446, 28766, 26276, 24016, 23275, 34709, 29628, 30441, 35335, 34774, 23139, 33617, 25940, 30150, 34088, 26790, 17809, 32185, 34697, 30491, 27781, 26849, 21941, 25608, 31370, 29312, 25754, 16408, 26431, 25879, 23548, 20290, 31718, 19874, 21247, 31378]\n"
     ]
    }
   ],
   "execution_count": 45
  },
  {
   "metadata": {
    "ExecuteTime": {
     "end_time": "2024-05-08T12:11:11.944057Z",
     "start_time": "2024-05-08T12:11:11.942101Z"
    }
   },
   "cell_type": "code",
   "source": [
    "# find the words that have largest difference in cosine similarity\n",
    "def find_largest_diff_words_with_limit(d_embeddings, r_embeddings_aligned, d_intersect_index, r_intersect_index, d_iidx, top_n = 10000, top_diff_count = 10):\n",
    "    diff_dict = {}\n",
    "    for i in range(top_n):\n",
    "        d_index = d_intersect_index[i]\n",
    "        r_index = r_intersect_index[i]\n",
    "        d_word = d_iidx[d_index]\n",
    "        cos_sim = np.dot(d_embeddings[d_index], r_embeddings_aligned[r_index]) / (np.linalg.norm(d_embeddings[d_index]) * np.linalg.norm(r_embeddings_aligned[r_index]))\n",
    "        diff_dict[d_word] = cos_sim\n",
    "    diff_dict = dict(sorted(diff_dict.items(), key=lambda item: item[1]))\n",
    "    return list(diff_dict.items())[:top_diff_count]\n"
   ],
   "id": "b35f0f125a594389",
   "outputs": [],
   "execution_count": 46
  },
  {
   "metadata": {
    "ExecuteTime": {
     "end_time": "2024-05-08T12:11:12.020547Z",
     "start_time": "2024-05-08T12:11:11.944509Z"
    }
   },
   "cell_type": "code",
   "source": "item = find_largest_diff_words_with_limit(d_embeddings, r_embeddings_aligned_all, d_intersect_index_all, r_intersect_index_all, d_iidx)",
   "id": "8ece7d31603b754e",
   "outputs": [],
   "execution_count": 47
  },
  {
   "metadata": {
    "ExecuteTime": {
     "end_time": "2024-05-08T12:14:21.953167Z",
     "start_time": "2024-05-08T12:14:21.950664Z"
    }
   },
   "cell_type": "code",
   "source": [
    "#print words only\n",
    "[item[0] for item in item]"
   ],
   "id": "c4eeaa6327040449",
   "outputs": [
    {
     "data": {
      "text/plain": [
       "['monstrosity',\n",
       " 'kermit',\n",
       " 'loaf',\n",
       " 'majoring',\n",
       " 'wyomings',\n",
       " 'nationalization',\n",
       " 'partial',\n",
       " 'rhode',\n",
       " 'practically',\n",
       " 'north']"
      ]
     },
     "execution_count": 63,
     "metadata": {},
     "output_type": "execute_result"
    }
   ],
   "execution_count": 63
  },
  {
   "metadata": {
    "ExecuteTime": {
     "end_time": "2024-05-08T12:14:55.885679Z",
     "start_time": "2024-05-08T12:14:55.845915Z"
    }
   },
   "cell_type": "code",
   "source": "item = find_largest_diff_words_with_limit(d_embeddings, r_embeddings_aligned, d_intersect_index_all, r_intersect_index_all, d_iidx)",
   "id": "55f65d6e49ae9e98",
   "outputs": [],
   "execution_count": 64
  },
  {
   "metadata": {
    "ExecuteTime": {
     "end_time": "2024-05-08T12:14:55.977566Z",
     "start_time": "2024-05-08T12:14:55.975582Z"
    }
   },
   "cell_type": "code",
   "source": "[item[0] for item in item]\n",
   "id": "b1e67353980af918",
   "outputs": [
    {
     "data": {
      "text/plain": [
       "['monstrosity',\n",
       " 'partial',\n",
       " 'loaf',\n",
       " 'majoring',\n",
       " 'nationalized',\n",
       " 'stepbystep',\n",
       " 'practically',\n",
       " 'kermit',\n",
       " 'rhode',\n",
       " 'nationalization']"
      ]
     },
     "execution_count": 65,
     "metadata": {},
     "output_type": "execute_result"
    }
   ],
   "execution_count": 65
  },
  {
   "metadata": {
    "ExecuteTime": {
     "end_time": "2024-05-08T12:15:14.486046Z",
     "start_time": "2024-05-08T12:15:14.448180Z"
    }
   },
   "cell_type": "code",
   "source": "item = find_largest_diff_words_with_limit(d_embeddings, r_embeddings_aligned_direct, d_intersect_index_all, r_intersect_index_all, d_iidx)",
   "id": "916878edc05ba870",
   "outputs": [],
   "execution_count": 66
  },
  {
   "metadata": {
    "ExecuteTime": {
     "end_time": "2024-05-08T12:15:14.596660Z",
     "start_time": "2024-05-08T12:15:14.594703Z"
    }
   },
   "cell_type": "code",
   "source": "[item[0] for item in item]\n",
   "id": "5a89976a4e7fcca4",
   "outputs": [
    {
     "data": {
      "text/plain": [
       "['monstrosity',\n",
       " 'kermit',\n",
       " 'loaf',\n",
       " 'majoring',\n",
       " 'wyomings',\n",
       " 'nationalization',\n",
       " 'partial',\n",
       " 'rhode',\n",
       " 'north',\n",
       " 'practically']"
      ]
     },
     "execution_count": 67,
     "metadata": {},
     "output_type": "execute_result"
    }
   ],
   "execution_count": 67
  },
  {
   "metadata": {
    "ExecuteTime": {
     "end_time": "2024-05-08T12:15:33.348814Z",
     "start_time": "2024-05-08T12:15:33.283955Z"
    }
   },
   "cell_type": "code",
   "source": "item = find_largest_diff_words_with_limit(d_embeddings, r_embeddings_aligned_lr, d_intersect_index_all, r_intersect_index_all, d_iidx)",
   "id": "a58acc32c8d7646",
   "outputs": [],
   "execution_count": 68
  },
  {
   "metadata": {
    "ExecuteTime": {
     "end_time": "2024-05-08T12:16:03.260670Z",
     "start_time": "2024-05-08T12:16:03.258193Z"
    }
   },
   "cell_type": "code",
   "source": "[item[0] for item in item]\n",
   "id": "399bc7b7df82db28",
   "outputs": [
    {
     "data": {
      "text/plain": [
       "['monstrosity',\n",
       " 'kermit',\n",
       " 'loaf',\n",
       " 'majoring',\n",
       " 'wyomings',\n",
       " 'nationalization',\n",
       " 'partial',\n",
       " 'rhode',\n",
       " 'north',\n",
       " 'practically']"
      ]
     },
     "execution_count": 69,
     "metadata": {},
     "output_type": "execute_result"
    }
   ],
   "execution_count": 69
  },
  {
   "metadata": {
    "ExecuteTime": {
     "end_time": "2024-05-08T12:16:13.404308Z",
     "start_time": "2024-05-08T12:16:13.364436Z"
    }
   },
   "cell_type": "code",
   "source": "item = find_largest_diff_words_with_limit(d_embeddings, r_embeddings_aligned_wlr_freq, d_intersect_index_all, r_intersect_index_all, d_iidx)",
   "id": "64330e96ad562a61",
   "outputs": [],
   "execution_count": 70
  },
  {
   "metadata": {
    "ExecuteTime": {
     "end_time": "2024-05-08T12:16:21.046262Z",
     "start_time": "2024-05-08T12:16:21.043717Z"
    }
   },
   "cell_type": "code",
   "source": "[item[0] for item in item]\n",
   "id": "79c1eccbc31286bc",
   "outputs": [
    {
     "data": {
      "text/plain": [
       "['monstrosity',\n",
       " 'kermit',\n",
       " 'loaf',\n",
       " 'majoring',\n",
       " 'partial',\n",
       " 'wyomings',\n",
       " 'nationalization',\n",
       " 'rhode',\n",
       " 'practically',\n",
       " 'north']"
      ]
     },
     "execution_count": 71,
     "metadata": {},
     "output_type": "execute_result"
    }
   ],
   "execution_count": 71
  },
  {
   "metadata": {
    "ExecuteTime": {
     "end_time": "2024-05-08T12:16:39.446290Z",
     "start_time": "2024-05-08T12:16:39.406207Z"
    }
   },
   "cell_type": "code",
   "source": "item = find_largest_diff_words_with_limit(d_embeddings, r_embeddings_aligned_wlr_idiff, d_intersect_index_all, r_intersect_index_all, d_iidx)\n",
   "id": "6745e54c41460eab",
   "outputs": [],
   "execution_count": 72
  },
  {
   "metadata": {
    "ExecuteTime": {
     "end_time": "2024-05-08T12:16:42.804476Z",
     "start_time": "2024-05-08T12:16:42.802099Z"
    }
   },
   "cell_type": "code",
   "source": "[item[0] for item in item]",
   "id": "7fa1ce35ecf8b5bb",
   "outputs": [
    {
     "data": {
      "text/plain": [
       "['monstrosity',\n",
       " 'kermit',\n",
       " 'loaf',\n",
       " 'majoring',\n",
       " 'wyomings',\n",
       " 'nationalization',\n",
       " 'partial',\n",
       " 'rhode',\n",
       " 'practically',\n",
       " 'north']"
      ]
     },
     "execution_count": 73,
     "metadata": {},
     "output_type": "execute_result"
    }
   ],
   "execution_count": 73
  },
  {
   "metadata": {
    "ExecuteTime": {
     "end_time": "2024-05-08T12:50:29.745893Z",
     "start_time": "2024-05-08T12:50:29.743651Z"
    }
   },
   "cell_type": "code",
   "source": [
    "def find_politic_word_disagreement(d_embeddings, r_embeddings_aligned, politics_words):\n",
    "    for word in politics_words:\n",
    "        d_index = d_model.wv.key_to_index[word]\n",
    "        r_index = r_model.wv.key_to_index[word]\n",
    "        d_word = d_iidx[d_index]\n",
    "        cos_sim = np.dot(d_embeddings[d_index], r_embeddings_aligned[r_index]) / (np.linalg.norm(d_embeddings[d_index]) * np.linalg.norm(r_embeddings_aligned[r_index]))\n",
    "        print(word)"
   ],
   "id": "4c6b47d08af6ad3b",
   "outputs": [],
   "execution_count": 91
  },
  {
   "metadata": {
    "ExecuteTime": {
     "end_time": "2024-05-08T12:50:29.910406Z",
     "start_time": "2024-05-08T12:50:29.908456Z"
    }
   },
   "cell_type": "code",
   "source": "find_politic_word_disagreement(d_embeddings, r_embeddings_aligned, politics_words)",
   "id": "5416afae5c15c25",
   "outputs": [
    {
     "name": "stdout",
     "output_type": "stream",
     "text": [
      "freedom\n",
      "justice\n",
      "equality\n",
      "democracy\n",
      "abortion\n",
      "immigration\n",
      "welfare\n",
      "taxes\n",
      "democrat\n",
      "republican\n"
     ]
    }
   ],
   "execution_count": 92
  },
  {
   "metadata": {
    "ExecuteTime": {
     "end_time": "2024-05-08T12:48:36.360974Z",
     "start_time": "2024-05-08T12:48:36.358668Z"
    }
   },
   "cell_type": "code",
   "source": "find_politic_word_disagreement(d_embeddings, r_embeddings_aligned_all, politics_words)",
   "id": "32f3e89cfb0131fd",
   "outputs": [
    {
     "name": "stdout",
     "output_type": "stream",
     "text": [
      "0.8271054\n",
      "0.81216997\n",
      "0.74653965\n",
      "0.80377513\n",
      "0.594437\n",
      "0.73678476\n",
      "0.63298404\n",
      "0.73294187\n",
      "0.5833646\n",
      "0.561932\n"
     ]
    }
   ],
   "execution_count": 83
  },
  {
   "metadata": {
    "ExecuteTime": {
     "end_time": "2024-05-08T12:48:36.517707Z",
     "start_time": "2024-05-08T12:48:36.515649Z"
    }
   },
   "cell_type": "code",
   "source": "find_politic_word_disagreement(d_embeddings, r_embeddings_aligned_direct, politics_words)",
   "id": "480391187e9a473c",
   "outputs": [
    {
     "name": "stdout",
     "output_type": "stream",
     "text": [
      "0.71143943\n",
      "0.71216804\n",
      "0.6343141\n",
      "0.7583278\n",
      "0.6178261\n",
      "0.604306\n",
      "0.53548837\n",
      "0.7378518\n",
      "0.57620066\n",
      "0.5848397\n"
     ]
    }
   ],
   "execution_count": 84
  },
  {
   "metadata": {
    "ExecuteTime": {
     "end_time": "2024-05-08T12:48:36.697492Z",
     "start_time": "2024-05-08T12:48:36.695508Z"
    }
   },
   "cell_type": "code",
   "source": "find_politic_word_disagreement(d_embeddings, r_embeddings_aligned_lr, politics_words)",
   "id": "2ad89d022a1ab5d4",
   "outputs": [
    {
     "name": "stdout",
     "output_type": "stream",
     "text": [
      "0.71143925\n",
      "0.71216804\n",
      "0.6343142\n",
      "0.75832784\n",
      "0.6178261\n",
      "0.6043055\n",
      "0.53548837\n",
      "0.7378521\n",
      "0.5762012\n",
      "0.58483994\n"
     ]
    }
   ],
   "execution_count": 85
  },
  {
   "metadata": {
    "ExecuteTime": {
     "end_time": "2024-05-08T12:48:36.865430Z",
     "start_time": "2024-05-08T12:48:36.863415Z"
    }
   },
   "cell_type": "code",
   "source": "find_politic_word_disagreement(d_embeddings, r_embeddings_aligned_wlr_freq, politics_words)",
   "id": "6d59639003455627",
   "outputs": [
    {
     "name": "stdout",
     "output_type": "stream",
     "text": [
      "0.71572083\n",
      "0.7097303\n",
      "0.63120216\n",
      "0.76314104\n",
      "0.616808\n",
      "0.600491\n",
      "0.5395277\n",
      "0.74076515\n",
      "0.57942134\n",
      "0.585039\n"
     ]
    }
   ],
   "execution_count": 86
  },
  {
   "metadata": {
    "ExecuteTime": {
     "end_time": "2024-05-08T12:48:37.293840Z",
     "start_time": "2024-05-08T12:48:37.292014Z"
    }
   },
   "cell_type": "code",
   "source": "find_politic_word_disagreement(d_embeddings, r_embeddings_aligned_wlr_idiff, politics_words)",
   "id": "d2a67b80b27ab330",
   "outputs": [
    {
     "name": "stdout",
     "output_type": "stream",
     "text": [
      "0.7076318\n",
      "0.7123462\n",
      "0.6292194\n",
      "0.7543711\n",
      "0.620811\n",
      "0.6052799\n",
      "0.53074217\n",
      "0.7395971\n",
      "0.57742107\n",
      "0.58340424\n"
     ]
    }
   ],
   "execution_count": 87
  },
  {
   "metadata": {
    "ExecuteTime": {
     "end_time": "2024-05-08T17:16:40.713439Z",
     "start_time": "2024-05-08T17:16:38.144019Z"
    }
   },
   "cell_type": "code",
   "source": [
    "# find most similar / different words in the top 1000 words based on cosine similarity\n",
    "import nltk\n",
    "def find_most_similar_and_different(d_embeddings, r_aligned, d_intersect_index, r_intersect_index, top_n=10000):\n",
    "    greatest_similarity = {}\n",
    "    least_similarity = {}\n",
    "    for i in range(top_n):\n",
    "        d_index = d_intersect_index[i + 300]\n",
    "        r_index = r_intersect_index[i + 300]\n",
    "        d_word = d_iidx[d_index]\n",
    "        pos_tag = nltk.pos_tag([d_word])[0][1]\n",
    "        cos_sim = np.dot(d_embeddings[d_index], r_aligned[r_index]) / (np.linalg.norm(d_embeddings[d_index]) * np.linalg.norm(r_aligned[r_index]))\n",
    "        if pos_tag in greatest_similarity:\n",
    "            if cos_sim > greatest_similarity[pos_tag][1]:\n",
    "                greatest_similarity[pos_tag] = (d_word, cos_sim)\n",
    "        else:\n",
    "            greatest_similarity[pos_tag] = (d_word, cos_sim)\n",
    "            \n",
    "        if pos_tag in least_similarity:\n",
    "            if cos_sim < least_similarity[pos_tag][1]:\n",
    "                least_similarity[pos_tag] = (d_word, cos_sim)\n",
    "        else:\n",
    "            least_similarity[pos_tag] = (d_word, cos_sim)\n",
    "    return greatest_similarity, least_similarity\n",
    "        \n",
    "g, l = find_most_similar_and_different(d_embeddings, r_embeddings_aligned, d_intersect_index_all, r_intersect_index_all)\n",
    "g_all, l_all = find_most_similar_and_different(d_embeddings, r_embeddings_aligned_all, d_intersect_index_all, r_intersect_index_all)\n",
    "g_direct, l_direct = find_most_similar_and_different(d_embeddings, r_embeddings_aligned_direct, d_intersect_index_all, r_intersect_index_all)\n",
    "g_lr, l_lr = find_most_similar_and_different(d_embeddings, r_embeddings_aligned_lr, d_intersect_index_all, r_intersect_index_all)\n",
    "g_wlr_freq, l_wlr_freq = find_most_similar_and_different(d_embeddings, r_embeddings_aligned_wlr_freq, d_intersect_index_all, r_intersect_index_all)\n",
    "g_wlr_idiff, l_wlr_idiff = find_most_similar_and_different(d_embeddings, r_embeddings_aligned_wlr_idiff, d_intersect_index_all, r_intersect_index_all)\n"
   ],
   "id": "4ec235cff19ed6ce",
   "outputs": [],
   "execution_count": 112
  },
  {
   "metadata": {
    "ExecuteTime": {
     "end_time": "2024-05-08T17:36:21.570007Z",
     "start_time": "2024-05-08T17:36:21.567827Z"
    }
   },
   "cell_type": "code",
   "source": [
    "# print all similar words\n",
    "pos_tags = set(g.keys())\n",
    "for tag in pos_tags:\n",
    "    print(tag, end=\": \")\n",
    "    #print seperated by comma\n",
    "    print(g[tag][0], g_all[tag][0], g_direct[tag][0], g_lr[tag][0], g_wlr_freq[tag][0], g_wlr_idiff[tag][0], sep=\", \")"
   ],
   "id": "a53cabfb44ac69da",
   "outputs": [
    {
     "name": "stdout",
     "output_type": "stream",
     "text": [
      "JJ: fiscal, fiscal, several, several, several, several\n",
      "VBN: asked, worked, taken, taken, taken, taken\n",
      "WDT: whatever, whatever, whatever, whatever, whatever, whatever\n",
      "JJS: worst, greatest, greatest, greatest, greatest, greatest\n",
      "PRP: themselves, themselves, myself, myself, myself, myself\n",
      "IN: despite, despite, despite, despite, despite, despite\n",
      "WP: whom, whom, whom, whom, whom, whom\n",
      "NNS: efforts, efforts, nations, nations, nations, nations\n",
      "VBZ: makes, requires, makes, makes, makes, makes\n",
      "CC: nor, nor, nor, nor, nor, nor\n",
      "JJR: greater, easier, worse, worse, worse, worse\n",
      "WP$: whose, whose, whose, whose, whose, whose\n",
      "VBD: served, served, went, went, went, went\n",
      "DT: each, each, each, each, each, each\n",
      "RB: rather, rather, rather, rather, rather, rather\n",
      "NN: colleague, honor, colleague, colleague, colleague, colleague\n",
      "MD: might, might, might, might, might, might\n",
      "RBR: less, earlier, less, less, less, less\n",
      "VBG: making, including, making, making, making, making\n",
      "CD: three, three, three, three, three, three\n",
      "VB: ensure, ensure, allow, allow, allow, allow\n"
     ]
    }
   ],
   "execution_count": 119
  },
  {
   "metadata": {
    "ExecuteTime": {
     "end_time": "2024-05-08T17:41:56.188008Z",
     "start_time": "2024-05-08T17:41:56.185594Z"
    }
   },
   "cell_type": "code",
   "source": [
    "for tag in pos_tags:\n",
    "    print(tag, end=\": \")\n",
    "    #print seperated by comma\n",
    "    print(l_all[tag][0], l[tag][0], l_direct[tag][0], l_lr[tag][0], l_wlr_freq[tag][0], l_wlr_idiff[tag][0], sep=\", \")"
   ],
   "id": "3e4fb9d08d4fef31",
   "outputs": [
    {
     "name": "stdout",
     "output_type": "stream",
     "text": [
      "JJ: partial, partial, partial, partial, partial, partial\n",
      "VBN: nationalized, nationalized, nationalized, nationalized, nationalized, nationalized\n",
      "WDT: whatever, whatever, whatever, whatever, whatever, whatever\n",
      "JJS: weakest, weakest, weakest, weakest, weakest, weakest\n",
      "PRP: yourself, himself, himself, himself, himself, himself\n",
      "IN: besides, besides, besides, besides, besides, besides\n",
      "WP: whom, whom, whom, whom, whom, whom\n",
      "NNS: wyomings, carolinas, wyomings, wyomings, wyomings, wyomings\n",
      "VBZ: expects, succeeds, succeeds, succeeds, succeeds, succeeds\n",
      "CC: plus, plus, plus, plus, plus, plus\n",
      "JJR: slower, slower, slower, slower, slower, slower\n",
      "WP$: whose, whose, whose, whose, whose, whose\n",
      "VBD: wrapped, wrapped, wrapped, wrapped, wrapped, wrapped\n",
      "DT: neither, neither, neither, neither, neither, neither\n",
      "RB: practically, massively, massively, massively, massively, massively\n",
      "NN: monstrosity, monstrosity, monstrosity, monstrosity, monstrosity, monstrosity\n",
      "MD: shall, shall, shall, shall, shall, shall\n",
      "RBR: less, earlier, earlier, earlier, earlier, earlier\n",
      "VBG: whopping, majoring, majoring, majoring, majoring, majoring\n",
      "CD: nine, nine, nine, nine, nine, nine\n",
      "VB: soar, soar, soar, soar, soar, soar\n"
     ]
    }
   ],
   "execution_count": 121
  },
  {
   "metadata": {
    "ExecuteTime": {
     "end_time": "2024-05-08T17:18:16.714092Z",
     "start_time": "2024-05-08T17:18:16.712337Z"
    }
   },
   "cell_type": "code",
   "source": "print(pos_tags)",
   "id": "b708f4f5501bb14c",
   "outputs": [
    {
     "name": "stdout",
     "output_type": "stream",
     "text": [
      "{'NN'}\n"
     ]
    }
   ],
   "execution_count": 114
  },
  {
   "metadata": {
    "ExecuteTime": {
     "end_time": "2024-05-08T17:18:31.186755Z",
     "start_time": "2024-05-08T17:18:31.185111Z"
    }
   },
   "cell_type": "code",
   "source": "print(g)\n",
   "id": "5ba33169e5a6c1ce",
   "outputs": [
    {
     "name": "stdout",
     "output_type": "stream",
     "text": [
      "{'NNS': ('efforts', 0.93569857), 'DT': ('each', 0.8841167), 'VBG': ('making', 0.9420995), 'IN': ('despite', 0.9007039), 'NN': ('colleague', 0.9386699), 'JJ': ('fiscal', 0.9242697), 'VBN': ('asked', 0.9233071), 'VB': ('ensure', 0.91148734), 'RBR': ('less', 0.93427026), 'CD': ('three', 0.9137507), 'RB': ('rather', 0.95849943), 'MD': ('might', 0.8663486), 'PRP': ('themselves', 0.87364966), 'JJS': ('worst', 0.8339169), 'VBD': ('served', 0.91650134), 'VBZ': ('makes', 0.91624725), 'JJR': ('greater', 0.8707279), 'WP': ('whom', 0.8104981), 'WDT': ('whatever', 0.8435412), 'WP$': ('whose', 0.8289185), 'CC': ('nor', 0.73260224)}\n"
     ]
    }
   ],
   "execution_count": 115
  },
  {
   "metadata": {
    "ExecuteTime": {
     "end_time": "2024-05-08T17:13:29.657988Z",
     "start_time": "2024-05-08T17:13:29.655998Z"
    }
   },
   "cell_type": "code",
   "source": [
    "for i in l:\n",
    "    # print(i)\n",
    "    print(l[i][0])"
   ],
   "id": "7209db84024d7f9e",
   "outputs": [
    {
     "name": "stdout",
     "output_type": "stream",
     "text": [
      "carolinas\n",
      "neither\n",
      "majoring\n",
      "besides\n",
      "monstrosity\n",
      "partial\n",
      "nationalized\n",
      "soar\n",
      "earlier\n",
      "nine\n",
      "massively\n",
      "shall\n",
      "himself\n",
      "weakest\n",
      "wrapped\n",
      "succeeds\n",
      "slower\n",
      "whom\n",
      "whatever\n",
      "whose\n",
      "plus\n"
     ]
    }
   ],
   "execution_count": 111
  },
  {
   "metadata": {
    "ExecuteTime": {
     "end_time": "2024-05-08T17:10:34.979932Z",
     "start_time": "2024-05-08T17:10:34.977757Z"
    }
   },
   "cell_type": "code",
   "source": [
    "#create table for most similar and different words\n",
    "def create_table(g, l):\n",
    "    table = []\n",
    "    for key in g:\n",
    "        table.append((key, g[key][0], g[key][1], l[key][0], l[key][1]))\n",
    "    return table\n"
   ],
   "id": "7df7ea8a22cf095d",
   "outputs": [],
   "execution_count": 104
  },
  {
   "metadata": {
    "ExecuteTime": {
     "end_time": "2024-05-08T17:10:38.880764Z",
     "start_time": "2024-05-08T17:10:38.878170Z"
    }
   },
   "cell_type": "code",
   "source": "create_table(g, l)",
   "id": "ae1006b3b472f039",
   "outputs": [
    {
     "data": {
      "text/plain": [
       "[('NNS', 'efforts', 0.93569857, 'carolinas', 0.15722075),\n",
       " ('DT', 'each', 0.8841167, 'neither', 0.6387919),\n",
       " ('VBG', 'making', 0.9420995, 'majoring', 0.0273699),\n",
       " ('IN', 'despite', 0.9007039, 'besides', 0.46316662),\n",
       " ('NN', 'colleague', 0.9386699, 'monstrosity', -0.05395666),\n",
       " ('JJ', 'fiscal', 0.9242697, 'partial', 0.015069652),\n",
       " ('VBN', 'asked', 0.9233071, 'nationalized', 0.03547022),\n",
       " ('VB', 'ensure', 0.91148734, 'soar', 0.49870375),\n",
       " ('RBR', 'less', 0.93427026, 'earlier', 0.92373115),\n",
       " ('CD', 'three', 0.9137507, 'nine', 0.7183859),\n",
       " ('RB', 'rather', 0.95849943, 'massively', 0.05930778),\n",
       " ('MD', 'might', 0.8663486, 'shall', 0.7907694),\n",
       " ('PRP', 'themselves', 0.87364966, 'himself', 0.74708164),\n",
       " ('JJS', 'worst', 0.8339169, 'weakest', 0.32085222),\n",
       " ('VBD', 'served', 0.91650134, 'wrapped', 0.3048239),\n",
       " ('VBZ', 'makes', 0.91624725, 'succeeds', 0.47568902),\n",
       " ('JJR', 'greater', 0.8707279, 'slower', 0.6480937),\n",
       " ('WP', 'whom', 0.8104981, 'whom', 0.8104981),\n",
       " ('WDT', 'whatever', 0.8435412, 'whatever', 0.8435412),\n",
       " ('WP$', 'whose', 0.8289185, 'whose', 0.8289185),\n",
       " ('CC', 'nor', 0.73260224, 'plus', 0.65245116)]"
      ]
     },
     "execution_count": 105,
     "metadata": {},
     "output_type": "execute_result"
    }
   ],
   "execution_count": 105
  },
  {
   "metadata": {
    "ExecuteTime": {
     "end_time": "2024-05-08T18:29:29.239189Z",
     "start_time": "2024-05-08T18:29:29.237623Z"
    }
   },
   "cell_type": "code",
   "source": "print(len(intersect_all))",
   "id": "9235686fd46d420e",
   "outputs": [
    {
     "name": "stdout",
     "output_type": "stream",
     "text": [
      "28824\n"
     ]
    }
   ],
   "execution_count": 122
  },
  {
   "metadata": {},
   "cell_type": "code",
   "outputs": [],
   "execution_count": null,
   "source": "",
   "id": "795a8a0d86f93bcb"
  }
 ],
 "metadata": {
  "kernelspec": {
   "display_name": "Python 3",
   "language": "python",
   "name": "python3"
  },
  "language_info": {
   "codemirror_mode": {
    "name": "ipython",
    "version": 2
   },
   "file_extension": ".py",
   "mimetype": "text/x-python",
   "name": "python",
   "nbconvert_exporter": "python",
   "pygments_lexer": "ipython2",
   "version": "2.7.6"
  }
 },
 "nbformat": 4,
 "nbformat_minor": 5
}
