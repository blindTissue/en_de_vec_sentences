{
 "cells": [
  {
   "cell_type": "code",
   "id": "initial_id",
   "metadata": {
    "collapsed": true,
    "ExecuteTime": {
     "end_time": "2024-05-07T17:16:48.669094Z",
     "start_time": "2024-05-07T17:16:48.664515Z"
    }
   },
   "source": [
    "import os\n",
    "train_data = open(os.path.join('train_test_data', 'train_set.txt'), 'r').read().splitlines()\n",
    "test_data = open(os.path.join('train_test_data', 'test_set.txt'), 'r').read().splitlines()\n",
    "tot_data = open(os.path.join('train_test_data', 'tot_set.txt'), 'r').read().splitlines()\n"
   ],
   "outputs": [],
   "execution_count": 1
  },
  {
   "metadata": {
    "ExecuteTime": {
     "end_time": "2024-05-07T17:16:49.566882Z",
     "start_time": "2024-05-07T17:16:48.703636Z"
    }
   },
   "cell_type": "code",
   "source": [
    "from alignment_methods import *\n",
    "\n",
    "english_model = Word2Vec.load(os.path.join('data', 'english_model_lemmatized'))\n",
    "german_model = Word2Vec.load(os.path.join('data', 'german_model_lemmatized'))\n",
    "\n",
    "english_embeddings, (english_idx, english_iidx) = w2v_to_numpy(english_model)\n",
    "german_embeddings, (german_idx, german_iidx) = w2v_to_numpy(german_model)"
   ],
   "id": "b6b93990ee7d069c",
   "outputs": [],
   "execution_count": 2
  },
  {
   "metadata": {
    "ExecuteTime": {
     "end_time": "2024-05-07T17:16:49.569716Z",
     "start_time": "2024-05-07T17:16:49.567980Z"
    }
   },
   "cell_type": "code",
   "source": [
    "# print size of vocab\n",
    "print(len(english_embeddings))\n",
    "print(len(german_embeddings))"
   ],
   "id": "a16f80970f61ce1f",
   "outputs": [
    {
     "name": "stdout",
     "output_type": "stream",
     "text": [
      "26019\n",
      "60960\n"
     ]
    }
   ],
   "execution_count": 3
  },
  {
   "metadata": {
    "ExecuteTime": {
     "end_time": "2024-05-07T17:16:49.571637Z",
     "start_time": "2024-05-07T17:16:49.570216Z"
    }
   },
   "cell_type": "code",
   "source": [
    "# get random 50 samples from the training data\n",
    "import random\n",
    "random.seed(42)\n",
    "train_data_trunc = random.sample(train_data, 50)"
   ],
   "id": "676c6fa35a1cbc2a",
   "outputs": [],
   "execution_count": 4
  },
  {
   "metadata": {
    "ExecuteTime": {
     "end_time": "2024-05-07T17:16:49.574567Z",
     "start_time": "2024-05-07T17:16:49.572569Z"
    }
   },
   "cell_type": "code",
   "source": [
    "en_words, de_words, en_indices, de_indices = create_words_and_indices(train_data_trunc)\n",
    "en_test_words, de_test_words, en_test_indices, de_test_indices = create_words_and_indices(test_data)\n",
    "\n",
    "en_train_matrix = create_matrix_slice(english_embeddings, en_indices)\n",
    "de_train_matrix = create_matrix_slice(german_embeddings, de_indices)"
   ],
   "id": "a9a3e4f2cf9fe565",
   "outputs": [],
   "execution_count": 5
  },
  {
   "metadata": {
    "ExecuteTime": {
     "end_time": "2024-05-07T17:16:49.589556Z",
     "start_time": "2024-05-07T17:16:49.574972Z"
    }
   },
   "cell_type": "code",
   "source": [
    "X = direct_alignment(de_train_matrix, en_train_matrix)\n",
    "X = procrustes(de_train_matrix, en_train_matrix)"
   ],
   "id": "27b48de626a5297",
   "outputs": [],
   "execution_count": 6
  },
  {
   "metadata": {
    "ExecuteTime": {
     "end_time": "2024-05-07T17:16:51.693860Z",
     "start_time": "2024-05-07T17:16:49.590883Z"
    }
   },
   "cell_type": "code",
   "source": [
    "de_aligned = german_embeddings @ X\n",
    "\n",
    "print('Direct Alignment')\n",
    "\n",
    "## Training Accuracy\n",
    "accuracy, total = get_accuracy_scores(english_embeddings, de_aligned, en_indices, de_indices, english_iidx, 1)\n",
    "print('top 1 accuracy')\n",
    "print(f\"Accuracy: {accuracy}, Total: {total}\")\n",
    "\n",
    "# top five accuracy\n",
    "accuracy, total = get_accuracy_scores(english_embeddings, de_aligned, en_indices, de_indices, english_iidx, 5)\n",
    "print('top 5 accuracy')\n",
    "print(f\"Accuracy: {accuracy}, Total: {total}\")\n",
    "\n",
    "### Testing Accuracy\n",
    "accuracy, total = get_accuracy_scores(english_embeddings, de_aligned, en_test_indices, de_test_indices, english_iidx, 1)\n",
    "print('top 1 accuracy')\n",
    "print(f\"Accuracy: {accuracy}, Total: {total}\")\n",
    "\n",
    "# top five accuracy\n",
    "accuracy, total = get_accuracy_scores(english_embeddings, de_aligned, en_test_indices, de_test_indices, english_iidx, 5)\n",
    "print('top 5 accuracy')\n",
    "print(f\"Accuracy: {accuracy}, Total: {total}\")\n"
   ],
   "id": "b590bb032f23de2d",
   "outputs": [
    {
     "name": "stdout",
     "output_type": "stream",
     "text": [
      "Direct Alignment\n",
      "top 1 accuracy\n",
      "Accuracy: 0.98, Total: 50\n",
      "top 5 accuracy\n",
      "Accuracy: 1.0, Total: 50\n",
      "top 1 accuracy\n",
      "Accuracy: 0.2785388127853881, Total: 219\n",
      "top 5 accuracy\n",
      "Accuracy: 0.5251141552511416, Total: 219\n"
     ]
    }
   ],
   "execution_count": 7
  },
  {
   "metadata": {
    "ExecuteTime": {
     "end_time": "2024-05-07T17:16:51.723177Z",
     "start_time": "2024-05-07T17:16:51.700154Z"
    }
   },
   "cell_type": "code",
   "source": [
    "formatted_train_data = []\n",
    "for item in train_data:\n",
    "    i = item.split()\n",
    "    formatted_train_data.append((i[0], i[1], int(i[2]), int(i[3])))\n",
    "    "
   ],
   "id": "340cde8986a69a8b",
   "outputs": [],
   "execution_count": 8
  },
  {
   "metadata": {
    "ExecuteTime": {
     "end_time": "2024-05-07T17:16:51.745561Z",
     "start_time": "2024-05-07T17:16:51.727906Z"
    }
   },
   "cell_type": "code",
   "source": "ordered = sorted(formatted_train_data, key=lambda x: abs(x[2] - x[3]))",
   "id": "adabc0539b379153",
   "outputs": [],
   "execution_count": 9
  },
  {
   "metadata": {
    "ExecuteTime": {
     "end_time": "2024-05-07T17:16:51.778513Z",
     "start_time": "2024-05-07T17:16:51.748026Z"
    }
   },
   "cell_type": "code",
   "source": "ordered[:5]",
   "id": "f4889b42ee182dde",
   "outputs": [
    {
     "data": {
      "text/plain": [
       "[('mr', 'herr', 1, 1),\n",
       " ('commission', 'kommission', 2, 2),\n",
       " ('european', 'europäisch', 0, 0),\n",
       " ('june', 'juni', 808, 808),\n",
       " ('criterion', 'kriterium', 546, 546)]"
      ]
     },
     "execution_count": 10,
     "metadata": {},
     "output_type": "execute_result"
    }
   ],
   "execution_count": 10
  },
  {
   "metadata": {
    "ExecuteTime": {
     "end_time": "2024-05-07T17:16:51.801233Z",
     "start_time": "2024-05-07T17:16:51.790730Z"
    }
   },
   "cell_type": "code",
   "source": [
    "# save ordered\n",
    "with open('train_test_data/ordered_by_idff.txt', 'w') as f:\n",
    "    for item in ordered:\n",
    "        f.write(f\"{item[0]} {item[1]} {item[2]} {item[3]}\\n\")"
   ],
   "id": "c48ad6b5e0e1989c",
   "outputs": [],
   "execution_count": 11
  },
  {
   "metadata": {
    "ExecuteTime": {
     "end_time": "2024-05-07T17:16:51.809384Z",
     "start_time": "2024-05-07T17:16:51.806596Z"
    }
   },
   "cell_type": "code",
   "source": "ordered_train = ordered[:100]",
   "id": "285f2f9338457166",
   "outputs": [],
   "execution_count": 12
  },
  {
   "metadata": {
    "ExecuteTime": {
     "end_time": "2024-05-07T17:16:51.814963Z",
     "start_time": "2024-05-07T17:16:51.811037Z"
    }
   },
   "cell_type": "code",
   "source": [
    "formatted_train_data = []\n",
    "for item in train_data:\n",
    "    i = item.split()\n",
    "    formatted_train_data.append((i[0], i[1], int(i[2]), int(i[3])))\n",
    "    \n",
    "    "
   ],
   "id": "750b2df5c091aa36",
   "outputs": [],
   "execution_count": 13
  },
  {
   "metadata": {},
   "cell_type": "markdown",
   "source": "",
   "id": "72e873f3e401939f"
  },
  {
   "metadata": {
    "ExecuteTime": {
     "end_time": "2024-05-07T17:16:51.819199Z",
     "start_time": "2024-05-07T17:16:51.816090Z"
    }
   },
   "cell_type": "code",
   "source": "ordered_by_freq = sorted(formatted_train_data, key=lambda x: abs(x[2] + x[3]))\n",
   "id": "9db7269a4fcbbde6",
   "outputs": [],
   "execution_count": 14
  },
  {
   "metadata": {
    "ExecuteTime": {
     "end_time": "2024-05-07T17:16:51.823350Z",
     "start_time": "2024-05-07T17:16:51.820438Z"
    }
   },
   "cell_type": "code",
   "source": [
    "with open('train_test_data/ordered_by_freq.txt', 'w') as f:\n",
    "    for item in ordered_by_freq:\n",
    "        f.write(f\"{item[0]} {item[1]} {item[2]} {item[3]}\\n\")"
   ],
   "id": "3cc201069ba71153",
   "outputs": [],
   "execution_count": 15
  },
  {
   "metadata": {
    "ExecuteTime": {
     "end_time": "2024-05-07T17:16:51.831584Z",
     "start_time": "2024-05-07T17:16:51.826352Z"
    }
   },
   "cell_type": "code",
   "source": [
    "en_words = []\n",
    "de_words = []\n",
    "en_indices = []\n",
    "de_indices = []\n",
    "for i in range(len(ordered_train)):\n",
    "    en_words.append(ordered_train[i][0])\n",
    "    de_words.append(ordered_train[i][1])\n",
    "    en_indices.append(ordered_train[i][2])\n",
    "    de_indices.append(ordered_train[i][3])\n",
    "    "
   ],
   "id": "2faa0a194849d49a",
   "outputs": [],
   "execution_count": 16
  },
  {
   "metadata": {
    "ExecuteTime": {
     "end_time": "2024-05-07T17:16:51.835125Z",
     "start_time": "2024-05-07T17:16:51.832819Z"
    }
   },
   "cell_type": "code",
   "source": "ordered_by_freq = ordered_by_freq[:50]",
   "id": "92e3bf55ce07edf2",
   "outputs": [],
   "execution_count": 17
  },
  {
   "metadata": {
    "ExecuteTime": {
     "end_time": "2024-05-07T17:16:51.840123Z",
     "start_time": "2024-05-07T17:16:51.836678Z"
    }
   },
   "cell_type": "code",
   "source": [
    "en_words = []\n",
    "de_words = []\n",
    "en_indices = []\n",
    "de_indices = []\n",
    "for i in range(len(ordered_by_freq)):\n",
    "    en_words.append(ordered_by_freq[i][0])\n",
    "    de_words.append(ordered_by_freq[i][1])\n",
    "    en_indices.append(ordered_by_freq[i][2])\n",
    "    de_indices.append(ordered_by_freq[i][3])"
   ],
   "id": "2e9807dbed09237e",
   "outputs": [],
   "execution_count": 18
  },
  {
   "metadata": {
    "ExecuteTime": {
     "end_time": "2024-05-07T17:16:51.845057Z",
     "start_time": "2024-05-07T17:16:51.842249Z"
    }
   },
   "cell_type": "code",
   "source": [
    "en_train_matrix = create_matrix_slice(english_embeddings, en_indices)\n",
    "de_train_matrix = create_matrix_slice(german_embeddings, de_indices)"
   ],
   "id": "41f754bc1e841d38",
   "outputs": [],
   "execution_count": 19
  },
  {
   "metadata": {
    "ExecuteTime": {
     "end_time": "2024-05-07T17:16:51.850078Z",
     "start_time": "2024-05-07T17:16:51.847433Z"
    }
   },
   "cell_type": "code",
   "source": "print(len(en_indices))",
   "id": "fbc1601874918ab",
   "outputs": [
    {
     "name": "stdout",
     "output_type": "stream",
     "text": [
      "50\n"
     ]
    }
   ],
   "execution_count": 20
  },
  {
   "metadata": {
    "ExecuteTime": {
     "end_time": "2024-05-07T17:16:51.862159Z",
     "start_time": "2024-05-07T17:16:51.851933Z"
    }
   },
   "cell_type": "code",
   "source": [
    "#X = direct_alignment(de_train_matrix, en_train_matrix)\n",
    "X = procrustes(de_train_matrix, en_train_matrix)\n",
    "#X = closed_form_linear_regression(de_train_matrix, en_train_matrix)"
   ],
   "id": "2eceffffbb7a5812",
   "outputs": [],
   "execution_count": 21
  },
  {
   "metadata": {
    "ExecuteTime": {
     "end_time": "2024-05-07T17:16:51.866239Z",
     "start_time": "2024-05-07T17:16:51.863605Z"
    }
   },
   "cell_type": "code",
   "source": "print(len(en_test_indices))",
   "id": "78033c68b373511c",
   "outputs": [
    {
     "name": "stdout",
     "output_type": "stream",
     "text": [
      "219\n"
     ]
    }
   ],
   "execution_count": 22
  },
  {
   "metadata": {
    "ExecuteTime": {
     "end_time": "2024-05-07T17:16:53.676107Z",
     "start_time": "2024-05-07T17:16:51.867405Z"
    }
   },
   "cell_type": "code",
   "source": [
    "de_aligned = german_embeddings @ X\n",
    "\n",
    "print('Direct Alignment')\n",
    "\n",
    "## Training Accuracy\n",
    "accuracy, total = get_accuracy_scores(english_embeddings, de_aligned, en_indices, de_indices, english_iidx, 1)\n",
    "print('top 1 accuracy')\n",
    "print(f\"Accuracy: {accuracy}, Total: {total}\")\n",
    "\n",
    "# top five accuracy\n",
    "accuracy, total = get_accuracy_scores(english_embeddings, de_aligned, en_indices, de_indices, english_iidx, 5)\n",
    "print('top 5 accuracy')\n",
    "print(f\"Accuracy: {accuracy}, Total: {total}\")\n",
    "\n",
    "### Testing Accuracy\n",
    "accuracy, total = get_accuracy_scores(english_embeddings, de_aligned, en_test_indices, de_test_indices, english_iidx, 1)\n",
    "print('top 1 accuracy')\n",
    "print(f\"Accuracy: {accuracy}, Total: {total}\")\n",
    "\n",
    "# top five accuracy\n",
    "accuracy, total = get_accuracy_scores(english_embeddings, de_aligned, en_test_indices, de_test_indices, english_iidx, 5)\n",
    "print('top 5 accuracy')\n",
    "print(f\"Accuracy: {accuracy}, Total: {total}\")\n"
   ],
   "id": "9067a47bf5d4cf2e",
   "outputs": [
    {
     "name": "stdout",
     "output_type": "stream",
     "text": [
      "Direct Alignment\n",
      "top 1 accuracy\n",
      "Accuracy: 0.96, Total: 50\n",
      "top 5 accuracy\n",
      "Accuracy: 1.0, Total: 50\n",
      "top 1 accuracy\n",
      "Accuracy: 0.3242009132420091, Total: 219\n",
      "top 5 accuracy\n",
      "Accuracy: 0.5388127853881278, Total: 219\n"
     ]
    }
   ],
   "execution_count": 23
  },
  {
   "metadata": {
    "ExecuteTime": {
     "end_time": "2024-05-07T17:16:53.687197Z",
     "start_time": "2024-05-07T17:16:53.681194Z"
    }
   },
   "cell_type": "code",
   "source": [
    "sum_indices = [x + y for x, y in zip(en_indices, de_indices)]\n",
    "max_val = max(sum_indices)\n",
    "min_val = min(sum_indices)\n",
    "weight = [2 -(x - min_val)/(max_val - min_val) for x in sum_indices]\n",
    "print(weight)"
   ],
   "id": "4b0a0440216c5e79",
   "outputs": [
    {
     "name": "stdout",
     "output_type": "stream",
     "text": [
      "[2.0, 1.9907407407407407, 1.9814814814814814, 1.9490740740740742, 1.9398148148148149, 1.925925925925926, 1.8981481481481481, 1.8472222222222223, 1.8194444444444444, 1.787037037037037, 1.7731481481481481, 1.7268518518518519, 1.6898148148148149, 1.6574074074074074, 1.6527777777777777, 1.6203703703703702, 1.5972222222222223, 1.574074074074074, 1.574074074074074, 1.5694444444444444, 1.5324074074074074, 1.4953703703703702, 1.4907407407407407, 1.4722222222222223, 1.449074074074074, 1.449074074074074, 1.4305555555555556, 1.4305555555555556, 1.4074074074074074, 1.3935185185185186, 1.3472222222222223, 1.3333333333333335, 1.3148148148148149, 1.3101851851851851, 1.3101851851851851, 1.2638888888888888, 1.25, 1.2453703703703702, 1.2453703703703702, 1.1898148148148149, 1.1574074074074074, 1.1435185185185186, 1.1435185185185186, 1.0925925925925926, 1.0925925925925926, 1.0648148148148149, 1.0277777777777777, 1.0185185185185186, 1.0138888888888888, 1.0]\n"
     ]
    }
   ],
   "execution_count": 24
  },
  {
   "metadata": {
    "ExecuteTime": {
     "end_time": "2024-05-07T17:25:31.631164Z",
     "start_time": "2024-05-07T17:25:31.625645Z"
    }
   },
   "cell_type": "code",
   "source": [
    "import torch\n",
    "import torch.nn as nn\n",
    "import torch.optim as optim\n",
    "\n",
    "# Data\n",
    "X = torch.tensor(de_train_matrix, dtype=torch.float32)\n",
    "Y = torch.tensor(en_train_matrix, dtype=torch.float32)\n",
    "weights = torch.tensor(weight, dtype=torch.float32)\n",
    "\n",
    "# Model\n",
    "model = nn.Linear(de_train_matrix.shape[1], en_train_matrix.shape[1])\n",
    "\n",
    "# Loss Function\n",
    "def weighted_mse_loss(input, target, weight):\n",
    "    print(input.shape)\n",
    "    print(target.shape)\n",
    "    print(weight.shape)\n",
    "    return torch.sum(weight * (input - target) ** 2)\n",
    "\n",
    "# Optimizer\n",
    "optimizer = optim.SGD(model.parameters(), lr=0.001)\n",
    "\n",
    "# Training loop\n",
    "for epoch in range(10):\n",
    "    model.train()\n",
    "    optimizer.zero_grad()\n",
    "    \n",
    "    # Forward pass\n",
    "    predictions = model(X)\n",
    "    \n",
    "    # Compute weighted loss\n",
    "    loss = weighted_mse_loss(predictions, Y, weights)\n",
    "    \n",
    "    # Backward pass\n",
    "    loss.backward()\n",
    "    optimizer.step()\n",
    "    \n",
    "    if (epoch + 1) % 1000 == 0:\n",
    "        \n",
    "        print(f'Epoch {epoch+1}: Loss = {loss.item()}')\n",
    "        #print accuracy\n",
    "        de_aligned = german_embeddings @ model.weight.detach().numpy()\n",
    "    \n",
    "\n",
    "#print model weights\n",
    "print(model.weight)"
   ],
   "id": "9f9b0c155bd6fe7",
   "outputs": [
    {
     "name": "stdout",
     "output_type": "stream",
     "text": [
      "torch.Size([50, 50])\n",
      "torch.Size([50, 50])\n",
      "torch.Size([50])\n",
      "torch.Size([50, 50])\n",
      "torch.Size([50, 50])\n",
      "torch.Size([50])\n",
      "torch.Size([50, 50])\n",
      "torch.Size([50, 50])\n",
      "torch.Size([50])\n",
      "torch.Size([50, 50])\n",
      "torch.Size([50, 50])\n",
      "torch.Size([50])\n",
      "torch.Size([50, 50])\n",
      "torch.Size([50, 50])\n",
      "torch.Size([50])\n",
      "torch.Size([50, 50])\n",
      "torch.Size([50, 50])\n",
      "torch.Size([50])\n",
      "torch.Size([50, 50])\n",
      "torch.Size([50, 50])\n",
      "torch.Size([50])\n",
      "torch.Size([50, 50])\n",
      "torch.Size([50, 50])\n",
      "torch.Size([50])\n",
      "torch.Size([50, 50])\n",
      "torch.Size([50, 50])\n",
      "torch.Size([50])\n",
      "torch.Size([50, 50])\n",
      "torch.Size([50, 50])\n",
      "torch.Size([50])\n",
      "Parameter containing:\n",
      "tensor([[-0.0635,  0.1146, -0.0910,  ..., -0.0178, -0.0756,  0.0119],\n",
      "        [ 0.0273, -0.0472,  0.0826,  ...,  0.0219, -0.0307, -0.0719],\n",
      "        [ 0.1087, -0.0239, -0.0850,  ...,  0.0507, -0.0951, -0.0804],\n",
      "        ...,\n",
      "        [ 0.0841,  0.1327, -0.0043,  ..., -0.0897, -0.0919,  0.0975],\n",
      "        [ 0.0843, -0.0717,  0.0654,  ...,  0.1299, -0.0024, -0.0802],\n",
      "        [ 0.0161,  0.1240, -0.0906,  ..., -0.0054,  0.1012,  0.0395]],\n",
      "       requires_grad=True)\n"
     ]
    }
   ],
   "execution_count": 29
  },
  {
   "metadata": {
    "ExecuteTime": {
     "end_time": "2024-05-07T17:17:04.343557Z",
     "start_time": "2024-05-07T17:17:03.992007Z"
    }
   },
   "cell_type": "code",
   "source": [
    "from utils import experiment_setup\n",
    "\n",
    "experiment_setup('data/english_model_lemmatized', 'data/german_model_lemmatized', 'train_test_data/train_set.txt', 'train_test_data/test_set.txt', alignment_method='w')\n"
   ],
   "id": "2f320b8e8628a409",
   "outputs": [
    {
     "ename": "RuntimeError",
     "evalue": "The size of tensor a (875) must match the size of tensor b (50) at non-singleton dimension 1",
     "output_type": "error",
     "traceback": [
      "\u001B[0;31m---------------------------------------------------------------------------\u001B[0m",
      "\u001B[0;31mRuntimeError\u001B[0m                              Traceback (most recent call last)",
      "Cell \u001B[0;32mIn[26], line 3\u001B[0m\n\u001B[1;32m      1\u001B[0m \u001B[38;5;28;01mfrom\u001B[39;00m \u001B[38;5;21;01mutils\u001B[39;00m \u001B[38;5;28;01mimport\u001B[39;00m experiment_setup\n\u001B[0;32m----> 3\u001B[0m \u001B[43mexperiment_setup\u001B[49m\u001B[43m(\u001B[49m\u001B[38;5;124;43m'\u001B[39;49m\u001B[38;5;124;43mdata/english_model_lemmatized\u001B[39;49m\u001B[38;5;124;43m'\u001B[39;49m\u001B[43m,\u001B[49m\u001B[43m \u001B[49m\u001B[38;5;124;43m'\u001B[39;49m\u001B[38;5;124;43mdata/german_model_lemmatized\u001B[39;49m\u001B[38;5;124;43m'\u001B[39;49m\u001B[43m,\u001B[49m\u001B[43m \u001B[49m\u001B[38;5;124;43m'\u001B[39;49m\u001B[38;5;124;43mtrain_test_data/train_set.txt\u001B[39;49m\u001B[38;5;124;43m'\u001B[39;49m\u001B[43m,\u001B[49m\u001B[43m \u001B[49m\u001B[38;5;124;43m'\u001B[39;49m\u001B[38;5;124;43mtrain_test_data/test_set.txt\u001B[39;49m\u001B[38;5;124;43m'\u001B[39;49m\u001B[43m,\u001B[49m\u001B[43m \u001B[49m\u001B[43malignment_method\u001B[49m\u001B[38;5;241;43m=\u001B[39;49m\u001B[38;5;124;43m'\u001B[39;49m\u001B[38;5;124;43mw\u001B[39;49m\u001B[38;5;124;43m'\u001B[39;49m\u001B[43m)\u001B[49m\n",
      "File \u001B[0;32m~/en_de_vec_sentences/utils.py:143\u001B[0m, in \u001B[0;36mexperiment_setup\u001B[0;34m(en_path, de_path, train_path, test_path, alignment_method)\u001B[0m\n\u001B[1;32m    141\u001B[0m     train_weight \u001B[38;5;241m=\u001B[39m create_weight_matrix(en_indices, de_indices, \u001B[38;5;28mtype\u001B[39m\u001B[38;5;241m=\u001B[39m\u001B[38;5;124m'\u001B[39m\u001B[38;5;124mfreq\u001B[39m\u001B[38;5;124m'\u001B[39m)\n\u001B[1;32m    142\u001B[0m     test_weight \u001B[38;5;241m=\u001B[39m create_weight_matrix(en_test_indices, de_test_indices, \u001B[38;5;28mtype\u001B[39m\u001B[38;5;241m=\u001B[39m\u001B[38;5;124m'\u001B[39m\u001B[38;5;124mfreq\u001B[39m\u001B[38;5;124m'\u001B[39m)\n\u001B[0;32m--> 143\u001B[0m     model \u001B[38;5;241m=\u001B[39m \u001B[43mweighted_lr\u001B[49m\u001B[43m(\u001B[49m\u001B[43mde_train_matrix\u001B[49m\u001B[43m,\u001B[49m\u001B[43m \u001B[49m\u001B[43men_train_matrix\u001B[49m\u001B[43m,\u001B[49m\u001B[43m \u001B[49m\u001B[43mde_test_matrix\u001B[49m\u001B[43m,\u001B[49m\u001B[43m \u001B[49m\u001B[43men_test_matrix\u001B[49m\u001B[43m,\u001B[49m\u001B[43m \u001B[49m\u001B[43mtrain_weight\u001B[49m\u001B[43m,\u001B[49m\u001B[43m \u001B[49m\u001B[43mtest_weight\u001B[49m\u001B[43m)\u001B[49m\n\u001B[1;32m    145\u001B[0m \u001B[38;5;28;01melse\u001B[39;00m:\n\u001B[1;32m    146\u001B[0m     \u001B[38;5;28;01mraise\u001B[39;00m \u001B[38;5;167;01mValueError\u001B[39;00m(\u001B[38;5;124m'\u001B[39m\u001B[38;5;124mInvalid alignment method\u001B[39m\u001B[38;5;124m'\u001B[39m)\n",
      "File \u001B[0;32m~/en_de_vec_sentences/alignment_methods.py:132\u001B[0m, in \u001B[0;36mweighted_lr\u001B[0;34m(A, B, A_test, B_test, weights_train, weights_test)\u001B[0m\n\u001B[1;32m    129\u001B[0m predictions \u001B[38;5;241m=\u001B[39m model(X)\n\u001B[1;32m    131\u001B[0m \u001B[38;5;66;03m# Compute weighted loss\u001B[39;00m\n\u001B[0;32m--> 132\u001B[0m loss \u001B[38;5;241m=\u001B[39m \u001B[43mweighted_mse_loss\u001B[49m\u001B[43m(\u001B[49m\u001B[43mpredictions\u001B[49m\u001B[43m,\u001B[49m\u001B[43m \u001B[49m\u001B[43mY\u001B[49m\u001B[43m,\u001B[49m\u001B[43m \u001B[49m\u001B[43mweights\u001B[49m\u001B[43m)\u001B[49m\n\u001B[1;32m    134\u001B[0m \u001B[38;5;66;03m# Backward pass\u001B[39;00m\n\u001B[1;32m    135\u001B[0m loss\u001B[38;5;241m.\u001B[39mbackward()\n",
      "File \u001B[0;32m~/en_de_vec_sentences/alignment_methods.py:115\u001B[0m, in \u001B[0;36mweighted_lr.<locals>.weighted_mse_loss\u001B[0;34m(input, target, weight)\u001B[0m\n\u001B[1;32m    114\u001B[0m \u001B[38;5;28;01mdef\u001B[39;00m \u001B[38;5;21mweighted_mse_loss\u001B[39m(\u001B[38;5;28minput\u001B[39m, target, weight):\n\u001B[0;32m--> 115\u001B[0m     \u001B[38;5;28;01mreturn\u001B[39;00m torch\u001B[38;5;241m.\u001B[39msum(\u001B[43mweight\u001B[49m\u001B[43m \u001B[49m\u001B[38;5;241;43m*\u001B[39;49m\u001B[43m \u001B[49m\u001B[43m(\u001B[49m\u001B[38;5;28;43minput\u001B[39;49m\u001B[43m \u001B[49m\u001B[38;5;241;43m-\u001B[39;49m\u001B[43m \u001B[49m\u001B[43mtarget\u001B[49m\u001B[43m)\u001B[49m\u001B[43m \u001B[49m\u001B[38;5;241;43m*\u001B[39;49m\u001B[38;5;241;43m*\u001B[39;49m\u001B[43m \u001B[49m\u001B[38;5;241;43m2\u001B[39;49m)\n",
      "\u001B[0;31mRuntimeError\u001B[0m: The size of tensor a (875) must match the size of tensor b (50) at non-singleton dimension 1"
     ]
    }
   ],
   "execution_count": 26
  },
  {
   "metadata": {
    "ExecuteTime": {
     "end_time": "2024-05-07T17:21:16.723346Z",
     "start_time": "2024-05-07T17:21:16.718570Z"
    }
   },
   "cell_type": "code",
   "source": [
    "print(model(X))\n",
    "x_numpy = model(X).detach().numpy()"
   ],
   "id": "a2d37c1b6009c8e0",
   "outputs": [
    {
     "name": "stdout",
     "output_type": "stream",
     "text": [
      "tensor([[-0.1175,  0.1433, -0.0080,  ...,  0.0852, -0.0720,  0.0635],\n",
      "        [-0.1274, -0.1894,  0.1919,  ...,  0.2766,  0.1149, -0.0833],\n",
      "        [-0.1934,  0.0564,  0.0264,  ..., -0.1313, -0.0798, -0.2504],\n",
      "        ...,\n",
      "        [-0.0451,  0.0143,  0.0526,  ...,  0.1197, -0.0095, -0.0868],\n",
      "        [-0.0021, -0.0072, -0.0559,  ...,  0.0232, -0.0808,  0.0088],\n",
      "        [ 0.0638,  0.0091, -0.1604,  ..., -0.2108, -0.0061, -0.2440]],\n",
      "       grad_fn=<AddmmBackward0>)\n"
     ]
    }
   ],
   "execution_count": 27
  },
  {
   "metadata": {
    "ExecuteTime": {
     "end_time": "2024-05-07T17:21:17.952890Z",
     "start_time": "2024-05-07T17:21:17.949675Z"
    }
   },
   "cell_type": "code",
   "source": "x_numpy.shape",
   "id": "89662f0d9b2e9c1b",
   "outputs": [
    {
     "data": {
      "text/plain": [
       "(50, 50)"
      ]
     },
     "execution_count": 28,
     "metadata": {},
     "output_type": "execute_result"
    }
   ],
   "execution_count": 28
  },
  {
   "metadata": {},
   "cell_type": "code",
   "source": [
    "de_aligned = model(torch.tensor(german_embeddings, dtype=torch.float32)).detach().numpy()\n",
    "\n",
    "print('Direct Alignment')\n",
    "\n",
    "## Training Accuracy\n",
    "accuracy, total = get_accuracy_scores(english_embeddings, de_aligned, en_indices, de_indices, english_iidx, 1)\n",
    "print('top 1 accuracy')\n",
    "print(f\"Accuracy: {accuracy}, Total: {total}\")\n",
    "\n",
    "# top five accuracy\n",
    "accuracy, total = get_accuracy_scores(english_embeddings, de_aligned, en_indices, de_indices, english_iidx, 5)\n",
    "print('top 5 accuracy')\n",
    "print(f\"Accuracy: {accuracy}, Total: {total}\")\n",
    "\n",
    "### Testing Accuracy\n",
    "accuracy, total = get_accuracy_scores(english_embeddings, de_aligned, en_test_indices, de_test_indices, english_iidx, 1)\n",
    "print('top 1 accuracy')\n",
    "print(f\"Accuracy: {accuracy}, Total: {total}\")\n",
    "\n",
    "# top five accuracy\n",
    "accuracy, total = get_accuracy_scores(english_embeddings, de_aligned, en_test_indices, de_test_indices, english_iidx, 5)\n",
    "print('top 5 accuracy')\n",
    "print(f\"Accuracy: {accuracy}, Total: {total}\")\n"
   ],
   "id": "773b6a07f51ed01a",
   "outputs": [],
   "execution_count": null
  },
  {
   "metadata": {},
   "cell_type": "code",
   "source": "",
   "id": "4327c728d56aac8f",
   "outputs": [],
   "execution_count": null
  }
 ],
 "metadata": {
  "kernelspec": {
   "display_name": "Python 3",
   "language": "python",
   "name": "python3"
  },
  "language_info": {
   "codemirror_mode": {
    "name": "ipython",
    "version": 2
   },
   "file_extension": ".py",
   "mimetype": "text/x-python",
   "name": "python",
   "nbconvert_exporter": "python",
   "pygments_lexer": "ipython2",
   "version": "2.7.6"
  }
 },
 "nbformat": 4,
 "nbformat_minor": 5
}
