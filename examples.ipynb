{
 "cells": [
  {
   "metadata": {},
   "cell_type": "markdown",
   "source": [
    "### Word2Vec models\n",
    "\n",
    "Trained with sentences lemmatized without stopwords"
   ],
   "id": "d3a0127b7ca56e37"
  },
  {
   "cell_type": "code",
   "id": "initial_id",
   "metadata": {
    "collapsed": true,
    "ExecuteTime": {
     "end_time": "2024-05-06T23:07:03.803160Z",
     "start_time": "2024-05-06T23:07:03.583922Z"
    }
   },
   "source": [
    "from gensim.models import Word2Vec\n",
    "import os\n",
    "\n",
    "english_model = Word2Vec.load(os.path.join('data', 'english_model_lemmatized'))\n",
    "german_model = Word2Vec.load(os.path.join('data', 'german_model_lemmatized'))\n"
   ],
   "outputs": [],
   "execution_count": 48
  },
  {
   "metadata": {},
   "cell_type": "markdown",
   "source": "#### Some examples of closest words. Maybe they are too similar?",
   "id": "51c19b2f48cfba3e"
  },
  {
   "metadata": {
    "ExecuteTime": {
     "end_time": "2024-05-06T23:07:03.817145Z",
     "start_time": "2024-05-06T23:07:03.804085Z"
    }
   },
   "cell_type": "code",
   "source": [
    "print('Most similar words to \"dog\" in English:')\n",
    "for item in english_model.wv.most_similar('dog'):\n",
    "    print(item)"
   ],
   "id": "9a74766048b698c",
   "outputs": [
    {
     "name": "stdout",
     "output_type": "stream",
     "text": [
      "Most similar words to \"dog\" in English:\n",
      "('cat', 0.9153165221214294)\n",
      "('fur', 0.8387186527252197)\n",
      "('meal', 0.8324460387229919)\n",
      "('infected', 0.8271117210388184)\n",
      "('toothpaste', 0.8145505785942078)\n",
      "('chicken', 0.8092467784881592)\n",
      "('fake', 0.8056871294975281)\n",
      "('clothe', 0.8050008416175842)\n",
      "('calf', 0.7986875176429749)\n",
      "('coat', 0.7941100597381592)\n"
     ]
    }
   ],
   "execution_count": 49
  },
  {
   "metadata": {
    "ExecuteTime": {
     "end_time": "2024-05-06T23:07:03.855911Z",
     "start_time": "2024-05-06T23:07:03.820409Z"
    }
   },
   "cell_type": "code",
   "source": [
    "print('Most similar words to \"dog\" in German:')\n",
    "for item in german_model.wv.most_similar('hund'):\n",
    "    print(item)"
   ],
   "id": "7ac0522fc575142c",
   "outputs": [
    {
     "name": "stdout",
     "output_type": "stream",
     "text": [
      "Most similar words to \"dog\" in German:\n",
      "('katze', 0.9377791285514832)\n",
      "('hühner', 0.8825260996818542)\n",
      "('fernseher', 0.8692821860313416)\n",
      "('vogel', 0.8529067039489746)\n",
      "('großmutter', 0.8459739089012146)\n",
      "('quälen', 0.838893711566925)\n",
      "('kühlschrank', 0.833003044128418)\n",
      "('brot', 0.8319242000579834)\n",
      "('flasche', 0.8301399350166321)\n",
      "('leiche', 0.8292429447174072)\n"
     ]
    }
   ],
   "execution_count": 50
  },
  {
   "metadata": {
    "ExecuteTime": {
     "end_time": "2024-05-06T23:07:03.892412Z",
     "start_time": "2024-05-06T23:07:03.877822Z"
    }
   },
   "cell_type": "code",
   "source": [
    "print('Most similar words to \"cat\" in English:')\n",
    "for item in english_model.wv.most_similar('cat'):\n",
    "    print(item)"
   ],
   "id": "ea6a98ff4e9da4c3",
   "outputs": [
    {
     "name": "stdout",
     "output_type": "stream",
     "text": [
      "Most similar words to \"cat\" in English:\n",
      "('dog', 0.9153164625167847)\n",
      "('fur', 0.8994118571281433)\n",
      "('chicken', 0.8519833087921143)\n",
      "('meal', 0.8342467546463013)\n",
      "('bonemeal', 0.8240389227867126)\n",
      "('fake', 0.8229784965515137)\n",
      "('vaccinated', 0.8228892683982849)\n",
      "('infected', 0.8187688589096069)\n",
      "('clothe', 0.8175815939903259)\n",
      "('cocoa', 0.8104070425033569)\n"
     ]
    }
   ],
   "execution_count": 51
  },
  {
   "metadata": {
    "ExecuteTime": {
     "end_time": "2024-05-06T23:07:03.922374Z",
     "start_time": "2024-05-06T23:07:03.911100Z"
    }
   },
   "cell_type": "code",
   "source": [
    "print('Most similar words to \"cat\" in German:')\n",
    "for item in german_model.wv.most_similar('katze'):\n",
    "    print(item)"
   ],
   "id": "1957da2fc7aa4a7e",
   "outputs": [
    {
     "name": "stdout",
     "output_type": "stream",
     "text": [
      "Most similar words to \"cat\" in German:\n",
      "('hund', 0.9377790689468384)\n",
      "('fernseher', 0.8905958533287048)\n",
      "('hühner', 0.8890235424041748)\n",
      "('quälen', 0.884523332118988)\n",
      "('fressen', 0.8778293132781982)\n",
      "('trinken', 0.8750383853912354)\n",
      "('füttern', 0.8726291060447693)\n",
      "('kühlschrank', 0.8669960498809814)\n",
      "('vogel', 0.8615708947181702)\n",
      "('sack', 0.8605101108551025)\n"
     ]
    }
   ],
   "execution_count": 52
  },
  {
   "metadata": {
    "ExecuteTime": {
     "end_time": "2024-05-06T23:07:03.944754Z",
     "start_time": "2024-05-06T23:07:03.924324Z"
    }
   },
   "cell_type": "code",
   "source": [
    "#common words\n",
    "# top 20 words in English\n",
    "print('Top 20 words in English:')\n",
    "for item in english_model.wv.index_to_key[:20]:\n",
    "    print(item, end=', ')\n",
    "    "
   ],
   "id": "c5f98b61c306c89f",
   "outputs": [
    {
     "name": "stdout",
     "output_type": "stream",
     "text": [
      "Top 20 words in English:\n",
      "european, mr, commission, would, also, president, member, must, make, country, union, parliament, take, report, council, need, states, like, one, europe, "
     ]
    }
   ],
   "execution_count": 53
  },
  {
   "metadata": {
    "ExecuteTime": {
     "end_time": "2024-05-06T23:07:03.953691Z",
     "start_time": "2024-05-06T23:07:03.949464Z"
    }
   },
   "cell_type": "code",
   "source": [
    "for item in german_model.wv.index_to_key[:20]:\n",
    "    print(item, end=', ')"
   ],
   "id": "8f1270cc34c9cf26",
   "outputs": [
    {
     "name": "stdout",
     "output_type": "stream",
     "text": [
      "europäisch, herr, kommission, parlament, müssen, sollen, union, möchten, präsident, bericht, mitgliedstaat, land, geben, jahr, europa, rat, frau, frage, neu, sagen, "
     ]
    }
   ],
   "execution_count": 54
  },
  {
   "metadata": {
    "ExecuteTime": {
     "end_time": "2024-05-06T23:07:03.958116Z",
     "start_time": "2024-05-06T23:07:03.954790Z"
    }
   },
   "cell_type": "code",
   "source": [
    "print(len(english_model.wv.index_to_key))\n",
    "print(len(german_model.wv.index_to_key))"
   ],
   "id": "25ed672cae89a144",
   "outputs": [
    {
     "name": "stdout",
     "output_type": "stream",
     "text": [
      "26019\n",
      "60960\n"
     ]
    }
   ],
   "execution_count": 55
  },
  {
   "metadata": {},
   "cell_type": "markdown",
   "source": "### Sentences",
   "id": "9af1e10f7b736bd3"
  },
  {
   "metadata": {
    "ExecuteTime": {
     "end_time": "2024-05-06T23:07:03.961788Z",
     "start_time": "2024-05-06T23:07:03.959356Z"
    }
   },
   "cell_type": "code",
   "source": [
    "english_sentence_pth = os.path.join('data', 'english_sentences_lemmatized_no_stopwords.pkl')\n",
    "german_sentence_pth = os.path.join('data', 'german_sentences_lemmatized_no_stopwords.pkl')\n"
   ],
   "id": "b97daad187bf16ea",
   "outputs": [],
   "execution_count": 56
  },
  {
   "metadata": {
    "ExecuteTime": {
     "end_time": "2024-05-06T23:07:07.354776Z",
     "start_time": "2024-05-06T23:07:03.966763Z"
    }
   },
   "cell_type": "code",
   "source": [
    "import pickle\n",
    "\n",
    "with open(english_sentence_pth, 'rb') as f:\n",
    "    english_sentences = pickle.load(f)\n",
    "    \n",
    "with open(german_sentence_pth, 'rb') as f:\n",
    "    german_sentences = pickle.load(f)"
   ],
   "id": "3f0610af53b09700",
   "outputs": [],
   "execution_count": 57
  },
  {
   "metadata": {},
   "cell_type": "markdown",
   "source": [
    "\n",
    "Sentences are list of words, indexed by sentence number\n",
    "Total of 1,000,000 sentences"
   ],
   "id": "8bba8cf40419b315"
  },
  {
   "metadata": {
    "ExecuteTime": {
     "end_time": "2024-05-06T23:07:07.357402Z",
     "start_time": "2024-05-06T23:07:07.355439Z"
    }
   },
   "cell_type": "code",
   "source": [
    "print('Number of sentences:', len(english_sentences))\n",
    "print('Number of sentences:', len(german_sentences))\n",
    "\n",
    "print(english_sentences[0])\n",
    "print(german_sentences[0])\n",
    "\n",
    "print()\n",
    "print(english_sentences[1])\n",
    "print(german_sentences[1])"
   ],
   "id": "91205ab202408fb8",
   "outputs": [
    {
     "name": "stdout",
     "output_type": "stream",
     "text": [
      "Number of sentences: 1000000\n",
      "Number of sentences: 1000000\n",
      "['resumption', 'session']\n",
      "['wiederaufnahme', 'sitzungsperiode']\n",
      "\n",
      "['declare', 'resume', 'session', 'european', 'parliament', 'adjourn', 'friday', '17', 'december', '1999', 'would', 'like', 'wish', 'happy', 'new', 'year', 'hope', 'enjoy', 'pleasant', 'festive', 'period']\n",
      "['erklären', 'freitag', '17.', 'dezember', 'unterbrochen', 'sitzungsperiode', 'europäisch', 'parlament', 'wiederaufnehmen', 'wünschen', 'nochmals', 'gut', 'jahreswechsel', 'hoffen', 'schön', 'ferien']\n"
     ]
    }
   ],
   "execution_count": 58
  },
  {
   "metadata": {
    "ExecuteTime": {
     "end_time": "2024-05-06T23:07:07.360406Z",
     "start_time": "2024-05-06T23:07:07.357970Z"
    }
   },
   "cell_type": "code",
   "source": [
    "#save top 200 words as text files\n",
    "english_top_1000= english_model.wv.index_to_key[:1000]\n",
    "german_top_1000 = german_model.wv.index_to_key[:1000]\n",
    "\n",
    "with open(os.path.join('data', 'english_top_1000.txt'), 'w') as f:\n",
    "    for word in english_top_1000:\n",
    "        f.write(word + '\\n')\n",
    "        \n",
    "with open(os.path.join('data', 'german_top_1000.txt'), 'w') as f:\n",
    "    for word in german_top_1000:\n",
    "        f.write(word + '\\n')"
   ],
   "id": "c000d4d85edde1b0",
   "outputs": [],
   "execution_count": 59
  },
  {
   "metadata": {
    "ExecuteTime": {
     "end_time": "2024-05-06T23:07:07.362529Z",
     "start_time": "2024-05-06T23:07:07.360984Z"
    }
   },
   "cell_type": "code",
   "source": [
    "path = os.path.join('words', 'german_top_1000_translated.txt')\n",
    "with open(path, 'r') as f:\n",
    "    german_top_1000_translated = f.read().splitlines()"
   ],
   "id": "70baf7ddea0578dd",
   "outputs": [],
   "execution_count": 60
  },
  {
   "metadata": {
    "ExecuteTime": {
     "end_time": "2024-05-06T23:07:07.364289Z",
     "start_time": "2024-05-06T23:07:07.362946Z"
    }
   },
   "cell_type": "code",
   "source": [
    "print(german_top_1000_translated[:10])\n",
    "print(len(german_top_1000_translated))\n"
   ],
   "id": "739e86c1a89df25c",
   "outputs": [
    {
     "name": "stdout",
     "output_type": "stream",
     "text": [
      "['European', 'Mr', 'Commission', 'houses of Parliament', 'must', 'should', 'union', 'want', 'president', 'report']\n",
      "1000\n"
     ]
    }
   ],
   "execution_count": 61
  },
  {
   "metadata": {
    "ExecuteTime": {
     "end_time": "2024-05-06T23:07:07.366071Z",
     "start_time": "2024-05-06T23:07:07.364756Z"
    }
   },
   "cell_type": "code",
   "source": [
    "#lower case\n",
    "german_top_1000_translated = [word.lower() for word in german_top_1000_translated]"
   ],
   "id": "1d84abe3ce51f693",
   "outputs": [],
   "execution_count": 62
  },
  {
   "metadata": {
    "ExecuteTime": {
     "end_time": "2024-05-06T23:07:07.372159Z",
     "start_time": "2024-05-06T23:07:07.366461Z"
    }
   },
   "cell_type": "code",
   "source": [
    "#find common words and translation\n",
    "\n",
    "common_words = []\n",
    "for i, ii in enumerate(german_top_1000_translated):\n",
    "    if ii in english_top_1000:\n",
    "        german_word = german_top_1000[i]\n",
    "        english_index = english_top_1000.index(ii)\n",
    "        common_words.append((ii, german_word, english_index, i))\n",
    "        \n",
    "        \n",
    "        "
   ],
   "id": "e999a99ef362111c",
   "outputs": [],
   "execution_count": 63
  },
  {
   "metadata": {
    "ExecuteTime": {
     "end_time": "2024-05-06T23:07:07.374443Z",
     "start_time": "2024-05-06T23:07:07.372703Z"
    }
   },
   "cell_type": "code",
   "source": [
    "# save\n",
    "with open(os.path.join('words', 'anchor_words.txt'), 'w') as f:\n",
    "    for word in common_words:\n",
    "        f.write(f'{word[0]} {word[1]} {word[2]} {word[3]}\\n')"
   ],
   "id": "1ad5763e03e8e978",
   "outputs": [],
   "execution_count": 64
  },
  {
   "metadata": {
    "ExecuteTime": {
     "end_time": "2024-05-06T23:07:07.376499Z",
     "start_time": "2024-05-06T23:07:07.374865Z"
    }
   },
   "cell_type": "code",
   "source": "len(common_words)",
   "id": "cf5f183826a10920",
   "outputs": [
    {
     "data": {
      "text/plain": [
       "654"
      ]
     },
     "execution_count": 65,
     "metadata": {},
     "output_type": "execute_result"
    }
   ],
   "execution_count": 65
  },
  {
   "metadata": {
    "ExecuteTime": {
     "end_time": "2024-05-06T23:07:07.378426Z",
     "start_time": "2024-05-06T23:07:07.377043Z"
    }
   },
   "cell_type": "code",
   "source": "print(len(german_top_1000_translated))",
   "id": "54b155053d5de084",
   "outputs": [
    {
     "name": "stdout",
     "output_type": "stream",
     "text": [
      "1000\n"
     ]
    }
   ],
   "execution_count": 66
  },
  {
   "metadata": {
    "ExecuteTime": {
     "end_time": "2024-05-06T23:07:07.380124Z",
     "start_time": "2024-05-06T23:07:07.378846Z"
    }
   },
   "cell_type": "code",
   "source": "",
   "id": "1830a32ccb3ab8ba",
   "outputs": [],
   "execution_count": 67
  }
 ],
 "metadata": {
  "kernelspec": {
   "display_name": "Python 3",
   "language": "python",
   "name": "python3"
  },
  "language_info": {
   "codemirror_mode": {
    "name": "ipython",
    "version": 2
   },
   "file_extension": ".py",
   "mimetype": "text/x-python",
   "name": "python",
   "nbconvert_exporter": "python",
   "pygments_lexer": "ipython2",
   "version": "2.7.6"
  }
 },
 "nbformat": 4,
 "nbformat_minor": 5
}
